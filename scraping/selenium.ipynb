{
 "cells": [
  {
   "cell_type": "markdown",
   "metadata": {},
   "source": [
    "## SELENIUM"
   ]
  },
  {
   "attachments": {},
   "cell_type": "markdown",
   "metadata": {},
   "source": [
    "### FLEX\n"
   ]
  },
  {
   "attachments": {},
   "cell_type": "markdown",
   "metadata": {},
   "source": [
    "<https://developer.mozilla.org/en-US/docs/Web/CSS/CSS_Flexible_Box_Layout>"
   ]
  },
  {
   "attachments": {},
   "cell_type": "markdown",
   "metadata": {},
   "source": [
    "### USING FLEX IN SELENIUM"
   ]
  },
  {
   "attachments": {},
   "cell_type": "markdown",
   "metadata": {},
   "source": [
    "<https://stackoverflow.com/questions/14619798/is-selenium-automation-tool-supports-flex-applications>"
   ]
  }
 ],
 "metadata": {
  "kernelspec": {
   "display_name": "base",
   "language": "python",
   "name": "python3"
  },
  "language_info": {
   "name": "python",
   "version": "3.9.12"
  },
  "orig_nbformat": 4,
  "vscode": {
   "interpreter": {
    "hash": "ef90a757007ac2a3d514acded287cab365649e214908de8fd4d5036d287083aa"
   }
  }
 },
 "nbformat": 4,
 "nbformat_minor": 2
}
