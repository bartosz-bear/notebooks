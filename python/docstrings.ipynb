{
 "cells": [
  {
   "cell_type": "markdown",
   "id": "5e6c273c",
   "metadata": {},
   "source": [
    "DOCSTRINGS CONVENTIONS"
   ]
  },
  {
   "cell_type": "code",
   "execution_count": 3,
   "id": "11e762d4",
   "metadata": {},
   "outputs": [],
   "source": [
    "help(object)"
   ]
  },
  {
   "cell_type": "code",
   "execution_count": null,
   "id": "7f0206eb",
   "metadata": {},
   "outputs": [],
   "source": [
    "print(object.__doc__)"
   ]
  },
  {
   "cell_type": "code",
   "execution_count": null,
   "id": "5e54b960",
   "metadata": {},
   "outputs": [],
   "source": [
    "dir(object)"
   ]
  },
  {
   "cell_type": "markdown",
   "id": "dbf90663",
   "metadata": {},
   "source": [
    "READING DOCSTRING OF YOUR OWN FUNCTION"
   ]
  },
  {
   "cell_type": "code",
   "execution_count": null,
   "id": "a9b88b48",
   "metadata": {},
   "outputs": [],
   "source": [
    "def square(a):\n",
    "    '''Returned argument a is squared.'''\n",
    "    return a**a\n",
    "\n",
    "help(square)\n",
    "print(square.__doc__)"
   ]
  },
  {
   "cell_type": "markdown",
   "id": "97179a46",
   "metadata": {},
   "source": [
    "FORWARD-SLASH IN DOCSTRING"
   ]
  },
  {
   "cell_type": "markdown",
   "id": "22c2fb07",
   "metadata": {},
   "source": [
    "'/' as an argument marks the end of arguments that are positional only"
   ]
  },
  {
   "cell_type": "code",
   "execution_count": null,
   "id": "73cb49b4",
   "metadata": {},
   "outputs": [],
   "source": [
    "def f(a, b, /, c=40):"
   ]
  },
  {
   "cell_type": "code",
   "execution_count": null,
   "id": "a82de2a3",
   "metadata": {},
   "outputs": [],
   "source": []
  },
  {
   "cell_type": "markdown",
   "id": "f3bcdb53",
   "metadata": {},
   "source": [
    "ASTERISK IN DOCSTRING"
   ]
  },
  {
   "cell_type": "code",
   "execution_count": null,
   "id": "a1226e4f",
   "metadata": {},
   "outputs": [],
   "source": [
    "'*' marks begining of key-word only arguments"
   ]
  },
  {
   "cell_type": "code",
   "execution_count": null,
   "id": "9532f232",
   "metadata": {},
   "outputs": [],
   "source": [
    "def f(a, b, /, c, d, *, e, f):\n",
    "    print(a, b, c, d, e, f)\n",
    "\n",
    "# valid call\n",
    "f(10, 20, 30, d=40, e=50, f=60) # c can be either positional or key-word\n",
    "\n",
    "# invalid calls:\n",
    "f(10, b=20, c=30, d=40, e=50, f=60)   # b cannot be a keyword argument\n",
    "f(10, 20, 30, 40, 50, f=60)           # e must be a keyword argument"
   ]
  },
  {
   "cell_type": "markdown",
   "id": "220722d0",
   "metadata": {},
   "source": [
    "https://stackoverflow.com/questions/28243832/what-is-the-meaning-of-a-forward-slash-in-a-python-method-signature-as-show"
   ]
  },
  {
   "cell_type": "code",
   "execution_count": null,
   "id": "68e8628f",
   "metadata": {},
   "outputs": [],
   "source": [
    "HELP ON __NAME__"
   ]
  },
  {
   "cell_type": "code",
   "execution_count": 6,
   "id": "c2ad7788",
   "metadata": {},
   "outputs": [
    {
     "name": "stdout",
     "output_type": "stream",
     "text": [
      "Help on module __main__:\n",
      "\n",
      "NAME\n",
      "    __main__ - Automatically created module for IPython interactive environment\n",
      "\n",
      "DATA\n",
      "    In = ['', 'DOCSTRINGS CONVENTIONS', 'help(object)', '#help(object)', '...\n",
      "    Out = {}\n",
      "    __ = ''\n",
      "    ___ = ''\n",
      "    exit = <IPython.core.autocall.ZMQExitAutocall object>\n",
      "    quit = <IPython.core.autocall.ZMQExitAutocall object>\n",
      "\n",
      "FILE\n",
      "    (built-in)\n",
      "\n",
      "\n"
     ]
    }
   ],
   "source": [
    "help(__name__)"
   ]
  },
  {
   "cell_type": "markdown",
   "id": "43e482b1",
   "metadata": {},
   "source": [
    "This shows all available objects in the current namespace."
   ]
  },
  {
   "cell_type": "code",
   "execution_count": 7,
   "id": "6b2b6d78",
   "metadata": {},
   "outputs": [],
   "source": [
    "a = [1,2,3]\n",
    "b = 'Ala'"
   ]
  },
  {
   "cell_type": "code",
   "execution_count": 8,
   "id": "bbd9b0e9",
   "metadata": {},
   "outputs": [
    {
     "name": "stdout",
     "output_type": "stream",
     "text": [
      "Help on module __main__:\n",
      "\n",
      "NAME\n",
      "    __main__ - Automatically created module for IPython interactive environment\n",
      "\n",
      "DATA\n",
      "    In = ['', 'DOCSTRINGS CONVENTIONS', 'help(object)', '#help(object)', '...\n",
      "    Out = {}\n",
      "    __ = ''\n",
      "    ___ = ''\n",
      "    a = [1, 2, 3]\n",
      "    b = 'Ala'\n",
      "    exit = <IPython.core.autocall.ZMQExitAutocall object>\n",
      "    quit = <IPython.core.autocall.ZMQExitAutocall object>\n",
      "\n",
      "FILE\n",
      "    (built-in)\n",
      "\n",
      "\n"
     ]
    }
   ],
   "source": [
    "help(__name__)"
   ]
  },
  {
   "cell_type": "markdown",
   "id": "10fd41f2",
   "metadata": {},
   "source": [
    "GET DOCUMENTATION FROM PYTHON SHELL"
   ]
  },
  {
   "cell_type": "code",
   "execution_count": null,
   "id": "88a679d7",
   "metadata": {},
   "outputs": [],
   "source": [
    "pydoc sys.path"
   ]
  },
  {
   "cell_type": "markdown",
   "id": "14c880eb",
   "metadata": {},
   "source": [
    "RESTRUCTURED TEXT (RST, ReST)"
   ]
  },
  {
   "cell_type": "markdown",
   "id": "de2ebdae",
   "metadata": {},
   "source": [
    "- reStructured Text is a file format for textual data used primarily in the Python community for technical documentation\n",
    "- it can extract comments and information from Python programs, and format them into various forms of program documentation"
   ]
  },
  {
   "cell_type": "markdown",
   "id": "e491a486",
   "metadata": {},
   "source": [
    "SPHINX"
   ]
  },
  {
   "cell_type": "markdown",
   "id": "e8262872",
   "metadata": {},
   "source": [
    "- sphinx is a documentation generator written and used in Python\n",
    "- sphinx converts reStructured Text into HTML, PDF, and other"
   ]
  },
  {
   "cell_type": "markdown",
   "id": "d143bbbb",
   "metadata": {},
   "source": [
    "GET A PATH TO A SITE-PACKAGE MODULE"
   ]
  },
  {
   "cell_type": "code",
   "execution_count": 10,
   "id": "95050358",
   "metadata": {},
   "outputs": [
    {
     "data": {
      "text/plain": [
       "'C:\\\\Users\\\\Bartosz\\\\anaconda3\\\\lib\\\\site-packages\\\\pandas\\\\__init__.py'"
      ]
     },
     "execution_count": 10,
     "metadata": {},
     "output_type": "execute_result"
    }
   ],
   "source": [
    "import pandas\n",
    "pandas.__file__"
   ]
  },
  {
   "cell_type": "markdown",
   "id": "61d6a9e4",
   "metadata": {},
   "source": [
    "GET A PATH TO PYTHON INTERPRETER"
   ]
  },
  {
   "cell_type": "code",
   "execution_count": 12,
   "id": "eb3cd744",
   "metadata": {},
   "outputs": [
    {
     "data": {
      "text/plain": [
       "['C:\\\\Users\\\\Bartosz\\\\Desktop\\\\Python\\\\Notebooks',\n",
       " 'C:\\\\Users\\\\Bartosz\\\\anaconda3\\\\python39.zip',\n",
       " 'C:\\\\Users\\\\Bartosz\\\\anaconda3\\\\DLLs',\n",
       " 'C:\\\\Users\\\\Bartosz\\\\anaconda3\\\\lib',\n",
       " 'C:\\\\Users\\\\Bartosz\\\\anaconda3',\n",
       " '',\n",
       " 'C:\\\\Users\\\\Bartosz\\\\anaconda3\\\\lib\\\\site-packages',\n",
       " 'C:\\\\Users\\\\Bartosz\\\\anaconda3\\\\lib\\\\site-packages\\\\win32',\n",
       " 'C:\\\\Users\\\\Bartosz\\\\anaconda3\\\\lib\\\\site-packages\\\\win32\\\\lib',\n",
       " 'C:\\\\Users\\\\Bartosz\\\\anaconda3\\\\lib\\\\site-packages\\\\Pythonwin']"
      ]
     },
     "execution_count": 12,
     "metadata": {},
     "output_type": "execute_result"
    }
   ],
   "source": [
    "import sys\n",
    "sys.path"
   ]
  },
  {
   "cell_type": "markdown",
   "id": "90b5f937",
   "metadata": {},
   "source": [
    "CONVENTION: name[, default]"
   ]
  },
  {
   "cell_type": "markdown",
   "id": "74fcc189",
   "metadata": {},
   "source": [
    "- square bracket indicates that the argument inside the bracket is optional"
   ]
  },
  {
   "cell_type": "code",
   "execution_count": null,
   "id": "5e3dccc1",
   "metadata": {},
   "outputs": [],
   "source": [
    "getattr(...)\n",
    "    getattr(object, name[, default]) -> value # default is an optional argument"
   ]
  },
  {
   "cell_type": "markdown",
   "id": "4c8e29d0",
   "metadata": {},
   "source": [
    "https://stackoverflow.com/questions/1718903/what-do-square-brackets-mean-in-function-class-documentation"
   ]
  },
  {
   "cell_type": "code",
   "execution_count": null,
   "id": "d2f6f6a3",
   "metadata": {},
   "outputs": [],
   "source": []
  }
 ],
 "metadata": {
  "kernelspec": {
   "display_name": "Python 3 (ipykernel)",
   "language": "python",
   "name": "python3"
  },
  "language_info": {
   "codemirror_mode": {
    "name": "ipython",
    "version": 3
   },
   "file_extension": ".py",
   "mimetype": "text/x-python",
   "name": "python",
   "nbconvert_exporter": "python",
   "pygments_lexer": "ipython3",
   "version": "3.9.12"
  }
 },
 "nbformat": 4,
 "nbformat_minor": 5
}
