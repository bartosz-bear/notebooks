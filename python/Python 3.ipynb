{
 "cells": [
  {
   "attachments": {},
   "cell_type": "markdown",
   "id": "41a808f6",
   "metadata": {},
   "source": [
    "### IMPORTING MODULES"
   ]
  },
  {
   "attachments": {},
   "cell_type": "markdown",
   "id": "2c8a8add",
   "metadata": {},
   "source": [
    "#### IMPORTING FROM A FOLDER ON THE SAME LEVEL"
   ]
  },
  {
   "cell_type": "code",
   "execution_count": null,
   "id": "654cd591",
   "metadata": {},
   "outputs": [],
   "source": [
    "from .folder.python_file import function"
   ]
  },
  {
   "attachments": {},
   "cell_type": "markdown",
   "id": "1bfe0a94",
   "metadata": {},
   "source": [
    "#### IMPORTING FROM A FOLDER ABOVE"
   ]
  },
  {
   "cell_type": "code",
   "execution_count": null,
   "id": "9647321c",
   "metadata": {},
   "outputs": [
    {
     "ename": "",
     "evalue": "",
     "output_type": "error",
     "traceback": [
      "\u001b[1;31mRunning cells with 'bapi' requires the ipykernel package.\n",
      "\u001b[1;31mRun the following command to install 'ipykernel' into the Python environment. \n",
      "\u001b[1;31mCommand: 'conda install -n bapi ipykernel --update-deps --force-reinstall'"
     ]
    }
   ],
   "source": [
    "from ..folder_above.folder.python_file import function"
   ]
  },
  {
   "cell_type": "markdown",
   "id": "1b445b70",
   "metadata": {},
   "source": [
    "USEFUL AND COMPLETE RESOURCES ABOUT IMPORT"
   ]
  },
  {
   "attachments": {},
   "cell_type": "markdown",
   "id": "a63f8daf",
   "metadata": {},
   "source": [
    "https://www.pythonforthelab.com/blog/complete-guide-to-imports-in-python-absolute-relative-and-more/"
   ]
  },
  {
   "attachments": {},
   "cell_type": "markdown",
   "id": "d270c41e",
   "metadata": {},
   "source": [
    "### GETATTR BUILT-IN FUNCTION"
   ]
  },
  {
   "cell_type": "markdown",
   "id": "eb5b38f1",
   "metadata": {},
   "source": [
    "- built-in, object independent support function to get attribute value of an object\n",
    "- useful when the name of attribute is not known during coding (it come as a variable during code execution)\n",
    "- if attribute is not present, you can get a default value instead"
   ]
  },
  {
   "cell_type": "code",
   "execution_count": null,
   "id": "958ff481",
   "metadata": {},
   "outputs": [],
   "source": [
    "getattr(person, 'age', 0) # 0 is optional default value"
   ]
  },
  {
   "cell_type": "markdown",
   "id": "ea9bd33a",
   "metadata": {},
   "source": [
    "- getattr can also be used to call a method of an object"
   ]
  },
  {
   "cell_type": "code",
   "execution_count": null,
   "id": "81e74a46",
   "metadata": {},
   "outputs": [],
   "source": [
    "getattr(1000, 'bit_length')()\n",
    "\n",
    "# 1000 is an integer object here, therefore getattr will get a method object (bitlenth()).\n",
    "#And finally this method is called using ()."
   ]
  },
  {
   "cell_type": "markdown",
   "id": "db5b8c8b",
   "metadata": {},
   "source": [
    "https://stackoverflow.com/questions/4075190/what-is-getattr-exactly-and-how-do-i-use-it"
   ]
  },
  {
   "attachments": {},
   "cell_type": "markdown",
   "id": "3ca31bc7",
   "metadata": {},
   "source": [
    "### __import__()"
   ]
  },
  {
   "cell_type": "markdown",
   "id": "cf71f478",
   "metadata": {},
   "source": [
    "- this is an advanced function that is not needed in everyday Python programming\n",
    "- direct usef of __import__ is discouraged, in favor of importlib.import_module()\n",
    "- the function is invoked by the import statement\n",
    "- direct use of __import__() is also discouraged in favor of importlib.import_module()"
   ]
  },
  {
   "cell_type": "markdown",
   "id": "740bbc8c",
   "metadata": {},
   "source": [
    "WHEN IS IT USEFUL?"
   ]
  },
  {
   "cell_type": "markdown",
   "id": "52203f50",
   "metadata": {},
   "source": [
    "- when you want to import a Python file which is not an actual Python module (it doesn't have __init__.py file inside the folder)\n",
    "- another use case it when you named your Python file with something which collides with standard Python modules, like math or collections"
   ]
  },
  {
   "cell_type": "code",
   "execution_count": null,
   "id": "7745da85",
   "metadata": {},
   "outputs": [],
   "source": [
    "target = __import__(\"my_sum.py\")\n",
    "sum  = target.sum"
   ]
  },
  {
   "cell_type": "markdown",
   "id": "e9284d7c",
   "metadata": {},
   "source": [
    "HOW IMPORT STATEMENT WORK?"
   ]
  },
  {
   "cell_type": "code",
   "execution_count": null,
   "id": "a74a9ad0",
   "metadata": {},
   "outputs": [],
   "source": [
    "spam = __import__('spam', globals(), locals(), [], 0) # equal to import spam"
   ]
  },
  {
   "cell_type": "code",
   "execution_count": null,
   "id": "a1fcfc59",
   "metadata": {},
   "outputs": [],
   "source": [
    "spam = __import__('spam.ham', globals(), locals(), [], 0) #equal to import spam.ham"
   ]
  },
  {
   "cell_type": "code",
   "execution_count": null,
   "id": "53227482",
   "metadata": {},
   "outputs": [],
   "source": [
    "_temp = __import__('spam.ham', globals(), locals(), ['eggs', 'sausage'], 0)\n",
    "# from spam.ham import eggs, sausage\n",
    "\n",
    "eggs = _temp.eggs\n",
    "saus = _temp.sausage"
   ]
  },
  {
   "cell_type": "markdown",
   "id": "92db488e",
   "metadata": {},
   "source": [
    "https://docs.python.org/3/library/functions.html#import__"
   ]
  },
  {
   "cell_type": "markdown",
   "id": "2beace33",
   "metadata": {},
   "source": [
    "### SORT()"
   ]
  },
  {
   "cell_type": "markdown",
   "id": "d35e70ad",
   "metadata": {},
   "source": [
    "- sort() is a method of list class and can only be used with lists\n",
    "- sort() returns None and modifies the values in place, this means that the original order CAN'T BE RECOVERED after sort() was used on the list\n",
    "- If you’re working with important data, and there is even a remote possibility that the original data will need to be recovered, then .sort() is not the best option."
   ]
  },
  {
   "cell_type": "code",
   "execution_count": 1,
   "id": "c948ee84",
   "metadata": {},
   "outputs": [],
   "source": [
    "values_to_sort = [5, 2, 6, 1]"
   ]
  },
  {
   "cell_type": "code",
   "execution_count": 3,
   "id": "a49f9e7e",
   "metadata": {},
   "outputs": [
    {
     "name": "stdout",
     "output_type": "stream",
     "text": [
      "None\n"
     ]
    }
   ],
   "source": [
    "print(values_to_sort.sort())"
   ]
  },
  {
   "cell_type": "code",
   "execution_count": 4,
   "id": "10f0aefc",
   "metadata": {},
   "outputs": [
    {
     "name": "stdout",
     "output_type": "stream",
     "text": [
      "[1, 2, 5, 6]\n"
     ]
    }
   ],
   "source": [
    "print(values_to_sort)"
   ]
  },
  {
   "cell_type": "markdown",
   "id": "e9b58ffe",
   "metadata": {},
   "source": [
    ".sort() has the same - key and reverse optional keyword arguments that produce the same robust functionality as sorted()."
   ]
  },
  {
   "cell_type": "markdown",
   "id": "9dfae391",
   "metadata": {},
   "source": [
    "SORTING BY THE SECOND LETTER OF THE THIRD WORD"
   ]
  },
  {
   "cell_type": "code",
   "execution_count": 5,
   "id": "bf7371e1",
   "metadata": {},
   "outputs": [],
   "source": [
    "phrases = ['when in rome', 'what goes around comes around', 'all is fair in love and war']"
   ]
  },
  {
   "cell_type": "code",
   "execution_count": 6,
   "id": "9864e28d",
   "metadata": {},
   "outputs": [],
   "source": [
    "phrases.sort(key=lambda x: x.split()[2][1], reverse=True)"
   ]
  },
  {
   "cell_type": "code",
   "execution_count": 7,
   "id": "bb399512",
   "metadata": {},
   "outputs": [
    {
     "data": {
      "text/plain": [
       "['what goes around comes around',\n",
       " 'when in rome',\n",
       " 'all is fair in love and war']"
      ]
     },
     "execution_count": 7,
     "metadata": {},
     "output_type": "execute_result"
    }
   ],
   "source": [
    "phrases"
   ]
  },
  {
   "cell_type": "markdown",
   "id": "f1da561f",
   "metadata": {},
   "source": [
    "DIFFERENCES BETWEEN SORT() AND SORTED()"
   ]
  },
  {
   "cell_type": "markdown",
   "id": "de00e9ef",
   "metadata": {},
   "source": [
    "Differences in behavior make .sort() and sorted() absolutely not interchangeable in code, and they can produce wildly unexpected outcomes if one is used in the wrong way."
   ]
  },
  {
   "cell_type": "code",
   "execution_count": 8,
   "id": "c0d15412",
   "metadata": {},
   "outputs": [],
   "source": [
    "a = ['a','b','c','d','e','f','g','h','i']"
   ]
  },
  {
   "cell_type": "code",
   "execution_count": 10,
   "id": "48f21307",
   "metadata": {},
   "outputs": [
    {
     "data": {
      "text/plain": [
       "['a', 'c', 'e', 'g', 'i']"
      ]
     },
     "execution_count": 10,
     "metadata": {},
     "output_type": "execute_result"
    }
   ],
   "source": [
    "a[::2]"
   ]
  },
  {
   "cell_type": "markdown",
   "id": "01221b14",
   "metadata": {},
   "source": [
    "STRING FORMATTING AND FORMAT() BUILT-IN FUNCTION"
   ]
  },
  {
   "cell_type": "code",
   "execution_count": null,
   "id": "c67a9e16",
   "metadata": {},
   "outputs": [],
   "source": [
    "help('FORMATTING')"
   ]
  },
  {
   "cell_type": "markdown",
   "id": "784eafc3",
   "metadata": {},
   "source": [
    "- Extensive explanation of formatting capabilities including Format Specification Mini Language"
   ]
  },
  {
   "cell_type": "markdown",
   "id": "aabd928c",
   "metadata": {},
   "source": [
    "- Available string presentation types:\n",
    "    - \"s\" - string format, default\n",
    "\n",
    "- Available integer presentation types:\n",
    "    - \"b\" - binary, outputs the number in base\n",
    "    - \"c\" - converts integer to the corresponding Unicode character\n",
    "    - \"d\" - decimal integer, outputs the number in base 10, default\n",
    "    - \"o\" - octal format, outputs the the number in base 8\n",
    "    - \"x\" - hex format, outputs the number in base 16, using lower case letters\n",
    "    - \"X\" - hex, format, outputs the number in base 16, using upper case letters\n",
    "    - \"n\" - number, this is the same as 'd' with the difference that is uses current locale settings\n",
    "            to insert the appropriate number separator characters\n",
    "\n",
    "- Available presentation types for \"float\" and \"Decimal\" values\n",
    "    - \"e\" - scientific notation, it uses coefficient 'p' for precision, 6 digits by default\n",
    "    - \"E\" - the same as 'e' but uses uper case as the character separator\n",
    "    - \"f\" - fixed-point notation, for a given precision 'p' formats the number as a decimal numer\n",
    "            with 'p' digits following decimal point, 'p' = 6 by default\n",
    "    - \"F\" - fixed-point notation. Same as 'f' but converts 'nan' to 'NAN' and 'inf' to 'INF'\n",
    "    - \"g\" - general format\n",
    "    - \"G\" - general format with upper case\n",
    "    - \"n\" - number, the same as 'g' but it's using current locale\n",
    "    - \"'%'\" - percentage"
   ]
  },
  {
   "cell_type": "markdown",
   "id": "4df7a3c4",
   "metadata": {},
   "source": [
    "EXAMPLES"
   ]
  },
  {
   "cell_type": "markdown",
   "id": "4ed559cf",
   "metadata": {},
   "source": [
    "PERCENTAGE FORMATTING"
   ]
  },
  {
   "cell_type": "code",
   "execution_count": 138,
   "id": "a6d0a93f",
   "metadata": {},
   "outputs": [],
   "source": [
    "f = 0.5654"
   ]
  },
  {
   "cell_type": "code",
   "execution_count": 139,
   "id": "4ca2598e",
   "metadata": {},
   "outputs": [
    {
     "data": {
      "text/plain": [
       "'56.540000%'"
      ]
     },
     "execution_count": 139,
     "metadata": {},
     "output_type": "execute_result"
    }
   ],
   "source": [
    "format(f, '%')"
   ]
  },
  {
   "cell_type": "code",
   "execution_count": 140,
   "id": "d661d158",
   "metadata": {},
   "outputs": [
    {
     "data": {
      "text/plain": [
       "'56.54%'"
      ]
     },
     "execution_count": 140,
     "metadata": {},
     "output_type": "execute_result"
    }
   ],
   "source": [
    "format(f, '.2%')"
   ]
  },
  {
   "cell_type": "markdown",
   "id": "e93365d8",
   "metadata": {},
   "source": [
    "SCIENTIFIC NOTATION FORMATTING"
   ]
  },
  {
   "cell_type": "code",
   "execution_count": 142,
   "id": "95a406c7",
   "metadata": {},
   "outputs": [],
   "source": [
    "f2 = 2_300_000_000"
   ]
  },
  {
   "cell_type": "code",
   "execution_count": 144,
   "id": "8c1902b5",
   "metadata": {},
   "outputs": [
    {
     "data": {
      "text/plain": [
       "'2.300000e+09'"
      ]
     },
     "execution_count": 144,
     "metadata": {},
     "output_type": "execute_result"
    }
   ],
   "source": [
    "format(f2, 'e')"
   ]
  },
  {
   "cell_type": "code",
   "execution_count": 146,
   "id": "e7aa2d74",
   "metadata": {},
   "outputs": [
    {
     "data": {
      "text/plain": [
       "'2.3e+09'"
      ]
     },
     "execution_count": 146,
     "metadata": {},
     "output_type": "execute_result"
    }
   ],
   "source": [
    "format(f2, '.1e')"
   ]
  },
  {
   "cell_type": "markdown",
   "id": "55d504bc",
   "metadata": {},
   "source": [
    "FIXED POINT FORMATING"
   ]
  },
  {
   "cell_type": "code",
   "execution_count": 147,
   "id": "1d7f99fa",
   "metadata": {},
   "outputs": [],
   "source": [
    "f3 = 345.494252"
   ]
  },
  {
   "cell_type": "code",
   "execution_count": 149,
   "id": "04d90483",
   "metadata": {},
   "outputs": [
    {
     "data": {
      "text/plain": [
       "'345.49'"
      ]
     },
     "execution_count": 149,
     "metadata": {},
     "output_type": "execute_result"
    }
   ],
   "source": [
    "format(f3, '.2f')"
   ]
  },
  {
   "cell_type": "markdown",
   "id": "d8e5ddd6",
   "metadata": {},
   "source": [
    "CONVERTING A NUMBER TO BINARY NOTATION"
   ]
  },
  {
   "cell_type": "code",
   "execution_count": 154,
   "id": "166e1b20",
   "metadata": {},
   "outputs": [],
   "source": [
    "f3 = 250"
   ]
  },
  {
   "cell_type": "code",
   "execution_count": 155,
   "id": "aad12758",
   "metadata": {},
   "outputs": [
    {
     "data": {
      "text/plain": [
       "'11111010'"
      ]
     },
     "execution_count": 155,
     "metadata": {},
     "output_type": "execute_result"
    }
   ],
   "source": [
    "format(f3, 'b')"
   ]
  },
  {
   "cell_type": "markdown",
   "id": "880ec879",
   "metadata": {},
   "source": [
    "CONVERTING A NUMBER TO DECIMAL NOTATION"
   ]
  },
  {
   "cell_type": "code",
   "execution_count": 159,
   "id": "d32bc77c",
   "metadata": {},
   "outputs": [
    {
     "data": {
      "text/plain": [
       "b'11111010'"
      ]
     },
     "execution_count": 159,
     "metadata": {},
     "output_type": "execute_result"
    }
   ],
   "source": [
    "#import bytes.bytearray.memor\n",
    "#format(b'11111010', 'd')\n",
    "\n",
    "b'11111010'"
   ]
  },
  {
   "cell_type": "code",
   "execution_count": 162,
   "id": "93bb7b05",
   "metadata": {},
   "outputs": [
    {
     "ename": "ValueError",
     "evalue": "Unknown format code 'd' for object of type 'float'",
     "output_type": "error",
     "traceback": [
      "\u001b[1;31m---------------------------------------------------------------------------\u001b[0m",
      "\u001b[1;31mValueError\u001b[0m                                Traceback (most recent call last)",
      "Input \u001b[1;32mIn [162]\u001b[0m, in \u001b[0;36m<cell line: 1>\u001b[1;34m()\u001b[0m\n\u001b[1;32m----> 1\u001b[0m \u001b[38;5;28;43mformat\u001b[39;49m\u001b[43m(\u001b[49m\u001b[38;5;241;43m2.00\u001b[39;49m\u001b[43m,\u001b[49m\u001b[43m \u001b[49m\u001b[38;5;124;43m'\u001b[39;49m\u001b[38;5;124;43md\u001b[39;49m\u001b[38;5;124;43m'\u001b[39;49m\u001b[43m)\u001b[49m\n",
      "\u001b[1;31mValueError\u001b[0m: Unknown format code 'd' for object of type 'float'"
     ]
    }
   ],
   "source": [
    "format(2.00, 'd')"
   ]
  },
  {
   "cell_type": "code",
   "execution_count": null,
   "id": "a3579f5e",
   "metadata": {},
   "outputs": [],
   "source": []
  },
  {
   "cell_type": "markdown",
   "id": "527a6b7e",
   "metadata": {},
   "source": [
    "MODULE NAMES WITH SINGLE UNDERSCORE PRECEDING MODULE'S NAME"
   ]
  },
  {
   "cell_type": "markdown",
   "id": "06ac9501",
   "metadata": {},
   "source": [
    "- these are Python modules who have associated modules written in C either for performance purposes or to handle low-level operations"
   ]
  },
  {
   "cell_type": "code",
   "execution_count": null,
   "id": "b4d69654",
   "metadata": {},
   "outputs": [],
   "source": [
    "import _string # imports string module but written in C"
   ]
  },
  {
   "cell_type": "markdown",
   "id": "5744ee51",
   "metadata": {},
   "source": [
    "https://stackoverflow.com/questions/36478488/python-import-module-prefixed-with-an-underscore"
   ]
  },
  {
   "cell_type": "markdown",
   "id": "f93f3fa0",
   "metadata": {},
   "source": [
    "SINGLE LEADING UNDERSCORE IN A VARIABLE, FUNCTION OR METHOD _foo"
   ]
  },
  {
   "cell_type": "markdown",
   "id": "5218407b",
   "metadata": {},
   "source": [
    "- these objects are used internally\n",
    "- single underscores are generally used in classes to define 'internal' attributes (internal attribute is notation, not an actual syntax component)\n",
    "- this is more of a syntax hint to the programmer and is not enforced by the Python interpreter which means that by principle these can still be accessed in one way or another from other scipt (even thought, they shouldn't be)"
   ]
  },
  {
   "cell_type": "code",
   "execution_count": null,
   "id": "abd6abde",
   "metadata": {},
   "outputs": [],
   "source": [
    "import datetime\n",
    "\n",
    "class Employee:\n",
    "     ...\n",
    "\n",
    "     def _get_seniority(self):\n",
    "         today_date = datetime.datetime.today().date()\n",
    "         seniority = (today_date - start_date).days\n",
    "         return seniority\n",
    "     \n",
    "    def compute_compensation_package(self):\n",
    "         # use self._seniority here.\n",
    "\n",
    "        \n",
    "first_name = \"John\"\n",
    "last_name = \"Doe\"\n",
    "start_date = datetime.date(2021, 12, 1)\n",
    "employee = Employee(first_name, last_name, start_date)\n",
    "\n",
    ">>> employee._seniority\n",
    "53"
   ]
  },
  {
   "cell_type": "markdown",
   "id": "3fba292e",
   "metadata": {},
   "source": [
    "SINGLE TRAILING UNDERSCORE IN A VARIABLE foo_"
   ]
  },
  {
   "cell_type": "markdown",
   "id": "23677cfc",
   "metadata": {},
   "source": [
    "- there are some situtions where you want to use a variable name that is actually a reserved keyword in Python such as class, def, type, object\n",
    "- to avoid this conflict, you can add a trailing underscore as a naming convention"
   ]
  },
  {
   "cell_type": "code",
   "execution_count": null,
   "id": "4722fef1",
   "metadata": {},
   "outputs": [],
   "source": [
    "class_ = 'A'"
   ]
  },
  {
   "cell_type": "markdown",
   "id": "dfab3b25",
   "metadata": {},
   "source": [
    "SINGLE, STANDALONE UNDERSCORE _ "
   ]
  },
  {
   "cell_type": "markdown",
   "id": "a6808734",
   "metadata": {},
   "source": [
    "- single, standalone underscores are used to define a temporary or unused variable"
   ]
  },
  {
   "cell_type": "code",
   "execution_count": 13,
   "id": "b01d4118",
   "metadata": {},
   "outputs": [
    {
     "name": "stdout",
     "output_type": "stream",
     "text": [
      "Hello, world!\n",
      "Hello, world!\n",
      "Hello, world!\n",
      "Hello, world!\n",
      "Hello, world!\n"
     ]
    }
   ],
   "source": [
    "for _ in range(5):\n",
    "    print('Hello, world!')"
   ]
  },
  {
   "cell_type": "markdown",
   "id": "48ed8399",
   "metadata": {},
   "source": [
    "- if your function returns a tuple of five elements but you only need to use two of those (the first one and the fourth one in the example), you can use an underscore to name the three remaining ones"
   ]
  },
  {
   "cell_type": "code",
   "execution_count": null,
   "id": "90b18426",
   "metadata": {},
   "outputs": [],
   "source": [
    "cpu, _, _, memory, _ = extract_laptop_specs(laptop)"
   ]
  },
  {
   "cell_type": "markdown",
   "id": "98d2950f",
   "metadata": {},
   "source": [
    "- to use as a visual separator for digital grouping (as per PEP 515, underscores can now be added to Numeric Literals to improve the readability of long numbers)"
   ]
  },
  {
   "cell_type": "code",
   "execution_count": 14,
   "id": "4cc23f95",
   "metadata": {},
   "outputs": [
    {
     "data": {
      "text/plain": [
       "1000"
      ]
     },
     "execution_count": 14,
     "metadata": {},
     "output_type": "execute_result"
    }
   ],
   "source": [
    "1_000"
   ]
  },
  {
   "cell_type": "code",
   "execution_count": 15,
   "id": "53c6cff6",
   "metadata": {},
   "outputs": [
    {
     "data": {
      "text/plain": [
       "1000000000"
      ]
     },
     "execution_count": 15,
     "metadata": {},
     "output_type": "execute_result"
    }
   ],
   "source": [
    "1_000_000_000"
   ]
  },
  {
   "cell_type": "markdown",
   "id": "b44f3785",
   "metadata": {},
   "source": [
    "DOUBLE LEADING AND TRAILING UNDERSCORES __method__ (USE 1)"
   ]
  },
  {
   "cell_type": "markdown",
   "id": "7328323e",
   "metadata": {},
   "source": [
    "- double leading and trailing underscores are used to define dunder methods (D.ouble Under.score methods)\n",
    "- dunder methods are reserved methods that you can still overwrite, they have special behavior and are called differently"
   ]
  },
  {
   "cell_type": "markdown",
   "id": "ff2fec67",
   "metadata": {},
   "source": [
    "__init__ is used as a constructor of the class"
   ]
  },
  {
   "cell_type": "markdown",
   "id": "5cc7f53d",
   "metadata": {},
   "source": [
    "__call__ is used to make the object callable"
   ]
  },
  {
   "cell_type": "markdown",
   "id": "1618f963",
   "metadata": {},
   "source": [
    "__str__ is used to define what is printed on the screen when we pass teh object to the print method"
   ]
  },
  {
   "cell_type": "code",
   "execution_count": null,
   "id": "9bd30fef",
   "metadata": {},
   "outputs": [],
   "source": [
    "DOUBLE LEADING AND TRAILING UNDERSCORES __attribute__ (USE 2)"
   ]
  },
  {
   "cell_type": "markdown",
   "id": "3d25e889",
   "metadata": {},
   "source": [
    "- double leading and trailing underscores are also used to identify few special read-only attributes of an object\n",
    "- some of these are not reported on dir()"
   ]
  },
  {
   "cell_type": "code",
   "execution_count": null,
   "id": "f574f831",
   "metadata": {},
   "outputs": [],
   "source": [
    "EXAMPLES OF SPECIAL ATTRIBUTES"
   ]
  },
  {
   "cell_type": "code",
   "execution_count": null,
   "id": "50dc21eb",
   "metadata": {},
   "outputs": [],
   "source": [
    "__class__ attribute"
   ]
  },
  {
   "cell_type": "markdown",
   "id": "3866076b",
   "metadata": {},
   "source": [
    "- returns a class of which an object belongs to"
   ]
  },
  {
   "cell_type": "code",
   "execution_count": 122,
   "id": "40850f08",
   "metadata": {},
   "outputs": [],
   "source": [
    "a = [1,2,3]"
   ]
  },
  {
   "cell_type": "code",
   "execution_count": 123,
   "id": "6bb7156f",
   "metadata": {},
   "outputs": [
    {
     "data": {
      "text/plain": [
       "list"
      ]
     },
     "execution_count": 123,
     "metadata": {},
     "output_type": "execute_result"
    }
   ],
   "source": [
    "a.__class__"
   ]
  },
  {
   "cell_type": "code",
   "execution_count": null,
   "id": "0352427a",
   "metadata": {},
   "outputs": [],
   "source": [
    "__dict__ attribute"
   ]
  },
  {
   "cell_type": "markdown",
   "id": "91e377d5",
   "metadata": {},
   "source": [
    "- returns a dictionary of all key:value pairs assigned to self within an instance of a class"
   ]
  },
  {
   "cell_type": "code",
   "execution_count": 133,
   "id": "1923ddc4",
   "metadata": {},
   "outputs": [],
   "source": [
    "class Person:\n",
    "    \"\"\"\n",
    "    Person has a name and age.\n",
    "    \"\"\"\n",
    "    def __init__(self, name, age):\n",
    "        \"\"\"\n",
    "        Initialisation here\n",
    "        \"\"\"\n",
    "        self.name = name\n",
    "        self.age = age"
   ]
  },
  {
   "cell_type": "code",
   "execution_count": 134,
   "id": "fae76206",
   "metadata": {},
   "outputs": [],
   "source": [
    "p = Person('Adam', 18)"
   ]
  },
  {
   "cell_type": "code",
   "execution_count": 135,
   "id": "f5634b5b",
   "metadata": {},
   "outputs": [
    {
     "data": {
      "text/plain": [
       "{'name': 'Adam', 'age': 18}"
      ]
     },
     "execution_count": 135,
     "metadata": {},
     "output_type": "execute_result"
    }
   ],
   "source": [
    "p.__dict__"
   ]
  },
  {
   "cell_type": "code",
   "execution_count": 136,
   "id": "fb3ea9c4",
   "metadata": {},
   "outputs": [
    {
     "data": {
      "text/plain": [
       "mappingproxy({'__module__': '__main__',\n",
       "              '__doc__': '\\n    Person has a name and age.\\n    ',\n",
       "              '__init__': <function __main__.Person.__init__(self, name, age)>,\n",
       "              '__dict__': <attribute '__dict__' of 'Person' objects>,\n",
       "              '__weakref__': <attribute '__weakref__' of 'Person' objects>})"
      ]
     },
     "execution_count": 136,
     "metadata": {},
     "output_type": "execute_result"
    }
   ],
   "source": [
    "Person.__dict__"
   ]
  },
  {
   "cell_type": "code",
   "execution_count": null,
   "id": "db520bf7",
   "metadata": {},
   "outputs": [],
   "source": [
    "__doc__ attribute"
   ]
  },
  {
   "cell_type": "markdown",
   "id": "9d296bbb",
   "metadata": {},
   "source": [
    "- returns a strong of Class level comments"
   ]
  },
  {
   "cell_type": "code",
   "execution_count": 137,
   "id": "29d604ce",
   "metadata": {},
   "outputs": [
    {
     "data": {
      "text/plain": [
       "'\\n    Person has a name and age.\\n    '"
      ]
     },
     "execution_count": 137,
     "metadata": {},
     "output_type": "execute_result"
    }
   ],
   "source": [
    "p.__doc__"
   ]
  },
  {
   "cell_type": "markdown",
   "id": "ef52b705",
   "metadata": {},
   "source": [
    "DOUBLE LEADING UNDERSCORES __bar - NAME MANGLING"
   ]
  },
  {
   "cell_type": "markdown",
   "id": "18aa799b",
   "metadata": {},
   "source": [
    "- double leading underscores are typically used for name mangling\n",
    "- name mangling is a compiler process in which an interpreter changes the attribute name to avoid nameing collisions in subclasses\n",
    "- in Python name mangling is done by combining class name and attribute name, and adding a single underscore in front of a class name and keeping two leading underscores in an attribute name, so if have a Car class and __brand attribute, mangling will create an attribute called _Car__brand"
   ]
  },
  {
   "cell_type": "code",
   "execution_count": 16,
   "id": "1112b81d",
   "metadata": {},
   "outputs": [],
   "source": [
    "class Car:\n",
    "    def __init__(self):\n",
    "        self.color = \"red\"\n",
    "        self._speed = 70\n",
    "        self.__brand = \"bmw\""
   ]
  },
  {
   "cell_type": "code",
   "execution_count": 18,
   "id": "7bb2d6c7",
   "metadata": {},
   "outputs": [],
   "source": [
    "car = Car()"
   ]
  },
  {
   "cell_type": "code",
   "execution_count": 19,
   "id": "34d1f262",
   "metadata": {},
   "outputs": [
    {
     "data": {
      "text/plain": [
       "['_Car__brand',\n",
       " '__class__',\n",
       " '__delattr__',\n",
       " '__dict__',\n",
       " '__dir__',\n",
       " '__doc__',\n",
       " '__eq__',\n",
       " '__format__',\n",
       " '__ge__',\n",
       " '__getattribute__',\n",
       " '__gt__',\n",
       " '__hash__',\n",
       " '__init__',\n",
       " '__init_subclass__',\n",
       " '__le__',\n",
       " '__lt__',\n",
       " '__module__',\n",
       " '__ne__',\n",
       " '__new__',\n",
       " '__reduce__',\n",
       " '__reduce_ex__',\n",
       " '__repr__',\n",
       " '__setattr__',\n",
       " '__sizeof__',\n",
       " '__str__',\n",
       " '__subclasshook__',\n",
       " '__weakref__',\n",
       " '_speed',\n",
       " 'color']"
      ]
     },
     "execution_count": 19,
     "metadata": {},
     "output_type": "execute_result"
    }
   ],
   "source": [
    "dir(car) # self.__brand was changed to _Car__brand"
   ]
  },
  {
   "cell_type": "code",
   "execution_count": 20,
   "id": "42dbc70d",
   "metadata": {},
   "outputs": [],
   "source": [
    "class ExtendedCar(Car):\n",
    "    def __init__(self):\n",
    "        super(ExtendedCar, self).__init__()\n",
    "        self.color = \"green\"\n",
    "        self._speed = 80\n",
    "        self.__brand = \"audi\""
   ]
  },
  {
   "cell_type": "code",
   "execution_count": 21,
   "id": "c0ef6542",
   "metadata": {},
   "outputs": [],
   "source": [
    "extended_car = ExtendedCar()"
   ]
  },
  {
   "cell_type": "code",
   "execution_count": 22,
   "id": "4b8dd78b",
   "metadata": {},
   "outputs": [
    {
     "data": {
      "text/plain": [
       "['_Car__brand',\n",
       " '_ExtendedCar__brand',\n",
       " '__class__',\n",
       " '__delattr__',\n",
       " '__dict__',\n",
       " '__dir__',\n",
       " '__doc__',\n",
       " '__eq__',\n",
       " '__format__',\n",
       " '__ge__',\n",
       " '__getattribute__',\n",
       " '__gt__',\n",
       " '__hash__',\n",
       " '__init__',\n",
       " '__init_subclass__',\n",
       " '__le__',\n",
       " '__lt__',\n",
       " '__module__',\n",
       " '__ne__',\n",
       " '__new__',\n",
       " '__reduce__',\n",
       " '__reduce_ex__',\n",
       " '__repr__',\n",
       " '__setattr__',\n",
       " '__sizeof__',\n",
       " '__str__',\n",
       " '__subclasshook__',\n",
       " '__weakref__',\n",
       " '_speed',\n",
       " 'color']"
      ]
     },
     "execution_count": 22,
     "metadata": {},
     "output_type": "execute_result"
    }
   ],
   "source": [
    "dir(extended_car) # even though the subclass also has self.__brand attribute, the attribute name\n",
    "# in the subclass has a different name _ExtendedCar__brand to avoid name collisions"
   ]
  },
  {
   "cell_type": "code",
   "execution_count": 23,
   "id": "5e57773c",
   "metadata": {},
   "outputs": [
    {
     "data": {
      "text/plain": [
       "'bmw'"
      ]
     },
     "execution_count": 23,
     "metadata": {},
     "output_type": "execute_result"
    }
   ],
   "source": [
    "extended_car._Car__brand"
   ]
  },
  {
   "cell_type": "code",
   "execution_count": 24,
   "id": "83efc7bc",
   "metadata": {},
   "outputs": [
    {
     "data": {
      "text/plain": [
       "'audi'"
      ]
     },
     "execution_count": 24,
     "metadata": {},
     "output_type": "execute_result"
    }
   ],
   "source": [
    "extended_car._ExtendedCar__brand"
   ]
  },
  {
   "cell_type": "markdown",
   "id": "af327fd3",
   "metadata": {},
   "source": [
    "https://towardsdatascience.com/whats-the-meaning-of-single-and-double-underscores-in-python-3d27d57d6bd1"
   ]
  },
  {
   "cell_type": "markdown",
   "id": "3bcedd48",
   "metadata": {},
   "source": [
    "DUNDER METHODS"
   ]
  },
  {
   "cell_type": "markdown",
   "id": "4b5342eb",
   "metadata": {},
   "source": [
    "__init__ dunder method"
   ]
  },
  {
   "cell_type": "markdown",
   "id": "ecb9fb61",
   "metadata": {},
   "source": [
    "- __init__ method is used to create an instance of a class"
   ]
  },
  {
   "cell_type": "code",
   "execution_count": 46,
   "id": "f9835f89",
   "metadata": {},
   "outputs": [],
   "source": [
    "class soft:\n",
    "    names = []\n",
    "    versions = {}\n",
    "    \n",
    "    def __init__(self,names):\n",
    "        if names:\n",
    "            self.names = names.copy()\n",
    "            for name in names:\n",
    "                self.versions[name] = 1\n",
    "        else:\n",
    "            raise Exception(\"Please Enter the names\")"
   ]
  },
  {
   "cell_type": "code",
   "execution_count": 47,
   "id": "20835169",
   "metadata": {},
   "outputs": [
    {
     "data": {
      "text/plain": [
       "<__main__.soft at 0x127fdda6730>"
      ]
     },
     "execution_count": 47,
     "metadata": {},
     "output_type": "execute_result"
    }
   ],
   "source": [
    "soft(['S1', 'S2', 'S3'])"
   ]
  },
  {
   "cell_type": "code",
   "execution_count": 48,
   "id": "6b361a97",
   "metadata": {},
   "outputs": [],
   "source": [
    "my_soft = soft(['S1', 'S2', 'S3'])"
   ]
  },
  {
   "cell_type": "markdown",
   "id": "b253297b",
   "metadata": {},
   "source": [
    "__str__ dunder method"
   ]
  },
  {
   "cell_type": "markdown",
   "id": "5afda5ad",
   "metadata": {},
   "source": [
    "- __str__ method is useful when we want to print some information about the class in the print() function"
   ]
  },
  {
   "cell_type": "code",
   "execution_count": 49,
   "id": "84de603f",
   "metadata": {},
   "outputs": [],
   "source": [
    "class soft2:\n",
    "    names = []\n",
    "    versions = {}\n",
    "    \n",
    "    def __init__(self,names):\n",
    "        if names:\n",
    "            self.names = names.copy()\n",
    "            for name in names:\n",
    "                self.versions[name] = 1\n",
    "        else:\n",
    "            raise Exception(\"Please Enter the names\")\n",
    "            \n",
    "    def __str__(self):\n",
    "        s =\"The current softwares and their versions are listed below: \\n\"\n",
    "        for key,value in self.versions.items():\n",
    "            s+= f\"{key} : v{value} \\n\"\n",
    "        return s\n",
    "    "
   ]
  },
  {
   "cell_type": "code",
   "execution_count": 50,
   "id": "fcdaaa8d",
   "metadata": {},
   "outputs": [],
   "source": [
    "my_soft2 =  soft2(['S1', 'S2', 'S3'])"
   ]
  },
  {
   "cell_type": "code",
   "execution_count": 51,
   "id": "f6407af1",
   "metadata": {},
   "outputs": [
    {
     "name": "stdout",
     "output_type": "stream",
     "text": [
      "The current softwares and their versions are listed below: \n",
      "S1 : v1 \n",
      "S2 : v1 \n",
      "S3 : v1 \n",
      "\n"
     ]
    }
   ],
   "source": [
    "print(my_soft2)"
   ]
  },
  {
   "cell_type": "markdown",
   "id": "9a1ac63f",
   "metadata": {},
   "source": [
    "__setitem__ dunder method"
   ]
  },
  {
   "cell_type": "code",
   "execution_count": 56,
   "id": "7feacd8e",
   "metadata": {},
   "outputs": [],
   "source": [
    "class soft3:\n",
    "    names = []\n",
    "    versions = {}\n",
    "    \n",
    "    def __init__(self,names):\n",
    "        if names:\n",
    "            self.names = names.copy()\n",
    "            for name in names:\n",
    "                self.versions[name] = 1\n",
    "        else:\n",
    "            raise Exception(\"Please Enter the names\")\n",
    "            \n",
    "    def __str__(self):\n",
    "        s =\"The current softwares and their versions are listed below: \\n\"\n",
    "        for key,value in self.versions.items():\n",
    "            s+= f\"{key} : v{value} \\n\"\n",
    "        return s\n",
    "            \n",
    "    def __setitem__(self, name, version):\n",
    "        if name in self.versions:\n",
    "            self.versions[name] = version\n",
    "        else:\n",
    "            raise Exeption(\"Software Name doesn't exist\")"
   ]
  },
  {
   "cell_type": "code",
   "execution_count": 57,
   "id": "db3c1862",
   "metadata": {},
   "outputs": [],
   "source": [
    "my_soft3 = soft3(['S1', 'S2', 'S3'])"
   ]
  },
  {
   "cell_type": "code",
   "execution_count": 58,
   "id": "483f8b1e",
   "metadata": {},
   "outputs": [],
   "source": [
    "my_soft3['S1'] = 2.0"
   ]
  },
  {
   "cell_type": "code",
   "execution_count": 59,
   "id": "f87a2dcd",
   "metadata": {},
   "outputs": [
    {
     "name": "stdout",
     "output_type": "stream",
     "text": [
      "The current softwares and their versions are listed below: \n",
      "S1 : v2.0 \n",
      "S2 : v1 \n",
      "S3 : v1 \n",
      "\n"
     ]
    }
   ],
   "source": [
    "print(my_soft3)"
   ]
  },
  {
   "cell_type": "markdown",
   "id": "51b6ea16",
   "metadata": {},
   "source": [
    "__getitem__ dunder method"
   ]
  },
  {
   "cell_type": "markdown",
   "id": "7b44c0ec",
   "metadata": {},
   "source": [
    "- it gets item by passing an argument name to a class, in the same way as items are retrieved from dictionary (print(my_dict['val']))"
   ]
  },
  {
   "cell_type": "code",
   "execution_count": 61,
   "id": "7921f46d",
   "metadata": {},
   "outputs": [],
   "source": [
    "class soft4:\n",
    "    names = []\n",
    "    versions = {}\n",
    "    \n",
    "    def __init__(self,names):\n",
    "        if names:\n",
    "            self.names = names.copy()\n",
    "            for name in names:\n",
    "                self.versions[name] = 1\n",
    "        else:\n",
    "            raise Exception(\"Please Enter the names\")\n",
    "            \n",
    "    def __str__(self):\n",
    "        s =\"The current softwares and their versions are listed below: \\n\"\n",
    "        for key,value in self.versions.items():\n",
    "            s+= f\"{key} : v{value} \\n\"\n",
    "        return s\n",
    "            \n",
    "    def __setitem__(self, name, version):\n",
    "        if name in self.versions:\n",
    "            self.versions[name] = version\n",
    "        else:\n",
    "            raise Exeption(\"Software Name doesn't exist\")\n",
    "            \n",
    "    def __getitem__(self, name):\n",
    "        if name in self.versions:\n",
    "            return self.versions[name]\n",
    "        else:\n",
    "            raise Exception(\"Software Name doesn't exist\")"
   ]
  },
  {
   "cell_type": "code",
   "execution_count": 62,
   "id": "b4d58d8a",
   "metadata": {},
   "outputs": [],
   "source": [
    "my_soft4 = soft4(['S1', 'S2', 'S3'])"
   ]
  },
  {
   "cell_type": "code",
   "execution_count": 63,
   "id": "831ed0ce",
   "metadata": {},
   "outputs": [
    {
     "data": {
      "text/plain": [
       "1"
      ]
     },
     "execution_count": 63,
     "metadata": {},
     "output_type": "execute_result"
    }
   ],
   "source": [
    "my_soft4['S1']"
   ]
  },
  {
   "cell_type": "markdown",
   "id": "e5ff54b9",
   "metadata": {},
   "source": [
    "__delitem__ dunder method"
   ]
  },
  {
   "cell_type": "markdown",
   "id": "e3d13e2b",
   "metadata": {},
   "source": [
    "- it deletes an item from an internal attributes dictionary"
   ]
  },
  {
   "cell_type": "code",
   "execution_count": 68,
   "id": "291a61f9",
   "metadata": {},
   "outputs": [],
   "source": [
    "class soft5:\n",
    "    names = []\n",
    "    versions = {}\n",
    "    \n",
    "    def __init__(self,names):\n",
    "        if names:\n",
    "            self.names = names.copy()\n",
    "            for name in names:\n",
    "                self.versions[name] = 1\n",
    "        else:\n",
    "            raise Exception(\"Please Enter the names\")\n",
    "            \n",
    "    def __str__(self):\n",
    "        s =\"The current softwares and their versions are listed below: \\n\"\n",
    "        for key,value in self.versions.items():\n",
    "            s+= f\"{key} : v{value} \\n\"\n",
    "        return s\n",
    "            \n",
    "    def __setitem__(self, name, version):\n",
    "        if name in self.versions:\n",
    "            self.versions[name] = version\n",
    "        else:\n",
    "            raise Exeption(\"Software Name doesn't exist\")\n",
    "            \n",
    "    def __getitem__(self, name):\n",
    "        if name in self.versions:\n",
    "            return self.versions[name]\n",
    "        else:\n",
    "            raise Exception(\"Software Name doesn't exist\")\n",
    "    \n",
    "    def __delitem__(self, name):\n",
    "        if name in self.versions:\n",
    "            del self.versions[name]\n",
    "            self.names.remove(name)\n",
    "        else:\n",
    "            raise Exception(\"Software Name doesn't exist\")"
   ]
  },
  {
   "cell_type": "code",
   "execution_count": 69,
   "id": "2bd734d0",
   "metadata": {},
   "outputs": [],
   "source": [
    "my_soft5 = soft5(['S1', 'S2', 'S3'])"
   ]
  },
  {
   "cell_type": "code",
   "execution_count": 71,
   "id": "22a8582c",
   "metadata": {},
   "outputs": [],
   "source": [
    "del my_soft5['S2']"
   ]
  },
  {
   "cell_type": "code",
   "execution_count": 73,
   "id": "8645af67",
   "metadata": {},
   "outputs": [
    {
     "name": "stdout",
     "output_type": "stream",
     "text": [
      "The current softwares and their versions are listed below: \n",
      "S1 : v1 \n",
      "S3 : v1 \n",
      "\n"
     ]
    }
   ],
   "source": [
    "print(my_soft5)"
   ]
  },
  {
   "cell_type": "markdown",
   "id": "9ef20eff",
   "metadata": {},
   "source": [
    "__len__ dunder method"
   ]
  },
  {
   "cell_type": "markdown",
   "id": "b02aaf41",
   "metadata": {},
   "source": [
    "- allows using built-in len() function on the class object to measure specified parameters"
   ]
  },
  {
   "cell_type": "code",
   "execution_count": 74,
   "id": "b11a1588",
   "metadata": {},
   "outputs": [],
   "source": [
    "class soft6:\n",
    "    names = []\n",
    "    versions = {}\n",
    "    \n",
    "    def __init__(self,names):\n",
    "        if names:\n",
    "            self.names = names.copy()\n",
    "            for name in names:\n",
    "                self.versions[name] = 1\n",
    "        else:\n",
    "            raise Exception(\"Please Enter the names\")\n",
    "            \n",
    "    def __str__(self):\n",
    "        s =\"The current softwares and their versions are listed below: \\n\"\n",
    "        for key,value in self.versions.items():\n",
    "            s+= f\"{key} : v{value} \\n\"\n",
    "        return s\n",
    "    \n",
    "    def __len__(self):\n",
    "        \n",
    "        return len(self.names)"
   ]
  },
  {
   "cell_type": "code",
   "execution_count": 75,
   "id": "11de1829",
   "metadata": {},
   "outputs": [],
   "source": [
    "my_soft6 = soft6(['S1', 'S2', 'S3'])"
   ]
  },
  {
   "cell_type": "code",
   "execution_count": 77,
   "id": "afb8171a",
   "metadata": {},
   "outputs": [
    {
     "name": "stdout",
     "output_type": "stream",
     "text": [
      "3\n"
     ]
    }
   ],
   "source": [
    "print(len(my_soft6))"
   ]
  },
  {
   "cell_type": "markdown",
   "id": "4f0a78fc",
   "metadata": {},
   "source": [
    "__contains__ dunder method"
   ]
  },
  {
   "cell_type": "markdown",
   "id": "cd378ba3",
   "metadata": {},
   "source": [
    "- __contains__ method is used when using the 'in' operator, the return value has to be boolean"
   ]
  },
  {
   "cell_type": "code",
   "execution_count": 78,
   "id": "ec298a3f",
   "metadata": {},
   "outputs": [],
   "source": [
    "class soft7:\n",
    "    names = []\n",
    "    versions = {}\n",
    "    \n",
    "    def __init__(self,names):\n",
    "        if names:\n",
    "            self.names = names.copy()\n",
    "            for name in names:\n",
    "                self.versions[name] = 1\n",
    "        else:\n",
    "            raise Exception(\"Please Enter the names\")\n",
    "            \n",
    "    def __str__(self):\n",
    "        s =\"The current softwares and their versions are listed below: \\n\"\n",
    "        for key,value in self.versions.items():\n",
    "            s+= f\"{key} : v{value} \\n\"\n",
    "        return s\n",
    "    \n",
    "    def __contains__(self, name):\n",
    "        if name in self.versions:\n",
    "            return True\n",
    "        else:\n",
    "            return False"
   ]
  },
  {
   "cell_type": "code",
   "execution_count": 79,
   "id": "46b191a9",
   "metadata": {},
   "outputs": [],
   "source": [
    "my_soft7 = soft7(['S1', 'S2', 'S3'])"
   ]
  },
  {
   "cell_type": "code",
   "execution_count": 80,
   "id": "7c981662",
   "metadata": {},
   "outputs": [
    {
     "data": {
      "text/plain": [
       "True"
      ]
     },
     "execution_count": 80,
     "metadata": {},
     "output_type": "execute_result"
    }
   ],
   "source": [
    "'S3' in my_soft7"
   ]
  },
  {
   "cell_type": "code",
   "execution_count": 81,
   "id": "7f61cb47",
   "metadata": {},
   "outputs": [
    {
     "data": {
      "text/plain": [
       "False"
      ]
     },
     "execution_count": 81,
     "metadata": {},
     "output_type": "execute_result"
    }
   ],
   "source": [
    "'S4' in my_soft7"
   ]
  },
  {
   "cell_type": "markdown",
   "id": "a24f598f",
   "metadata": {},
   "source": [
    "__add__ dunder method"
   ]
  },
  {
   "cell_type": "markdown",
   "id": "a9e869c7",
   "metadata": {},
   "source": [
    "- __add__ method is used when calling '+' operator"
   ]
  },
  {
   "cell_type": "code",
   "execution_count": 88,
   "id": "2770fdb5",
   "metadata": {},
   "outputs": [],
   "source": [
    "class point:\n",
    "    x = None\n",
    "    y = None\n",
    "    \n",
    "    def __init__(self, x, y):\n",
    "        self.x = x\n",
    "        self.y = y\n",
    "    \n",
    "    def __str__(self):\n",
    "        s = f'({self.x}, {self.y})'\n",
    "        return s\n",
    "    \n",
    "    def __add__(self, p2):\n",
    "        x = self.x + p2.x\n",
    "        y = self.y + p2.y\n",
    "        return point(x, y)"
   ]
  },
  {
   "cell_type": "code",
   "execution_count": 89,
   "id": "9aa830bb",
   "metadata": {},
   "outputs": [],
   "source": [
    "p1 = point(5, 4)"
   ]
  },
  {
   "cell_type": "code",
   "execution_count": 90,
   "id": "b7b33f91",
   "metadata": {},
   "outputs": [],
   "source": [
    "p2 = point(2, 3)"
   ]
  },
  {
   "cell_type": "code",
   "execution_count": 92,
   "id": "c21c1ade",
   "metadata": {},
   "outputs": [
    {
     "name": "stdout",
     "output_type": "stream",
     "text": [
      "(7, 7)\n"
     ]
    }
   ],
   "source": [
    "print(p1 + p2)"
   ]
  },
  {
   "cell_type": "markdown",
   "id": "58c7d517",
   "metadata": {},
   "source": [
    "__iadd__ dunder method"
   ]
  },
  {
   "cell_type": "markdown",
   "id": "784573be",
   "metadata": {},
   "source": [
    "- __iadd__ method is used when calling '+=' operator "
   ]
  },
  {
   "cell_type": "code",
   "execution_count": 93,
   "id": "e7521c7b",
   "metadata": {},
   "outputs": [],
   "source": [
    "class point2:\n",
    "    x = None\n",
    "    y = None\n",
    "    \n",
    "    def __init__(self, x, y):\n",
    "        self.x = x\n",
    "        self.y = y\n",
    "    \n",
    "    def __str__(self):\n",
    "        s = f'({self.x}, {self.y})'\n",
    "        return s\n",
    "    \n",
    "    def __iadd__(self, p2):\n",
    "        self.x += p2.x\n",
    "        self.y += p2.y\n",
    "        return self"
   ]
  },
  {
   "cell_type": "code",
   "execution_count": 99,
   "id": "318906af",
   "metadata": {},
   "outputs": [],
   "source": [
    "p21 = point2(5, 4)\n",
    "p22 = point2(2, 3)"
   ]
  },
  {
   "cell_type": "code",
   "execution_count": 100,
   "id": "3b4fff61",
   "metadata": {},
   "outputs": [],
   "source": [
    "p21 += p21"
   ]
  },
  {
   "cell_type": "code",
   "execution_count": 101,
   "id": "2f974935",
   "metadata": {},
   "outputs": [
    {
     "name": "stdout",
     "output_type": "stream",
     "text": [
      "(10, 8)\n"
     ]
    }
   ],
   "source": [
    "print(p21)"
   ]
  },
  {
   "cell_type": "markdown",
   "id": "91d83caa",
   "metadata": {},
   "source": [
    "OTHER DUNDER METHODS FOR MATHEMATICAL OPERATIONS"
   ]
  },
  {
   "cell_type": "markdown",
   "id": "b287734b",
   "metadata": {},
   "source": [
    "__sub__(self,p2) ( - )\n",
    "__isub__(self,p2) ( -= )\n",
    "__mul__(self,p2) ( * )\n",
    "__imul__(self,p2) ( *= )\n",
    "__truediv__(self,p2)( \\ )\n",
    "__itruediv__(self,p2) ( \\= )\n",
    "__floordiv__(self,p2) ( \\\\ )\n",
    "__ifloordiv__(self,p2) ( \\\\= )"
   ]
  },
  {
   "cell_type": "markdown",
   "id": "cd46b3d9",
   "metadata": {},
   "source": [
    "__call__ dunder method"
   ]
  },
  {
   "cell_type": "markdown",
   "id": "8fd21861",
   "metadata": {},
   "source": [
    "- when invoking a function like func(), we are invoking the call method\n",
    "- if we put a call method for our class, we do the following my_class(), my_other_class()"
   ]
  },
  {
   "cell_type": "code",
   "execution_count": 103,
   "id": "658c79d0",
   "metadata": {},
   "outputs": [],
   "source": [
    "class point3:\n",
    "    x = None\n",
    "    y = None\n",
    "    \n",
    "    def __init__(self, x, y):\n",
    "        self.x = x\n",
    "        self.y = y\n",
    "    \n",
    "    def __str__(self):\n",
    "        s = f'({self.x}, {self.y})'\n",
    "        return s\n",
    "    \n",
    "    def __call__(self):\n",
    "        print(f'Called Point {self.x}, {self.y}')"
   ]
  },
  {
   "cell_type": "code",
   "execution_count": 104,
   "id": "ab6cacb3",
   "metadata": {},
   "outputs": [
    {
     "name": "stdout",
     "output_type": "stream",
     "text": [
      "Called Point 1, 2\n"
     ]
    }
   ],
   "source": [
    "point3(1,2)()"
   ]
  },
  {
   "cell_type": "code",
   "execution_count": 105,
   "id": "4ad611ac",
   "metadata": {},
   "outputs": [],
   "source": [
    "p3 = point3(54,34)"
   ]
  },
  {
   "cell_type": "code",
   "execution_count": 106,
   "id": "488e2c73",
   "metadata": {},
   "outputs": [
    {
     "name": "stdout",
     "output_type": "stream",
     "text": [
      "Called Point 54, 34\n"
     ]
    }
   ],
   "source": [
    "p3()"
   ]
  },
  {
   "cell_type": "markdown",
   "id": "97add582",
   "metadata": {},
   "source": [
    "__bool__ dunder method"
   ]
  },
  {
   "cell_type": "markdown",
   "id": "92cec178",
   "metadata": {},
   "source": [
    "- this method returns a True or False value from an object when bool() function is called upon the object"
   ]
  },
  {
   "cell_type": "code",
   "execution_count": 116,
   "id": "348716c5",
   "metadata": {},
   "outputs": [],
   "source": [
    "class Person:\n",
    "    def __init__(self, name, age):\n",
    "        self.name = name\n",
    "        self.age = age\n",
    "        \n",
    "    def __bool__(self):\n",
    "        if self.age < 0 or self.name == None:\n",
    "            return False\n",
    "        else:\n",
    "            return True"
   ]
  },
  {
   "cell_type": "code",
   "execution_count": 117,
   "id": "fe76761f",
   "metadata": {},
   "outputs": [],
   "source": [
    "p = Person('Jan', 18)"
   ]
  },
  {
   "cell_type": "code",
   "execution_count": 118,
   "id": "caaa21b6",
   "metadata": {},
   "outputs": [
    {
     "data": {
      "text/plain": [
       "True"
      ]
     },
     "execution_count": 118,
     "metadata": {},
     "output_type": "execute_result"
    }
   ],
   "source": [
    "bool(p)"
   ]
  },
  {
   "cell_type": "code",
   "execution_count": 119,
   "id": "bdbfd45c",
   "metadata": {},
   "outputs": [],
   "source": [
    "n = Person(None, 19)"
   ]
  },
  {
   "cell_type": "code",
   "execution_count": 120,
   "id": "4f75eba7",
   "metadata": {},
   "outputs": [
    {
     "data": {
      "text/plain": [
       "False"
      ]
     },
     "execution_count": 120,
     "metadata": {},
     "output_type": "execute_result"
    }
   ],
   "source": [
    "bool(n)"
   ]
  },
  {
   "cell_type": "code",
   "execution_count": 121,
   "id": "1b95019a",
   "metadata": {},
   "outputs": [
    {
     "data": {
      "text/plain": [
       "__main__.Person"
      ]
     },
     "execution_count": 121,
     "metadata": {},
     "output_type": "execute_result"
    }
   ],
   "source": [
    "n.__class__"
   ]
  },
  {
   "cell_type": "markdown",
   "id": "4e36ec19",
   "metadata": {},
   "source": [
    "__format__ dunder method"
   ]
  },
  {
   "cell_type": "markdown",
   "id": "103028ae",
   "metadata": {},
   "source": [
    "- this method allows you use built-in format function on the object"
   ]
  },
  {
   "cell_type": "code",
   "execution_count": null,
   "id": "b8bd9a94",
   "metadata": {},
   "outputs": [],
   "source": []
  },
  {
   "cell_type": "markdown",
   "id": "4f1e798a",
   "metadata": {},
   "source": [
    "DUNDER METHODS OFFICIAL DOCUMENTATION"
   ]
  },
  {
   "cell_type": "markdown",
   "id": "42281393",
   "metadata": {},
   "source": [
    "https://docs.python.org/3/reference/datamodel.html"
   ]
  },
  {
   "cell_type": "markdown",
   "id": "9274ec2f",
   "metadata": {},
   "source": [
    "CONTAINERS - WHAT ARE CONTAINERS?"
   ]
  },
  {
   "cell_type": "markdown",
   "id": "eb681b25",
   "metadata": {},
   "source": [
    "- containers are are objects which contain references to other objects\n",
    "- tuples, lists and dictionaries are containers\n",
    "- the references are part of a container's value\n",
    "- if immutable container (like a tuple) contains a reference to a mutable object, its value changes if that mutable object is changed\n",
    "- types affect almost all aspects of object behavior"
   ]
  },
  {
   "cell_type": "markdown",
   "id": "ad154c4b",
   "metadata": {},
   "source": [
    "OBJECT IDENTITY - WHAT IS OBJECT IDENTITY?"
   ]
  },
  {
   "cell_type": "markdown",
   "id": "973a7c09",
   "metadata": {},
   "source": [
    "- every object that is created is given a number that uniquely identifies it\n",
    "- it is guaranteed that no two objects will have the same identifier during any period in which their lifetimes overlap\n",
    "- once the object's reference count drops to zero and it is garbaged collected, then it's identifying number becomes avaiable and may be used again\n",
    "- object's identity never changes once it has been created; you may think about it as the object's address in memory"
   ]
  },
  {
   "cell_type": "markdown",
   "id": "f639c4d6",
   "metadata": {},
   "source": [
    "ID() - BUILT-IN FUNCTION RETURNING OBJECT'S IDENTITY NUMBER"
   ]
  },
  {
   "cell_type": "code",
   "execution_count": 107,
   "id": "423361e0",
   "metadata": {},
   "outputs": [],
   "source": [
    "lst = [1,2,3]"
   ]
  },
  {
   "cell_type": "code",
   "execution_count": 108,
   "id": "3f379f4c",
   "metadata": {},
   "outputs": [
    {
     "data": {
      "text/plain": [
       "1271283897472"
      ]
     },
     "execution_count": 108,
     "metadata": {},
     "output_type": "execute_result"
    }
   ],
   "source": [
    "id(lst)"
   ]
  },
  {
   "cell_type": "markdown",
   "id": "8e67326f",
   "metadata": {},
   "source": [
    "Using id() function you can check if two references point to the same object"
   ]
  },
  {
   "cell_type": "code",
   "execution_count": 109,
   "id": "ceae54af",
   "metadata": {},
   "outputs": [],
   "source": [
    "lst2 = lst"
   ]
  },
  {
   "cell_type": "code",
   "execution_count": 111,
   "id": "3a975708",
   "metadata": {},
   "outputs": [
    {
     "data": {
      "text/plain": [
       "1271283897472"
      ]
     },
     "execution_count": 111,
     "metadata": {},
     "output_type": "execute_result"
    }
   ],
   "source": [
    "id(lst2)"
   ]
  },
  {
   "cell_type": "markdown",
   "id": "4ee20c1e",
   "metadata": {},
   "source": [
    "c is a new reference and it references to a new object (which from the object perspective look the as lst and lst2). However when check c's identity, we can see that it's pointing to a different object."
   ]
  },
  {
   "cell_type": "code",
   "execution_count": 112,
   "id": "c61a4f7f",
   "metadata": {},
   "outputs": [],
   "source": [
    "c = [1,2,3]"
   ]
  },
  {
   "cell_type": "code",
   "execution_count": 113,
   "id": "757cc522",
   "metadata": {},
   "outputs": [
    {
     "data": {
      "text/plain": [
       "1271283940288"
      ]
     },
     "execution_count": 113,
     "metadata": {},
     "output_type": "execute_result"
    }
   ],
   "source": [
    "id(c)"
   ]
  },
  {
   "cell_type": "markdown",
   "id": "059d1ece",
   "metadata": {},
   "source": [
    "when we change the pointing of c to our first object (the one which lst and lst2 are pointing to), and check the identity of the newly pointed object, we can see that all references are pointing to the same object\n",
    "\n",
    "after c was reaasigned to a different object, our second object '1271283940288' is garbaded collected, because its reference count it zero"
   ]
  },
  {
   "cell_type": "code",
   "execution_count": 114,
   "id": "626d36e2",
   "metadata": {},
   "outputs": [],
   "source": [
    "c = lst2"
   ]
  },
  {
   "cell_type": "code",
   "execution_count": 115,
   "id": "ab93be26",
   "metadata": {},
   "outputs": [
    {
     "data": {
      "text/plain": [
       "1271283897472"
      ]
     },
     "execution_count": 115,
     "metadata": {},
     "output_type": "execute_result"
    }
   ],
   "source": [
    "id(c)"
   ]
  },
  {
   "cell_type": "markdown",
   "id": "4120b7c6",
   "metadata": {},
   "source": [
    "NONE OBJECT"
   ]
  },
  {
   "cell_type": "code",
   "execution_count": null,
   "id": "b4b7c3fc",
   "metadata": {},
   "outputs": [],
   "source": [
    "None"
   ]
  },
  {
   "cell_type": "markdown",
   "id": "ead3113f",
   "metadata": {},
   "source": [
    "- its a singleton (this type has a single value and there is a single object with this value)\n",
    "- the object is accessed throught the built-in name 'None'\n",
    "- it is used to signify the absence of a value in many situations (eg. it is returned from functions that don't explicitly return anything)\n",
    "- its truth value is False"
   ]
  },
  {
   "cell_type": "markdown",
   "id": "5e137b8d",
   "metadata": {},
   "source": [
    "COMMAND LINE -M ARGUMENT"
   ]
  },
  {
   "cell_type": "code",
   "execution_count": null,
   "id": "2c6b80de",
   "metadata": {},
   "outputs": [],
   "source": [
    "python -m module-name"
   ]
  },
  {
   "cell_type": "markdown",
   "id": "3b6d9323",
   "metadata": {},
   "source": [
    "- the given module is located on the Python module path and executed as a script"
   ]
  },
  {
   "cell_type": "markdown",
   "id": "89db53b9",
   "metadata": {},
   "source": [
    "PyPI - Python Package Index"
   ]
  },
  {
   "cell_type": "markdown",
   "id": "302ca3cd",
   "metadata": {},
   "source": [
    "- also known as Cheese Shop\n",
    "- official third-party repository for Python libraries\n",
    "- it's run by Python Software Foundation, a charity\n",
    "- some package managers like pip use PyPI as the default source for packages and their dependencies\n",
    "- more than 350k Python packages can be accesssed through PyPI\n",
    "- PyPI primarily hosts Python packages in the form of archives called sdists (source distributions) or precompiled 'wheels'\n",
    "- PyPL as an index allows users to search for packages by keywords or by filters against their metadata"
   ]
  },
  {
   "cell_type": "markdown",
   "id": "0dfe248f",
   "metadata": {},
   "source": [
    "LINTERS"
   ]
  },
  {
   "cell_type": "markdown",
   "id": "2368e3e7",
   "metadata": {},
   "source": [
    "- static code analysis tool used to flag programming errors, bugs, stylistic errors or suspicious constructs\n",
    "- lint-like tools are especially useful for dynamically types languages like Python\n",
    "- linters are usually embedded by IDE like PyCharm"
   ]
  },
  {
   "cell_type": "markdown",
   "id": "fda39463",
   "metadata": {},
   "source": [
    "flake8 - PYTHON LINTER"
   ]
  },
  {
   "cell_type": "markdown",
   "id": "21e5d819",
   "metadata": {},
   "source": [
    "- comments the style of the code in relation to PEP 8"
   ]
  },
  {
   "cell_type": "code",
   "execution_count": null,
   "id": "2fe38269",
   "metadata": {},
   "outputs": [],
   "source": [
    "flake8 test.py"
   ]
  },
  {
   "cell_type": "markdown",
   "id": "17a2e5c9",
   "metadata": {},
   "source": [
    "__pycache__ FOLDER"
   ]
  },
  {
   "cell_type": "markdown",
   "id": "32ecc8bf",
   "metadata": {},
   "source": [
    "- this is a folder where compiled files of your application live\n",
    "- this is created automatically when you run your script for the first time\n",
    "- this folder stores .pyc (bytecode compiled) and .pyo (optimized bytecode compiled) files\n",
    "- as a programmer you largely ignore it\n",
    "- these files should not be shared with other programmers, and should not be upload into git\n",
    "- git automatically ignores these files"
   ]
  },
  {
   "cell_type": "code",
   "execution_count": null,
   "id": "2989aec9",
   "metadata": {},
   "outputs": [],
   "source": [
    "python -B foo.py # use this parameter to supress creation of these files"
   ]
  },
  {
   "cell_type": "markdown",
   "id": "add2479e",
   "metadata": {},
   "source": [
    "- suppression can also be activated by setting PYTHONDONTWRITEBYTECODE Python env variable to any 'non-empty' string"
   ]
  },
  {
   "cell_type": "markdown",
   "id": "05776a8c",
   "metadata": {},
   "source": [
    "https://stackoverflow.com/questions/16869024/what-is-pycache"
   ]
  },
  {
   "cell_type": "markdown",
   "id": "5c6d48f8",
   "metadata": {},
   "source": [
    "PyPy"
   ]
  },
  {
   "cell_type": "markdown",
   "id": "e1fca9d8",
   "metadata": {},
   "source": [
    "- PyPy is an implementation of the Python programming language\n",
    "- PyPy often runs faster than the standard implementation CPython because PyPy uses a just-in-time compiler\n",
    "- Most Python code runs well on PyPy except for code that depends on CPython extensions"
   ]
  },
  {
   "cell_type": "markdown",
   "id": "3983c7d7",
   "metadata": {},
   "source": [
    "BUILT-IN EXCEPTIONS"
   ]
  },
  {
   "cell_type": "markdown",
   "id": "8467bef4",
   "metadata": {},
   "source": [
    "- all exceptions must be instances of a class that derives from BaseException\n",
    "- in a try statement with an except clause that mentions a particular class, that clause also handles any exception classes derived from that class (but not exception classes from which it is derived)\n",
    "- the built-in exceptions listed below can be generated by the interpreter or built-in functions\n",
    "- exceptions have an \"associated value\" indicating the detailed cause of the error\n",
    "- this 'associated value' may be a string or a tuple of several items of information (eg. error code and a string explaining the code)\n",
    "- the associated value is usually passed as arguments to the exception class' constructor"
   ]
  },
  {
   "cell_type": "markdown",
   "id": "c17208e8",
   "metadata": {},
   "source": [
    "USER-DEFINED EXCEPTIONS"
   ]
  },
  {
   "cell_type": "markdown",
   "id": "a2e46a00",
   "metadata": {},
   "source": [
    "- user code can raise built-in exceptions\n",
    "- this can be used to test an exception handler or to report an error condition 'just like' the situation the situation in which the interpreter raises the same exception\n",
    "- beware that there is nothing to prevent user to raise inappropriate error\n",
    "- the built-in exception classes can be subclassed to define new exceptions\n",
    "- programmers are encouraged to derive new exceptions from the Exception class or or one of its subclasses, and not from BaseException"
   ]
  },
  {
   "cell_type": "markdown",
   "id": "218122ad",
   "metadata": {},
   "source": [
    "CATCHING EXCEPTIONS AND SAVING THEM IN A VARIABLE"
   ]
  },
  {
   "cell_type": "code",
   "execution_count": 7,
   "id": "a8ca9934",
   "metadata": {},
   "outputs": [
    {
     "name": "stdout",
     "output_type": "stream",
     "text": [
      "name 'fake_function' is not defined\n",
      "NameError(\"name 'fake_function' is not defined\")\n",
      "name 'fake_function' is not defined\n"
     ]
    }
   ],
   "source": [
    "try:\n",
    "    fake_function()\n",
    "except Exception as e:\n",
    "    print(str(e))\n",
    "    print(repr(e))\n",
    "    my_exception = e\n",
    "\n",
    "print(my_exception)"
   ]
  },
  {
   "cell_type": "markdown",
   "id": "d3b226bb",
   "metadata": {},
   "source": [
    "https://stackoverflow.com/questions/4308182/getting-the-exception-value-in-python"
   ]
  },
  {
   "cell_type": "markdown",
   "id": "73c17c98",
   "metadata": {},
   "source": [
    "sys MODULE - INTERPRETER MODULE"
   ]
  },
  {
   "cell_type": "code",
   "execution_count": 8,
   "id": "c71f05c8",
   "metadata": {},
   "outputs": [],
   "source": [
    "import sys"
   ]
  },
  {
   "cell_type": "markdown",
   "id": "117f53c7",
   "metadata": {},
   "source": [
    "- sys module IS NOT operating system (Windows, unix) module, sys module is Python interpreter module (command line Python), it gives the user power to control interpreter functions programatically"
   ]
  },
  {
   "cell_type": "code",
   "execution_count": null,
   "id": "c771f40f",
   "metadata": {},
   "outputs": [],
   "source": [
    "sys.exit()"
   ]
  },
  {
   "cell_type": "markdown",
   "id": "2606eec3",
   "metadata": {},
   "source": [
    "- closing the interpreter (if executed from the main thread and not caught in the try statement)\n",
    "- in fact, it 'only' raises SystemExit exception, signalling to exit the interpreter\n",
    "- the optional argument arg ca be an integer giving the exit status (defaulting to zero), or another type of object\n",
    "- if arg == 0, it is considered \"succesful termination\"\n",
    "- since exit() ultimately 'only' raises and exception, it will only exit the process when called called from the main thread, and the exception is not intercepted. Cleanup actions specified by finally clauses of try statements are honored, and it is possible to intercept the exit attempt at an outer level"
   ]
  },
  {
   "cell_type": "code",
   "execution_count": 9,
   "id": "8d1c19c1",
   "metadata": {},
   "outputs": [
    {
     "data": {
      "text/plain": [
       "['C:\\\\Users\\\\Bartosz\\\\anaconda3\\\\lib\\\\site-packages\\\\ipykernel_launcher.py',\n",
       " '-f',\n",
       " 'C:\\\\Users\\\\Bartosz\\\\AppData\\\\Roaming\\\\jupyter\\\\runtime\\\\kernel-e095c061-6eaf-45fa-b5c3-b3d2ea82e931.json']"
      ]
     },
     "execution_count": 9,
     "metadata": {},
     "output_type": "execute_result"
    }
   ],
   "source": [
    "sys.argv"
   ]
  },
  {
   "cell_type": "markdown",
   "id": "58c01e03",
   "metadata": {},
   "source": [
    "- list of command line arguments passed to a Python script"
   ]
  },
  {
   "cell_type": "code",
   "execution_count": 10,
   "id": "2efcf607",
   "metadata": {},
   "outputs": [
    {
     "data": {
      "text/plain": [
       "'C:\\\\Users\\\\Bartosz\\\\anaconda3\\\\python.exe'"
      ]
     },
     "execution_count": 10,
     "metadata": {},
     "output_type": "execute_result"
    }
   ],
   "source": [
    "sys.executable"
   ]
  },
  {
   "cell_type": "markdown",
   "id": "85aa3d32",
   "metadata": {},
   "source": [
    "- gives the absolute path of the executable binary for the Python interpreter"
   ]
  },
  {
   "cell_type": "markdown",
   "id": "cd064ae2",
   "metadata": {},
   "source": [
    "__future__ module"
   ]
  },
  {
   "cell_type": "code",
   "execution_count": 12,
   "id": "adce18af",
   "metadata": {},
   "outputs": [],
   "source": [
    "from __future__ import division"
   ]
  },
  {
   "cell_type": "markdown",
   "id": "8cd29ae9",
   "metadata": {},
   "source": [
    "- this module is used is used in Python 2, in order to use objects/functions/modules available in Python 3"
   ]
  },
  {
   "cell_type": "markdown",
   "id": "7513a213",
   "metadata": {},
   "source": [
    "TWO PRINT STATEMENTS ON THE SAME LINE"
   ]
  },
  {
   "cell_type": "code",
   "execution_count": 14,
   "id": "b52d5e92",
   "metadata": {},
   "outputs": [
    {
     "name": "stdout",
     "output_type": "stream",
     "text": [
      "some text, print more text on the same line\n"
     ]
    }
   ],
   "source": [
    "print(\"some text,\", end=\"\")\n",
    "print(' print more text on the same line')"
   ]
  },
  {
   "cell_type": "markdown",
   "id": "d4346e2f",
   "metadata": {},
   "source": [
    "PRINT 'end' PARAMETER"
   ]
  },
  {
   "cell_type": "markdown",
   "id": "9eaff193",
   "metadata": {},
   "source": [
    "- by default 'end=' parameter is equal to /n (new line), therefore, Python will input a new after each print\n",
    "- however this parameter can be anything, for example '!'"
   ]
  },
  {
   "cell_type": "code",
   "execution_count": 15,
   "id": "f6320626",
   "metadata": {},
   "outputs": [
    {
     "name": "stdout",
     "output_type": "stream",
     "text": [
      "hello !there\n"
     ]
    }
   ],
   "source": [
    "print('hello ', end='!')\n",
    "print('there')"
   ]
  },
  {
   "cell_type": "markdown",
   "id": "a52d4b9d",
   "metadata": {},
   "source": [
    "- no new line was created after hello, instead '!' was input"
   ]
  },
  {
   "cell_type": "markdown",
   "id": "89387c38",
   "metadata": {},
   "source": [
    "PRINT 'sep' PARAMETER"
   ]
  },
  {
   "cell_type": "markdown",
   "id": "d031d609",
   "metadata": {},
   "source": [
    "- by default, sep parameter is ' ', a white space"
   ]
  },
  {
   "cell_type": "code",
   "execution_count": 17,
   "id": "be6011f2",
   "metadata": {},
   "outputs": [
    {
     "name": "stdout",
     "output_type": "stream",
     "text": [
      "jan.kowalski@yahoo.com\n"
     ]
    }
   ],
   "source": [
    "print('jan.kowalski', 'yahoo.com', sep='@')"
   ]
  },
  {
   "cell_type": "markdown",
   "id": "3c6d37b5",
   "metadata": {},
   "source": [
    "FLOOR DIVISION"
   ]
  },
  {
   "cell_type": "markdown",
   "id": "ee2aef97",
   "metadata": {},
   "source": [
    "- floor division divides the first number by the second number and rounds the result down to the nearest integer "
   ]
  },
  {
   "cell_type": "code",
   "execution_count": 23,
   "id": "8cedf746",
   "metadata": {},
   "outputs": [
    {
     "data": {
      "text/plain": [
       "1.5"
      ]
     },
     "execution_count": 23,
     "metadata": {},
     "output_type": "execute_result"
    }
   ],
   "source": [
    "3 / 2"
   ]
  },
  {
   "cell_type": "code",
   "execution_count": 24,
   "id": "d3e1159d",
   "metadata": {},
   "outputs": [
    {
     "data": {
      "text/plain": [
       "1"
      ]
     },
     "execution_count": 24,
     "metadata": {},
     "output_type": "execute_result"
    }
   ],
   "source": [
    "3 // 2"
   ]
  },
  {
   "cell_type": "code",
   "execution_count": 25,
   "id": "8ba98d33",
   "metadata": {},
   "outputs": [
    {
     "data": {
      "text/plain": [
       "1.5"
      ]
     },
     "execution_count": 25,
     "metadata": {},
     "output_type": "execute_result"
    }
   ],
   "source": [
    "3 / 2.0"
   ]
  },
  {
   "cell_type": "code",
   "execution_count": 26,
   "id": "c7cb61d3",
   "metadata": {},
   "outputs": [
    {
     "data": {
      "text/plain": [
       "1.0"
      ]
     },
     "execution_count": 26,
     "metadata": {},
     "output_type": "execute_result"
    }
   ],
   "source": [
    "3 // 2.0"
   ]
  },
  {
   "cell_type": "markdown",
   "id": "a876c1bd",
   "metadata": {},
   "source": [
    "TRUE DIVISION"
   ]
  },
  {
   "cell_type": "markdown",
   "id": "c55f6d8f",
   "metadata": {},
   "source": [
    "- single slash operator does true division for all types including integers"
   ]
  },
  {
   "cell_type": "code",
   "execution_count": 28,
   "id": "5a90a372",
   "metadata": {},
   "outputs": [
    {
     "data": {
      "text/plain": [
       "1.5"
      ]
     },
     "execution_count": 28,
     "metadata": {},
     "output_type": "execute_result"
    }
   ],
   "source": [
    "3 / 2"
   ]
  },
  {
   "cell_type": "markdown",
   "id": "c534e440",
   "metadata": {},
   "source": [
    "BACKWARDS COMPATIBLE DIVISION"
   ]
  },
  {
   "cell_type": "code",
   "execution_count": 29,
   "id": "a1abb9fb",
   "metadata": {},
   "outputs": [
    {
     "data": {
      "text/plain": [
       "1.5"
      ]
     },
     "execution_count": 29,
     "metadata": {},
     "output_type": "execute_result"
    }
   ],
   "source": [
    "float(3)/2"
   ]
  },
  {
   "cell_type": "code",
   "execution_count": 30,
   "id": "ced67f33",
   "metadata": {},
   "outputs": [
    {
     "data": {
      "text/plain": [
       "1.5"
      ]
     },
     "execution_count": 30,
     "metadata": {},
     "output_type": "execute_result"
    }
   ],
   "source": [
    "3.0/2"
   ]
  },
  {
   "cell_type": "markdown",
   "id": "5e301340",
   "metadata": {},
   "source": [
    "INTERNAL WORKINGS OF PYTHON"
   ]
  },
  {
   "cell_type": "markdown",
   "id": "260ff160",
   "metadata": {},
   "source": [
    "- Python doesn't convert into machine code, it converts into bytecode (which can't be understood by CPU)\n",
    "- Python compiles into byte cod (.pyc or .pyo)"
   ]
  },
  {
   "cell_type": "markdown",
   "id": "9c1fa05d",
   "metadata": {},
   "source": [
    "BYTE"
   ]
  },
  {
   "cell_type": "markdown",
   "id": "ca155ed1",
   "metadata": {},
   "source": [
    "- byte - is a unit of digital information that most commonly constists of eight bits (0 to 7 index)\n",
    "- historically byte was the number of of bits used to encode a single character of text in a computer, and for this reason it is the smallest addressable unit of memory in many computer architectures"
   ]
  },
  {
   "cell_type": "markdown",
   "id": "ae3b4f3a",
   "metadata": {},
   "source": [
    "PYTHON VIRTUAL MACHINE"
   ]
  },
  {
   "cell_type": "markdown",
   "id": "87bbfe00",
   "metadata": {},
   "source": [
    "- Python Virtual Machine is Python's Interpreter - it translates ByteCode into Machine Cody/Binary Code\n",
    "- After translation, the code is sent to CPU for execution\n",
    "- PVM is platform dependent (different for different machines)\n",
    "- CPython uses stack-based virtual machine (it's oriented entirely around stack data structures), where you can push an item onto the top of the structure, or pop an item off the top"
   ]
  },
  {
   "cell_type": "markdown",
   "id": "bd55c939",
   "metadata": {},
   "source": [
    "ADVANCED\n",
    "https://leanpub.com/insidethepythonvirtualmachine/read\n",
    "https://www.youtube.com/watch?v=cSSpnq362Bk"
   ]
  },
  {
   "cell_type": "markdown",
   "id": "e92f3333",
   "metadata": {},
   "source": [
    "BYTECODE"
   ]
  },
  {
   "cell_type": "markdown",
   "id": "77fec11b",
   "metadata": {},
   "source": [
    "- bytecode is a set of instructions for a Python Virtual Machine, compiled from .py source code\n",
    "- it's intermediate step between python code and machine code\n",
    "- unlike human readable source code, bytecodes are compact numeric codes, constants, and references (normally numeric addresses) that encode the result of compiler parsing and performing semantic analysis of things like type, scope, and nesting depths of program objects\n",
    "\n",
    "- from low level to high level, machine code -> byte code -> source code (Python)"
   ]
  },
  {
   "cell_type": "markdown",
   "id": "26151217",
   "metadata": {},
   "source": [
    "HUMAN READABLE BYTECODE"
   ]
  },
  {
   "cell_type": "code",
   "execution_count": null,
   "id": "5cc28b7c",
   "metadata": {},
   "outputs": [],
   "source": [
    "2           0 LOAD_GLOBAL              0 (print)\n",
    "            2 LOAD_CONST               1 ('Hello, World!')\n",
    "            4 CALL_FUNCTION            1"
   ]
  },
  {
   "cell_type": "markdown",
   "id": "eb0e76ed",
   "metadata": {},
   "source": [
    "dis MODULE"
   ]
  },
  {
   "cell_type": "markdown",
   "id": "12432a3d",
   "metadata": {},
   "source": [
    "- dis module provides a human readable version of bytecode instructions\n",
    "- dis from disassemble"
   ]
  },
  {
   "cell_type": "code",
   "execution_count": 58,
   "id": "75f8af16",
   "metadata": {},
   "outputs": [
    {
     "name": "stdout",
     "output_type": "stream",
     "text": [
      "  1           0 LOAD_NAME                0 (hello)\n",
      "              2 RETURN_VALUE\n"
     ]
    }
   ],
   "source": [
    "import dis\n",
    "dis.dis('hello')"
   ]
  },
  {
   "cell_type": "code",
   "execution_count": 59,
   "id": "e4fa103d",
   "metadata": {},
   "outputs": [
    {
     "name": "stdout",
     "output_type": "stream",
     "text": [
      "hello\n",
      "  2 -->       0 LOAD_NAME                0 (did)\n",
      "              2 LOAD_METHOD              1 (dis)\n",
      "              4 LOAD_CONST               0 ('hello')\n",
      "              6 CALL_METHOD              1\n",
      "              8 PRINT_EXPR\n",
      "             10 LOAD_CONST               1 (None)\n",
      "             12 RETURN_VALUE\n"
     ]
    }
   ],
   "source": [
    "dis.dis(print('hello'))"
   ]
  },
  {
   "cell_type": "code",
   "execution_count": 60,
   "id": "84928730",
   "metadata": {},
   "outputs": [
    {
     "name": "stdout",
     "output_type": "stream",
     "text": [
      "  1           0 LOAD_CONST               0 (0)\n",
      "              2 LOAD_CONST               1 (None)\n",
      "              4 IMPORT_NAME              0 (numpy)\n",
      "              6 STORE_NAME               0 (numpy)\n",
      "              8 LOAD_CONST               1 (None)\n",
      "             10 RETURN_VALUE\n"
     ]
    }
   ],
   "source": [
    "\n",
    "dis.dis('import numpy')"
   ]
  },
  {
   "cell_type": "code",
   "execution_count": 70,
   "id": "87a2b1fc",
   "metadata": {},
   "outputs": [
    {
     "name": "stdout",
     "output_type": "stream",
     "text": [
      "  2           0 LOAD_CONST               1 ('yo')\n",
      "              2 STORE_FAST               0 (a)\n",
      "\n",
      "  3           4 LOAD_GLOBAL              0 (print)\n",
      "              6 LOAD_CONST               2 ('Hello, world!')\n",
      "              8 CALL_FUNCTION            1\n",
      "             10 POP_TOP\n",
      "             12 LOAD_CONST               0 (None)\n",
      "             14 RETURN_VALUE\n"
     ]
    }
   ],
   "source": [
    "def hello_func():\n",
    "    a = \"yo\"\n",
    "    print('Hello, world!')\n",
    "\n",
    "dis.dis(hello_func)"
   ]
  },
  {
   "cell_type": "code",
   "execution_count": 72,
   "id": "ff367fdd",
   "metadata": {},
   "outputs": [
    {
     "name": "stdout",
     "output_type": "stream",
     "text": [
      "<code object hello_func at 0x000001F0A205C5B0, file \"C:\\Users\\Bartosz\\AppData\\Local\\Temp\\ipykernel_3152\\1570102120.py\", line 1>\n",
      "(None, 'yo', 'Hello, world!')\n",
      "('a',)\n",
      "('print',)\n"
     ]
    }
   ],
   "source": [
    "print(hello_func.__code__)\n",
    "print(hello_func.__code__.co_consts)\n",
    "print(hello_func.__code__.co_varnames)\n",
    "print(hello_func.__code__.co_names)"
   ]
  },
  {
   "cell_type": "code",
   "execution_count": 73,
   "id": "2f8254ee",
   "metadata": {},
   "outputs": [
    {
     "name": "stdout",
     "output_type": "stream",
     "text": [
      "b'd\\x01}\\x00t\\x00d\\x02\\x83\\x01\\x01\\x00d\\x00S\\x00'\n"
     ]
    }
   ],
   "source": [
    "print(hello_func.__code__.co_code)"
   ]
  },
  {
   "cell_type": "code",
   "execution_count": 74,
   "id": "d380f6c2",
   "metadata": {},
   "outputs": [
    {
     "name": "stdout",
     "output_type": "stream",
     "text": [
      "  1           0 BUILD_MAP                0\n",
      "              2 RETURN_VALUE\n",
      "None\n"
     ]
    }
   ],
   "source": [
    "print(dis.dis('{}'))"
   ]
  },
  {
   "cell_type": "code",
   "execution_count": 75,
   "id": "8db5ee9e",
   "metadata": {},
   "outputs": [
    {
     "name": "stdout",
     "output_type": "stream",
     "text": [
      "  1           0 LOAD_NAME                0 (dict)\n",
      "              2 CALL_FUNCTION            0\n",
      "              4 RETURN_VALUE\n",
      "None\n"
     ]
    }
   ],
   "source": [
    "print(dis.dis(\"dict()\"))"
   ]
  },
  {
   "cell_type": "markdown",
   "id": "02782845",
   "metadata": {},
   "source": [
    "https://opensource.com/article/18/4/introduction-python-bytecode"
   ]
  },
  {
   "cell_type": "markdown",
   "id": "e5982688",
   "metadata": {},
   "source": [
    "BYTE AND BYTEARRAY TYPES"
   ]
  },
  {
   "cell_type": "markdown",
   "id": "18e36167",
   "metadata": {},
   "source": [
    "- both 'bytes' class and 'bytearray' class hold arrays of bytes, where each byte can take on a value between 0 and 255\n",
    "- the primary difference is that a bytes object is immutable, meaning that once created, you cannot modify its elements\n",
    "- bytearray allows you to modify its elements, its mutable\n",
    "- both bytes and bytearray provide functions to encode and decode strings\n",
    "- two hexadecimal digits correspond precisely to a single byte \\x00 to \\xff"
   ]
  },
  {
   "cell_type": "markdown",
   "id": "9f64304c",
   "metadata": {},
   "source": [
    "BYTES LITERALS"
   ]
  },
  {
   "cell_type": "code",
   "execution_count": null,
   "id": "62bf0ad0",
   "metadata": {},
   "outputs": [],
   "source": [
    "my_bytes_literal = b'...'"
   ]
  },
  {
   "cell_type": "markdown",
   "id": "7e957a71",
   "metadata": {},
   "source": [
    "- sequence of octets(integers between 0 and 255) [while a string literal is a sequence of Unicode characters]"
   ]
  },
  {
   "cell_type": "markdown",
   "id": "3e539d88",
   "metadata": {},
   "source": [
    "The b'...' notation is somewhat confusing in that it allows the bytes 0x01-0x7F to be specified with ASCII characters instead of hex numbers."
   ]
  },
  {
   "cell_type": "code",
   "execution_count": null,
   "id": "9af3a7bb",
   "metadata": {},
   "outputs": [],
   "source": [
    ">>> b'A' == b'\\x41'\n",
    "True"
   ]
  },
  {
   "cell_type": "code",
   "execution_count": null,
   "id": "c2558fe7",
   "metadata": {},
   "outputs": [],
   "source": [
    "However, a character is not a byte"
   ]
  },
  {
   "cell_type": "code",
   "execution_count": null,
   "id": "7c414942",
   "metadata": {},
   "outputs": [],
   "source": [
    ">>> 'A' == b'A'\n",
    "False"
   ]
  },
  {
   "cell_type": "code",
   "execution_count": null,
   "id": "802fa27c",
   "metadata": {},
   "outputs": [],
   "source": [
    "CREATING A BYTES LITERAL (LIST OF ZEROS)"
   ]
  },
  {
   "cell_type": "code",
   "execution_count": 36,
   "id": "19525308",
   "metadata": {},
   "outputs": [
    {
     "data": {
      "text/plain": [
       "b'\\x00\\x00\\x00\\x00\\x00'"
      ]
     },
     "execution_count": 36,
     "metadata": {},
     "output_type": "execute_result"
    }
   ],
   "source": [
    "bytes(5)"
   ]
  },
  {
   "cell_type": "markdown",
   "id": "ac883b0e",
   "metadata": {},
   "source": [
    "CREATING A BYTES LITERAL BY PASSING A LIST OF NUMBERS FROM 0 TO 255"
   ]
  },
  {
   "cell_type": "code",
   "execution_count": 98,
   "id": "3af1d055",
   "metadata": {},
   "outputs": [
    {
     "data": {
      "text/plain": [
       "b'abcz'"
      ]
     },
     "execution_count": 98,
     "metadata": {},
     "output_type": "execute_result"
    }
   ],
   "source": [
    "bytes([97, 98, 99, 122])"
   ]
  },
  {
   "cell_type": "code",
   "execution_count": 95,
   "id": "94830cca",
   "metadata": {},
   "outputs": [
    {
     "ename": "ValueError",
     "evalue": "bytes must be in range(0, 256)",
     "output_type": "error",
     "traceback": [
      "\u001b[1;31m---------------------------------------------------------------------------\u001b[0m",
      "\u001b[1;31mValueError\u001b[0m                                Traceback (most recent call last)",
      "Input \u001b[1;32mIn [95]\u001b[0m, in \u001b[0;36m<cell line: 1>\u001b[1;34m()\u001b[0m\n\u001b[1;32m----> 1\u001b[0m \u001b[38;5;28;43mbytes\u001b[39;49m\u001b[43m(\u001b[49m\u001b[43m[\u001b[49m\u001b[38;5;241;43m256\u001b[39;49m\u001b[43m]\u001b[49m\u001b[43m)\u001b[49m\n",
      "\u001b[1;31mValueError\u001b[0m: bytes must be in range(0, 256)"
     ]
    }
   ],
   "source": [
    "bytes([256])"
   ]
  },
  {
   "cell_type": "markdown",
   "id": "ced73b26",
   "metadata": {},
   "source": [
    "FIRST 127 CHARACTERS ARE ASCII BASED, WE START WITH NUMBERS"
   ]
  },
  {
   "cell_type": "code",
   "execution_count": 40,
   "id": "c92a6601",
   "metadata": {},
   "outputs": [
    {
     "data": {
      "text/plain": [
       "b'\\x01'"
      ]
     },
     "execution_count": 40,
     "metadata": {},
     "output_type": "execute_result"
    }
   ],
   "source": [
    "bytes([1])"
   ]
  },
  {
   "cell_type": "code",
   "execution_count": 41,
   "id": "24852852",
   "metadata": {},
   "outputs": [
    {
     "data": {
      "text/plain": [
       "b'\\x05'"
      ]
     },
     "execution_count": 41,
     "metadata": {},
     "output_type": "execute_result"
    }
   ],
   "source": [
    "bytes([5])"
   ]
  },
  {
   "cell_type": "markdown",
   "id": "dac0f0eb",
   "metadata": {},
   "source": [
    "CHARACTERS FROM 96 TO 122 ARE ASCII LETTERS"
   ]
  },
  {
   "cell_type": "code",
   "execution_count": 99,
   "id": "b81de341",
   "metadata": {},
   "outputs": [
    {
     "data": {
      "text/plain": [
       "b'abcz'"
      ]
     },
     "execution_count": 99,
     "metadata": {},
     "output_type": "execute_result"
    }
   ],
   "source": [
    "bytes([97, 98, 99, 122])"
   ]
  },
  {
   "cell_type": "markdown",
   "id": "15944031",
   "metadata": {},
   "source": [
    "ITS ALSO POSSIBLE TO USE 'NORMAL' CHARACTERS BY SPECIFYING ENCODING"
   ]
  },
  {
   "cell_type": "code",
   "execution_count": 100,
   "id": "2b6059c3",
   "metadata": {},
   "outputs": [
    {
     "data": {
      "text/plain": [
       "b'tuv'"
      ]
     },
     "execution_count": 100,
     "metadata": {},
     "output_type": "execute_result"
    }
   ],
   "source": [
    "bytes('tuv', 'utf-8')"
   ]
  },
  {
   "cell_type": "code",
   "execution_count": 101,
   "id": "8ef32c34",
   "metadata": {},
   "outputs": [
    {
     "ename": "TypeError",
     "evalue": "string argument without an encoding",
     "output_type": "error",
     "traceback": [
      "\u001b[1;31m---------------------------------------------------------------------------\u001b[0m",
      "\u001b[1;31mTypeError\u001b[0m                                 Traceback (most recent call last)",
      "Input \u001b[1;32mIn [101]\u001b[0m, in \u001b[0;36m<cell line: 1>\u001b[1;34m()\u001b[0m\n\u001b[1;32m----> 1\u001b[0m \u001b[38;5;28;43mbytes\u001b[39;49m\u001b[43m(\u001b[49m\u001b[38;5;124;43m'\u001b[39;49m\u001b[38;5;124;43mtuv\u001b[39;49m\u001b[38;5;124;43m'\u001b[39;49m\u001b[43m)\u001b[49m\n",
      "\u001b[1;31mTypeError\u001b[0m: string argument without an encoding"
     ]
    }
   ],
   "source": [
    "bytes('tuv')"
   ]
  },
  {
   "cell_type": "code",
   "execution_count": 45,
   "id": "562c675e",
   "metadata": {},
   "outputs": [
    {
     "data": {
      "text/plain": [
       "b'tuv'"
      ]
     },
     "execution_count": 45,
     "metadata": {},
     "output_type": "execute_result"
    }
   ],
   "source": [
    "'tuv'.encode('utf-8')"
   ]
  },
  {
   "cell_type": "code",
   "execution_count": 46,
   "id": "fc43ab75",
   "metadata": {},
   "outputs": [
    {
     "data": {
      "text/plain": [
       "b'\\xff\\xfet\\x00u\\x00v\\x00'"
      ]
     },
     "execution_count": 46,
     "metadata": {},
     "output_type": "execute_result"
    }
   ],
   "source": [
    "'tuv'.encode('utf-16') # \\xFF\\xFEt\\ its a byte order marker"
   ]
  },
  {
   "cell_type": "code",
   "execution_count": 48,
   "id": "e72dedc7",
   "metadata": {},
   "outputs": [
    {
     "data": {
      "text/plain": [
       "b't\\x00u\\x00v\\x00'"
      ]
     },
     "execution_count": 48,
     "metadata": {},
     "output_type": "execute_result"
    }
   ],
   "source": [
    "'tuv'.encode('utf-16-le') # byte order marker is necessary if ordering is specified '-le'"
   ]
  },
  {
   "cell_type": "markdown",
   "id": "dd6452b4",
   "metadata": {},
   "source": [
    "BECAUSE A BYTES OBJECT IS IMMUTABLE, ATTEMPTING TO CHANGE ONE OF ITS ELEMENTS RESULTS IN AN ERROR"
   ]
  },
  {
   "cell_type": "code",
   "execution_count": 102,
   "id": "e2802d0c",
   "metadata": {},
   "outputs": [],
   "source": [
    "a = bytes('tuv', 'utf-8')"
   ]
  },
  {
   "cell_type": "code",
   "execution_count": 103,
   "id": "3492a2d6",
   "metadata": {},
   "outputs": [
    {
     "data": {
      "text/plain": [
       "b'tuv'"
      ]
     },
     "execution_count": 103,
     "metadata": {},
     "output_type": "execute_result"
    }
   ],
   "source": [
    "a"
   ]
  },
  {
   "cell_type": "code",
   "execution_count": 104,
   "id": "f0793f50",
   "metadata": {},
   "outputs": [
    {
     "ename": "TypeError",
     "evalue": "'bytes' object does not support item assignment",
     "output_type": "error",
     "traceback": [
      "\u001b[1;31m---------------------------------------------------------------------------\u001b[0m",
      "\u001b[1;31mTypeError\u001b[0m                                 Traceback (most recent call last)",
      "Input \u001b[1;32mIn [104]\u001b[0m, in \u001b[0;36m<cell line: 1>\u001b[1;34m()\u001b[0m\n\u001b[1;32m----> 1\u001b[0m a[\u001b[38;5;241m0\u001b[39m] \u001b[38;5;241m=\u001b[39m \u001b[38;5;241m115\u001b[39m\n",
      "\u001b[1;31mTypeError\u001b[0m: 'bytes' object does not support item assignment"
     ]
    }
   ],
   "source": [
    "a[0] = 115"
   ]
  },
  {
   "cell_type": "markdown",
   "id": "5c7ad6d5",
   "metadata": {},
   "source": [
    "BYTESARRAY"
   ]
  },
  {
   "cell_type": "markdown",
   "id": "138262cd",
   "metadata": {},
   "source": [
    "- like bytes, a bytearray can be constructed in a number of ways"
   ]
  },
  {
   "cell_type": "code",
   "execution_count": 105,
   "id": "f1f90524",
   "metadata": {},
   "outputs": [
    {
     "data": {
      "text/plain": [
       "bytearray(b'\\x00\\x00\\x00\\x00\\x00')"
      ]
     },
     "execution_count": 105,
     "metadata": {},
     "output_type": "execute_result"
    }
   ],
   "source": [
    "bytearray(5)"
   ]
  },
  {
   "cell_type": "code",
   "execution_count": 106,
   "id": "d7bed7eb",
   "metadata": {},
   "outputs": [
    {
     "data": {
      "text/plain": [
       "bytearray(b'\\x01\\x02\\x03')"
      ]
     },
     "execution_count": 106,
     "metadata": {},
     "output_type": "execute_result"
    }
   ],
   "source": [
    "bytearray([1,2,3])"
   ]
  },
  {
   "cell_type": "code",
   "execution_count": 108,
   "id": "fb56f4d5",
   "metadata": {},
   "outputs": [
    {
     "data": {
      "text/plain": [
       "bytearray(b'tuv')"
      ]
     },
     "execution_count": 108,
     "metadata": {},
     "output_type": "execute_result"
    }
   ],
   "source": [
    "bytearray('tuv', 'utf-8')"
   ]
  },
  {
   "cell_type": "markdown",
   "id": "bb5f9f42",
   "metadata": {},
   "source": [
    "BECAUSE BYTEARRAY IS MUTABLE, YOU CAN MODIFY ITS ELEMENTS"
   ]
  },
  {
   "cell_type": "code",
   "execution_count": 109,
   "id": "91ba7e93",
   "metadata": {},
   "outputs": [],
   "source": [
    "a = bytearray('tuv', 'utf-8')"
   ]
  },
  {
   "cell_type": "code",
   "execution_count": 110,
   "id": "aca50f94",
   "metadata": {},
   "outputs": [
    {
     "data": {
      "text/plain": [
       "bytearray(b'tuv')"
      ]
     },
     "execution_count": 110,
     "metadata": {},
     "output_type": "execute_result"
    }
   ],
   "source": [
    "a"
   ]
  },
  {
   "cell_type": "code",
   "execution_count": 111,
   "id": "0a18ad08",
   "metadata": {},
   "outputs": [],
   "source": [
    "a[0] = 115"
   ]
  },
  {
   "cell_type": "code",
   "execution_count": 112,
   "id": "76b598ad",
   "metadata": {},
   "outputs": [
    {
     "data": {
      "text/plain": [
       "bytearray(b'suv')"
      ]
     },
     "execution_count": 112,
     "metadata": {},
     "output_type": "execute_result"
    }
   ],
   "source": [
    "a"
   ]
  },
  {
   "cell_type": "markdown",
   "id": "0d85b19a",
   "metadata": {},
   "source": [
    "BYTES AND BYTEARRAYS CAN BE CONCATENATED"
   ]
  },
  {
   "cell_type": "code",
   "execution_count": 117,
   "id": "774aa1e1",
   "metadata": {},
   "outputs": [],
   "source": [
    "a = bytes([97,98])"
   ]
  },
  {
   "cell_type": "code",
   "execution_count": 118,
   "id": "7012d827",
   "metadata": {},
   "outputs": [
    {
     "data": {
      "text/plain": [
       "b'ab'"
      ]
     },
     "execution_count": 118,
     "metadata": {},
     "output_type": "execute_result"
    }
   ],
   "source": [
    "a"
   ]
  },
  {
   "cell_type": "code",
   "execution_count": 119,
   "id": "c235b1d8",
   "metadata": {},
   "outputs": [],
   "source": [
    "b = bytearray([99,100])"
   ]
  },
  {
   "cell_type": "code",
   "execution_count": 120,
   "id": "ded8f2d6",
   "metadata": {},
   "outputs": [
    {
     "data": {
      "text/plain": [
       "bytearray(b'cd')"
      ]
     },
     "execution_count": 120,
     "metadata": {},
     "output_type": "execute_result"
    }
   ],
   "source": [
    "b"
   ]
  },
  {
   "cell_type": "code",
   "execution_count": 121,
   "id": "ec4c05d8",
   "metadata": {},
   "outputs": [
    {
     "data": {
      "text/plain": [
       "b'abcd'"
      ]
     },
     "execution_count": 121,
     "metadata": {},
     "output_type": "execute_result"
    }
   ],
   "source": [
    "a+b # the result takes the type of the first argument, therefore the final type is bytes"
   ]
  },
  {
   "cell_type": "code",
   "execution_count": 122,
   "id": "a914bc32",
   "metadata": {},
   "outputs": [
    {
     "data": {
      "text/plain": [
       "bytearray(b'cdab')"
      ]
     },
     "execution_count": 122,
     "metadata": {},
     "output_type": "execute_result"
    }
   ],
   "source": [
    "b+a # and in this case, its a bytesarray type"
   ]
  },
  {
   "cell_type": "markdown",
   "id": "4110fb71",
   "metadata": {},
   "source": [
    "CONVERTING BYTES AND BYTEARRAYS INTO STRINGS"
   ]
  },
  {
   "cell_type": "code",
   "execution_count": 123,
   "id": "debeb27b",
   "metadata": {},
   "outputs": [],
   "source": [
    "a = bytes('tuv', 'utf-8')"
   ]
  },
  {
   "cell_type": "code",
   "execution_count": 124,
   "id": "e259215f",
   "metadata": {},
   "outputs": [
    {
     "data": {
      "text/plain": [
       "b'tuv'"
      ]
     },
     "execution_count": 124,
     "metadata": {},
     "output_type": "execute_result"
    }
   ],
   "source": [
    "a"
   ]
  },
  {
   "cell_type": "code",
   "execution_count": 125,
   "id": "22084be9",
   "metadata": {},
   "outputs": [
    {
     "data": {
      "text/plain": [
       "'tuv'"
      ]
     },
     "execution_count": 125,
     "metadata": {},
     "output_type": "execute_result"
    }
   ],
   "source": [
    "a.decode('utf-8')"
   ]
  },
  {
   "cell_type": "markdown",
   "id": "d9a7d148",
   "metadata": {},
   "source": [
    "IT'S NOT POSSIBLE TO COMBINE UNICODE STRING WITH BYTES TAPE"
   ]
  },
  {
   "cell_type": "code",
   "execution_count": 126,
   "id": "def5ff5f",
   "metadata": {},
   "outputs": [
    {
     "ename": "TypeError",
     "evalue": "can only concatenate str (not \"bytes\") to str",
     "output_type": "error",
     "traceback": [
      "\u001b[1;31m---------------------------------------------------------------------------\u001b[0m",
      "\u001b[1;31mTypeError\u001b[0m                                 Traceback (most recent call last)",
      "Input \u001b[1;32mIn [126]\u001b[0m, in \u001b[0;36m<cell line: 1>\u001b[1;34m()\u001b[0m\n\u001b[1;32m----> 1\u001b[0m \u001b[38;5;124;43m'\u001b[39;49m\u001b[38;5;124;43mnote that we cannot add a string\u001b[39;49m\u001b[38;5;124;43m'\u001b[39;49m\u001b[43m \u001b[49m\u001b[38;5;241;43m+\u001b[39;49m\u001b[43m \u001b[49m\u001b[38;5;124;43mb\u001b[39;49m\u001b[38;5;124;43m'\u001b[39;49m\u001b[38;5;124;43mbytes for data\u001b[39;49m\u001b[38;5;124;43m'\u001b[39;49m\n",
      "\u001b[1;31mTypeError\u001b[0m: can only concatenate str (not \"bytes\") to str"
     ]
    }
   ],
   "source": [
    "'note that we cannot add a string' + b'bytes for data'"
   ]
  },
  {
   "cell_type": "code",
   "execution_count": 130,
   "id": "40b99f5e",
   "metadata": {},
   "outputs": [],
   "source": [
    "a = range(10)"
   ]
  },
  {
   "cell_type": "code",
   "execution_count": 132,
   "id": "42869636",
   "metadata": {},
   "outputs": [
    {
     "data": {
      "text/plain": [
       "range"
      ]
     },
     "execution_count": 132,
     "metadata": {},
     "output_type": "execute_result"
    }
   ],
   "source": [
    "type(a)"
   ]
  },
  {
   "cell_type": "code",
   "execution_count": 134,
   "id": "c5312832",
   "metadata": {},
   "outputs": [
    {
     "ename": "TypeError",
     "evalue": "'range' object is not an iterator",
     "output_type": "error",
     "traceback": [
      "\u001b[1;31m---------------------------------------------------------------------------\u001b[0m",
      "\u001b[1;31mTypeError\u001b[0m                                 Traceback (most recent call last)",
      "Input \u001b[1;32mIn [134]\u001b[0m, in \u001b[0;36m<cell line: 1>\u001b[1;34m()\u001b[0m\n\u001b[1;32m----> 1\u001b[0m \u001b[38;5;28;43mnext\u001b[39;49m\u001b[43m(\u001b[49m\u001b[43ma\u001b[49m\u001b[43m)\u001b[49m\n",
      "\u001b[1;31mTypeError\u001b[0m: 'range' object is not an iterator"
     ]
    }
   ],
   "source": [
    "next(a)"
   ]
  },
  {
   "cell_type": "markdown",
   "id": "202c040d",
   "metadata": {},
   "source": [
    "IMPLICIT RETURN VALUE OF FUNCTIONS"
   ]
  },
  {
   "cell_type": "markdown",
   "id": "2da28a2c",
   "metadata": {},
   "source": [
    "- A function can't return anything. Therefore, if nothing specified in the function code is being returned, a function returns None as default"
   ]
  },
  {
   "cell_type": "markdown",
   "id": "32fa20a5",
   "metadata": {},
   "source": [
    "ENCODING/DECODING"
   ]
  },
  {
   "cell_type": "markdown",
   "id": "a32fe412",
   "metadata": {},
   "source": [
    "ENCODING (FROM STRING(EITHER UTF-8 OR ASCII) TO BYTES)"
   ]
  },
  {
   "cell_type": "code",
   "execution_count": 78,
   "id": "67104d1d",
   "metadata": {},
   "outputs": [],
   "source": [
    "name = \"Jan\""
   ]
  },
  {
   "cell_type": "code",
   "execution_count": 79,
   "id": "91beb8bd",
   "metadata": {},
   "outputs": [],
   "source": [
    "en_name = name.encode()"
   ]
  },
  {
   "cell_type": "code",
   "execution_count": 85,
   "id": "f34757f6",
   "metadata": {},
   "outputs": [
    {
     "name": "stdout",
     "output_type": "stream",
     "text": [
      "b'Jan' <class 'bytes'>\n"
     ]
    }
   ],
   "source": [
    "print(en_name, type(en_name))"
   ]
  },
  {
   "cell_type": "markdown",
   "id": "686b94c9",
   "metadata": {},
   "source": [
    "DECODING (FROM BYTES TO STRING(EITHER UTF-8 OR ASCII))"
   ]
  },
  {
   "cell_type": "code",
   "execution_count": 83,
   "id": "0fd78a88",
   "metadata": {},
   "outputs": [],
   "source": [
    "name2 = en_name.decode()"
   ]
  },
  {
   "cell_type": "code",
   "execution_count": 84,
   "id": "790dafaa",
   "metadata": {},
   "outputs": [
    {
     "name": "stdout",
     "output_type": "stream",
     "text": [
      "Jan <class 'str'>\n"
     ]
    }
   ],
   "source": [
    "print(name2, type(name2))"
   ]
  },
  {
   "cell_type": "markdown",
   "id": "367e5e8a",
   "metadata": {},
   "source": [
    "ITERABLE OBJECT"
   ]
  },
  {
   "cell_type": "markdown",
   "id": "d53086f5",
   "metadata": {},
   "source": [
    "- an iterable is any Python object capable of returning its members one at a time, permitting it to be iterated over in a for loop\n",
    "- examples: lists, tuples, strings"
   ]
  },
  {
   "cell_type": "code",
   "execution_count": 139,
   "id": "96f4fe09",
   "metadata": {},
   "outputs": [],
   "source": [
    "my_iterable = [1,2,3]"
   ]
  },
  {
   "cell_type": "code",
   "execution_count": 146,
   "id": "48294963",
   "metadata": {},
   "outputs": [
    {
     "name": "stdout",
     "output_type": "stream",
     "text": [
      "<class 'list'>\n"
     ]
    }
   ],
   "source": [
    "print(type(my_iterable))"
   ]
  },
  {
   "cell_type": "markdown",
   "id": "0a0a7a5f",
   "metadata": {},
   "source": [
    "ITERATOR OBJECT"
   ]
  },
  {
   "cell_type": "markdown",
   "id": "1cb3cb9a",
   "metadata": {},
   "source": [
    "- iterator is an object, which is used to iterate over an iterable object using __next__() method, it can iterated over in a lazy manner"
   ]
  },
  {
   "cell_type": "code",
   "execution_count": 144,
   "id": "64af044f",
   "metadata": {},
   "outputs": [],
   "source": [
    "my_iterator = iter(my_iterable)"
   ]
  },
  {
   "cell_type": "code",
   "execution_count": 145,
   "id": "e6631317",
   "metadata": {},
   "outputs": [
    {
     "name": "stdout",
     "output_type": "stream",
     "text": [
      "<class 'list_iterator'>\n"
     ]
    }
   ],
   "source": [
    "print(type(my_iterator))"
   ]
  },
  {
   "cell_type": "code",
   "execution_count": 142,
   "id": "b9f84613",
   "metadata": {},
   "outputs": [
    {
     "data": {
      "text/plain": [
       "1"
      ]
     },
     "execution_count": 142,
     "metadata": {},
     "output_type": "execute_result"
    }
   ],
   "source": [
    "next(my_iterator)"
   ]
  },
  {
   "cell_type": "code",
   "execution_count": 143,
   "id": "97c77731",
   "metadata": {},
   "outputs": [
    {
     "data": {
      "text/plain": [
       "2"
      ]
     },
     "execution_count": 143,
     "metadata": {},
     "output_type": "execute_result"
    }
   ],
   "source": [
    "next(my_iterator)"
   ]
  },
  {
   "cell_type": "markdown",
   "id": "9012e9dc",
   "metadata": {},
   "source": [
    "RANGE OBJECT"
   ]
  },
  {
   "cell_type": "code",
   "execution_count": 147,
   "id": "e1432ecb",
   "metadata": {},
   "outputs": [],
   "source": [
    "a = range(10)"
   ]
  },
  {
   "cell_type": "code",
   "execution_count": 148,
   "id": "ef9a0eb2",
   "metadata": {},
   "outputs": [
    {
     "data": {
      "text/plain": [
       "range"
      ]
     },
     "execution_count": 148,
     "metadata": {},
     "output_type": "execute_result"
    }
   ],
   "source": [
    "type(a)"
   ]
  },
  {
   "cell_type": "code",
   "execution_count": 149,
   "id": "221f37f1",
   "metadata": {},
   "outputs": [
    {
     "data": {
      "text/plain": [
       "range(0, 10)"
      ]
     },
     "execution_count": 149,
     "metadata": {},
     "output_type": "execute_result"
    }
   ],
   "source": [
    "a"
   ]
  },
  {
   "cell_type": "code",
   "execution_count": 159,
   "id": "bcb803c3",
   "metadata": {},
   "outputs": [
    {
     "ename": "TypeError",
     "evalue": "'range' object is not an iterator",
     "output_type": "error",
     "traceback": [
      "\u001b[1;31m---------------------------------------------------------------------------\u001b[0m",
      "\u001b[1;31mTypeError\u001b[0m                                 Traceback (most recent call last)",
      "Input \u001b[1;32mIn [159]\u001b[0m, in \u001b[0;36m<cell line: 1>\u001b[1;34m()\u001b[0m\n\u001b[1;32m----> 1\u001b[0m \u001b[38;5;28;43mnext\u001b[39;49m\u001b[43m(\u001b[49m\u001b[43ma\u001b[49m\u001b[43m)\u001b[49m\n",
      "\u001b[1;31mTypeError\u001b[0m: 'range' object is not an iterator"
     ]
    }
   ],
   "source": [
    "next(a)"
   ]
  },
  {
   "cell_type": "markdown",
   "id": "3885a509",
   "metadata": {},
   "source": [
    "CREATING AN ITERATOR RANGE OBJECT"
   ]
  },
  {
   "cell_type": "code",
   "execution_count": 154,
   "id": "d7cc45b0",
   "metadata": {},
   "outputs": [],
   "source": [
    "b = iter(a)"
   ]
  },
  {
   "cell_type": "code",
   "execution_count": 158,
   "id": "acde7220",
   "metadata": {},
   "outputs": [
    {
     "data": {
      "text/plain": [
       "range_iterator"
      ]
     },
     "execution_count": 158,
     "metadata": {},
     "output_type": "execute_result"
    }
   ],
   "source": [
    "type(b)"
   ]
  },
  {
   "cell_type": "code",
   "execution_count": 155,
   "id": "54e7af41",
   "metadata": {},
   "outputs": [
    {
     "data": {
      "text/plain": [
       "0"
      ]
     },
     "execution_count": 155,
     "metadata": {},
     "output_type": "execute_result"
    }
   ],
   "source": [
    "next(b)"
   ]
  },
  {
   "cell_type": "code",
   "execution_count": 156,
   "id": "9e04811c",
   "metadata": {},
   "outputs": [
    {
     "data": {
      "text/plain": [
       "1"
      ]
     },
     "execution_count": 156,
     "metadata": {},
     "output_type": "execute_result"
    }
   ],
   "source": [
    "next(b)"
   ]
  },
  {
   "cell_type": "markdown",
   "id": "71a70714",
   "metadata": {},
   "source": [
    "CREATING A GENERATOR OBJECT"
   ]
  },
  {
   "cell_type": "code",
   "execution_count": null,
   "id": "e1fa4772",
   "metadata": {},
   "outputs": [],
   "source": [
    "my_generator = (letter for letter in 'abcdefg') # THIS ONLY WORKS FOR NORMAL BRACKETS"
   ]
  },
  {
   "cell_type": "code",
   "execution_count": 167,
   "id": "4818c552",
   "metadata": {},
   "outputs": [
    {
     "data": {
      "text/plain": [
       "generator"
      ]
     },
     "execution_count": 167,
     "metadata": {},
     "output_type": "execute_result"
    }
   ],
   "source": [
    "type(my_generator)"
   ]
  },
  {
   "cell_type": "code",
   "execution_count": 168,
   "id": "69365dc7",
   "metadata": {},
   "outputs": [],
   "source": [
    "aa = ('a', 'b', 'c', 'd', 'e') # THIS CREATES A NORMAL TUPLE"
   ]
  },
  {
   "cell_type": "code",
   "execution_count": 169,
   "id": "666311e2",
   "metadata": {},
   "outputs": [
    {
     "data": {
      "text/plain": [
       "tuple"
      ]
     },
     "execution_count": 169,
     "metadata": {},
     "output_type": "execute_result"
    }
   ],
   "source": [
    "type(aa)"
   ]
  },
  {
   "cell_type": "code",
   "execution_count": 170,
   "id": "bc131507",
   "metadata": {},
   "outputs": [],
   "source": [
    "my_gen = [letter for letter in 'abcdefg'] # SQUARE BRACKETS CREATE A LIST"
   ]
  },
  {
   "cell_type": "code",
   "execution_count": 171,
   "id": "5dce0d2e",
   "metadata": {},
   "outputs": [
    {
     "data": {
      "text/plain": [
       "list"
      ]
     },
     "execution_count": 171,
     "metadata": {},
     "output_type": "execute_result"
    }
   ],
   "source": [
    "type(my_gen)"
   ]
  },
  {
   "cell_type": "code",
   "execution_count": 173,
   "id": "f2878053",
   "metadata": {},
   "outputs": [],
   "source": [
    "college_years = ['Freshman', 'Sophomore', 'Junior', 'Senior']"
   ]
  },
  {
   "cell_type": "code",
   "execution_count": 174,
   "id": "a24952b9",
   "metadata": {},
   "outputs": [
    {
     "data": {
      "text/plain": [
       "[(2019, 'Freshman'), (2020, 'Sophomore'), (2021, 'Junior'), (2022, 'Senior')]"
      ]
     },
     "execution_count": 174,
     "metadata": {},
     "output_type": "execute_result"
    }
   ],
   "source": [
    "list(enumerate(college_years, 2019))"
   ]
  },
  {
   "cell_type": "code",
   "execution_count": null,
   "id": "9d82b689",
   "metadata": {},
   "outputs": [
    {
     "ename": "TypeError",
     "evalue": "unhashable type: 'dict'",
     "output_type": "error",
     "traceback": [
      "\u001b[1;31m---------------------------------------------------------------------------\u001b[0m",
      "\u001b[1;31mTypeError\u001b[0m                                 Traceback (most recent call last)",
      "Input \u001b[1;32mIn [179]\u001b[0m, in \u001b[0;36m<cell line: 2>\u001b[1;34m()\u001b[0m\n\u001b[0;32m      1\u001b[0m \u001b[38;5;28;01mimport\u001b[39;00m \u001b[38;5;21;01mnumpy\u001b[39;00m \u001b[38;5;28;01mas\u001b[39;00m \u001b[38;5;21;01mnp\u001b[39;00m\n\u001b[1;32m----> 2\u001b[0m a \u001b[38;5;241m=\u001b[39m {\u001b[38;5;124m'\u001b[39m\u001b[38;5;124ma\u001b[39m\u001b[38;5;124m'\u001b[39m, \u001b[38;5;241m1\u001b[39m, {\u001b[38;5;124m'\u001b[39m\u001b[38;5;124ma\u001b[39m\u001b[38;5;124m'\u001b[39m: \u001b[38;5;241m1\u001b[39m}}\n",
      "\u001b[1;31mTypeError\u001b[0m: unhashable type: 'dict'"
     ]
    }
   ],
   "source": [
    "import numpy as np\n",
    "a = {'a', 1, {'a': 1}}"
   ]
  },
  {
   "cell_type": "markdown",
   "id": "0ef39553",
   "metadata": {},
   "source": [
    "ANY PYTHON IMMUTABLE TYPE CAN BE A PYTHON DICTIONARY"
   ]
  },
  {
   "cell_type": "markdown",
   "id": "a69b970b",
   "metadata": {},
   "source": [
    "- strings\n",
    "- integers, floats\n",
    "- sets\n",
    "- dictionaries\n",
    "- booleans"
   ]
  },
  {
   "cell_type": "code",
   "execution_count": null,
   "id": "b5ce7a88",
   "metadata": {},
   "outputs": [],
   "source": [
    "d = {('a', 'b', 'c'): 'a', 'a': 'b', 2.0: 'c', True: 'd'}"
   ]
  },
  {
   "cell_type": "code",
   "execution_count": null,
   "id": "72065a05",
   "metadata": {},
   "outputs": [
    {
     "name": "stdout",
     "output_type": "stream",
     "text": [
      "{('a', 'b', 'c'): 'a', 'a': 'b', 2.0: 'c', True: 'd'}\n"
     ]
    }
   ],
   "source": [
    "print(b)"
   ]
  },
  {
   "cell_type": "markdown",
   "id": "97b16ece",
   "metadata": {},
   "source": [
    "- None"
   ]
  },
  {
   "cell_type": "code",
   "execution_count": null,
   "id": "388e416b",
   "metadata": {},
   "outputs": [],
   "source": [
    "d = {('a', 'b', 'c'): 'a', 'a': 'b', 2.0: 'c', None: 'd'}"
   ]
  },
  {
   "cell_type": "code",
   "execution_count": null,
   "id": "59abf8bd",
   "metadata": {},
   "outputs": [
    {
     "name": "stdout",
     "output_type": "stream",
     "text": [
      "{('a', 'b', 'c'): 'a', 'a': 'b', 2.0: 'c', None: 'd'}\n"
     ]
    }
   ],
   "source": [
    "print(d)"
   ]
  },
  {
   "cell_type": "markdown",
   "id": "1bfbcb3b",
   "metadata": {},
   "source": [
    "- functions"
   ]
  },
  {
   "cell_type": "code",
   "execution_count": null,
   "id": "fd40594a",
   "metadata": {},
   "outputs": [],
   "source": [
    "d = {('a', 'b', 'c'): 'a', sorted: 'b', 2: 'c', 3: 'd'}"
   ]
  },
  {
   "cell_type": "code",
   "execution_count": null,
   "id": "f75bb119",
   "metadata": {},
   "outputs": [
    {
     "name": "stdout",
     "output_type": "stream",
     "text": [
      "{('a', 'b', 'c'): 'a', <built-in function sorted>: 'b', 2: 'c', 3: 'd'}\n"
     ]
    }
   ],
   "source": [
    "print(d)"
   ]
  },
  {
   "cell_type": "markdown",
   "id": "c489116e",
   "metadata": {},
   "source": [
    "- objects"
   ]
  },
  {
   "cell_type": "code",
   "execution_count": null,
   "id": "99e27d56",
   "metadata": {},
   "outputs": [],
   "source": [
    "import pandas as pd\n",
    "d = {('a', 'b', 'c'): 'a', 'b': 'b', 2.0: 'c', pd.DataFrame: 'd'}"
   ]
  },
  {
   "cell_type": "code",
   "execution_count": null,
   "id": "25fc056b",
   "metadata": {},
   "outputs": [
    {
     "name": "stdout",
     "output_type": "stream",
     "text": [
      "{('a', 'b', 'c'): 'a', 'b': 'b', 2.0: 'c', <class 'pandas.core.frame.DataFrame'>: 'd'}\n"
     ]
    }
   ],
   "source": [
    "print(d)"
   ]
  },
  {
   "cell_type": "markdown",
   "id": "29fa4106",
   "metadata": {},
   "source": [
    "- modules"
   ]
  },
  {
   "cell_type": "code",
   "execution_count": null,
   "id": "f0eb4acb",
   "metadata": {},
   "outputs": [],
   "source": [
    "d = {('a', 'b', 'c'): 'a', 'a': 'b', 2.0: 'c', pd: 'd'}"
   ]
  },
  {
   "cell_type": "code",
   "execution_count": null,
   "id": "3b1d06cd",
   "metadata": {},
   "outputs": [
    {
     "name": "stdout",
     "output_type": "stream",
     "text": [
      "{('a', 'b', 'c'): 'a', 'a': 'b', 2.0: 'c', <module 'pandas' from 'C:\\\\Users\\\\Bartosz\\\\anaconda3\\\\lib\\\\site-packages\\\\pandas\\\\__init__.py'>: 'd'}\n"
     ]
    }
   ],
   "source": [
    "print(d)"
   ]
  },
  {
   "cell_type": "markdown",
   "id": "33250a1b",
   "metadata": {},
   "source": [
    "FOLLOWING TYPES CAN'T SERVE AS DICT KEYS"
   ]
  },
  {
   "cell_type": "markdown",
   "id": "656ff630",
   "metadata": {},
   "source": [
    "- lists\n",
    "- dictionaries"
   ]
  },
  {
   "cell_type": "code",
   "execution_count": null,
   "id": "2e7087eb",
   "metadata": {},
   "outputs": [
    {
     "ename": "TypeError",
     "evalue": "unhashable type: 'dict'",
     "output_type": "error",
     "traceback": [
      "\u001b[1;31m---------------------------------------------------------------------------\u001b[0m\n",
      "\u001b[1;31mTypeError\u001b[0m                                 Traceback (most recent call last)\n",
      "Input \u001b[1;32mIn [21]\u001b[0m, in \u001b[0;36m<cell line: 1>\u001b[1;34m()\u001b[0m\n",
      "\u001b[1;32m----> 1\u001b[0m d \u001b[38;5;241m=\u001b[39m {(\u001b[38;5;124m'\u001b[39m\u001b[38;5;124ma\u001b[39m\u001b[38;5;124m'\u001b[39m, \u001b[38;5;124m'\u001b[39m\u001b[38;5;124mb\u001b[39m\u001b[38;5;124m'\u001b[39m, \u001b[38;5;124m'\u001b[39m\u001b[38;5;124mc\u001b[39m\u001b[38;5;124m'\u001b[39m): \u001b[38;5;124m'\u001b[39m\u001b[38;5;124ma\u001b[39m\u001b[38;5;124m'\u001b[39m, {\u001b[38;5;124m'\u001b[39m\u001b[38;5;124ma\u001b[39m\u001b[38;5;124m'\u001b[39m: \u001b[38;5;241m1\u001b[39m}: [\u001b[38;5;241m1\u001b[39m,\u001b[38;5;241m2\u001b[39m], \u001b[38;5;241m2.0\u001b[39m: \u001b[38;5;124m'\u001b[39m\u001b[38;5;124mc\u001b[39m\u001b[38;5;124m'\u001b[39m, pd: \u001b[38;5;124m'\u001b[39m\u001b[38;5;124md\u001b[39m\u001b[38;5;124m'\u001b[39m}\n",
      "\n",
      "\u001b[1;31mTypeError\u001b[0m: unhashable type: 'dict'"
     ]
    }
   ],
   "source": [
    "d = {('a', 'b', 'c'): 'a', {'a': 1}: [1,2], 2.0: 'c', pd: 'd'}"
   ]
  },
  {
   "cell_type": "code",
   "execution_count": null,
   "id": "d625073a",
   "metadata": {},
   "outputs": [],
   "source": []
  },
  {
   "cell_type": "code",
   "execution_count": null,
   "id": "2e277f04",
   "metadata": {},
   "outputs": [],
   "source": [
    "UNPACKING LISTS AND DICTIONARIES"
   ]
  },
  {
   "cell_type": "code",
   "execution_count": null,
   "id": "2250b71c",
   "metadata": {},
   "outputs": [],
   "source": [
    "https://stackabuse.com/unpacking-in-python-beyond-parallel-assignment/"
   ]
  },
  {
   "cell_type": "code",
   "execution_count": 181,
   "id": "8f8aa27e",
   "metadata": {},
   "outputs": [],
   "source": [
    "*a, = 1, 2"
   ]
  },
  {
   "cell_type": "code",
   "execution_count": 182,
   "id": "ebb71387",
   "metadata": {},
   "outputs": [
    {
     "data": {
      "text/plain": [
       "[1, 2]"
      ]
     },
     "execution_count": 182,
     "metadata": {},
     "output_type": "execute_result"
    }
   ],
   "source": [
    "a"
   ]
  },
  {
   "cell_type": "code",
   "execution_count": 183,
   "id": "6f04d549",
   "metadata": {},
   "outputs": [],
   "source": [
    "a, *b = 1, 2, 3, 4"
   ]
  },
  {
   "cell_type": "code",
   "execution_count": 184,
   "id": "5f5c4414",
   "metadata": {},
   "outputs": [
    {
     "data": {
      "text/plain": [
       "1"
      ]
     },
     "execution_count": 184,
     "metadata": {},
     "output_type": "execute_result"
    }
   ],
   "source": [
    "a"
   ]
  },
  {
   "cell_type": "code",
   "execution_count": 185,
   "id": "53a2cb44",
   "metadata": {},
   "outputs": [
    {
     "data": {
      "text/plain": [
       "[2, 3, 4]"
      ]
     },
     "execution_count": 185,
     "metadata": {},
     "output_type": "execute_result"
    }
   ],
   "source": [
    "b"
   ]
  },
  {
   "cell_type": "code",
   "execution_count": 186,
   "id": "684cc4b5",
   "metadata": {},
   "outputs": [],
   "source": [
    "a, b, *c = 1, 2, 3, 4"
   ]
  },
  {
   "cell_type": "code",
   "execution_count": 187,
   "id": "fcc7afa5",
   "metadata": {},
   "outputs": [
    {
     "data": {
      "text/plain": [
       "[3, 4]"
      ]
     },
     "execution_count": 187,
     "metadata": {},
     "output_type": "execute_result"
    }
   ],
   "source": [
    "c"
   ]
  },
  {
   "cell_type": "code",
   "execution_count": 188,
   "id": "71d96cc6",
   "metadata": {},
   "outputs": [],
   "source": [
    "*a, b = 1,2,3,5"
   ]
  },
  {
   "cell_type": "code",
   "execution_count": 189,
   "id": "7ebb1ad2",
   "metadata": {},
   "outputs": [
    {
     "data": {
      "text/plain": [
       "[1, 2, 3]"
      ]
     },
     "execution_count": 189,
     "metadata": {},
     "output_type": "execute_result"
    }
   ],
   "source": [
    "a"
   ]
  },
  {
   "cell_type": "code",
   "execution_count": 190,
   "id": "2e01ddf2",
   "metadata": {},
   "outputs": [
    {
     "data": {
      "text/plain": [
       "5"
      ]
     },
     "execution_count": 190,
     "metadata": {},
     "output_type": "execute_result"
    }
   ],
   "source": [
    "b"
   ]
  },
  {
   "cell_type": "code",
   "execution_count": 198,
   "id": "fd402ab3",
   "metadata": {},
   "outputs": [],
   "source": [
    "a, *b, c = 1,2,3"
   ]
  },
  {
   "cell_type": "code",
   "execution_count": 199,
   "id": "ecba4cf2",
   "metadata": {},
   "outputs": [
    {
     "data": {
      "text/plain": [
       "1"
      ]
     },
     "execution_count": 199,
     "metadata": {},
     "output_type": "execute_result"
    }
   ],
   "source": [
    "a"
   ]
  },
  {
   "cell_type": "code",
   "execution_count": 200,
   "id": "75c35109",
   "metadata": {},
   "outputs": [
    {
     "data": {
      "text/plain": [
       "[2]"
      ]
     },
     "execution_count": 200,
     "metadata": {},
     "output_type": "execute_result"
    }
   ],
   "source": [
    "b"
   ]
  },
  {
   "cell_type": "code",
   "execution_count": 201,
   "id": "f36cdcb8",
   "metadata": {},
   "outputs": [
    {
     "data": {
      "text/plain": [
       "3"
      ]
     },
     "execution_count": 201,
     "metadata": {},
     "output_type": "execute_result"
    }
   ],
   "source": [
    "c"
   ]
  },
  {
   "cell_type": "code",
   "execution_count": 192,
   "id": "ff453bf4",
   "metadata": {},
   "outputs": [
    {
     "data": {
      "text/plain": [
       "[1]"
      ]
     },
     "execution_count": 192,
     "metadata": {},
     "output_type": "execute_result"
    }
   ],
   "source": [
    "a"
   ]
  },
  {
   "cell_type": "code",
   "execution_count": 193,
   "id": "bfaacc98",
   "metadata": {},
   "outputs": [
    {
     "data": {
      "text/plain": [
       "2"
      ]
     },
     "execution_count": 193,
     "metadata": {},
     "output_type": "execute_result"
    }
   ],
   "source": [
    "b"
   ]
  },
  {
   "cell_type": "code",
   "execution_count": 194,
   "id": "037469e8",
   "metadata": {},
   "outputs": [
    {
     "data": {
      "text/plain": [
       "3"
      ]
     },
     "execution_count": 194,
     "metadata": {},
     "output_type": "execute_result"
    }
   ],
   "source": [
    "c"
   ]
  },
  {
   "cell_type": "code",
   "execution_count": 195,
   "id": "f2f0f764",
   "metadata": {},
   "outputs": [],
   "source": [
    "ran = range(10)"
   ]
  },
  {
   "cell_type": "code",
   "execution_count": 196,
   "id": "2b0a1ff2",
   "metadata": {},
   "outputs": [],
   "source": [
    "*a, = ran"
   ]
  },
  {
   "cell_type": "code",
   "execution_count": 197,
   "id": "d12209c8",
   "metadata": {},
   "outputs": [
    {
     "data": {
      "text/plain": [
       "[0, 1, 2, 3, 4, 5, 6, 7, 8, 9]"
      ]
     },
     "execution_count": 197,
     "metadata": {},
     "output_type": "execute_result"
    }
   ],
   "source": [
    "a"
   ]
  },
  {
   "cell_type": "code",
   "execution_count": null,
   "id": "5ff0ff08",
   "metadata": {},
   "outputs": [],
   "source": [
    "USING IF NOT IN TWO CONDITIONAL, MIDDLE COMPARISON (IDIOM)"
   ]
  },
  {
   "cell_type": "code",
   "execution_count": null,
   "id": "ff091009",
   "metadata": {},
   "outputs": [],
   "source": [
    "def __getitem__(self, k):\n",
    "        \n",
    "    if not 0 <= k < self.n: # if k is higher or equal than 0 and k is lower than self.n\n",
    "        return IndexError('K is out of bounds!')\n",
    "    \n",
    "    return self.A[k]"
   ]
  },
  {
   "cell_type": "markdown",
   "id": "1295cb47",
   "metadata": {},
   "source": [
    "CTYPES.PYOBJECT"
   ]
  },
  {
   "cell_type": "code",
   "execution_count": null,
   "id": "84af1284",
   "metadata": {},
   "outputs": [],
   "source": [
    "from ctypes import pyObject"
   ]
  },
  {
   "cell_type": "markdown",
   "id": "7e34cf54",
   "metadata": {},
   "source": [
    "- all object types are extensions of this type\n",
    "- this is a type which contains information Python needs to treat a pointer to an object as an object"
   ]
  },
  {
   "cell_type": "markdown",
   "id": "822d6cdc",
   "metadata": {},
   "source": [
    "COLLECTIONS MODULE"
   ]
  },
  {
   "cell_type": "markdown",
   "id": "d93309ec",
   "metadata": {},
   "source": [
    "DEFAULTDICT (COLLECTIONS)"
   ]
  },
  {
   "cell_type": "code",
   "execution_count": 1,
   "id": "da036906",
   "metadata": {},
   "outputs": [],
   "source": [
    "from collections import defaultdict"
   ]
  },
  {
   "cell_type": "markdown",
   "id": "8309ef41",
   "metadata": {},
   "source": [
    "- subclass of the built-in dict class\n",
    "- returns a dictionary like object\n",
    "- it overwrites one method (__missing__) and adds one writable instance variable (default_factory)\n",
    "- defaultdict(default_factory=None) - the first argument provides the initial value for the default_factory attribute; it defaults to None\n",
    "- all remaining arguments are treated the same as if they were passed to the dict constructor, including keyword arguments"
   ]
  },
  {
   "cell_type": "code",
   "execution_count": null,
   "id": "7c008cd8",
   "metadata": {},
   "outputs": [],
   "source": [
    "__missing__ (key)"
   ]
  },
  {
   "cell_type": "markdown",
   "id": "38ea7ac8",
   "metadata": {},
   "source": [
    "- this method is called by __getitem__ method of the dict class when the requested key is not found; whatever it returns or raises is then returned or raised by __getitem__()\n",
    "- it raises KeyError if defaultfactory is None, if default_factory is not None, it provides value for the given key, this value is inserted in the dictionary for the key, and returned"
   ]
  },
  {
   "cell_type": "code",
   "execution_count": null,
   "id": "e99a4a97",
   "metadata": {},
   "outputs": [],
   "source": [
    "default_factory"
   ]
  },
  {
   "cell_type": "markdown",
   "id": "4ab1c2e7",
   "metadata": {},
   "source": [
    "- this attribute is used by the __missing__() method;"
   ]
  },
  {
   "cell_type": "markdown",
   "id": "f0713fe0",
   "metadata": {},
   "source": [
    "LIST AS DEFAULT_FACTORY"
   ]
  },
  {
   "cell_type": "code",
   "execution_count": 9,
   "id": "3a0c596d",
   "metadata": {},
   "outputs": [],
   "source": [
    "input_ = [('yellow', 1), ('blue', 2), ('yellow', 3), ('blue', 4), ('red', 1)]"
   ]
  },
  {
   "cell_type": "code",
   "execution_count": 10,
   "id": "c3a678a4",
   "metadata": {},
   "outputs": [],
   "source": [
    "d = defaultdict(list)"
   ]
  },
  {
   "cell_type": "code",
   "execution_count": 11,
   "id": "2fb1721f",
   "metadata": {},
   "outputs": [
    {
     "data": {
      "text/plain": [
       "defaultdict(list, {})"
      ]
     },
     "execution_count": 11,
     "metadata": {},
     "output_type": "execute_result"
    }
   ],
   "source": [
    "d"
   ]
  },
  {
   "cell_type": "code",
   "execution_count": 12,
   "id": "9b1e634e",
   "metadata": {},
   "outputs": [
    {
     "data": {
      "text/plain": [
       "list"
      ]
     },
     "execution_count": 12,
     "metadata": {},
     "output_type": "execute_result"
    }
   ],
   "source": [
    "d.default_factory"
   ]
  },
  {
   "cell_type": "code",
   "execution_count": 13,
   "id": "73074154",
   "metadata": {},
   "outputs": [
    {
     "name": "stdout",
     "output_type": "stream",
     "text": [
      "yellow 1\n",
      "blue 2\n",
      "yellow 3\n",
      "blue 4\n",
      "red 1\n"
     ]
    }
   ],
   "source": [
    "for k, v in input_:\n",
    "  print(k,v)"
   ]
  },
  {
   "cell_type": "code",
   "execution_count": 15,
   "id": "2c323eca",
   "metadata": {},
   "outputs": [],
   "source": [
    "for k, v in input_:\n",
    "    d[k].append(v)"
   ]
  },
  {
   "cell_type": "code",
   "execution_count": 16,
   "id": "4158abb3",
   "metadata": {},
   "outputs": [
    {
     "data": {
      "text/plain": [
       "[('blue', [2, 4]), ('red', [1]), ('yellow', [1, 3])]"
      ]
     },
     "execution_count": 16,
     "metadata": {},
     "output_type": "execute_result"
    }
   ],
   "source": [
    "sorted(d.items())"
   ]
  },
  {
   "cell_type": "markdown",
   "id": "46b21751",
   "metadata": {},
   "source": [
    "INTEGER AS DEFAULT_FACTORY - USEFUL FOR COUNTING LETTERS (LIKE A BAG IN OTHER LANGS)"
   ]
  },
  {
   "cell_type": "code",
   "execution_count": 22,
   "id": "6a2829b8",
   "metadata": {},
   "outputs": [
    {
     "data": {
      "text/plain": [
       "[('i', 4), ('m', 1), ('p', 2), ('s', 4)]"
      ]
     },
     "execution_count": 22,
     "metadata": {},
     "output_type": "execute_result"
    }
   ],
   "source": [
    "s = 'mississippi'\n",
    "d = defaultdict(int)\n",
    "\n",
    "for k in s:\n",
    "    d[k] +=1\n",
    "    \n",
    "sorted(d.items())"
   ]
  },
  {
   "cell_type": "markdown",
   "id": "e04daa34",
   "metadata": {},
   "source": [
    "SET AS DEFAULT_FACTORY"
   ]
  },
  {
   "cell_type": "code",
   "execution_count": 26,
   "id": "2a3281bd",
   "metadata": {},
   "outputs": [],
   "source": [
    "s = [('red', 1), ('blue', 2), ('red', 3), ('blue', 4), ('red', 1), ('blue', 4)]"
   ]
  },
  {
   "cell_type": "code",
   "execution_count": 27,
   "id": "f722d03e",
   "metadata": {},
   "outputs": [],
   "source": [
    "d = defaultdict(set)"
   ]
  },
  {
   "cell_type": "code",
   "execution_count": 28,
   "id": "86e06bfb",
   "metadata": {},
   "outputs": [],
   "source": [
    "for k,v in s:\n",
    "    d[k].add(v)"
   ]
  },
  {
   "cell_type": "code",
   "execution_count": 29,
   "id": "c7566550",
   "metadata": {},
   "outputs": [
    {
     "data": {
      "text/plain": [
       "[('blue', {2, 4}), ('red', {1, 3})]"
      ]
     },
     "execution_count": 29,
     "metadata": {},
     "output_type": "execute_result"
    }
   ],
   "source": [
    "sorted(d.items())"
   ]
  },
  {
   "cell_type": "markdown",
   "id": "311d346c",
   "metadata": {},
   "source": [
    "PRACTICAL USE OF DEFAULTDICT"
   ]
  },
  {
   "cell_type": "markdown",
   "id": "ffa62ae9",
   "metadata": {},
   "source": [
    "- defaultdict allows us to add a value to dictionary, even if the certain key was never defined yet"
   ]
  },
  {
   "cell_type": "code",
   "execution_count": 39,
   "id": "ba4a9b17",
   "metadata": {},
   "outputs": [
    {
     "name": "stdout",
     "output_type": "stream",
     "text": [
      "NORMAL DICT:  {'a': 6, 'b': 4, 'c': 4, 'e': 2, 'd': 2, 'f': 1}\n",
      "DEFAULT DICT:  defaultdict(<class 'int'>, {'a': 6, 'b': 4, 'c': 4, 'e': 2, 'd': 2, 'f': 1})\n"
     ]
    }
   ],
   "source": [
    "# NORMAL DICTIONARY\n",
    "\n",
    "my_str = 'abcedfabcdeabcaaabc'\n",
    "d = {}\n",
    "\n",
    "for s in my_str:\n",
    "    if s not in d:\n",
    "        d[s] = 1\n",
    "    else:\n",
    "        d[s] += 1\n",
    "\n",
    "dd = defaultdict(int)\n",
    "\n",
    "for s in my_str:\n",
    "    dd[s] += 1\n",
    "        \n",
    "print('NORMAL DICT: ', d)\n",
    "print('DEFAULT DICT: ', dd)"
   ]
  },
  {
   "cell_type": "markdown",
   "id": "944579b6",
   "metadata": {},
   "source": [
    "OVERFLOW"
   ]
  },
  {
   "cell_type": "markdown",
   "id": "b20ebcc6",
   "metadata": {},
   "source": [
    "- usually a bug in computer code where an input size is higher than the container reserved for this input\n",
    "- INTEGER OVERFLOW - occurs when arithmetic operation attempts to create a numeric value that is outside of the range that can be represented with a given number of digits (eg. car odometer, when nr of km spots is [][][][][][] and odometer shows 999999, adding one more digit will result in integer overflow, which is shown as 000000-again on the odometer\n",
    "- BUFFER OVERFLOW - a situation whereby the incoming data size exceeds that which can be accommodated by a buffer\n",
    "- STACK OVERFLOW - occurs if the call stack pointer exceeds the stack bound"
   ]
  },
  {
   "cell_type": "markdown",
   "id": "d1b29eb3",
   "metadata": {},
   "source": [
    "ORDINAL VALUE OF STRING CHARACTERS - UNICODE CODE POINTS NUMBERS"
   ]
  },
  {
   "cell_type": "code",
   "execution_count": 40,
   "id": "2e6b9d24",
   "metadata": {},
   "outputs": [
    {
     "data": {
      "text/plain": [
       "[8364, 117, 114, 111]"
      ]
     },
     "execution_count": 40,
     "metadata": {},
     "output_type": "execute_result"
    }
   ],
   "source": [
    "[ord(c) for c in \"€uro\"]"
   ]
  },
  {
   "cell_type": "markdown",
   "id": "d1bd1ac7",
   "metadata": {},
   "source": [
    "BITWISE OPERATORS"
   ]
  },
  {
   "cell_type": "markdown",
   "id": "ff9b8074",
   "metadata": {},
   "source": [
    "- making operations on individual bits (0 or 1)\n",
    "- you can use bitwise operators to perform Boolean logic on individual bits\n",
    "- in most cases, you should only perform bitwise operations on bits and integers\n",
    "- working with binary numbers convention\n",
    "- there are two types of operations: basic operators (&, |, ^, ~, <<, >>) and compound operators ($=, |=, ^=, <<=, >>=)\n"
   ]
  },
  {
   "cell_type": "code",
   "execution_count": null,
   "id": "f645b4ce",
   "metadata": {},
   "outputs": [],
   "source": [
    "CHECKING NUMBER OF BITS IN AN INDIVIDUAL CHARACTER"
   ]
  },
  {
   "cell_type": "code",
   "execution_count": 41,
   "id": "2a3e3b13",
   "metadata": {},
   "outputs": [
    {
     "data": {
      "text/plain": [
       "6"
      ]
     },
     "execution_count": 41,
     "metadata": {},
     "output_type": "execute_result"
    }
   ],
   "source": [
    "(42).bit_length()\n",
    "# without parenthesis around the number, it would be treated as floating-point literal"
   ]
  },
  {
   "cell_type": "markdown",
   "id": "2737e2a9",
   "metadata": {},
   "source": [
    "HOW DO YOU REPRESENT BITS AS BYTES (AND KEEPING BINARY NOTATION)?"
   ]
  },
  {
   "cell_type": "markdown",
   "id": "5696e16a",
   "metadata": {},
   "source": [
    "- by adding leading zeros, so all characters have the same length (multiples of bytes)"
   ]
  },
  {
   "cell_type": "markdown",
   "id": "68f01bfc",
   "metadata": {},
   "source": [
    "€ - 100000 10101100 (variable-length), 00100000 10101100 (fixed length)\n",
    "u - 1110101, 00000000 01110101\n",
    "r - 1110010, 00000000 01110010\n",
    "o - 1101111, 00000000 01101111"
   ]
  },
  {
   "cell_type": "markdown",
   "id": "fa4e25bf",
   "metadata": {},
   "source": [
    "HOW TO CHECK NUMBER OF BYTES USED BY ENCODED STRING?"
   ]
  },
  {
   "cell_type": "code",
   "execution_count": 42,
   "id": "e707b5d9",
   "metadata": {},
   "outputs": [],
   "source": [
    "s = \"€uro\".encode('utf-8')"
   ]
  },
  {
   "cell_type": "code",
   "execution_count": 43,
   "id": "2e30328d",
   "metadata": {},
   "outputs": [
    {
     "data": {
      "text/plain": [
       "6"
      ]
     },
     "execution_count": 43,
     "metadata": {},
     "output_type": "execute_result"
    }
   ],
   "source": [
    "len(s) # six bytes, 1 byte for 'u', 1 byte for 'r', 1 byte for 'o', 3 bytes for '€'"
   ]
  },
  {
   "cell_type": "code",
   "execution_count": 44,
   "id": "bd98aa86",
   "metadata": {},
   "outputs": [
    {
     "name": "stdout",
     "output_type": "stream",
     "text": [
      "€ 3\n",
      "u 1\n",
      "r 1\n",
      "o 1\n"
     ]
    }
   ],
   "source": [
    "for char in \"€uro\":\n",
    "    print(char, len(char.encode('utf-8')))"
   ]
  },
  {
   "cell_type": "markdown",
   "id": "23604d29",
   "metadata": {},
   "source": [
    "Bitwise AND"
   ]
  },
  {
   "cell_type": "markdown",
   "id": "2ba0ac48",
   "metadata": {},
   "source": [
    "- performs logical conjuction on the corresponding bits of its operands\n",
    "- returns 1 if a = 1 AND b = 1, 0 if any or all of a,b are 0\n",
    "- algebraically bitwise AND is a product on each of the bits at index i (one multiplied by one gives one, anything multiplied by zero gives zero)\n",
    "- alternatively you can take minimum of of the two bits in each pair"
   ]
  },
  {
   "cell_type": "code",
   "execution_count": 45,
   "id": "479566e7",
   "metadata": {},
   "outputs": [
    {
     "data": {
      "text/plain": [
       "[1, 0, 0, 1, 1, 1, 0, 0]"
      ]
     },
     "execution_count": 45,
     "metadata": {},
     "output_type": "execute_result"
    }
   ],
   "source": [
    "[1,0,0,1,1,1,0,0] # a (156 decimal)"
   ]
  },
  {
   "cell_type": "code",
   "execution_count": 46,
   "id": "285b72ac",
   "metadata": {},
   "outputs": [
    {
     "data": {
      "text/plain": [
       "[0, 0, 1, 1, 0, 1, 0, 0]"
      ]
     },
     "execution_count": 46,
     "metadata": {},
     "output_type": "execute_result"
    }
   ],
   "source": [
    "[0,0,1,1,0,1,0,0] # b (52 decimal)"
   ]
  },
  {
   "cell_type": "code",
   "execution_count": 48,
   "id": "12b6e912",
   "metadata": {},
   "outputs": [
    {
     "data": {
      "text/plain": [
       "[0, 0, 0, 1, 0, 1, 0, 0]"
      ]
     },
     "execution_count": 48,
     "metadata": {},
     "output_type": "execute_result"
    }
   ],
   "source": [
    "[0,0,0,1,0,1,0,0] # a & b (20 decimal)"
   ]
  },
  {
   "cell_type": "code",
   "execution_count": 82,
   "id": "9fca8514",
   "metadata": {},
   "outputs": [
    {
     "data": {
      "text/plain": [
       "20"
      ]
     },
     "execution_count": 82,
     "metadata": {},
     "output_type": "execute_result"
    }
   ],
   "source": [
    "156 & 52"
   ]
  },
  {
   "cell_type": "markdown",
   "id": "f826f50a",
   "metadata": {},
   "source": [
    "Bitwise OR"
   ]
  },
  {
   "cell_type": "markdown",
   "id": "37dabe8d",
   "metadata": {},
   "source": [
    "- performs logical disjunction\n",
    "- for each corresponding pair of bits, it returns a one if at least one of them is switched on\n",
    "- the resulting bit pattern is a union of the operator's arguments\n",
    "- only the combination of two zeros gives a zero in the final output\n",
    "- the arithimetic behind it is a combination of a sum and a product of the values (1: (1+1)-(1*1)=2-1=1, 1: (1+0)-(1*0)=1-0=1, 0: (0+0)-(0*0)=0-0=0)\n",
    "- you could also take maximum of the two bits in each pair to get the same result"
   ]
  },
  {
   "cell_type": "code",
   "execution_count": 49,
   "id": "9a219a07",
   "metadata": {},
   "outputs": [
    {
     "data": {
      "text/plain": [
       "[1, 0, 0, 1, 1, 1, 0, 0]"
      ]
     },
     "execution_count": 49,
     "metadata": {},
     "output_type": "execute_result"
    }
   ],
   "source": [
    "[1,0,0,1,1,1,0,0] # a"
   ]
  },
  {
   "cell_type": "code",
   "execution_count": 50,
   "id": "a3404ca1",
   "metadata": {},
   "outputs": [
    {
     "data": {
      "text/plain": [
       "[0, 0, 1, 1, 0, 1, 0, 0]"
      ]
     },
     "execution_count": 50,
     "metadata": {},
     "output_type": "execute_result"
    }
   ],
   "source": [
    "[0,0,1,1,0,1,0,0] # b"
   ]
  },
  {
   "cell_type": "code",
   "execution_count": 51,
   "id": "751061a5",
   "metadata": {},
   "outputs": [
    {
     "data": {
      "text/plain": [
       "[1, 0, 1, 1, 1, 1, 0, 0]"
      ]
     },
     "execution_count": 51,
     "metadata": {},
     "output_type": "execute_result"
    }
   ],
   "source": [
    "[1,0,1,1,1,1,0,0] # a | b"
   ]
  },
  {
   "cell_type": "code",
   "execution_count": 83,
   "id": "e5d06d28",
   "metadata": {},
   "outputs": [
    {
     "data": {
      "text/plain": [
       "188"
      ]
     },
     "execution_count": 83,
     "metadata": {},
     "output_type": "execute_result"
    }
   ],
   "source": [
    "156 | 52"
   ]
  },
  {
   "cell_type": "markdown",
   "id": "8e27fb2f",
   "metadata": {},
   "source": [
    "Bitwise XOR"
   ]
  },
  {
   "cell_type": "markdown",
   "id": "f8614794",
   "metadata": {},
   "source": [
    "- it doesn't have a logical counterpart in Python\n",
    "- it evaluates two mutually exclusive conditions and tells you whether exactly one of them is met\n",
    "- example: a person can either be a minor or an adult, but not both at the same time\n",
    "- XOR stands for 'exclusive for', since it performs exclusive disjunction on the bit pairs\n",
    "- visually, its a simetric difference\n",
    "- arithmetically, XOR is a sum and modulo 2, (a+b)mod2\n",
    "- (1+1)mod2 = 2mod2 = 0, (1+0)mod2 = 1mod2 = 1, (0+0)mod2 = 0mod2 = 0\n",
    "- in other words, XOR is a difference between max and min of both bits in each pair"
   ]
  },
  {
   "cell_type": "code",
   "execution_count": 53,
   "id": "493653b0",
   "metadata": {},
   "outputs": [
    {
     "data": {
      "text/plain": [
       "[1, 0, 0, 1, 1, 1, 0, 0]"
      ]
     },
     "execution_count": 53,
     "metadata": {},
     "output_type": "execute_result"
    }
   ],
   "source": [
    "[1,0,0,1,1,1,0,0] # a"
   ]
  },
  {
   "cell_type": "code",
   "execution_count": 54,
   "id": "9c6367a3",
   "metadata": {},
   "outputs": [
    {
     "data": {
      "text/plain": [
       "[0, 0, 1, 1, 0, 1, 0, 0]"
      ]
     },
     "execution_count": 54,
     "metadata": {},
     "output_type": "execute_result"
    }
   ],
   "source": [
    "[0,0,1,1,0,1,0,0] # b"
   ]
  },
  {
   "cell_type": "code",
   "execution_count": 55,
   "id": "3ba18c68",
   "metadata": {},
   "outputs": [
    {
     "data": {
      "text/plain": [
       "[1, 0, 1, 0, 1, 0, 0, 0]"
      ]
     },
     "execution_count": 55,
     "metadata": {},
     "output_type": "execute_result"
    }
   ],
   "source": [
    "[1,0,1,0,1,0,0,0] # a ^ b"
   ]
  },
  {
   "cell_type": "markdown",
   "id": "842f6a06",
   "metadata": {},
   "source": [
    "PYTHON IMPLEMENTATION OF XOR USING REGULAR SYNTAX"
   ]
  },
  {
   "cell_type": "code",
   "execution_count": 56,
   "id": "09909aa5",
   "metadata": {},
   "outputs": [],
   "source": [
    "def xor(a, b):\n",
    "    return (a and not b) or (not a and b)"
   ]
  },
  {
   "cell_type": "code",
   "execution_count": 57,
   "id": "bb777cdf",
   "metadata": {},
   "outputs": [
    {
     "data": {
      "text/plain": [
       "True"
      ]
     },
     "execution_count": 57,
     "metadata": {},
     "output_type": "execute_result"
    }
   ],
   "source": [
    "xor(1,0)"
   ]
  },
  {
   "cell_type": "code",
   "execution_count": 58,
   "id": "c4d389e3",
   "metadata": {},
   "outputs": [
    {
     "data": {
      "text/plain": [
       "1"
      ]
     },
     "execution_count": 58,
     "metadata": {},
     "output_type": "execute_result"
    }
   ],
   "source": [
    "xor(0,1)"
   ]
  },
  {
   "cell_type": "code",
   "execution_count": 59,
   "id": "77d2323c",
   "metadata": {},
   "outputs": [
    {
     "data": {
      "text/plain": [
       "False"
      ]
     },
     "execution_count": 59,
     "metadata": {},
     "output_type": "execute_result"
    }
   ],
   "source": [
    "xor(1,1)"
   ]
  },
  {
   "cell_type": "code",
   "execution_count": 60,
   "id": "8c464618",
   "metadata": {},
   "outputs": [
    {
     "data": {
      "text/plain": [
       "0"
      ]
     },
     "execution_count": 60,
     "metadata": {},
     "output_type": "execute_result"
    }
   ],
   "source": [
    "xor(0,0)"
   ]
  },
  {
   "cell_type": "markdown",
   "id": "b6093fbe",
   "metadata": {},
   "source": [
    "Bitwise NOT"
   ]
  },
  {
   "cell_type": "markdown",
   "id": "73be269f",
   "metadata": {},
   "source": [
    "- expects only one argument, making in it the only unary bitwise operator\n",
    "- it performs a logical negation on a given number by flipping all of its bits\n",
    "- arithmetically, NOT operator is a substraction of individual bit from one\n",
    "- 1: 1-1=0, 0: 1-0=1"
   ]
  },
  {
   "cell_type": "code",
   "execution_count": 61,
   "id": "636f0ef3",
   "metadata": {},
   "outputs": [
    {
     "data": {
      "text/plain": [
       "[1, 0, 0, 1, 1, 1, 0, 0]"
      ]
     },
     "execution_count": 61,
     "metadata": {},
     "output_type": "execute_result"
    }
   ],
   "source": [
    "[1,0,0,1,1,1,0,0] # a"
   ]
  },
  {
   "cell_type": "code",
   "execution_count": 62,
   "id": "8131b1d3",
   "metadata": {},
   "outputs": [
    {
     "data": {
      "text/plain": [
       "[0, 1, 1, 0, 0, 0, 1, 1]"
      ]
     },
     "execution_count": 62,
     "metadata": {},
     "output_type": "execute_result"
    }
   ],
   "source": [
    "[0,1,1,0,0,0,1,1]"
   ]
  },
  {
   "cell_type": "markdown",
   "id": "feee7098",
   "metadata": {},
   "source": [
    "UNSIGNED DATA TYPES"
   ]
  },
  {
   "cell_type": "markdown",
   "id": "ecb6636d",
   "metadata": {},
   "source": [
    "- unsigned data types don't let you store negative numbers such as -278 becuase there is no space for a sign in a regular bit pattern; trying to do so would result in a compilation error, a runtime exception, or an integer overflow\n",
    "- although there are ways to simulate unsigned integers, Python doesn't support them natively\n",
    "- ALL PYTHON NUMBERS ARE SIGNED, that means all numbers have an implicit sign attached to them whether you specify it or not"
   ]
  },
  {
   "cell_type": "code",
   "execution_count": 63,
   "id": "23ec1369",
   "metadata": {},
   "outputs": [
    {
     "data": {
      "text/plain": [
       "-157"
      ]
     },
     "execution_count": 63,
     "metadata": {},
     "output_type": "execute_result"
    }
   ],
   "source": [
    "~156 # I don't get this yet, will have to come back here"
   ]
  },
  {
   "cell_type": "code",
   "execution_count": 64,
   "id": "e46a8644",
   "metadata": {},
   "outputs": [
    {
     "data": {
      "text/plain": [
       "-2"
      ]
     },
     "execution_count": 64,
     "metadata": {},
     "output_type": "execute_result"
    }
   ],
   "source": [
    "~1"
   ]
  },
  {
   "cell_type": "markdown",
   "id": "8e9e227b",
   "metadata": {},
   "source": [
    "LEFT SHIFT BITWISE OPERATOR"
   ]
  },
  {
   "cell_type": "code",
   "execution_count": null,
   "id": "a22c7c04",
   "metadata": {},
   "outputs": [],
   "source": [
    "a << 1 # left shift by one place"
   ]
  },
  {
   "cell_type": "markdown",
   "id": "1f6d94b8",
   "metadata": {},
   "source": [
    "- bitwise left operator moves the bits of its first operand to the left by the number of places specified in its second operand\n",
    "- it also takes care of inserting enough zero bits to fill the gap that arises on the right edge of the new bit pattern\n",
    "- the left shift is a popular optimization technique because bit shifting is a single instruction and is cheaper to calculate than exponent or product"
   ]
  },
  {
   "cell_type": "code",
   "execution_count": 65,
   "id": "8b69d1b5",
   "metadata": {},
   "outputs": [
    {
     "data": {
      "text/plain": [
       "[1, 0, 0, 1, 1, 1, 0, 0]"
      ]
     },
     "execution_count": 65,
     "metadata": {},
     "output_type": "execute_result"
    }
   ],
   "source": [
    "[1,0,0,1,1,1,0] # a, shift by one"
   ]
  },
  {
   "cell_type": "code",
   "execution_count": null,
   "id": "9633dd39",
   "metadata": {},
   "outputs": [],
   "source": [
    "[1,0,0,1,1,1,0,0]"
   ]
  },
  {
   "cell_type": "markdown",
   "id": "03fcd0f7",
   "metadata": {},
   "source": [
    "- in general, shifting bits to the left corresponds to multiplying the number by the power of two with an exponent equal to the number of places shifted a << n = a * 2^n\n",
    "- shifting a single bit to the left by one place doubles with value\n",
    "- 101000 (decimal 40), shift by one to the left, 1010000 (decimal 80)\n",
    "- shifting a single bit to the left by one place quadruples with value\n",
    "- 101000 (decimal 40), shift by one to the left, 10100000 (decimal 160)"
   ]
  },
  {
   "cell_type": "code",
   "execution_count": 69,
   "id": "db7898f9",
   "metadata": {},
   "outputs": [
    {
     "data": {
      "text/plain": [
       "40"
      ]
     },
     "execution_count": 69,
     "metadata": {},
     "output_type": "execute_result"
    }
   ],
   "source": [
    "20 << 1"
   ]
  },
  {
   "cell_type": "code",
   "execution_count": 70,
   "id": "5e9b284c",
   "metadata": {},
   "outputs": [
    {
     "data": {
      "text/plain": [
       "80"
      ]
     },
     "execution_count": 70,
     "metadata": {},
     "output_type": "execute_result"
    }
   ],
   "source": [
    "40 << 1"
   ]
  },
  {
   "cell_type": "code",
   "execution_count": 71,
   "id": "6a5d1b14",
   "metadata": {},
   "outputs": [
    {
     "data": {
      "text/plain": [
       "160"
      ]
     },
     "execution_count": 71,
     "metadata": {},
     "output_type": "execute_result"
    }
   ],
   "source": [
    "40 << 2"
   ]
  },
  {
   "cell_type": "code",
   "execution_count": null,
   "id": "0ffa35fe",
   "metadata": {},
   "outputs": [],
   "source": []
  },
  {
   "cell_type": "markdown",
   "id": "3cfee9f1",
   "metadata": {},
   "source": [
    "BITMASK ON LEFT SHIFT"
   ]
  },
  {
   "cell_type": "code",
   "execution_count": null,
   "id": "ebfaaf4c",
   "metadata": {},
   "outputs": [],
   "source": [
    "- allows you to keep the number of integers equal to a byte (8 bits)\n",
    "- it looks like looking at unbounded stream of bits through a fixed-length window"
   ]
  },
  {
   "cell_type": "code",
   "execution_count": 66,
   "id": "6b53afee",
   "metadata": {},
   "outputs": [
    {
     "data": {
      "text/plain": [
       "312"
      ]
     },
     "execution_count": 66,
     "metadata": {},
     "output_type": "execute_result"
    }
   ],
   "source": [
    "39 << 3"
   ]
  },
  {
   "cell_type": "code",
   "execution_count": 67,
   "id": "46f7d727",
   "metadata": {},
   "outputs": [
    {
     "data": {
      "text/plain": [
       "56"
      ]
     },
     "execution_count": 67,
     "metadata": {},
     "output_type": "execute_result"
    }
   ],
   "source": [
    "(39 << 3) & 255"
   ]
  },
  {
   "cell_type": "markdown",
   "id": "0403f789",
   "metadata": {},
   "source": [
    "- Shifting 39 by three places to the left returns a number higher than the maximum value that you can store on a single byte. It takes nine bits, whereas a byte has only eight. To chop off that one extra bit on the left, you can apply a bitmask with the appropriate value. If you’d like to keep more or fewer bits, then you’ll need to modify the mask value accordingly."
   ]
  },
  {
   "cell_type": "markdown",
   "id": "2b0fba0d",
   "metadata": {},
   "source": [
    "RIGHT SHIFT BITWISE OPERATOR"
   ]
  },
  {
   "cell_type": "code",
   "execution_count": null,
   "id": "40695c40",
   "metadata": {},
   "outputs": [],
   "source": [
    "a >> 1 # right shift by one place"
   ]
  },
  {
   "cell_type": "markdown",
   "id": "57a3bea4",
   "metadata": {},
   "source": [
    "- the right shift bitwise operator is analogous to the left shift, but instead of moving bits to the left, it pushes them to the right by the specified order\n",
    "- the rightmost bits always get dropped\n",
    "- every time you shift to the right, you halve its underlying value\n",
    "- moving the same bit by two places produces a quarter of the original value\n",
    "- halving an odd number such as 157, would produce a fraction. To get rid of it, the right shift operator automatically floors the result"
   ]
  },
  {
   "cell_type": "code",
   "execution_count": 72,
   "id": "782163ca",
   "metadata": {},
   "outputs": [
    {
     "data": {
      "text/plain": [
       "20"
      ]
     },
     "execution_count": 72,
     "metadata": {},
     "output_type": "execute_result"
    }
   ],
   "source": [
    "40 >> 1"
   ]
  },
  {
   "cell_type": "code",
   "execution_count": 73,
   "id": "b866d394",
   "metadata": {},
   "outputs": [
    {
     "data": {
      "text/plain": [
       "10"
      ]
     },
     "execution_count": 73,
     "metadata": {},
     "output_type": "execute_result"
    }
   ],
   "source": [
    "40 >> 2"
   ]
  },
  {
   "cell_type": "markdown",
   "id": "bf5abd31",
   "metadata": {},
   "source": [
    "- arithmetically, right shift operator is floor division (integer division) by a power of two\n",
    "- a >> n = [a/2^n]"
   ]
  },
  {
   "cell_type": "code",
   "execution_count": 76,
   "id": "0d2246fa",
   "metadata": {},
   "outputs": [
    {
     "data": {
      "text/plain": [
       "2"
      ]
     },
     "execution_count": 76,
     "metadata": {},
     "output_type": "execute_result"
    }
   ],
   "source": [
    "5 >> 1"
   ]
  },
  {
   "cell_type": "code",
   "execution_count": 77,
   "id": "51efb6ee",
   "metadata": {},
   "outputs": [
    {
     "data": {
      "text/plain": [
       "2"
      ]
     },
     "execution_count": 77,
     "metadata": {},
     "output_type": "execute_result"
    }
   ],
   "source": [
    "5 // 2"
   ]
  },
  {
   "cell_type": "code",
   "execution_count": 78,
   "id": "b6fc2209",
   "metadata": {},
   "outputs": [
    {
     "data": {
      "text/plain": [
       "2.5"
      ]
     },
     "execution_count": 78,
     "metadata": {},
     "output_type": "execute_result"
    }
   ],
   "source": [
    "5 / 2"
   ]
  },
  {
   "cell_type": "markdown",
   "id": "983dced2",
   "metadata": {},
   "source": [
    "RIGHT SHIFT BITWISE OPERATOR ON NEGATIVE NUMBERS"
   ]
  },
  {
   "cell_type": "markdown",
   "id": "72a4f7fa",
   "metadata": {},
   "source": [
    "- the bitwise right shift operator and the floor division both work the same way even for negative numbers\n",
    "- however, the floor division lets you choose any divisor and not just a power of two"
   ]
  },
  {
   "cell_type": "code",
   "execution_count": 79,
   "id": "d9e4ef0e",
   "metadata": {},
   "outputs": [
    {
     "data": {
      "text/plain": [
       "-3"
      ]
     },
     "execution_count": 79,
     "metadata": {},
     "output_type": "execute_result"
    }
   ],
   "source": [
    "-5 >> 1"
   ]
  },
  {
   "cell_type": "code",
   "execution_count": 80,
   "id": "efa6c4f9",
   "metadata": {},
   "outputs": [
    {
     "data": {
      "text/plain": [
       "-3"
      ]
     },
     "execution_count": 80,
     "metadata": {},
     "output_type": "execute_result"
    }
   ],
   "source": [
    "-5 // 2"
   ]
  },
  {
   "cell_type": "markdown",
   "id": "338d0d52",
   "metadata": {},
   "source": [
    "WHAT HAPPENS WHEN YOU RUN OUT OF BITS TO SHIFT?"
   ]
  },
  {
   "cell_type": "code",
   "execution_count": 85,
   "id": "b0e127da",
   "metadata": {},
   "outputs": [
    {
     "data": {
      "text/plain": [
       "0"
      ]
     },
     "execution_count": 85,
     "metadata": {},
     "output_type": "execute_result"
    }
   ],
   "source": [
    "2 >> 5"
   ]
  },
  {
   "cell_type": "markdown",
   "id": "0e76a3dd",
   "metadata": {},
   "source": [
    "- once there are no more bits switched on, you're stuck with a value of zero\n",
    "- zero divided by anything will always return zero"
   ]
  },
  {
   "cell_type": "code",
   "execution_count": 86,
   "id": "e2432f3c",
   "metadata": {},
   "outputs": [
    {
     "data": {
      "text/plain": [
       "-1"
      ]
     },
     "execution_count": 86,
     "metadata": {},
     "output_type": "execute_result"
    }
   ],
   "source": [
    "-2 >> 5"
   ]
  },
  {
   "cell_type": "markdown",
   "id": "d4056c11",
   "metadata": {},
   "source": [
    "- The rule of thumb is that, regardless of the sign, the result will be the same as a floor division by some power of two. The floor of a small negative fraction is always minus one, and that’s what you’ll get."
   ]
  },
  {
   "cell_type": "markdown",
   "id": "4490b448",
   "metadata": {},
   "source": [
    "BITMASK ON RIGHT SHIFT"
   ]
  },
  {
   "cell_type": "code",
   "execution_count": null,
   "id": "a6968dea",
   "metadata": {},
   "outputs": [],
   "source": [
    "- leading zeros are added using bitmask"
   ]
  },
  {
   "cell_type": "markdown",
   "id": "913d4711",
   "metadata": {},
   "source": [
    "SIGNED DATA TYPES"
   ]
  },
  {
   "cell_type": "markdown",
   "id": "e6a82c91",
   "metadata": {},
   "source": [
    "- all data types in Python are signed\n",
    "- this defines how binary and bytes numbers are represented: 100011100 is a different number in a signed (where first digit represents either negative or positive sign) and unsigned where the first digit is a magnitude bit itself\n",
    "- different programming languages implement this in a different way, some use signed and some unsigned convention"
   ]
  },
  {
   "cell_type": "markdown",
   "id": "eae0578d",
   "metadata": {},
   "source": [
    "SIGN BIT"
   ]
  },
  {
   "cell_type": "markdown",
   "id": "d3dab8a4",
   "metadata": {},
   "source": [
    "- sign bit lies at the far edge of the integer\n",
    "- a turned-on sign bit (1) indicates negative numbers, "
   ]
  },
  {
   "cell_type": "markdown",
   "id": "c7d55bab",
   "metadata": {},
   "source": [
    "Decimal value: -100, Signed Binary Value: 10011100, Sign bit: 1, Sign '-', Meaning: Negative nr\n",
    "Decimal value: 28, Signed Binary Value: 00011100, Sign bit: 0, Sign '+', Meaning: Positive nr or 0"
   ]
  },
  {
   "cell_type": "markdown",
   "id": "02eaa783",
   "metadata": {},
   "source": [
    "100011100 = [1][00011100] = [sign bit][magnitude bits] = Decimal value -100\n",
    "000011100 = [0][00011100] = [sign bit][magnitude bits] = Decimal value 28"
   ]
  },
  {
   "cell_type": "markdown",
   "id": "0ff237de",
   "metadata": {},
   "source": [
    "UNSIGNED RIGHT SHIFT/ ZERO-FILL RIGHT SHIFT"
   ]
  },
  {
   "cell_type": "markdown",
   "id": "0e1669f6",
   "metadata": {},
   "source": [
    "- logical right shift moves the entire binary sequence, including the sign bit to the right, and fills the resulting gap on the left with zero\n",
    "- this results in the loss of information about the sign"
   ]
  },
  {
   "cell_type": "markdown",
   "id": "e2989575",
   "metadata": {},
   "source": [
    "### PYTHONPATH"
   ]
  },
  {
   "cell_type": "markdown",
   "id": "e15a6268",
   "metadata": {},
   "source": [
    "PYTHONPATH is an environment (system, Windows) variable. It's a key-value pair defined in operating system settings. It is defined on the system level and Python interpreter uses PYTHONPATH to import Python modules without defining a full directory path. By default, Python interpreter can import modules without a full directory path from:\n",
    "- current directory\n",
    "- directory of the script\n",
    "- Python main folder\n",
    "- Python site-packages folder\n",
    "\n",
    "PYTHONPATH allows for a user defined folder or list of folders which contain Python modules, to be defined. And so these modules can be imported without need for a full directory path."
   ]
  },
  {
   "attachments": {
    "obraz.png": {
     "image/png": "[encoded data removed]"
    }
   },
   "cell_type": "markdown",
   "id": "68cf4413",
   "metadata": {},
   "source": [
    "![obraz.png](attachment:obraz.png)"
   ]
  },
  {
   "cell_type": "markdown",
   "id": "23b74f13",
   "metadata": {},
   "source": [
    "If PYTHONPATH is defined as 'C:\\Users\\Administrator\\Desktop\\MyFavoritePythonModules', and a module 'typedpython' lives in this folder. This module can be imported in any Python script simply by:"
   ]
  },
  {
   "cell_type": "code",
   "execution_count": null,
   "id": "6a902316",
   "metadata": {},
   "outputs": [],
   "source": [
    "import typedpython"
   ]
  },
  {
   "cell_type": "markdown",
   "id": "a0cabaa9",
   "metadata": {},
   "source": [
    "https://www.simplilearn.com/tutorials/python-tutorial/python-path"
   ]
  },
  {
   "cell_type": "markdown",
   "id": "00daf7d0",
   "metadata": {},
   "source": [
    "Anaconda doesn't user PYTHONPATH. However, if PYTHONPATH is set it could be used to load a library that is not in the anaconda environment. It is advised to unset PYTHONPATH before activating conda environment."
   ]
  },
  {
   "cell_type": "markdown",
   "id": "698f2b21",
   "metadata": {},
   "source": [
    "unset PYTHONPATH"
   ]
  },
  {
   "cell_type": "markdown",
   "id": "6becf0a1",
   "metadata": {},
   "source": [
    "https://stackoverflow.com/questions/17386880/does-anaconda-create-a-separate-pythonpath-variable-for-each-new-environment"
   ]
  },
  {
   "cell_type": "code",
   "execution_count": 18,
   "id": "d175db7a",
   "metadata": {},
   "outputs": [
    {
     "name": "stdout",
     "output_type": "stream",
     "text": [
      "abc z,y,x\n"
     ]
    }
   ],
   "source": [
    "a = 'A'\n",
    "b = '{} {}'\n",
    "c = 'c'\n",
    "#str = 'abc {} {}'.format(a,b).format(c, c)\n",
    "str = 'abc {}'.format(','.join(['z', 'y', 'x']))\n",
    "print(str)"
   ]
  },
  {
   "cell_type": "markdown",
   "id": "c5fca5be",
   "metadata": {},
   "source": [
    "WHAT IS MONKEY PATCHING?"
   ]
  },
  {
   "attachments": {},
   "cell_type": "markdown",
   "id": "3a3213ae",
   "metadata": {},
   "source": [
    "Monkey patching is a dynamic replacement of an attribute or a method of an object AT RUNTIME. \n",
    "\n",
    "For instance, consider a class that has a method get_data. This method does an external lookup (on a database or web API, for example), and various other methods in the class call it. However, in a unit test, you don't want to depend on the external data source - so you dynamically replace the get_data method with a stub that returns some fixed data.\n",
    "\n",
    "Because Python classes are mutable, and methods are just attributes of the class, you can do this as much as you like - and, in fact, you can even replace classes and functions in a module in exactly the same way.\n",
    "\n",
    "https://stackoverflow.com/questions/5626193/what-is-monkey-patching"
   ]
  },
  {
   "cell_type": "markdown",
   "id": "d9b3508f",
   "metadata": {},
   "source": []
  }
 ],
 "metadata": {
  "kernelspec": {
   "display_name": "bapi",
   "language": "python",
   "name": "python3"
  },
  "language_info": {
   "codemirror_mode": {
    "name": "ipython",
    "version": 3
   },
   "file_extension": ".py",
   "mimetype": "text/x-python",
   "name": "python",
   "nbconvert_exporter": "python",
   "pygments_lexer": "ipython3",
   "version": "3.10.8"
  },
  "vscode": {
   "interpreter": {
    "hash": "0fe237b9baf866acc1b04111a7a0f1d7b4602e63530aab1fde33c6f02a1ccc61"
   }
  }
 },
 "nbformat": 4,
 "nbformat_minor": 5
}
