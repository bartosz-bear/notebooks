{
 "cells": [
  {
   "attachments": {},
   "cell_type": "markdown",
   "id": "533c106d",
   "metadata": {},
   "source": [
    "### WHAT TO DO WHEN TEXT IS A CHARACTER IS DELETED ON TYPING?"
   ]
  },
  {
   "attachments": {},
   "cell_type": "markdown",
   "id": "6ad4c86a",
   "metadata": {},
   "source": [
    "Press INSERT button"
   ]
  },
  {
   "cell_type": "markdown",
   "id": "3aff2742",
   "metadata": {},
   "source": []
  }
 ],
 "metadata": {
  "kernelspec": {
   "display_name": "Python 3 (ipykernel)",
   "language": "python",
   "name": "python3"
  },
  "language_info": {
   "codemirror_mode": {
    "name": "ipython",
    "version": 3
   },
   "file_extension": ".py",
   "mimetype": "text/x-python",
   "name": "python",
   "nbconvert_exporter": "python",
   "pygments_lexer": "ipython3",
   "version": "3.9.12"
  }
 },
 "nbformat": 4,
 "nbformat_minor": 5
}
