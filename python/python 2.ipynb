{
 "cells": [
  {
   "cell_type": "markdown",
   "id": "d3aad295",
   "metadata": {},
   "source": [
    "USING ; TO RUN TWO EXPRESSIONS IN ONE LINE"
   ]
  },
  {
   "cell_type": "code",
   "execution_count": null,
   "id": "8e6fac5b",
   "metadata": {},
   "outputs": [],
   "source": [
    "print \"text\", ; print 'print more text on the same line'"
   ]
  },
  {
   "cell_type": "markdown",
   "id": "7e739650",
   "metadata": {},
   "source": [
    "PRINT IS A STATEMENT, NOT A FUNCTION CALL"
   ]
  },
  {
   "cell_type": "markdown",
   "id": "844ed0c8",
   "metadata": {},
   "source": [
    "- because print is a statement, and not a function call, if you print using parenthese like print('hello'), you can use maximum one string\n",
    "- if you use two strings, like print('hello', 'there'),a tuple will be created"
   ]
  },
  {
   "cell_type": "code",
   "execution_count": null,
   "id": "12c3dcfb",
   "metadata": {},
   "outputs": [],
   "source": [
    "print 'Python', python_version()\n",
    "print('a', 'b')\n",
    "print 'a', 'b'"
   ]
  },
  {
   "cell_type": "code",
   "execution_count": null,
   "id": "a43de052",
   "metadata": {},
   "outputs": [],
   "source": [
    "Python 2.7.7\n",
    "('a', 'b')\n",
    "a b"
   ]
  },
  {
   "cell_type": "markdown",
   "id": "e903818e",
   "metadata": {},
   "source": [
    "INTEGER DIVISION"
   ]
  },
  {
   "cell_type": "code",
   "execution_count": null,
   "id": "75dab0f4",
   "metadata": {},
   "outputs": [],
   "source": [
    "print 3 / 2"
   ]
  },
  {
   "cell_type": "markdown",
   "id": "1f168600",
   "metadata": {},
   "source": [
    "3 / 2 = 1"
   ]
  },
  {
   "cell_type": "code",
   "execution_count": null,
   "id": "c43f16d0",
   "metadata": {},
   "outputs": [],
   "source": [
    "print 3 // 2"
   ]
  },
  {
   "cell_type": "markdown",
   "id": "20e0cdcd",
   "metadata": {},
   "source": [
    "3 // 2 = 1"
   ]
  },
  {
   "cell_type": "code",
   "execution_count": null,
   "id": "b0ec7cca",
   "metadata": {},
   "outputs": [],
   "source": [
    "print 3 / 2.0"
   ]
  },
  {
   "cell_type": "markdown",
   "id": "cd2eccbd",
   "metadata": {},
   "source": [
    "3 / 2.0 = 1.5"
   ]
  },
  {
   "cell_type": "code",
   "execution_count": null,
   "id": "94c9f5b5",
   "metadata": {},
   "outputs": [],
   "source": [
    "print 3 // 2.0"
   ]
  },
  {
   "cell_type": "markdown",
   "id": "3cb0dbef",
   "metadata": {},
   "source": [
    "3 // 2.0 = 1.0"
   ]
  },
  {
   "cell_type": "markdown",
   "id": "add14fab",
   "metadata": {},
   "source": [
    "STRING TYPES"
   ]
  },
  {
   "cell_type": "code",
   "execution_count": null,
   "id": "3f5561a2",
   "metadata": {},
   "outputs": [],
   "source": [
    "- python has ASCII str() types, separte unicode(), but no byte type"
   ]
  },
  {
   "cell_type": "markdown",
   "id": "9feb4666",
   "metadata": {},
   "source": [
    "DIFFERENCE BETWEEN RANGE() AND XRANGE()"
   ]
  },
  {
   "cell_type": "code",
   "execution_count": null,
   "id": "260022f9",
   "metadata": {},
   "outputs": [],
   "source": [
    "range() - returns a range object(a type of iterable)\n",
    "xrange() - returns a range generator object # lazy-evaluation"
   ]
  },
  {
   "cell_type": "markdown",
   "id": "97bccb6c",
   "metadata": {},
   "source": [
    "EXCEPTION HANDLING"
   ]
  },
  {
   "cell_type": "code",
   "execution_count": null,
   "id": "ef1a74af",
   "metadata": {},
   "outputs": [],
   "source": [
    "try:\n",
    "    let_us_cause_a_NameErro\n",
    "except NameError, err:\n",
    "    print err, 'our error message'"
   ]
  },
  {
   "cell_type": "markdown",
   "id": "6a1fd26d",
   "metadata": {},
   "source": [
    "## DIFERENCE BETWEEN PYTHON 2 AND 3"
   ]
  },
  {
   "attachments": {},
   "cell_type": "markdown",
   "id": "d8b56f8c",
   "metadata": {},
   "source": [
    "### INTEGER DIVISION"
   ]
  },
  {
   "attachments": {},
   "cell_type": "markdown",
   "id": "e9e46ade",
   "metadata": {},
   "source": [
    "- this change is particularly dangerous if you are porting code, or if you are executing Python 3 code in Python 2\n",
    "- in Pyhon 3 single slash operator does true division for all types including integers"
   ]
  },
  {
   "attachments": {},
   "cell_type": "markdown",
   "id": "83027525",
   "metadata": {},
   "source": [
    "### PYTHON BYTE-CODE FILES AND `__pycache___`\n"
   ]
  },
  {
   "attachments": {},
   "cell_type": "markdown",
   "id": "425a63c1",
   "metadata": {},
   "source": [
    "- in Python 2 .pyc files are created in the same directory as .py files\n",
    "- in Python 3 .pyc files are created in a folder called __pycache__"
   ]
  },
  {
   "attachments": {},
   "cell_type": "markdown",
   "id": "69c72a0c",
   "metadata": {},
   "source": [
    "### UNICODE"
   ]
  },
  {
   "attachments": {},
   "cell_type": "markdown",
   "id": "690b2ef9",
   "metadata": {},
   "source": [
    "- Python 2 has str type which is ASCII, a function to create unicode strings (unicode()), no byte type, but has byte array types\n",
    "- Python 3 has str type which is Unicode(utf-8), no separate ASCII and byte as well as bytearray types\n"
   ]
  },
  {
   "attachments": {},
   "cell_type": "markdown",
   "id": "a460c6c3",
   "metadata": {},
   "source": [
    "### RANGE AND XRANGE"
   ]
  },
  {
   "attachments": {},
   "cell_type": "markdown",
   "id": "9ea746ce",
   "metadata": {},
   "source": [
    "- Python 2 had range and xrange objects\n",
    "- Python 3 only has a range object\n",
    "- Python 3 has a __contains__ method that speed up \"look-ups\" in Python 3.x range significantly for integer and Boolean types"
   ]
  },
  {
   "attachments": {},
   "cell_type": "markdown",
   "id": "92827267",
   "metadata": {},
   "source": [
    "### RAISING EXCEPTIONS"
   ]
  },
  {
   "attachments": {},
   "cell_type": "markdown",
   "id": "a5b54eac",
   "metadata": {},
   "source": [
    "- Python 2 doesn't require an exception and 'string' argument to be enclosed in parenthesis\n",
    "- Python 3 does require it: CORRECT: raise IOError(\"file error\") INCORRECT: raise IOError, 'file error'"
   ]
  },
  {
   "attachments": {},
   "cell_type": "markdown",
   "id": "1f0fbb66",
   "metadata": {},
   "source": [
    "### HANDLING EXCEPTIONS"
   ]
  },
  {
   "attachments": {},
   "cell_type": "markdown",
   "id": "1549d4e2",
   "metadata": {},
   "source": [
    "- syntax for handling exceptions slightly changed, in Python 3, in the except clause 'as' operator is required"
   ]
  },
  {
   "attachments": {},
   "cell_type": "markdown",
   "id": "1e3d68e6",
   "metadata": {},
   "source": [
    "### NEXT() FUNCTION AND NEXT() METHOD"
   ]
  },
  {
   "attachments": {},
   "cell_type": "markdown",
   "id": "73174ccc",
   "metadata": {},
   "source": [
    "- in Python 2 it was possible to get next item from an iterator by using either next() built-in function or .next() method on an object\n",
    "- in Python 3, only next() built-in function remains"
   ]
  },
  {
   "attachments": {},
   "cell_type": "markdown",
   "id": "3c1ba256",
   "metadata": {},
   "source": [
    "### NAMESPACE LEAKS"
   ]
  },
  {
   "attachments": {},
   "cell_type": "markdown",
   "id": "815dfb0f",
   "metadata": {},
   "source": [
    "- in Python 3 for-loop variables don't leak into the global namespace anymore\n",
    "- this leaks are also controlled in list comprehensions"
   ]
  },
  {
   "attachments": {},
   "cell_type": "markdown",
   "id": "abc17228",
   "metadata": {},
   "source": [
    "### LIST COMPREHENSION SYNTAX CHANGE"
   ]
  },
  {
   "attachments": {},
   "cell_type": "markdown",
   "id": "4dc5a352",
   "metadata": {},
   "source": [
    "- in Python 2 it was possible [... for var in item1, item]\n",
    "- in Python 3 it's only possible [... for var in (item1, item2)]"
   ]
  },
  {
   "attachments": {},
   "cell_type": "markdown",
   "id": "7c1b2ee2",
   "metadata": {},
   "source": [
    "### COMPARING UNORDERABLE TYPES"
   ]
  },
  {
   "attachments": {},
   "cell_type": "markdown",
   "id": "de37864b",
   "metadata": {},
   "source": [
    "- in Python 2 it was possible to compare strings with a list or a tuple"
   ]
  }
 ],
 "metadata": {
  "kernelspec": {
   "display_name": "Python 3 (ipykernel)",
   "language": "python",
   "name": "python3"
  },
  "language_info": {
   "codemirror_mode": {
    "name": "ipython",
    "version": 3
   },
   "file_extension": ".py",
   "mimetype": "text/x-python",
   "name": "python",
   "nbconvert_exporter": "python",
   "pygments_lexer": "ipython3",
   "version": "3.9.12"
  }
 },
 "nbformat": 4,
 "nbformat_minor": 5
}
