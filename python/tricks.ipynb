{
 "cells": [
  {
   "cell_type": "markdown",
   "id": "c76247d9",
   "metadata": {},
   "source": [
    "HOW TO REVERSE A STRING?"
   ]
  },
  {
   "cell_type": "code",
   "execution_count": 1,
   "id": "24fc1f06",
   "metadata": {},
   "outputs": [
    {
     "data": {
      "text/plain": [
       "'sananab'"
      ]
     },
     "execution_count": 1,
     "metadata": {},
     "output_type": "execute_result"
    }
   ],
   "source": [
    "s = 'bananas'\n",
    "s[::-1]"
   ]
  },
  {
   "cell_type": "markdown",
   "id": "cd3048bc",
   "metadata": {},
   "source": [
    "HOW TO GET EVERY SECOND ITEM FROM A LIST?"
   ]
  },
  {
   "cell_type": "code",
   "execution_count": 3,
   "id": "c7cd5fe4",
   "metadata": {},
   "outputs": [
    {
     "data": {
      "text/plain": [
       "['a', 'c', 'e', 'g', 'i']"
      ]
     },
     "execution_count": 3,
     "metadata": {},
     "output_type": "execute_result"
    }
   ],
   "source": [
    "a = ['a','b','c','d','e','f','g','h','i']\n",
    "a[::2]"
   ]
  },
  {
   "cell_type": "code",
   "execution_count": 4,
   "id": "7018458c",
   "metadata": {},
   "outputs": [
    {
     "data": {
      "text/plain": [
       "['a', 'd', 'g']"
      ]
     },
     "execution_count": 4,
     "metadata": {},
     "output_type": "execute_result"
    }
   ],
   "source": [
    "a[::3]"
   ]
  },
  {
   "cell_type": "markdown",
   "id": "a3034d31",
   "metadata": {},
   "source": [
    "HOW TO GET EVERY SECOND ITEM FROM A LIST IN REVERSED ORDER?"
   ]
  },
  {
   "cell_type": "code",
   "execution_count": 8,
   "id": "ddf1d9a6",
   "metadata": {},
   "outputs": [
    {
     "data": {
      "text/plain": [
       "['i', 'g', 'e', 'c', 'a']"
      ]
     },
     "execution_count": 8,
     "metadata": {},
     "output_type": "execute_result"
    }
   ],
   "source": [
    "a[::-2]"
   ]
  },
  {
   "cell_type": "markdown",
   "id": "bcf567ec",
   "metadata": {},
   "source": [
    "HOW TO GET EVERY SECOND ITEM FROM THE A LIST STARTING FROM THE SECOND ITEM?"
   ]
  },
  {
   "cell_type": "code",
   "execution_count": 10,
   "id": "c53f5f0d",
   "metadata": {},
   "outputs": [
    {
     "data": {
      "text/plain": [
       "['b', 'd', 'f', 'h']"
      ]
     },
     "execution_count": 10,
     "metadata": {},
     "output_type": "execute_result"
    }
   ],
   "source": [
    "a[1::2]"
   ]
  },
  {
   "cell_type": "code",
   "execution_count": null,
   "id": "00ea985b",
   "metadata": {},
   "outputs": [],
   "source": []
  }
 ],
 "metadata": {
  "kernelspec": {
   "display_name": "Python 3 (ipykernel)",
   "language": "python",
   "name": "python3"
  },
  "language_info": {
   "codemirror_mode": {
    "name": "ipython",
    "version": 3
   },
   "file_extension": ".py",
   "mimetype": "text/x-python",
   "name": "python",
   "nbconvert_exporter": "python",
   "pygments_lexer": "ipython3",
   "version": "3.9.12"
  }
 },
 "nbformat": 4,
 "nbformat_minor": 5
}
