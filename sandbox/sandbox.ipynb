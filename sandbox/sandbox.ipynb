{
 "cells": [
  {
   "cell_type": "code",
   "execution_count": 2,
   "metadata": {},
   "outputs": [],
   "source": [
    "import pandas as pd\n",
    "import numpy as np"
   ]
  },
  {
   "cell_type": "code",
   "execution_count": 3,
   "metadata": {},
   "outputs": [],
   "source": [
    "actor_names = ['Jan Nowak', 'Steve Jobs', 'Tom Cruise']\n",
    "actor_ages = [22, 55, 61]\n",
    "actors = pd.Series(data=actor_ages, index=actor_names)"
   ]
  },
  {
   "cell_type": "code",
   "execution_count": 4,
   "metadata": {},
   "outputs": [
    {
     "data": {
      "text/plain": [
       "Jan Nowak     22\n",
       "Steve Jobs    55\n",
       "Tom Cruise    61\n",
       "dtype: int64"
      ]
     },
     "execution_count": 4,
     "metadata": {},
     "output_type": "execute_result"
    }
   ],
   "source": [
    "actors"
   ]
  },
  {
   "cell_type": "code",
   "execution_count": 10,
   "metadata": {},
   "outputs": [],
   "source": [
    "actors_dict = dict(zip(actor_names, actor_ages))"
   ]
  },
  {
   "cell_type": "code",
   "execution_count": 11,
   "metadata": {},
   "outputs": [],
   "source": [
    "zipped_series = pd.Series(actors_dict)"
   ]
  },
  {
   "cell_type": "code",
   "execution_count": 12,
   "metadata": {},
   "outputs": [
    {
     "data": {
      "text/plain": [
       "Jan Nowak     22\n",
       "Steve Jobs    55\n",
       "Tom Cruise    61\n",
       "dtype: int64"
      ]
     },
     "execution_count": 12,
     "metadata": {},
     "output_type": "execute_result"
    }
   ],
   "source": [
    "zipped_series"
   ]
  },
  {
   "cell_type": "code",
   "execution_count": 13,
   "metadata": {},
   "outputs": [
    {
     "name": "stdout",
     "output_type": "stream",
     "text": [
      "{'Jan Nowak': 22, 'Steve Jobs': 55, 'Tom Cruise': 61}\n"
     ]
    }
   ],
   "source": [
    "print(actors_dict)"
   ]
  },
  {
   "cell_type": "code",
   "execution_count": 14,
   "metadata": {},
   "outputs": [],
   "source": [
    "my_list = pd.Series(range(50))"
   ]
  },
  {
   "cell_type": "code",
   "execution_count": 15,
   "metadata": {},
   "outputs": [
    {
     "data": {
      "text/plain": [
       "0    0\n",
       "1    1\n",
       "2    2\n",
       "3    3\n",
       "4    4\n",
       "dtype: int64"
      ]
     },
     "execution_count": 15,
     "metadata": {},
     "output_type": "execute_result"
    }
   ],
   "source": [
    "my_list.head()"
   ]
  },
  {
   "cell_type": "code",
   "execution_count": 16,
   "metadata": {},
   "outputs": [],
   "source": [
    "long_s = pd.Series(range(1000))"
   ]
  },
  {
   "cell_type": "code",
   "execution_count": 17,
   "metadata": {},
   "outputs": [
    {
     "data": {
      "text/plain": [
       "0        0\n",
       "1        1\n",
       "2        2\n",
       "3        3\n",
       "4        4\n",
       "      ... \n",
       "995    995\n",
       "996    996\n",
       "997    997\n",
       "998    998\n",
       "999    999\n",
       "Length: 1000, dtype: int64"
      ]
     },
     "execution_count": 17,
     "metadata": {},
     "output_type": "execute_result"
    }
   ],
   "source": [
    "long_s"
   ]
  },
  {
   "cell_type": "code",
   "execution_count": 20,
   "metadata": {},
   "outputs": [],
   "source": [
    "pd.options.display.min_rows = 10"
   ]
  },
  {
   "cell_type": "code",
   "execution_count": 21,
   "metadata": {},
   "outputs": [
    {
     "data": {
      "text/plain": [
       "0        0\n",
       "1        1\n",
       "2        2\n",
       "3        3\n",
       "4        4\n",
       "      ... \n",
       "995    995\n",
       "996    996\n",
       "997    997\n",
       "998    998\n",
       "999    999\n",
       "Length: 1000, dtype: int64"
      ]
     },
     "execution_count": 21,
     "metadata": {},
     "output_type": "execute_result"
    }
   ],
   "source": [
    "long_s"
   ]
  },
  {
   "cell_type": "code",
   "execution_count": 30,
   "metadata": {},
   "outputs": [],
   "source": [
    "from string import ascii_lowercase\n",
    "s = pd.Series(data=range(len(ascii_lowercase)), index=list(ascii_lowercase))"
   ]
  },
  {
   "cell_type": "code",
   "execution_count": 31,
   "metadata": {},
   "outputs": [
    {
     "data": {
      "text/plain": [
       "a     0\n",
       "b     1\n",
       "c     2\n",
       "d     3\n",
       "e     4\n",
       "f     5\n",
       "g     6\n",
       "h     7\n",
       "i     8\n",
       "j     9\n",
       "k    10\n",
       "l    11\n",
       "m    12\n",
       "n    13\n",
       "o    14\n",
       "p    15\n",
       "q    16\n",
       "r    17\n",
       "s    18\n",
       "t    19\n",
       "u    20\n",
       "v    21\n",
       "w    22\n",
       "x    23\n",
       "y    24\n",
       "z    25\n",
       "dtype: int64"
      ]
     },
     "execution_count": 31,
     "metadata": {},
     "output_type": "execute_result"
    }
   ],
   "source": [
    "s"
   ]
  },
  {
   "cell_type": "code",
   "execution_count": 32,
   "metadata": {},
   "outputs": [
    {
     "data": {
      "text/plain": [
       "label_a     0\n",
       "label_b     1\n",
       "label_c     2\n",
       "label_d     3\n",
       "label_e     4\n",
       "label_f     5\n",
       "label_g     6\n",
       "label_h     7\n",
       "label_i     8\n",
       "label_j     9\n",
       "label_k    10\n",
       "label_l    11\n",
       "label_m    12\n",
       "label_n    13\n",
       "label_o    14\n",
       "label_p    15\n",
       "label_q    16\n",
       "label_r    17\n",
       "label_s    18\n",
       "label_t    19\n",
       "label_u    20\n",
       "label_v    21\n",
       "label_w    22\n",
       "label_x    23\n",
       "label_y    24\n",
       "label_z    25\n",
       "dtype: int64"
      ]
     },
     "execution_count": 32,
     "metadata": {},
     "output_type": "execute_result"
    }
   ],
   "source": [
    "s.add_prefix('label_')"
   ]
  },
  {
   "cell_type": "code",
   "execution_count": 33,
   "metadata": {},
   "outputs": [
    {
     "data": {
      "text/plain": [
       "a_hehe     0\n",
       "b_hehe     1\n",
       "c_hehe     2\n",
       "d_hehe     3\n",
       "e_hehe     4\n",
       "f_hehe     5\n",
       "g_hehe     6\n",
       "h_hehe     7\n",
       "i_hehe     8\n",
       "j_hehe     9\n",
       "k_hehe    10\n",
       "l_hehe    11\n",
       "m_hehe    12\n",
       "n_hehe    13\n",
       "o_hehe    14\n",
       "p_hehe    15\n",
       "q_hehe    16\n",
       "r_hehe    17\n",
       "s_hehe    18\n",
       "t_hehe    19\n",
       "u_hehe    20\n",
       "v_hehe    21\n",
       "w_hehe    22\n",
       "x_hehe    23\n",
       "y_hehe    24\n",
       "z_hehe    25\n",
       "dtype: int64"
      ]
     },
     "execution_count": 33,
     "metadata": {},
     "output_type": "execute_result"
    }
   ],
   "source": [
    "s.add_suffix('_hehe')"
   ]
  },
  {
   "cell_type": "code",
   "execution_count": 35,
   "metadata": {},
   "outputs": [
    {
     "data": {
      "text/plain": [
       "0    a\n",
       "3    d\n",
       "dtype: object"
      ]
     },
     "execution_count": 35,
     "metadata": {},
     "output_type": "execute_result"
    }
   ],
   "source": [
    "pd.Series(['a', 'b', 'c', 'd', 'e', 'f'])[[True if x%3==0 else False for x in range(6)]]"
   ]
  },
  {
   "cell_type": "code",
   "execution_count": 38,
   "metadata": {},
   "outputs": [
    {
     "data": {
      "text/plain": [
       "numpy.int64"
      ]
     },
     "execution_count": 38,
     "metadata": {},
     "output_type": "execute_result"
    }
   ],
   "source": [
    "type(s[0])"
   ]
  },
  {
   "cell_type": "code",
   "execution_count": 39,
   "metadata": {},
   "outputs": [],
   "source": [
    "new_s = pd.Series(['ab','ad','fds'])"
   ]
  },
  {
   "cell_type": "code",
   "execution_count": 40,
   "metadata": {},
   "outputs": [
    {
     "data": {
      "text/plain": [
       "str"
      ]
     },
     "execution_count": 40,
     "metadata": {},
     "output_type": "execute_result"
    }
   ],
   "source": [
    "type(new_s.iloc[0])"
   ]
  },
  {
   "cell_type": "code",
   "execution_count": 41,
   "metadata": {},
   "outputs": [
    {
     "data": {
      "text/plain": [
       "str"
      ]
     },
     "execution_count": 41,
     "metadata": {},
     "output_type": "execute_result"
    }
   ],
   "source": [
    "type(new_s.loc[0])"
   ]
  },
  {
   "cell_type": "code",
   "execution_count": 42,
   "metadata": {},
   "outputs": [
    {
     "data": {
      "text/plain": [
       "str"
      ]
     },
     "execution_count": 42,
     "metadata": {},
     "output_type": "execute_result"
    }
   ],
   "source": [
    "type(new_s[0])"
   ]
  },
  {
   "cell_type": "code",
   "execution_count": 43,
   "metadata": {},
   "outputs": [
    {
     "data": {
      "text/plain": [
       "0     ab\n",
       "1     ad\n",
       "2    fds\n",
       "dtype: object"
      ]
     },
     "execution_count": 43,
     "metadata": {},
     "output_type": "execute_result"
    }
   ],
   "source": [
    "new_s"
   ]
  },
  {
   "cell_type": "code",
   "execution_count": 44,
   "metadata": {},
   "outputs": [],
   "source": [
    "new_ss = pd.Series(dict(zip(['a', 'b', 'c'], ['A', 'B', 'C'])))"
   ]
  },
  {
   "cell_type": "code",
   "execution_count": 45,
   "metadata": {},
   "outputs": [
    {
     "data": {
      "text/plain": [
       "a    A\n",
       "b    B\n",
       "c    C\n",
       "dtype: object"
      ]
     },
     "execution_count": 45,
     "metadata": {},
     "output_type": "execute_result"
    }
   ],
   "source": [
    "new_ss"
   ]
  },
  {
   "cell_type": "code",
   "execution_count": 46,
   "metadata": {},
   "outputs": [
    {
     "data": {
      "text/plain": [
       "b    B\n",
       "c    C\n",
       "dtype: object"
      ]
     },
     "execution_count": 46,
     "metadata": {},
     "output_type": "execute_result"
    }
   ],
   "source": [
    "new_ss[1:]"
   ]
  },
  {
   "cell_type": "code",
   "execution_count": 47,
   "metadata": {},
   "outputs": [
    {
     "data": {
      "text/plain": [
       "b    B\n",
       "c    C\n",
       "dtype: object"
      ]
     },
     "execution_count": 47,
     "metadata": {},
     "output_type": "execute_result"
    }
   ],
   "source": [
    "new_ss.iloc[1:]"
   ]
  },
  {
   "cell_type": "code",
   "execution_count": 48,
   "metadata": {},
   "outputs": [
    {
     "data": {
      "text/plain": [
       "b    B\n",
       "c    C\n",
       "dtype: object"
      ]
     },
     "execution_count": 48,
     "metadata": {},
     "output_type": "execute_result"
    }
   ],
   "source": [
    "new_ss.loc['b':]"
   ]
  },
  {
   "cell_type": "code",
   "execution_count": 49,
   "metadata": {},
   "outputs": [
    {
     "data": {
      "text/plain": [
       "b    B\n",
       "c    C\n",
       "dtype: object"
      ]
     },
     "execution_count": 49,
     "metadata": {},
     "output_type": "execute_result"
    }
   ],
   "source": [
    "new_ss.iloc[1:]"
   ]
  },
  {
   "cell_type": "code",
   "execution_count": 50,
   "metadata": {},
   "outputs": [
    {
     "data": {
      "text/plain": [
       "26"
      ]
     },
     "execution_count": 50,
     "metadata": {},
     "output_type": "execute_result"
    }
   ],
   "source": [
    "s.size"
   ]
  },
  {
   "cell_type": "code",
   "execution_count": 52,
   "metadata": {},
   "outputs": [
    {
     "data": {
      "text/plain": [
       "a     0\n",
       "b     1\n",
       "c     2\n",
       "d     3\n",
       "e     4\n",
       "f     5\n",
       "g     6\n",
       "h     7\n",
       "i     8\n",
       "j     9\n",
       "k    10\n",
       "l    11\n",
       "m    12\n",
       "n    13\n",
       "o    14\n",
       "p    15\n",
       "q    16\n",
       "r    17\n",
       "s    18\n",
       "t    19\n",
       "u    20\n",
       "v    21\n",
       "w    22\n",
       "x    23\n",
       "y    24\n",
       "z    25\n",
       "dtype: int64"
      ]
     },
     "execution_count": 52,
     "metadata": {},
     "output_type": "execute_result"
    }
   ],
   "source": [
    "s.loc[lambda x: [True for i in range(len(s))]]"
   ]
  },
  {
   "cell_type": "code",
   "execution_count": 53,
   "metadata": {},
   "outputs": [
    {
     "data": {
      "text/plain": [
       "a     0\n",
       "b     1\n",
       "c     2\n",
       "d     3\n",
       "e     4\n",
       "f     5\n",
       "g     6\n",
       "h     7\n",
       "i     8\n",
       "j     9\n",
       "k    10\n",
       "l    11\n",
       "m    12\n",
       "n    13\n",
       "o    14\n",
       "p    15\n",
       "q    16\n",
       "r    17\n",
       "s    18\n",
       "t    19\n",
       "u    20\n",
       "v    21\n",
       "w    22\n",
       "x    23\n",
       "y    24\n",
       "z    25\n",
       "dtype: int64"
      ]
     },
     "execution_count": 53,
     "metadata": {},
     "output_type": "execute_result"
    }
   ],
   "source": [
    "s.loc[lambda x: [True for i in range(x.size)]]"
   ]
  },
  {
   "cell_type": "code",
   "execution_count": 54,
   "metadata": {},
   "outputs": [],
   "source": [
    "def every_fifth(x):\n",
    "    return [True if i%5==0 else False for i in range(x.size)]"
   ]
  },
  {
   "cell_type": "code",
   "execution_count": 55,
   "metadata": {},
   "outputs": [
    {
     "data": {
      "text/plain": [
       "a     0\n",
       "f     5\n",
       "k    10\n",
       "p    15\n",
       "u    20\n",
       "z    25\n",
       "dtype: int64"
      ]
     },
     "execution_count": 55,
     "metadata": {},
     "output_type": "execute_result"
    }
   ],
   "source": [
    "s.loc[every_fifth]"
   ]
  },
  {
   "cell_type": "code",
   "execution_count": 56,
   "metadata": {},
   "outputs": [],
   "source": [
    "squares = [x*x for x in range(100)]"
   ]
  },
  {
   "cell_type": "code",
   "execution_count": 57,
   "metadata": {},
   "outputs": [
    {
     "data": {
      "text/plain": [
       "[0,\n",
       " 1,\n",
       " 4,\n",
       " 9,\n",
       " 16,\n",
       " 25,\n",
       " 36,\n",
       " 49,\n",
       " 64,\n",
       " 81,\n",
       " 100,\n",
       " 121,\n",
       " 144,\n",
       " 169,\n",
       " 196,\n",
       " 225,\n",
       " 256,\n",
       " 289,\n",
       " 324,\n",
       " 361,\n",
       " 400,\n",
       " 441,\n",
       " 484,\n",
       " 529,\n",
       " 576,\n",
       " 625,\n",
       " 676,\n",
       " 729,\n",
       " 784,\n",
       " 841,\n",
       " 900,\n",
       " 961,\n",
       " 1024,\n",
       " 1089,\n",
       " 1156,\n",
       " 1225,\n",
       " 1296,\n",
       " 1369,\n",
       " 1444,\n",
       " 1521,\n",
       " 1600,\n",
       " 1681,\n",
       " 1764,\n",
       " 1849,\n",
       " 1936,\n",
       " 2025,\n",
       " 2116,\n",
       " 2209,\n",
       " 2304,\n",
       " 2401,\n",
       " 2500,\n",
       " 2601,\n",
       " 2704,\n",
       " 2809,\n",
       " 2916,\n",
       " 3025,\n",
       " 3136,\n",
       " 3249,\n",
       " 3364,\n",
       " 3481,\n",
       " 3600,\n",
       " 3721,\n",
       " 3844,\n",
       " 3969,\n",
       " 4096,\n",
       " 4225,\n",
       " 4356,\n",
       " 4489,\n",
       " 4624,\n",
       " 4761,\n",
       " 4900,\n",
       " 5041,\n",
       " 5184,\n",
       " 5329,\n",
       " 5476,\n",
       " 5625,\n",
       " 5776,\n",
       " 5929,\n",
       " 6084,\n",
       " 6241,\n",
       " 6400,\n",
       " 6561,\n",
       " 6724,\n",
       " 6889,\n",
       " 7056,\n",
       " 7225,\n",
       " 7396,\n",
       " 7569,\n",
       " 7744,\n",
       " 7921,\n",
       " 8100,\n",
       " 8281,\n",
       " 8464,\n",
       " 8649,\n",
       " 8836,\n",
       " 9025,\n",
       " 9216,\n",
       " 9409,\n",
       " 9604,\n",
       " 9801]"
      ]
     },
     "execution_count": 57,
     "metadata": {},
     "output_type": "execute_result"
    }
   ],
   "source": [
    "squares"
   ]
  },
  {
   "cell_type": "code",
   "execution_count": 60,
   "metadata": {},
   "outputs": [],
   "source": [
    "squares = pd.Series(squares)"
   ]
  },
  {
   "cell_type": "code",
   "execution_count": 61,
   "metadata": {},
   "outputs": [
    {
     "data": {
      "text/plain": [
       "97    9409\n",
       "98    9604\n",
       "99    9801\n",
       "dtype: int64"
      ]
     },
     "execution_count": 61,
     "metadata": {},
     "output_type": "execute_result"
    }
   ],
   "source": [
    "squares.tail(3)"
   ]
  },
  {
   "cell_type": "code",
   "execution_count": 63,
   "metadata": {},
   "outputs": [
    {
     "data": {
      "text/plain": [
       "97    9409\n",
       "98    9604\n",
       "99    9801\n",
       "dtype: int64"
      ]
     },
     "execution_count": 63,
     "metadata": {},
     "output_type": "execute_result"
    }
   ],
   "source": [
    "squares[-3:]"
   ]
  },
  {
   "cell_type": "code",
   "execution_count": 65,
   "metadata": {},
   "outputs": [
    {
     "data": {
      "text/plain": [
       "True"
      ]
     },
     "execution_count": 65,
     "metadata": {},
     "output_type": "execute_result"
    }
   ],
   "source": [
    "squares.tail(3).equals(squares[-3:])"
   ]
  },
  {
   "cell_type": "code",
   "execution_count": 78,
   "metadata": {},
   "outputs": [
    {
     "name": "stderr",
     "output_type": "stream",
     "text": [
      "/var/folders/cw/s321vfbx6j78jd3lsjfcsdyw0000gn/T/ipykernel_10149/4099952946.py:4: FutureWarning: The squeeze argument has been deprecated and will be removed in a future version. Append .squeeze(\"columns\") to the call to squeeze.\n",
      "\n",
      "\n",
      "  drinks = pd.read_csv(\"/Users/bartoszpiechnik/Desktop/pandas-bootcamp/slides/3. Series Methods And Handling/drinks.csv\",\n"
     ]
    }
   ],
   "source": [
    "#/Users/bartoszpiechnik/Desktop/pandas-bootcamp/slides/3. Series Methods And Handling\n",
    "\n",
    "\n",
    "drinks = pd.read_csv(\"/Users/bartoszpiechnik/Desktop/pandas-bootcamp/slides/3. Series Methods And Handling/drinks.csv\",\n",
    "                     usecols=['country', 'wine_servings'], index_col='country', squeeze=True)\n",
    "\n",
    "#drinks = pd.read_csv('https://andybek.com/pandas-drinks')"
   ]
  },
  {
   "cell_type": "code",
   "execution_count": 79,
   "metadata": {},
   "outputs": [
    {
     "data": {
      "text/plain": [
       "country\n",
       "Afghanistan      NaN\n",
       "Albania         54.0\n",
       "Algeria         14.0\n",
       "Andorra        312.0\n",
       "Angola          45.0\n",
       "               ...  \n",
       "Venezuela        3.0\n",
       "Vietnam          1.0\n",
       "Yemen            NaN\n",
       "Zambia           4.0\n",
       "Zimbabwe         4.0\n",
       "Name: wine_servings, Length: 193, dtype: float64"
      ]
     },
     "execution_count": 79,
     "metadata": {},
     "output_type": "execute_result"
    }
   ],
   "source": [
    "drinks"
   ]
  },
  {
   "cell_type": "code",
   "execution_count": 80,
   "metadata": {},
   "outputs": [
    {
     "data": {
      "text/plain": [
       "pandas.core.series.Series"
      ]
     },
     "execution_count": 80,
     "metadata": {},
     "output_type": "execute_result"
    }
   ],
   "source": [
    "type(drinks)"
   ]
  },
  {
   "cell_type": "code",
   "execution_count": 83,
   "metadata": {},
   "outputs": [
    {
     "name": "stderr",
     "output_type": "stream",
     "text": [
      "/var/folders/cw/s321vfbx6j78jd3lsjfcsdyw0000gn/T/ipykernel_10149/3985501847.py:1: FutureWarning: is_monotonic is deprecated and will be removed in a future version. Use is_monotonic_increasing instead.\n",
      "  pd.Series([3,2,1]).is_monotonic\n"
     ]
    },
    {
     "data": {
      "text/plain": [
       "False"
      ]
     },
     "execution_count": 83,
     "metadata": {},
     "output_type": "execute_result"
    }
   ],
   "source": [
    "pd.Series([3,2,1]).is_monotonic"
   ]
  },
  {
   "cell_type": "code",
   "execution_count": 84,
   "metadata": {},
   "outputs": [
    {
     "ename": "NameError",
     "evalue": "name 'alcohol' is not defined",
     "output_type": "error",
     "traceback": [
      "\u001b[0;31m---------------------------------------------------------------------------\u001b[0m",
      "\u001b[0;31mNameError\u001b[0m                                 Traceback (most recent call last)",
      "Cell \u001b[0;32mIn[84], line 1\u001b[0m\n\u001b[0;32m----> 1\u001b[0m alcohol\n",
      "\u001b[0;31mNameError\u001b[0m: name 'alcohol' is not defined"
     ]
    }
   ],
   "source": [
    "alcohol"
   ]
  },
  {
   "cell_type": "code",
   "execution_count": 89,
   "metadata": {},
   "outputs": [
    {
     "data": {
      "text/plain": [
       "71"
      ]
     },
     "execution_count": 89,
     "metadata": {},
     "output_type": "execute_result"
    }
   ],
   "source": [
    "drinks.nunique()"
   ]
  },
  {
   "cell_type": "code",
   "execution_count": 93,
   "metadata": {},
   "outputs": [
    {
     "data": {
      "text/plain": [
       "['Afghanistan',\n",
       " 'Bangladesh',\n",
       " 'Bhutan',\n",
       " 'Burundi',\n",
       " 'North Korea',\n",
       " 'Eritrea',\n",
       " 'Ethiopia',\n",
       " 'India',\n",
       " 'Indonesia',\n",
       " 'Iran',\n",
       " 'Iraq',\n",
       " 'Kuwait',\n",
       " 'Lesotho',\n",
       " 'Libya',\n",
       " 'Malaysia',\n",
       " 'Maldives',\n",
       " 'Marshall Islands',\n",
       " 'Mauritania',\n",
       " 'Monaco',\n",
       " 'Myanmar',\n",
       " 'Nepal',\n",
       " 'Pakistan',\n",
       " 'Rwanda',\n",
       " 'San Marino',\n",
       " 'Saudi Arabia',\n",
       " 'Somalia',\n",
       " 'Sri Lanka',\n",
       " 'Sudan',\n",
       " 'Tajikistan',\n",
       " 'Uganda',\n",
       " 'Yemen']"
      ]
     },
     "execution_count": 93,
     "metadata": {},
     "output_type": "execute_result"
    }
   ],
   "source": [
    "drinks[drinks.isnull()].index.to_list()"
   ]
  },
  {
   "cell_type": "code",
   "execution_count": 94,
   "metadata": {},
   "outputs": [
    {
     "data": {
      "text/plain": [
       "2"
      ]
     },
     "execution_count": 94,
     "metadata": {},
     "output_type": "execute_result"
    }
   ],
   "source": [
    "sum([True, False, True])"
   ]
  },
  {
   "cell_type": "code",
   "execution_count": 95,
   "metadata": {},
   "outputs": [
    {
     "data": {
      "text/plain": [
       "31"
      ]
     },
     "execution_count": 95,
     "metadata": {},
     "output_type": "execute_result"
    }
   ],
   "source": [
    "drinks.isnull().sum()"
   ]
  },
  {
   "cell_type": "code",
   "execution_count": 96,
   "metadata": {},
   "outputs": [
    {
     "data": {
      "text/plain": [
       "True"
      ]
     },
     "execution_count": 96,
     "metadata": {},
     "output_type": "execute_result"
    }
   ],
   "source": [
    "all = drinks.size\n",
    "non_nulls = drinks.count()\n",
    "nulls_only = drinks.isnull().sum()\n",
    "all == non_nulls + nulls_only"
   ]
  },
  {
   "cell_type": "code",
   "execution_count": 99,
   "metadata": {},
   "outputs": [],
   "source": [
    "wine_servings = drinks[drinks.notnull()]"
   ]
  },
  {
   "cell_type": "code",
   "execution_count": 101,
   "metadata": {},
   "outputs": [
    {
     "data": {
      "text/plain": [
       "8221.0"
      ]
     },
     "execution_count": 101,
     "metadata": {},
     "output_type": "execute_result"
    }
   ],
   "source": [
    "wine_servings.sum()"
   ]
  },
  {
   "cell_type": "code",
   "execution_count": 102,
   "metadata": {},
   "outputs": [
    {
     "data": {
      "text/plain": [
       "country\n",
       "Albania               54.0\n",
       "Algeria               14.0\n",
       "Andorra              312.0\n",
       "Angola                45.0\n",
       "Antigua & Barbuda     45.0\n",
       "Argentina            221.0\n",
       "Armenia               11.0\n",
       "Australia            212.0\n",
       "Austria              191.0\n",
       "Azerbaijan             5.0\n",
       "Name: wine_servings, dtype: float64"
      ]
     },
     "execution_count": 102,
     "metadata": {},
     "output_type": "execute_result"
    }
   ],
   "source": [
    "wine_servings.head(10)"
   ]
  },
  {
   "cell_type": "code",
   "execution_count": 103,
   "metadata": {},
   "outputs": [
    {
     "data": {
      "text/plain": [
       "2416.0"
      ]
     },
     "execution_count": 103,
     "metadata": {},
     "output_type": "execute_result"
    }
   ],
   "source": [
    "wine_servings[wine_servings < 100].sum()"
   ]
  },
  {
   "cell_type": "code",
   "execution_count": 104,
   "metadata": {},
   "outputs": [
    {
     "data": {
      "text/plain": [
       "50.74691358024691"
      ]
     },
     "execution_count": 104,
     "metadata": {},
     "output_type": "execute_result"
    }
   ],
   "source": [
    "wine_servings.mean()"
   ]
  },
  {
   "cell_type": "code",
   "execution_count": 105,
   "metadata": {},
   "outputs": [
    {
     "data": {
      "text/plain": [
       "0    1.0\n",
       "Name: wine_servings, dtype: float64"
      ]
     },
     "execution_count": 105,
     "metadata": {},
     "output_type": "execute_result"
    }
   ],
   "source": [
    "wine_servings.mode()"
   ]
  },
  {
   "cell_type": "code",
   "execution_count": 106,
   "metadata": {},
   "outputs": [
    {
     "data": {
      "text/plain": [
       "11.5"
      ]
     },
     "execution_count": 106,
     "metadata": {},
     "output_type": "execute_result"
    }
   ],
   "source": [
    "wine_servings.median()"
   ]
  },
  {
   "cell_type": "code",
   "execution_count": 109,
   "metadata": {},
   "outputs": [
    {
     "ename": "ModuleNotFoundError",
     "evalue": "No module named 'matplotlib'",
     "output_type": "error",
     "traceback": [
      "\u001b[0;31m---------------------------------------------------------------------------\u001b[0m",
      "\u001b[0;31mModuleNotFoundError\u001b[0m                       Traceback (most recent call last)",
      "Cell \u001b[0;32mIn[109], line 1\u001b[0m\n\u001b[0;32m----> 1\u001b[0m \u001b[39mimport\u001b[39;00m \u001b[39mmatplotlib\u001b[39;00m\n\u001b[1;32m      2\u001b[0m wine_servings\u001b[39m.\u001b[39mhist()\n",
      "\u001b[0;31mModuleNotFoundError\u001b[0m: No module named 'matplotlib'"
     ]
    }
   ],
   "source": [
    "import matplotlib\n",
    "wine_servings.hist()"
   ]
  },
  {
   "cell_type": "code",
   "execution_count": 110,
   "metadata": {},
   "outputs": [
    {
     "data": {
      "text/plain": [
       "count    162.000000\n",
       "mean      50.746914\n",
       "std       76.134917\n",
       "min        1.000000\n",
       "25%        3.000000\n",
       "50%       11.500000\n",
       "75%       61.250000\n",
       "max      339.000000\n",
       "Name: wine_servings, dtype: float64"
      ]
     },
     "execution_count": 110,
     "metadata": {},
     "output_type": "execute_result"
    }
   ],
   "source": [
    "wine_servings.describe()"
   ]
  },
  {
   "cell_type": "code",
   "execution_count": 115,
   "metadata": {},
   "outputs": [
    {
     "data": {
      "text/plain": [
       "1.0      0.172840\n",
       "2.0      0.061728\n",
       "7.0      0.055556\n",
       "8.0      0.043210\n",
       "5.0      0.037037\n",
       "           ...   \n",
       "218.0    0.006173\n",
       "185.0    0.006173\n",
       "78.0     0.006173\n",
       "165.0    0.006173\n",
       "22.0     0.006173\n",
       "Name: wine_servings, Length: 71, dtype: float64"
      ]
     },
     "execution_count": 115,
     "metadata": {},
     "output_type": "execute_result"
    }
   ],
   "source": [
    "wine_servings.value_counts(normalize=True)"
   ]
  },
  {
   "cell_type": "code",
   "execution_count": 116,
   "metadata": {},
   "outputs": [
    {
     "data": {
      "text/plain": [
       "1.0      28\n",
       "2.0      10\n",
       "7.0       9\n",
       "8.0       7\n",
       "5.0       6\n",
       "         ..\n",
       "218.0     1\n",
       "185.0     1\n",
       "78.0      1\n",
       "165.0     1\n",
       "22.0      1\n",
       "Name: wine_servings, Length: 71, dtype: int64"
      ]
     },
     "execution_count": 116,
     "metadata": {},
     "output_type": "execute_result"
    }
   ],
   "source": [
    "wine_servings.value_counts()"
   ]
  },
  {
   "cell_type": "code",
   "execution_count": 119,
   "metadata": {},
   "outputs": [
    {
     "data": {
      "text/plain": [
       "'Portugal'"
      ]
     },
     "execution_count": 119,
     "metadata": {},
     "output_type": "execute_result"
    }
   ],
   "source": [
    "wine_servings[wine_servings == wine_servings.max()].index[0]"
   ]
  },
  {
   "cell_type": "code",
   "execution_count": 120,
   "metadata": {},
   "outputs": [
    {
     "data": {
      "text/plain": [
       "'Portugal'"
      ]
     },
     "execution_count": 120,
     "metadata": {},
     "output_type": "execute_result"
    }
   ],
   "source": [
    "wine_servings.idxmax()"
   ]
  },
  {
   "cell_type": "code",
   "execution_count": 122,
   "metadata": {},
   "outputs": [
    {
     "data": {
      "text/plain": [
       "'Brunei'"
      ]
     },
     "execution_count": 122,
     "metadata": {},
     "output_type": "execute_result"
    }
   ],
   "source": [
    "wine_servings.idxmin()"
   ]
  },
  {
   "cell_type": "code",
   "execution_count": 123,
   "metadata": {},
   "outputs": [
    {
     "data": {
      "text/plain": [
       "339.0"
      ]
     },
     "execution_count": 123,
     "metadata": {},
     "output_type": "execute_result"
    }
   ],
   "source": [
    "wine_servings[wine_servings.idxmax()]"
   ]
  },
  {
   "cell_type": "code",
   "execution_count": 126,
   "metadata": {},
   "outputs": [
    {
     "data": {
      "text/plain": [
       "country\n",
       "Portugal             339.0\n",
       "Andorra              312.0\n",
       "Denmark              278.0\n",
       "Slovenia             276.0\n",
       "Luxembourg           271.0\n",
       "Croatia              254.0\n",
       "Italy                237.0\n",
       "Equatorial Guinea    233.0\n",
       "Argentina            221.0\n",
       "Greece               218.0\n",
       "Name: wine_servings, dtype: float64"
      ]
     },
     "execution_count": 126,
     "metadata": {},
     "output_type": "execute_result"
    }
   ],
   "source": [
    "wine_servings.sort_values(ascending=False).head(10)"
   ]
  },
  {
   "cell_type": "code",
   "execution_count": 127,
   "metadata": {},
   "outputs": [],
   "source": [
    "fifty_plus = wine_servings[wine_servings > 50]"
   ]
  },
  {
   "cell_type": "code",
   "execution_count": 129,
   "metadata": {},
   "outputs": [],
   "source": [
    "smallest = fifty_plus.nsmallest(20)"
   ]
  },
  {
   "cell_type": "code",
   "execution_count": 130,
   "metadata": {},
   "outputs": [
    {
     "data": {
      "text/plain": [
       "19.07292100831631"
      ]
     },
     "execution_count": 130,
     "metadata": {},
     "output_type": "execute_result"
    }
   ],
   "source": [
    "smallest.std()"
   ]
  },
  {
   "cell_type": "code",
   "execution_count": 131,
   "metadata": {},
   "outputs": [
    {
     "data": {
      "text/plain": [
       "73.5"
      ]
     },
     "execution_count": 131,
     "metadata": {},
     "output_type": "execute_result"
    }
   ],
   "source": [
    "smallest.median()"
   ]
  },
  {
   "cell_type": "code",
   "execution_count": 132,
   "metadata": {},
   "outputs": [
    {
     "data": {
      "text/plain": [
       "0    51.0\n",
       "1    56.0\n",
       "2    59.0\n",
       "3    74.0\n",
       "Name: wine_servings, dtype: float64"
      ]
     },
     "execution_count": 132,
     "metadata": {},
     "output_type": "execute_result"
    }
   ],
   "source": [
    "smallest.mode()"
   ]
  },
  {
   "cell_type": "code",
   "execution_count": 133,
   "metadata": {},
   "outputs": [
    {
     "data": {
      "text/plain": [
       "country\n",
       "Albania                54.0\n",
       "Andorra               312.0\n",
       "Argentina             221.0\n",
       "Australia             212.0\n",
       "Austria               191.0\n",
       "Bahamas                51.0\n",
       "Belgium               212.0\n",
       "Bulgaria               94.0\n",
       "Chile                 172.0\n",
       "Cook Islands           74.0\n",
       "Croatia               254.0\n",
       "Cyprus                113.0\n",
       "Czech Republic        134.0\n",
       "Denmark               278.0\n",
       "Equatorial Guinea     233.0\n",
       "Estonia                59.0\n",
       "Finland                97.0\n",
       "Gabon                  59.0\n",
       "Georgia               149.0\n",
       "Germany               175.0\n",
       "Greece                218.0\n",
       "Hungary               185.0\n",
       "Iceland                78.0\n",
       "Ireland               165.0\n",
       "Italy                 237.0\n",
       "Laos                  123.0\n",
       "Latvia                 62.0\n",
       "Lithuania              56.0\n",
       "Luxembourg            271.0\n",
       "Montenegro            128.0\n",
       "New Zealand           175.0\n",
       "Norway                129.0\n",
       "Paraguay               74.0\n",
       "Poland                 56.0\n",
       "Portugal              339.0\n",
       "Romania               167.0\n",
       "Russian Federation     73.0\n",
       "St. Lucia              71.0\n",
       "Serbia                127.0\n",
       "Seychelles             51.0\n",
       "Slovakia              116.0\n",
       "Slovenia              276.0\n",
       "South Africa           81.0\n",
       "Spain                 112.0\n",
       "Sweden                186.0\n",
       "Macedonia              86.0\n",
       "United Kingdom        195.0\n",
       "USA                    84.0\n",
       "Name: wine_servings, dtype: float64"
      ]
     },
     "execution_count": 133,
     "metadata": {},
     "output_type": "execute_result"
    }
   ],
   "source": [
    "fifty_plus"
   ]
  },
  {
   "cell_type": "code",
   "execution_count": 134,
   "metadata": {},
   "outputs": [],
   "source": [
    "more_drinks = pd.Series({'Albania': 1000, 'Argentina': 2000})"
   ]
  },
  {
   "cell_type": "code",
   "execution_count": 135,
   "metadata": {},
   "outputs": [
    {
     "data": {
      "text/plain": [
       "Albania               1054.0\n",
       "Andorra                312.0\n",
       "Argentina             2221.0\n",
       "Australia              212.0\n",
       "Austria                191.0\n",
       "Bahamas                 51.0\n",
       "Belgium                212.0\n",
       "Bulgaria                94.0\n",
       "Chile                  172.0\n",
       "Cook Islands            74.0\n",
       "Croatia                254.0\n",
       "Cyprus                 113.0\n",
       "Czech Republic         134.0\n",
       "Denmark                278.0\n",
       "Equatorial Guinea      233.0\n",
       "Estonia                 59.0\n",
       "Finland                 97.0\n",
       "Gabon                   59.0\n",
       "Georgia                149.0\n",
       "Germany                175.0\n",
       "Greece                 218.0\n",
       "Hungary                185.0\n",
       "Iceland                 78.0\n",
       "Ireland                165.0\n",
       "Italy                  237.0\n",
       "Laos                   123.0\n",
       "Latvia                  62.0\n",
       "Lithuania               56.0\n",
       "Luxembourg             271.0\n",
       "Macedonia               86.0\n",
       "Montenegro             128.0\n",
       "New Zealand            175.0\n",
       "Norway                 129.0\n",
       "Paraguay                74.0\n",
       "Poland                  56.0\n",
       "Portugal               339.0\n",
       "Romania                167.0\n",
       "Russian Federation      73.0\n",
       "Serbia                 127.0\n",
       "Seychelles              51.0\n",
       "Slovakia               116.0\n",
       "Slovenia               276.0\n",
       "South Africa            81.0\n",
       "Spain                  112.0\n",
       "St. Lucia               71.0\n",
       "Sweden                 186.0\n",
       "USA                     84.0\n",
       "United Kingdom         195.0\n",
       "dtype: float64"
      ]
     },
     "execution_count": 135,
     "metadata": {},
     "output_type": "execute_result"
    }
   ],
   "source": [
    "fifty_plus.add(more_drinks, fill_value=0)"
   ]
  },
  {
   "cell_type": "code",
   "execution_count": 136,
   "metadata": {},
   "outputs": [],
   "source": [
    "ser = pd.Series([1,2,3,4,5])"
   ]
  },
  {
   "cell_type": "code",
   "execution_count": 137,
   "metadata": {},
   "outputs": [
    {
     "data": {
      "text/plain": [
       "0    1\n",
       "1    2\n",
       "2    3\n",
       "3    4\n",
       "4    5\n",
       "dtype: int64"
      ]
     },
     "execution_count": 137,
     "metadata": {},
     "output_type": "execute_result"
    }
   ],
   "source": [
    "ser"
   ]
  },
  {
   "cell_type": "code",
   "execution_count": 139,
   "metadata": {},
   "outputs": [
    {
     "data": {
      "text/plain": [
       "0     1\n",
       "1     3\n",
       "2     6\n",
       "3    10\n",
       "4    15\n",
       "dtype: int64"
      ]
     },
     "execution_count": 139,
     "metadata": {},
     "output_type": "execute_result"
    }
   ],
   "source": [
    "ser.cumsum()"
   ]
  },
  {
   "cell_type": "code",
   "execution_count": 140,
   "metadata": {},
   "outputs": [
    {
     "data": {
      "text/plain": [
       "0    1\n",
       "1    1\n",
       "2    1\n",
       "3    1\n",
       "4    1\n",
       "dtype: int64"
      ]
     },
     "execution_count": 140,
     "metadata": {},
     "output_type": "execute_result"
    }
   ],
   "source": [
    "ser.cummin()"
   ]
  },
  {
   "cell_type": "code",
   "execution_count": 141,
   "metadata": {},
   "outputs": [
    {
     "data": {
      "text/plain": [
       "0    1\n",
       "1    2\n",
       "2    3\n",
       "3    4\n",
       "4    5\n",
       "dtype: int64"
      ]
     },
     "execution_count": 141,
     "metadata": {},
     "output_type": "execute_result"
    }
   ],
   "source": [
    "ser.cummax()"
   ]
  },
  {
   "cell_type": "code",
   "execution_count": 144,
   "metadata": {},
   "outputs": [
    {
     "data": {
      "text/plain": [
       "0   -1.0\n",
       "1   -1.0\n",
       "2   -1.0\n",
       "3   -1.0\n",
       "4    NaN\n",
       "dtype: float64"
      ]
     },
     "execution_count": 144,
     "metadata": {},
     "output_type": "execute_result"
    }
   ],
   "source": [
    "ser.diff(periods=-1)"
   ]
  },
  {
   "cell_type": "code",
   "execution_count": 145,
   "metadata": {},
   "outputs": [
    {
     "data": {
      "text/plain": [
       "0    1\n",
       "1    2\n",
       "2    3\n",
       "3    4\n",
       "4    5\n",
       "dtype: int64"
      ]
     },
     "execution_count": 145,
     "metadata": {},
     "output_type": "execute_result"
    }
   ],
   "source": [
    "ser"
   ]
  },
  {
   "cell_type": "code",
   "execution_count": 146,
   "metadata": {},
   "outputs": [
    {
     "data": {
      "text/plain": [
       "country\n",
       "Afghanistan      NaN\n",
       "Albania         54.0\n",
       "Algeria         14.0\n",
       "Andorra        312.0\n",
       "Angola          45.0\n",
       "               ...  \n",
       "Venezuela        3.0\n",
       "Vietnam          1.0\n",
       "Yemen            NaN\n",
       "Zambia           4.0\n",
       "Zimbabwe         4.0\n",
       "Name: wine_servings, Length: 193, dtype: float64"
      ]
     },
     "execution_count": 146,
     "metadata": {},
     "output_type": "execute_result"
    }
   ],
   "source": [
    "drinks"
   ]
  },
  {
   "cell_type": "code",
   "execution_count": 148,
   "metadata": {},
   "outputs": [
    {
     "name": "stdout",
     "output_type": "stream",
     "text": [
      "('Afghanistan', nan)\n",
      "('Albania', 54.0)\n",
      "('Algeria', 14.0)\n",
      "('Andorra', 312.0)\n",
      "('Angola', 45.0)\n",
      "('Antigua & Barbuda', 45.0)\n",
      "('Argentina', 221.0)\n",
      "('Armenia', 11.0)\n",
      "('Australia', 212.0)\n",
      "('Austria', 191.0)\n",
      "('Azerbaijan', 5.0)\n",
      "('Bahamas', 51.0)\n",
      "('Bahrain', 7.0)\n",
      "('Bangladesh', nan)\n",
      "('Barbados', 36.0)\n",
      "('Belarus', 42.0)\n",
      "('Belgium', 212.0)\n",
      "('Belize', 8.0)\n",
      "('Benin', 13.0)\n",
      "('Bhutan', nan)\n",
      "('Bolivia', 8.0)\n",
      "('Bosnia-Herzegovina', 8.0)\n",
      "('Botswana', 35.0)\n",
      "('Brazil', 16.0)\n",
      "('Brunei', 1.0)\n",
      "('Bulgaria', 94.0)\n",
      "('Burkina Faso', 7.0)\n",
      "('Burundi', nan)\n",
      "(\"Cote d'Ivoire\", 7.0)\n",
      "('Cabo Verde', 16.0)\n",
      "('Cambodia', 1.0)\n",
      "('Cameroon', 4.0)\n",
      "('Canada', 1.0)\n",
      "('Central African Republic', 1.0)\n",
      "('Chad', 1.0)\n",
      "('Chile', 172.0)\n",
      "('China', 8.0)\n",
      "('Colombia', 3.0)\n",
      "('Comoros', 1.0)\n",
      "('Congo', 9.0)\n",
      "('Cook Islands', 74.0)\n",
      "('Costa Rica', 11.0)\n",
      "('Croatia', 254.0)\n",
      "('Cuba', 5.0)\n",
      "('Cyprus', 113.0)\n",
      "('Czech Republic', 134.0)\n",
      "('North Korea', nan)\n",
      "('DR Congo', 1.0)\n",
      "('Denmark', 278.0)\n",
      "('Djibouti', 3.0)\n",
      "('Dominica', 26.0)\n",
      "('Dominican Republic', 9.0)\n",
      "('Ecuador', 3.0)\n",
      "('Egypt', 1.0)\n",
      "('El Salvador', 2.0)\n",
      "('Equatorial Guinea', 233.0)\n",
      "('Eritrea', nan)\n",
      "('Estonia', 59.0)\n",
      "('Ethiopia', nan)\n",
      "('Fiji', 1.0)\n",
      "('Finland', 97.0)\n",
      "('France', 37.0)\n",
      "('Gabon', 59.0)\n",
      "('Gambia', 1.0)\n",
      "('Georgia', 149.0)\n",
      "('Germany', 175.0)\n",
      "('Ghana', 1.0)\n",
      "('Greece', 218.0)\n",
      "('Grenada', 28.0)\n",
      "('Guatemala', 2.0)\n",
      "('Guinea', 2.0)\n",
      "('Guinea-Bissau', 21.0)\n",
      "('Guyana', 1.0)\n",
      "('Haiti', 1.0)\n",
      "('Honduras', 2.0)\n",
      "('Hungary', 185.0)\n",
      "('Iceland', 78.0)\n",
      "('India', nan)\n",
      "('Indonesia', nan)\n",
      "('Iran', nan)\n",
      "('Iraq', nan)\n",
      "('Ireland', 165.0)\n",
      "('Israel', 9.0)\n",
      "('Italy', 237.0)\n",
      "('Jamaica', 9.0)\n",
      "('Japan', 16.0)\n",
      "('Jordan', 1.0)\n",
      "('Kazakhstan', 12.0)\n",
      "('Kenya', 2.0)\n",
      "('Kiribati', 1.0)\n",
      "('Kuwait', nan)\n",
      "('Kyrgyzstan', 6.0)\n",
      "('Laos', 123.0)\n",
      "('Latvia', 62.0)\n",
      "('Lebanon', 31.0)\n",
      "('Lesotho', nan)\n",
      "('Liberia', 2.0)\n",
      "('Libya', nan)\n",
      "('Lithuania', 56.0)\n",
      "('Luxembourg', 271.0)\n",
      "('Madagascar', 4.0)\n",
      "('Malawi', 1.0)\n",
      "('Malaysia', nan)\n",
      "('Maldives', nan)\n",
      "('Mali', 1.0)\n",
      "('Malta', 12.0)\n",
      "('Marshall Islands', nan)\n",
      "('Mauritania', nan)\n",
      "('Mauritius', 18.0)\n",
      "('Mexico', 5.0)\n",
      "('Micronesia', 18.0)\n",
      "('Monaco', nan)\n",
      "('Mongolia', 8.0)\n",
      "('Montenegro', 128.0)\n",
      "('Morocco', 1.0)\n",
      "('Mozambique', 5.0)\n",
      "('Myanmar', nan)\n",
      "('Namibia', 1.0)\n",
      "('Nauru', 8.0)\n",
      "('Nepal', nan)\n",
      "('Netherlands', 19.0)\n",
      "('New Zealand', 175.0)\n",
      "('Nicaragua', 1.0)\n",
      "('Niger', 1.0)\n",
      "('Nigeria', 2.0)\n",
      "('Niue', 7.0)\n",
      "('Norway', 129.0)\n",
      "('Oman', 1.0)\n",
      "('Pakistan', nan)\n",
      "('Palau', 23.0)\n",
      "('Panama', 18.0)\n",
      "('Papua New Guinea', 1.0)\n",
      "('Paraguay', 74.0)\n",
      "('Peru', 21.0)\n",
      "('Philippines', 1.0)\n",
      "('Poland', 56.0)\n",
      "('Portugal', 339.0)\n",
      "('Qatar', 7.0)\n",
      "('South Korea', 9.0)\n",
      "('Moldova', 18.0)\n",
      "('Romania', 167.0)\n",
      "('Russian Federation', 73.0)\n",
      "('Rwanda', nan)\n",
      "('St. Kitts & Nevis', 32.0)\n",
      "('St. Lucia', 71.0)\n",
      "('St. Vincent & the Grenadines', 11.0)\n",
      "('Samoa', 24.0)\n",
      "('San Marino', nan)\n",
      "('Sao Tome & Principe', 14.0)\n",
      "('Saudi Arabia', nan)\n",
      "('Senegal', 7.0)\n",
      "('Serbia', 127.0)\n",
      "('Seychelles', 51.0)\n",
      "('Sierra Leone', 2.0)\n",
      "('Singapore', 11.0)\n",
      "('Slovakia', 116.0)\n",
      "('Slovenia', 276.0)\n",
      "('Solomon Islands', 1.0)\n",
      "('Somalia', nan)\n",
      "('South Africa', 81.0)\n",
      "('Spain', 112.0)\n",
      "('Sri Lanka', nan)\n",
      "('Sudan', nan)\n",
      "('Suriname', 7.0)\n",
      "('Swaziland', 2.0)\n",
      "('Sweden', 186.0)\n",
      "('Switzerland', 28.0)\n",
      "('Syria', 16.0)\n",
      "('Tajikistan', nan)\n",
      "('Thailand', 1.0)\n",
      "('Macedonia', 86.0)\n",
      "('Timor-Leste', 4.0)\n",
      "('Togo', 19.0)\n",
      "('Tonga', 5.0)\n",
      "('Trinidad & Tobago', 7.0)\n",
      "('Tunisia', 2.0)\n",
      "('Turkey', 7.0)\n",
      "('Turkmenistan', 32.0)\n",
      "('Tuvalu', 9.0)\n",
      "('Uganda', nan)\n",
      "('Ukraine', 45.0)\n",
      "('United Arab Emirates', 5.0)\n",
      "('United Kingdom', 195.0)\n",
      "('Tanzania', 1.0)\n",
      "('USA', 84.0)\n",
      "('Uruguay', 22.0)\n",
      "('Uzbekistan', 8.0)\n",
      "('Vanuatu', 11.0)\n",
      "('Venezuela', 3.0)\n",
      "('Vietnam', 1.0)\n",
      "('Yemen', nan)\n",
      "('Zambia', 4.0)\n",
      "('Zimbabwe', 4.0)\n"
     ]
    },
    {
     "name": "stderr",
     "output_type": "stream",
     "text": [
      "/var/folders/cw/s321vfbx6j78jd3lsjfcsdyw0000gn/T/ipykernel_10149/3543668837.py:1: FutureWarning: iteritems is deprecated and will be removed in a future version. Use .items instead.\n",
      "  for i in drinks.iteritems():\n"
     ]
    }
   ],
   "source": [
    "for i in drinks.iteritems():\n",
    "    print(i)"
   ]
  },
  {
   "cell_type": "code",
   "execution_count": 149,
   "metadata": {},
   "outputs": [
    {
     "data": {
      "text/plain": [
       "country\n",
       "Vanuatu      11.0\n",
       "Venezuela     3.0\n",
       "Vietnam       1.0\n",
       "Name: wine_servings, dtype: float64"
      ]
     },
     "execution_count": 149,
     "metadata": {},
     "output_type": "execute_result"
    }
   ],
   "source": [
    "drinks.filter(regex='^V')"
   ]
  },
  {
   "cell_type": "code",
   "execution_count": 150,
   "metadata": {},
   "outputs": [
    {
     "data": {
      "text/plain": [
       "country\n",
       "Afghanistan      NaN\n",
       "Kazakhstan      12.0\n",
       "Kyrgyzstan       6.0\n",
       "Pakistan         NaN\n",
       "Tajikistan       NaN\n",
       "Turkmenistan    32.0\n",
       "Uzbekistan       8.0\n",
       "Name: wine_servings, dtype: float64"
      ]
     },
     "execution_count": 150,
     "metadata": {},
     "output_type": "execute_result"
    }
   ],
   "source": [
    "drinks.filter(like='stan')"
   ]
  },
  {
   "cell_type": "code",
   "execution_count": 152,
   "metadata": {},
   "outputs": [
    {
     "data": {
      "text/plain": [
       "country\n",
       "Pakistan      NaN\n",
       "Uzbekistan    8.0\n",
       "Name: wine_servings, dtype: float64"
      ]
     },
     "execution_count": 152,
     "metadata": {},
     "output_type": "execute_result"
    }
   ],
   "source": [
    "drinks.filter(items=['Pakistan', 'Uzbekistan'])"
   ]
  },
  {
   "cell_type": "code",
   "execution_count": 154,
   "metadata": {},
   "outputs": [
    {
     "data": {
      "text/plain": [
       "country\n",
       "Andorra              312.0\n",
       "Argentina            221.0\n",
       "Australia            212.0\n",
       "Belgium              212.0\n",
       "Croatia              254.0\n",
       "Denmark              278.0\n",
       "Equatorial Guinea    233.0\n",
       "Greece               218.0\n",
       "Italy                237.0\n",
       "Luxembourg           271.0\n",
       "Portugal             339.0\n",
       "Slovenia             276.0\n",
       "Name: wine_servings, dtype: float64"
      ]
     },
     "execution_count": 154,
     "metadata": {},
     "output_type": "execute_result"
    }
   ],
   "source": [
    "drinks.where(lambda x: x>200).dropna()"
   ]
  },
  {
   "cell_type": "code",
   "execution_count": 156,
   "metadata": {},
   "outputs": [
    {
     "data": {
      "text/plain": [
       "country\n",
       "Albania              54.0\n",
       "Algeria              14.0\n",
       "Angola               45.0\n",
       "Antigua & Barbuda    45.0\n",
       "Armenia              11.0\n",
       "                     ... \n",
       "Vanuatu              11.0\n",
       "Venezuela             3.0\n",
       "Vietnam               1.0\n",
       "Zambia                4.0\n",
       "Zimbabwe              4.0\n",
       "Name: wine_servings, Length: 150, dtype: float64"
      ]
     },
     "execution_count": 156,
     "metadata": {},
     "output_type": "execute_result"
    }
   ],
   "source": [
    "drinks.mask(lambda x: x > 200).dropna()"
   ]
  },
  {
   "cell_type": "code",
   "execution_count": 157,
   "metadata": {},
   "outputs": [
    {
     "data": {
      "text/plain": [
       "country\n",
       "Afghanistan      NaN\n",
       "Albania         54.0\n",
       "Algeria         14.0\n",
       "Andorra        312.0\n",
       "Angola          45.0\n",
       "Name: wine_servings, dtype: float64"
      ]
     },
     "execution_count": 157,
     "metadata": {},
     "output_type": "execute_result"
    }
   ],
   "source": [
    "drinks.head()"
   ]
  },
  {
   "cell_type": "code",
   "execution_count": 158,
   "metadata": {},
   "outputs": [],
   "source": [
    "drinks['Albania'] = 300"
   ]
  },
  {
   "cell_type": "code",
   "execution_count": 159,
   "metadata": {},
   "outputs": [
    {
     "data": {
      "text/plain": [
       "country\n",
       "Afghanistan      NaN\n",
       "Albania        300.0\n",
       "Algeria         14.0\n",
       "Andorra        312.0\n",
       "Angola          45.0\n",
       "               ...  \n",
       "Venezuela        3.0\n",
       "Vietnam          1.0\n",
       "Yemen            NaN\n",
       "Zambia           4.0\n",
       "Zimbabwe         4.0\n",
       "Name: wine_servings, Length: 193, dtype: float64"
      ]
     },
     "execution_count": 159,
     "metadata": {},
     "output_type": "execute_result"
    }
   ],
   "source": [
    "drinks"
   ]
  },
  {
   "cell_type": "code",
   "execution_count": 160,
   "metadata": {},
   "outputs": [
    {
     "data": {
      "text/plain": [
       "country\n",
       "Afghanistan      NaN\n",
       "Albania        600.0\n",
       "Algeria         28.0\n",
       "Andorra        624.0\n",
       "Angola          90.0\n",
       "               ...  \n",
       "Venezuela        6.0\n",
       "Vietnam          2.0\n",
       "Yemen            NaN\n",
       "Zambia           8.0\n",
       "Zimbabwe         8.0\n",
       "Name: wine_servings, Length: 193, dtype: float64"
      ]
     },
     "execution_count": 160,
     "metadata": {},
     "output_type": "execute_result"
    }
   ],
   "source": [
    "drinks.apply(lambda x: x*2)"
   ]
  },
  {
   "cell_type": "code",
   "execution_count": 161,
   "metadata": {},
   "outputs": [
    {
     "data": {
      "text/plain": [
       "country\n",
       "Afghanistan        NaN\n",
       "Albania        90000.0\n",
       "Algeria          196.0\n",
       "Andorra        97344.0\n",
       "Angola          2025.0\n",
       "                ...   \n",
       "Venezuela          9.0\n",
       "Vietnam            1.0\n",
       "Yemen              NaN\n",
       "Zambia            16.0\n",
       "Zimbabwe          16.0\n",
       "Name: wine_servings, Length: 193, dtype: float64"
      ]
     },
     "execution_count": 161,
     "metadata": {},
     "output_type": "execute_result"
    }
   ],
   "source": [
    "drinks.apply(np.square)"
   ]
  },
  {
   "cell_type": "code",
   "execution_count": 162,
   "metadata": {},
   "outputs": [
    {
     "data": {
      "text/plain": [
       "country\n",
       "Afghanistan        NaN\n",
       "Albania        90000.0\n",
       "Algeria          196.0\n",
       "Andorra        97344.0\n",
       "Angola          2025.0\n",
       "                ...   \n",
       "Venezuela          9.0\n",
       "Vietnam            1.0\n",
       "Yemen              NaN\n",
       "Zambia            16.0\n",
       "Zimbabwe          16.0\n",
       "Name: wine_servings, Length: 193, dtype: float64"
      ]
     },
     "execution_count": 162,
     "metadata": {},
     "output_type": "execute_result"
    }
   ],
   "source": [
    "def multiply_by_itself(x):\n",
    "    return x*x\n",
    "\n",
    "drinks.apply(multiply_by_itself)"
   ]
  },
  {
   "cell_type": "code",
   "execution_count": 163,
   "metadata": {},
   "outputs": [
    {
     "data": {
      "text/plain": [
       "country\n",
       "Afghanistan       NaN\n",
       "Albania         300.0\n",
       "Algeria         196.0\n",
       "Andorra         312.0\n",
       "Angola         2025.0\n",
       "                ...  \n",
       "Venezuela         9.0\n",
       "Vietnam           1.0\n",
       "Yemen             NaN\n",
       "Zambia           16.0\n",
       "Zimbabwe         16.0\n",
       "Name: wine_servings, Length: 193, dtype: float64"
      ]
     },
     "execution_count": 163,
     "metadata": {},
     "output_type": "execute_result"
    }
   ],
   "source": [
    "def multiply_by_self_with_min(x, min_servings):\n",
    "    if x < min_servings:\n",
    "        return x*x\n",
    "    return x\n",
    "\n",
    "drinks.apply(multiply_by_self_with_min, args=(200,))"
   ]
  },
  {
   "cell_type": "code",
   "execution_count": 164,
   "metadata": {},
   "outputs": [
    {
     "data": {
      "text/plain": [
       "country\n",
       "Afghanistan      NaN\n",
       "Albania        300.0\n",
       "Algeria         14.0\n",
       "Andorra        312.0\n",
       "Angola          45.0\n",
       "Name: wine_servings, dtype: float64"
      ]
     },
     "execution_count": 164,
     "metadata": {},
     "output_type": "execute_result"
    }
   ],
   "source": [
    "drinks.head()\n"
   ]
  },
  {
   "cell_type": "code",
   "execution_count": 166,
   "metadata": {},
   "outputs": [
    {
     "data": {
      "text/plain": [
       "country\n",
       "Afghanistan    NaN\n",
       "Albania        3.0\n",
       "Algeria        NaN\n",
       "Andorra        NaN\n",
       "Angola         NaN\n",
       "              ... \n",
       "Venezuela      NaN\n",
       "Vietnam        NaN\n",
       "Yemen          NaN\n",
       "Zambia         NaN\n",
       "Zimbabwe       NaN\n",
       "Name: wine_servings, Length: 193, dtype: float64"
      ]
     },
     "execution_count": 166,
     "metadata": {},
     "output_type": "execute_result"
    }
   ],
   "source": [
    "drinks.map({300.0: 3.0}, na_action='ignore')"
   ]
  },
  {
   "cell_type": "code",
   "execution_count": 167,
   "metadata": {},
   "outputs": [
    {
     "name": "stderr",
     "output_type": "stream",
     "text": [
      "/var/folders/cw/s321vfbx6j78jd3lsjfcsdyw0000gn/T/ipykernel_10149/1442878427.py:1: FutureWarning: The squeeze argument has been deprecated and will be removed in a future version. Append .squeeze(\"columns\") to the call to squeeze.\n",
      "\n",
      "\n",
      "  beers = pd.read_csv(\"/Users/bartoszpiechnik/Desktop/pandas-bootcamp/slides/3. Series Methods And Handling/drinks.csv\",\n"
     ]
    }
   ],
   "source": [
    "beers = pd.read_csv(\"/Users/bartoszpiechnik/Desktop/pandas-bootcamp/slides/3. Series Methods And Handling/drinks.csv\",\n",
    "                     usecols=['country', 'beer_servings'], index_col='country', squeeze=True)"
   ]
  },
  {
   "cell_type": "code",
   "execution_count": 168,
   "metadata": {},
   "outputs": [
    {
     "data": {
      "text/plain": [
       "102.87078651685393"
      ]
     },
     "execution_count": 168,
     "metadata": {},
     "output_type": "execute_result"
    }
   ],
   "source": [
    "beers.mean()"
   ]
  },
  {
   "cell_type": "code",
   "execution_count": 169,
   "metadata": {},
   "outputs": [
    {
     "data": {
      "text/plain": [
       "60.0"
      ]
     },
     "execution_count": 169,
     "metadata": {},
     "output_type": "execute_result"
    }
   ],
   "source": [
    "beers.median()"
   ]
  },
  {
   "cell_type": "code",
   "execution_count": 170,
   "metadata": {},
   "outputs": [
    {
     "data": {
      "text/plain": [
       "100.6457126793478"
      ]
     },
     "execution_count": 170,
     "metadata": {},
     "output_type": "execute_result"
    }
   ],
   "source": [
    "beers.std()"
   ]
  },
  {
   "cell_type": "code",
   "execution_count": 174,
   "metadata": {},
   "outputs": [],
   "source": [
    "z_scores = (beers[:10] - beers.mean())/beers.std()"
   ]
  },
  {
   "cell_type": "code",
   "execution_count": 175,
   "metadata": {},
   "outputs": [
    {
     "data": {
      "text/plain": [
       "country\n",
       "Afghanistan               NaN\n",
       "Albania             -0.137818\n",
       "Algeria             -0.773712\n",
       "Andorra              1.412174\n",
       "Angola               1.133970\n",
       "Antigua & Barbuda   -0.902878\n",
       "Argentina            0.895510\n",
       "Armenia             -0.813455\n",
       "Australia            1.571147\n",
       "Austria              1.749992\n",
       "Name: beer_servings, dtype: float64"
      ]
     },
     "execution_count": 175,
     "metadata": {},
     "output_type": "execute_result"
    }
   ],
   "source": [
    "z_scores"
   ]
  },
  {
   "cell_type": "code",
   "execution_count": 176,
   "metadata": {},
   "outputs": [
    {
     "data": {
      "text/plain": [
       "1"
      ]
     },
     "execution_count": 176,
     "metadata": {},
     "output_type": "execute_result"
    }
   ],
   "source": [
    "z_scores.ndim"
   ]
  },
  {
   "cell_type": "code",
   "execution_count": 178,
   "metadata": {},
   "outputs": [
    {
     "data": {
      "text/plain": [
       "(10,)"
      ]
     },
     "execution_count": 178,
     "metadata": {},
     "output_type": "execute_result"
    }
   ],
   "source": [
    "z_scores.shape"
   ]
  },
  {
   "cell_type": "code",
   "execution_count": 1,
   "metadata": {},
   "outputs": [],
   "source": [
    "names = ['Olga', 'Andrew', 'Brian', 'Telulah', 'Nicole', 'Tilda']\n",
    "ages = [29, 21, 45, 23, 39, 46]\n",
    "married = [False, True, True, True, False, True]\n",
    "dict_names = {k:v for k,v in enumerate(names)}"
   ]
  },
  {
   "cell_type": "code",
   "execution_count": 2,
   "metadata": {},
   "outputs": [
    {
     "data": {
      "text/plain": [
       "{0: 'Olga', 1: 'Andrew', 2: 'Brian', 3: 'Telulah', 4: 'Nicole', 5: 'Tilda'}"
      ]
     },
     "execution_count": 2,
     "metadata": {},
     "output_type": "execute_result"
    }
   ],
   "source": [
    "dict_names"
   ]
  },
  {
   "cell_type": "code",
   "execution_count": 3,
   "metadata": {},
   "outputs": [],
   "source": [
    "dict_ages = {k:v for k,v in enumerate(ages)}\n",
    "dict_married = {k:v for k,v in enumerate(married)}"
   ]
  },
  {
   "cell_type": "code",
   "execution_count": 4,
   "metadata": {},
   "outputs": [],
   "source": [
    "dict_m2 = dict(enumerate(ages))"
   ]
  },
  {
   "cell_type": "code",
   "execution_count": 6,
   "metadata": {},
   "outputs": [
    {
     "data": {
      "text/plain": [
       "{0: 29, 1: 21, 2: 45, 3: 23, 4: 39, 5: 46}"
      ]
     },
     "execution_count": 6,
     "metadata": {},
     "output_type": "execute_result"
    }
   ],
   "source": [
    "dict_m2"
   ]
  },
  {
   "cell_type": "code",
   "execution_count": 8,
   "metadata": {},
   "outputs": [],
   "source": [
    "import pandas as pd"
   ]
  },
  {
   "cell_type": "code",
   "execution_count": 11,
   "metadata": {},
   "outputs": [],
   "source": [
    "df = pd.DataFrame({'names': dict_names, 'ages': dict_ages, 'married': dict_married})"
   ]
  },
  {
   "cell_type": "code",
   "execution_count": 12,
   "metadata": {},
   "outputs": [
    {
     "data": {
      "text/html": [
       "<div>\n",
       "<style scoped>\n",
       "    .dataframe tbody tr th:only-of-type {\n",
       "        vertical-align: middle;\n",
       "    }\n",
       "\n",
       "    .dataframe tbody tr th {\n",
       "        vertical-align: top;\n",
       "    }\n",
       "\n",
       "    .dataframe thead th {\n",
       "        text-align: right;\n",
       "    }\n",
       "</style>\n",
       "<table border=\"1\" class=\"dataframe\">\n",
       "  <thead>\n",
       "    <tr style=\"text-align: right;\">\n",
       "      <th></th>\n",
       "      <th>names</th>\n",
       "      <th>ages</th>\n",
       "      <th>married</th>\n",
       "    </tr>\n",
       "  </thead>\n",
       "  <tbody>\n",
       "    <tr>\n",
       "      <th>0</th>\n",
       "      <td>Olga</td>\n",
       "      <td>29</td>\n",
       "      <td>False</td>\n",
       "    </tr>\n",
       "    <tr>\n",
       "      <th>1</th>\n",
       "      <td>Andrew</td>\n",
       "      <td>21</td>\n",
       "      <td>True</td>\n",
       "    </tr>\n",
       "    <tr>\n",
       "      <th>2</th>\n",
       "      <td>Brian</td>\n",
       "      <td>45</td>\n",
       "      <td>True</td>\n",
       "    </tr>\n",
       "    <tr>\n",
       "      <th>3</th>\n",
       "      <td>Telulah</td>\n",
       "      <td>23</td>\n",
       "      <td>True</td>\n",
       "    </tr>\n",
       "    <tr>\n",
       "      <th>4</th>\n",
       "      <td>Nicole</td>\n",
       "      <td>39</td>\n",
       "      <td>False</td>\n",
       "    </tr>\n",
       "    <tr>\n",
       "      <th>5</th>\n",
       "      <td>Tilda</td>\n",
       "      <td>46</td>\n",
       "      <td>True</td>\n",
       "    </tr>\n",
       "  </tbody>\n",
       "</table>\n",
       "</div>"
      ],
      "text/plain": [
       "     names  ages  married\n",
       "0     Olga    29    False\n",
       "1   Andrew    21     True\n",
       "2    Brian    45     True\n",
       "3  Telulah    23     True\n",
       "4   Nicole    39    False\n",
       "5    Tilda    46     True"
      ]
     },
     "execution_count": 12,
     "metadata": {},
     "output_type": "execute_result"
    }
   ],
   "source": [
    "df"
   ]
  },
  {
   "cell_type": "code",
   "execution_count": 13,
   "metadata": {},
   "outputs": [],
   "source": [
    "rowwise = [{'name': name, 'age': age, 'married': married} for name, age, married in zip(names, ages, married)]"
   ]
  },
  {
   "cell_type": "code",
   "execution_count": 14,
   "metadata": {},
   "outputs": [
    {
     "data": {
      "text/plain": [
       "[{'name': 'Olga', 'age': 29, 'married': False},\n",
       " {'name': 'Andrew', 'age': 21, 'married': True},\n",
       " {'name': 'Brian', 'age': 45, 'married': True},\n",
       " {'name': 'Telulah', 'age': 23, 'married': True},\n",
       " {'name': 'Nicole', 'age': 39, 'married': False},\n",
       " {'name': 'Tilda', 'age': 46, 'married': True}]"
      ]
     },
     "execution_count": 14,
     "metadata": {},
     "output_type": "execute_result"
    }
   ],
   "source": [
    "rowwise"
   ]
  },
  {
   "cell_type": "code",
   "execution_count": 15,
   "metadata": {},
   "outputs": [],
   "source": [
    "df = pd.DataFrame(rowwise)"
   ]
  },
  {
   "cell_type": "code",
   "execution_count": 16,
   "metadata": {},
   "outputs": [
    {
     "data": {
      "text/html": [
       "<div>\n",
       "<style scoped>\n",
       "    .dataframe tbody tr th:only-of-type {\n",
       "        vertical-align: middle;\n",
       "    }\n",
       "\n",
       "    .dataframe tbody tr th {\n",
       "        vertical-align: top;\n",
       "    }\n",
       "\n",
       "    .dataframe thead th {\n",
       "        text-align: right;\n",
       "    }\n",
       "</style>\n",
       "<table border=\"1\" class=\"dataframe\">\n",
       "  <thead>\n",
       "    <tr style=\"text-align: right;\">\n",
       "      <th></th>\n",
       "      <th>name</th>\n",
       "      <th>age</th>\n",
       "      <th>married</th>\n",
       "    </tr>\n",
       "  </thead>\n",
       "  <tbody>\n",
       "    <tr>\n",
       "      <th>0</th>\n",
       "      <td>Olga</td>\n",
       "      <td>29</td>\n",
       "      <td>False</td>\n",
       "    </tr>\n",
       "    <tr>\n",
       "      <th>1</th>\n",
       "      <td>Andrew</td>\n",
       "      <td>21</td>\n",
       "      <td>True</td>\n",
       "    </tr>\n",
       "    <tr>\n",
       "      <th>2</th>\n",
       "      <td>Brian</td>\n",
       "      <td>45</td>\n",
       "      <td>True</td>\n",
       "    </tr>\n",
       "    <tr>\n",
       "      <th>3</th>\n",
       "      <td>Telulah</td>\n",
       "      <td>23</td>\n",
       "      <td>True</td>\n",
       "    </tr>\n",
       "    <tr>\n",
       "      <th>4</th>\n",
       "      <td>Nicole</td>\n",
       "      <td>39</td>\n",
       "      <td>False</td>\n",
       "    </tr>\n",
       "    <tr>\n",
       "      <th>5</th>\n",
       "      <td>Tilda</td>\n",
       "      <td>46</td>\n",
       "      <td>True</td>\n",
       "    </tr>\n",
       "  </tbody>\n",
       "</table>\n",
       "</div>"
      ],
      "text/plain": [
       "      name  age  married\n",
       "0     Olga   29    False\n",
       "1   Andrew   21     True\n",
       "2    Brian   45     True\n",
       "3  Telulah   23     True\n",
       "4   Nicole   39    False\n",
       "5    Tilda   46     True"
      ]
     },
     "execution_count": 16,
     "metadata": {},
     "output_type": "execute_result"
    }
   ],
   "source": [
    "df"
   ]
  },
  {
   "cell_type": "code",
   "execution_count": 21,
   "metadata": {},
   "outputs": [],
   "source": [
    "url = 'https://andybek.com/pandas-nutrition'\n",
    "\n",
    "nutrition = pd.read_csv(\"/Users/bartoszpiechnik/Desktop/pandas-bootcamp/nutrition.csv\",)"
   ]
  },
  {
   "cell_type": "code",
   "execution_count": 22,
   "metadata": {},
   "outputs": [
    {
     "name": "stdout",
     "output_type": "stream",
     "text": [
      "<class 'pandas.core.frame.DataFrame'>\n",
      "RangeIndex: 8789 entries, 0 to 8788\n",
      "Data columns (total 77 columns):\n",
      " #   Column                       Non-Null Count  Dtype \n",
      "---  ------                       --------------  ----- \n",
      " 0   Unnamed: 0                   8789 non-null   int64 \n",
      " 1   name                         8789 non-null   object\n",
      " 2   serving_size                 8789 non-null   object\n",
      " 3   calories                     8789 non-null   int64 \n",
      " 4   total_fat                    8789 non-null   object\n",
      " 5   saturated_fat                7199 non-null   object\n",
      " 6   cholesterol                  8789 non-null   object\n",
      " 7   sodium                       8789 non-null   object\n",
      " 8   choline                      8789 non-null   object\n",
      " 9   folate                       8789 non-null   object\n",
      " 10  folic_acid                   8789 non-null   object\n",
      " 11  niacin                       8789 non-null   object\n",
      " 12  pantothenic_acid             8789 non-null   object\n",
      " 13  riboflavin                   8789 non-null   object\n",
      " 14  thiamin                      8789 non-null   object\n",
      " 15  vitamin_a                    8789 non-null   object\n",
      " 16  vitamin_a_rae                8789 non-null   object\n",
      " 17  carotene_alpha               8789 non-null   object\n",
      " 18  carotene_beta                8789 non-null   object\n",
      " 19  cryptoxanthin_beta           8789 non-null   object\n",
      " 20  lutein_zeaxanthin            8789 non-null   object\n",
      " 21  lucopene                     8789 non-null   int64 \n",
      " 22  vitamin_b12                  8789 non-null   object\n",
      " 23  vitamin_b6                   8789 non-null   object\n",
      " 24  vitamin_c                    8789 non-null   object\n",
      " 25  vitamin_d                    8789 non-null   object\n",
      " 26  vitamin_e                    8789 non-null   object\n",
      " 27  tocopherol_alpha             8789 non-null   object\n",
      " 28  vitamin_k                    8789 non-null   object\n",
      " 29  calcium                      8789 non-null   object\n",
      " 30  copper                       8789 non-null   object\n",
      " 31  irom                         8789 non-null   object\n",
      " 32  magnesium                    8789 non-null   object\n",
      " 33  manganese                    8789 non-null   object\n",
      " 34  phosphorous                  8789 non-null   object\n",
      " 35  potassium                    8789 non-null   object\n",
      " 36  selenium                     8789 non-null   object\n",
      " 37  zink                         8789 non-null   object\n",
      " 38  protein                      8789 non-null   object\n",
      " 39  alanine                      8789 non-null   object\n",
      " 40  arginine                     8789 non-null   object\n",
      " 41  aspartic_acid                8789 non-null   object\n",
      " 42  cystine                      8789 non-null   object\n",
      " 43  glutamic_acid                8789 non-null   object\n",
      " 44  glycine                      8789 non-null   object\n",
      " 45  histidine                    8789 non-null   object\n",
      " 46  hydroxyproline               8789 non-null   object\n",
      " 47  isoleucine                   8789 non-null   object\n",
      " 48  leucine                      8789 non-null   object\n",
      " 49  lysine                       8789 non-null   object\n",
      " 50  methionine                   8789 non-null   object\n",
      " 51  phenylalanine                8789 non-null   object\n",
      " 52  proline                      8789 non-null   object\n",
      " 53  serine                       8789 non-null   object\n",
      " 54  threonine                    8789 non-null   object\n",
      " 55  tryptophan                   8789 non-null   object\n",
      " 56  tyrosine                     8789 non-null   object\n",
      " 57  valine                       8789 non-null   object\n",
      " 58  carbohydrate                 8789 non-null   object\n",
      " 59  fiber                        8789 non-null   object\n",
      " 60  sugars                       8789 non-null   object\n",
      " 61  fructose                     8789 non-null   object\n",
      " 62  galactose                    8789 non-null   object\n",
      " 63  glucose                      8789 non-null   object\n",
      " 64  lactose                      8789 non-null   object\n",
      " 65  maltose                      8789 non-null   object\n",
      " 66  sucrose                      8789 non-null   object\n",
      " 67  fat                          8789 non-null   object\n",
      " 68  saturated_fatty_acids        8789 non-null   object\n",
      " 69  monounsaturated_fatty_acids  8789 non-null   object\n",
      " 70  polyunsaturated_fatty_acids  8789 non-null   object\n",
      " 71  fatty_acids_total_trans      8789 non-null   object\n",
      " 72  alcohol                      8789 non-null   object\n",
      " 73  ash                          8789 non-null   object\n",
      " 74  caffeine                     8789 non-null   object\n",
      " 75  theobromine                  8789 non-null   object\n",
      " 76  water                        8789 non-null   object\n",
      "dtypes: int64(3), object(74)\n",
      "memory usage: 5.2+ MB\n"
     ]
    }
   ],
   "source": [
    "nutrition.info()"
   ]
  },
  {
   "cell_type": "code",
   "execution_count": 23,
   "metadata": {},
   "outputs": [
    {
     "data": {
      "text/html": [
       "<div>\n",
       "<style scoped>\n",
       "    .dataframe tbody tr th:only-of-type {\n",
       "        vertical-align: middle;\n",
       "    }\n",
       "\n",
       "    .dataframe tbody tr th {\n",
       "        vertical-align: top;\n",
       "    }\n",
       "\n",
       "    .dataframe thead th {\n",
       "        text-align: right;\n",
       "    }\n",
       "</style>\n",
       "<table border=\"1\" class=\"dataframe\">\n",
       "  <thead>\n",
       "    <tr style=\"text-align: right;\">\n",
       "      <th></th>\n",
       "      <th>Unnamed: 0</th>\n",
       "      <th>name</th>\n",
       "      <th>serving_size</th>\n",
       "      <th>calories</th>\n",
       "      <th>total_fat</th>\n",
       "      <th>saturated_fat</th>\n",
       "      <th>cholesterol</th>\n",
       "      <th>sodium</th>\n",
       "      <th>choline</th>\n",
       "      <th>folate</th>\n",
       "      <th>...</th>\n",
       "      <th>fat</th>\n",
       "      <th>saturated_fatty_acids</th>\n",
       "      <th>monounsaturated_fatty_acids</th>\n",
       "      <th>polyunsaturated_fatty_acids</th>\n",
       "      <th>fatty_acids_total_trans</th>\n",
       "      <th>alcohol</th>\n",
       "      <th>ash</th>\n",
       "      <th>caffeine</th>\n",
       "      <th>theobromine</th>\n",
       "      <th>water</th>\n",
       "    </tr>\n",
       "  </thead>\n",
       "  <tbody>\n",
       "    <tr>\n",
       "      <th>0</th>\n",
       "      <td>0</td>\n",
       "      <td>Cornstarch</td>\n",
       "      <td>100 g</td>\n",
       "      <td>381</td>\n",
       "      <td>0.1g</td>\n",
       "      <td>NaN</td>\n",
       "      <td>0</td>\n",
       "      <td>9.00 mg</td>\n",
       "      <td>0.4 mg</td>\n",
       "      <td>0.00 mcg</td>\n",
       "      <td>...</td>\n",
       "      <td>0.05 g</td>\n",
       "      <td>0.009 g</td>\n",
       "      <td>0.016 g</td>\n",
       "      <td>0.025 g</td>\n",
       "      <td>0.00 mg</td>\n",
       "      <td>0.0 g</td>\n",
       "      <td>0.09 g</td>\n",
       "      <td>0.00 mg</td>\n",
       "      <td>0.00 mg</td>\n",
       "      <td>8.32 g</td>\n",
       "    </tr>\n",
       "    <tr>\n",
       "      <th>1</th>\n",
       "      <td>1</td>\n",
       "      <td>Nuts, pecans</td>\n",
       "      <td>100 g</td>\n",
       "      <td>691</td>\n",
       "      <td>72g</td>\n",
       "      <td>6.2g</td>\n",
       "      <td>0</td>\n",
       "      <td>0.00 mg</td>\n",
       "      <td>40.5 mg</td>\n",
       "      <td>22.00 mcg</td>\n",
       "      <td>...</td>\n",
       "      <td>71.97 g</td>\n",
       "      <td>6.180 g</td>\n",
       "      <td>40.801 g</td>\n",
       "      <td>21.614 g</td>\n",
       "      <td>0.00 mg</td>\n",
       "      <td>0.0 g</td>\n",
       "      <td>1.49 g</td>\n",
       "      <td>0.00 mg</td>\n",
       "      <td>0.00 mg</td>\n",
       "      <td>3.52 g</td>\n",
       "    </tr>\n",
       "    <tr>\n",
       "      <th>2</th>\n",
       "      <td>2</td>\n",
       "      <td>Eggplant, raw</td>\n",
       "      <td>100 g</td>\n",
       "      <td>25</td>\n",
       "      <td>0.2g</td>\n",
       "      <td>NaN</td>\n",
       "      <td>0</td>\n",
       "      <td>2.00 mg</td>\n",
       "      <td>6.9 mg</td>\n",
       "      <td>22.00 mcg</td>\n",
       "      <td>...</td>\n",
       "      <td>0.18 g</td>\n",
       "      <td>0.034 g</td>\n",
       "      <td>0.016 g</td>\n",
       "      <td>0.076 g</td>\n",
       "      <td>0.00 mg</td>\n",
       "      <td>0.0 g</td>\n",
       "      <td>0.66 g</td>\n",
       "      <td>0.00 mg</td>\n",
       "      <td>0.00 mg</td>\n",
       "      <td>92.30 g</td>\n",
       "    </tr>\n",
       "    <tr>\n",
       "      <th>3</th>\n",
       "      <td>3</td>\n",
       "      <td>Teff, uncooked</td>\n",
       "      <td>100 g</td>\n",
       "      <td>367</td>\n",
       "      <td>2.4g</td>\n",
       "      <td>0.4g</td>\n",
       "      <td>0</td>\n",
       "      <td>12.00 mg</td>\n",
       "      <td>13.1 mg</td>\n",
       "      <td>0</td>\n",
       "      <td>...</td>\n",
       "      <td>2.38 g</td>\n",
       "      <td>0.449 g</td>\n",
       "      <td>0.589 g</td>\n",
       "      <td>1.071 g</td>\n",
       "      <td>0</td>\n",
       "      <td>0</td>\n",
       "      <td>2.37 g</td>\n",
       "      <td>0</td>\n",
       "      <td>0</td>\n",
       "      <td>8.82 g</td>\n",
       "    </tr>\n",
       "    <tr>\n",
       "      <th>4</th>\n",
       "      <td>4</td>\n",
       "      <td>Sherbet, orange</td>\n",
       "      <td>100 g</td>\n",
       "      <td>144</td>\n",
       "      <td>2g</td>\n",
       "      <td>1.2g</td>\n",
       "      <td>1mg</td>\n",
       "      <td>46.00 mg</td>\n",
       "      <td>7.7 mg</td>\n",
       "      <td>4.00 mcg</td>\n",
       "      <td>...</td>\n",
       "      <td>2.00 g</td>\n",
       "      <td>1.160 g</td>\n",
       "      <td>0.530 g</td>\n",
       "      <td>0.080 g</td>\n",
       "      <td>1.00 mg</td>\n",
       "      <td>0.0 g</td>\n",
       "      <td>0.40 g</td>\n",
       "      <td>0.00 mg</td>\n",
       "      <td>0.00 mg</td>\n",
       "      <td>66.10 g</td>\n",
       "    </tr>\n",
       "  </tbody>\n",
       "</table>\n",
       "<p>5 rows × 77 columns</p>\n",
       "</div>"
      ],
      "text/plain": [
       "   Unnamed: 0             name serving_size  calories total_fat saturated_fat  \\\n",
       "0           0       Cornstarch        100 g       381      0.1g           NaN   \n",
       "1           1     Nuts, pecans        100 g       691       72g          6.2g   \n",
       "2           2    Eggplant, raw        100 g        25      0.2g           NaN   \n",
       "3           3   Teff, uncooked        100 g       367      2.4g          0.4g   \n",
       "4           4  Sherbet, orange        100 g       144        2g          1.2g   \n",
       "\n",
       "  cholesterol    sodium  choline     folate  ...      fat  \\\n",
       "0           0   9.00 mg   0.4 mg   0.00 mcg  ...   0.05 g   \n",
       "1           0   0.00 mg  40.5 mg  22.00 mcg  ...  71.97 g   \n",
       "2           0   2.00 mg   6.9 mg  22.00 mcg  ...   0.18 g   \n",
       "3           0  12.00 mg  13.1 mg          0  ...   2.38 g   \n",
       "4         1mg  46.00 mg   7.7 mg   4.00 mcg  ...   2.00 g   \n",
       "\n",
       "  saturated_fatty_acids monounsaturated_fatty_acids  \\\n",
       "0               0.009 g                     0.016 g   \n",
       "1               6.180 g                    40.801 g   \n",
       "2               0.034 g                     0.016 g   \n",
       "3               0.449 g                     0.589 g   \n",
       "4               1.160 g                     0.530 g   \n",
       "\n",
       "  polyunsaturated_fatty_acids fatty_acids_total_trans alcohol     ash  \\\n",
       "0                     0.025 g                 0.00 mg   0.0 g  0.09 g   \n",
       "1                    21.614 g                 0.00 mg   0.0 g  1.49 g   \n",
       "2                     0.076 g                 0.00 mg   0.0 g  0.66 g   \n",
       "3                     1.071 g                       0       0  2.37 g   \n",
       "4                     0.080 g                 1.00 mg   0.0 g  0.40 g   \n",
       "\n",
       "  caffeine theobromine    water  \n",
       "0  0.00 mg     0.00 mg   8.32 g  \n",
       "1  0.00 mg     0.00 mg   3.52 g  \n",
       "2  0.00 mg     0.00 mg  92.30 g  \n",
       "3        0           0   8.82 g  \n",
       "4  0.00 mg     0.00 mg  66.10 g  \n",
       "\n",
       "[5 rows x 77 columns]"
      ]
     },
     "execution_count": 23,
     "metadata": {},
     "output_type": "execute_result"
    }
   ],
   "source": [
    "nutrition.head()"
   ]
  },
  {
   "cell_type": "code",
   "execution_count": 24,
   "metadata": {},
   "outputs": [
    {
     "name": "stdout",
     "output_type": "stream",
     "text": [
      "<class 'pandas.core.frame.DataFrame'>\n",
      "RangeIndex: 8789 entries, 0 to 8788\n",
      "Columns: 77 entries, Unnamed: 0 to water\n",
      "dtypes: int64(3), object(74)\n",
      "memory usage: 39.2 MB\n"
     ]
    }
   ],
   "source": [
    "nutrition.info(verbose=False, memory_usage='deep')"
   ]
  },
  {
   "cell_type": "code",
   "execution_count": 25,
   "metadata": {},
   "outputs": [
    {
     "data": {
      "text/html": [
       "<div>\n",
       "<style scoped>\n",
       "    .dataframe tbody tr th:only-of-type {\n",
       "        vertical-align: middle;\n",
       "    }\n",
       "\n",
       "    .dataframe tbody tr th {\n",
       "        vertical-align: top;\n",
       "    }\n",
       "\n",
       "    .dataframe thead th {\n",
       "        text-align: right;\n",
       "    }\n",
       "</style>\n",
       "<table border=\"1\" class=\"dataframe\">\n",
       "  <thead>\n",
       "    <tr style=\"text-align: right;\">\n",
       "      <th></th>\n",
       "      <th>name</th>\n",
       "      <th>serving_size</th>\n",
       "      <th>calories</th>\n",
       "      <th>total_fat</th>\n",
       "      <th>saturated_fat</th>\n",
       "      <th>cholesterol</th>\n",
       "      <th>sodium</th>\n",
       "      <th>choline</th>\n",
       "      <th>folate</th>\n",
       "      <th>folic_acid</th>\n",
       "      <th>...</th>\n",
       "      <th>fat</th>\n",
       "      <th>saturated_fatty_acids</th>\n",
       "      <th>monounsaturated_fatty_acids</th>\n",
       "      <th>polyunsaturated_fatty_acids</th>\n",
       "      <th>fatty_acids_total_trans</th>\n",
       "      <th>alcohol</th>\n",
       "      <th>ash</th>\n",
       "      <th>caffeine</th>\n",
       "      <th>theobromine</th>\n",
       "      <th>water</th>\n",
       "    </tr>\n",
       "  </thead>\n",
       "  <tbody>\n",
       "    <tr>\n",
       "      <th>0</th>\n",
       "      <td>Cornstarch</td>\n",
       "      <td>100 g</td>\n",
       "      <td>381</td>\n",
       "      <td>0.1g</td>\n",
       "      <td>NaN</td>\n",
       "      <td>0</td>\n",
       "      <td>9.00 mg</td>\n",
       "      <td>0.4 mg</td>\n",
       "      <td>0.00 mcg</td>\n",
       "      <td>0.00 mcg</td>\n",
       "      <td>...</td>\n",
       "      <td>0.05 g</td>\n",
       "      <td>0.009 g</td>\n",
       "      <td>0.016 g</td>\n",
       "      <td>0.025 g</td>\n",
       "      <td>0.00 mg</td>\n",
       "      <td>0.0 g</td>\n",
       "      <td>0.09 g</td>\n",
       "      <td>0.00 mg</td>\n",
       "      <td>0.00 mg</td>\n",
       "      <td>8.32 g</td>\n",
       "    </tr>\n",
       "    <tr>\n",
       "      <th>1</th>\n",
       "      <td>Nuts, pecans</td>\n",
       "      <td>100 g</td>\n",
       "      <td>691</td>\n",
       "      <td>72g</td>\n",
       "      <td>6.2g</td>\n",
       "      <td>0</td>\n",
       "      <td>0.00 mg</td>\n",
       "      <td>40.5 mg</td>\n",
       "      <td>22.00 mcg</td>\n",
       "      <td>0.00 mcg</td>\n",
       "      <td>...</td>\n",
       "      <td>71.97 g</td>\n",
       "      <td>6.180 g</td>\n",
       "      <td>40.801 g</td>\n",
       "      <td>21.614 g</td>\n",
       "      <td>0.00 mg</td>\n",
       "      <td>0.0 g</td>\n",
       "      <td>1.49 g</td>\n",
       "      <td>0.00 mg</td>\n",
       "      <td>0.00 mg</td>\n",
       "      <td>3.52 g</td>\n",
       "    </tr>\n",
       "    <tr>\n",
       "      <th>2</th>\n",
       "      <td>Eggplant, raw</td>\n",
       "      <td>100 g</td>\n",
       "      <td>25</td>\n",
       "      <td>0.2g</td>\n",
       "      <td>NaN</td>\n",
       "      <td>0</td>\n",
       "      <td>2.00 mg</td>\n",
       "      <td>6.9 mg</td>\n",
       "      <td>22.00 mcg</td>\n",
       "      <td>0.00 mcg</td>\n",
       "      <td>...</td>\n",
       "      <td>0.18 g</td>\n",
       "      <td>0.034 g</td>\n",
       "      <td>0.016 g</td>\n",
       "      <td>0.076 g</td>\n",
       "      <td>0.00 mg</td>\n",
       "      <td>0.0 g</td>\n",
       "      <td>0.66 g</td>\n",
       "      <td>0.00 mg</td>\n",
       "      <td>0.00 mg</td>\n",
       "      <td>92.30 g</td>\n",
       "    </tr>\n",
       "    <tr>\n",
       "      <th>3</th>\n",
       "      <td>Teff, uncooked</td>\n",
       "      <td>100 g</td>\n",
       "      <td>367</td>\n",
       "      <td>2.4g</td>\n",
       "      <td>0.4g</td>\n",
       "      <td>0</td>\n",
       "      <td>12.00 mg</td>\n",
       "      <td>13.1 mg</td>\n",
       "      <td>0</td>\n",
       "      <td>0</td>\n",
       "      <td>...</td>\n",
       "      <td>2.38 g</td>\n",
       "      <td>0.449 g</td>\n",
       "      <td>0.589 g</td>\n",
       "      <td>1.071 g</td>\n",
       "      <td>0</td>\n",
       "      <td>0</td>\n",
       "      <td>2.37 g</td>\n",
       "      <td>0</td>\n",
       "      <td>0</td>\n",
       "      <td>8.82 g</td>\n",
       "    </tr>\n",
       "    <tr>\n",
       "      <th>4</th>\n",
       "      <td>Sherbet, orange</td>\n",
       "      <td>100 g</td>\n",
       "      <td>144</td>\n",
       "      <td>2g</td>\n",
       "      <td>1.2g</td>\n",
       "      <td>1mg</td>\n",
       "      <td>46.00 mg</td>\n",
       "      <td>7.7 mg</td>\n",
       "      <td>4.00 mcg</td>\n",
       "      <td>0.00 mcg</td>\n",
       "      <td>...</td>\n",
       "      <td>2.00 g</td>\n",
       "      <td>1.160 g</td>\n",
       "      <td>0.530 g</td>\n",
       "      <td>0.080 g</td>\n",
       "      <td>1.00 mg</td>\n",
       "      <td>0.0 g</td>\n",
       "      <td>0.40 g</td>\n",
       "      <td>0.00 mg</td>\n",
       "      <td>0.00 mg</td>\n",
       "      <td>66.10 g</td>\n",
       "    </tr>\n",
       "    <tr>\n",
       "      <th>...</th>\n",
       "      <td>...</td>\n",
       "      <td>...</td>\n",
       "      <td>...</td>\n",
       "      <td>...</td>\n",
       "      <td>...</td>\n",
       "      <td>...</td>\n",
       "      <td>...</td>\n",
       "      <td>...</td>\n",
       "      <td>...</td>\n",
       "      <td>...</td>\n",
       "      <td>...</td>\n",
       "      <td>...</td>\n",
       "      <td>...</td>\n",
       "      <td>...</td>\n",
       "      <td>...</td>\n",
       "      <td>...</td>\n",
       "      <td>...</td>\n",
       "      <td>...</td>\n",
       "      <td>...</td>\n",
       "      <td>...</td>\n",
       "      <td>...</td>\n",
       "    </tr>\n",
       "    <tr>\n",
       "      <th>8784</th>\n",
       "      <td>Beef, raw, all grades, trimmed to 0\" fat, sepa...</td>\n",
       "      <td>100 g</td>\n",
       "      <td>125</td>\n",
       "      <td>3.5g</td>\n",
       "      <td>1.4g</td>\n",
       "      <td>62mg</td>\n",
       "      <td>54.00 mg</td>\n",
       "      <td>64.5 mg</td>\n",
       "      <td>4.00 mcg</td>\n",
       "      <td>0.00 mcg</td>\n",
       "      <td>...</td>\n",
       "      <td>3.50 g</td>\n",
       "      <td>1.353 g</td>\n",
       "      <td>1.554 g</td>\n",
       "      <td>0.244 g</td>\n",
       "      <td>62.00 mg</td>\n",
       "      <td>0.0 g</td>\n",
       "      <td>1.11 g</td>\n",
       "      <td>0.00 mg</td>\n",
       "      <td>0.00 mg</td>\n",
       "      <td>72.51 g</td>\n",
       "    </tr>\n",
       "    <tr>\n",
       "      <th>8785</th>\n",
       "      <td>Lamb, cooked, separable lean only, composite o...</td>\n",
       "      <td>100 g</td>\n",
       "      <td>206</td>\n",
       "      <td>8.9g</td>\n",
       "      <td>3.9g</td>\n",
       "      <td>109mg</td>\n",
       "      <td>50.00 mg</td>\n",
       "      <td>0</td>\n",
       "      <td>0.00 mcg</td>\n",
       "      <td>0.00 mcg</td>\n",
       "      <td>...</td>\n",
       "      <td>8.86 g</td>\n",
       "      <td>3.860 g</td>\n",
       "      <td>3.480 g</td>\n",
       "      <td>0.520 g</td>\n",
       "      <td>109.00 mg</td>\n",
       "      <td>0</td>\n",
       "      <td>1.60 g</td>\n",
       "      <td>0</td>\n",
       "      <td>0</td>\n",
       "      <td>59.95 g</td>\n",
       "    </tr>\n",
       "    <tr>\n",
       "      <th>8786</th>\n",
       "      <td>Lamb, raw, separable lean and fat, composite o...</td>\n",
       "      <td>100 g</td>\n",
       "      <td>277</td>\n",
       "      <td>23g</td>\n",
       "      <td>12g</td>\n",
       "      <td>78mg</td>\n",
       "      <td>39.00 mg</td>\n",
       "      <td>0</td>\n",
       "      <td>1.00 mcg</td>\n",
       "      <td>0.00 mcg</td>\n",
       "      <td>...</td>\n",
       "      <td>22.74 g</td>\n",
       "      <td>11.570 g</td>\n",
       "      <td>8.720 g</td>\n",
       "      <td>0.980 g</td>\n",
       "      <td>78.00 mg</td>\n",
       "      <td>0</td>\n",
       "      <td>0.92 g</td>\n",
       "      <td>0</td>\n",
       "      <td>0</td>\n",
       "      <td>59.80 g</td>\n",
       "    </tr>\n",
       "    <tr>\n",
       "      <th>8787</th>\n",
       "      <td>Beef, raw, all grades, trimmed to 0\" fat, sepa...</td>\n",
       "      <td>100 g</td>\n",
       "      <td>121</td>\n",
       "      <td>3g</td>\n",
       "      <td>1.1g</td>\n",
       "      <td>60mg</td>\n",
       "      <td>53.00 mg</td>\n",
       "      <td>64.2 mg</td>\n",
       "      <td>4.00 mcg</td>\n",
       "      <td>0.00 mcg</td>\n",
       "      <td>...</td>\n",
       "      <td>3.04 g</td>\n",
       "      <td>1.086 g</td>\n",
       "      <td>1.266 g</td>\n",
       "      <td>0.233 g</td>\n",
       "      <td>60.00 mg</td>\n",
       "      <td>0.0 g</td>\n",
       "      <td>1.10 g</td>\n",
       "      <td>0.00 mg</td>\n",
       "      <td>0.00 mg</td>\n",
       "      <td>73.43 g</td>\n",
       "    </tr>\n",
       "    <tr>\n",
       "      <th>8788</th>\n",
       "      <td>Beef, raw, all grades, trimmed to 0\" fat, sepa...</td>\n",
       "      <td>100 g</td>\n",
       "      <td>121</td>\n",
       "      <td>3g</td>\n",
       "      <td>1.1g</td>\n",
       "      <td>60mg</td>\n",
       "      <td>53.00 mg</td>\n",
       "      <td>64.2 mg</td>\n",
       "      <td>4.00 mcg</td>\n",
       "      <td>0.00 mcg</td>\n",
       "      <td>...</td>\n",
       "      <td>3.04 g</td>\n",
       "      <td>1.086 g</td>\n",
       "      <td>1.266 g</td>\n",
       "      <td>0.233 g</td>\n",
       "      <td>60.00 mg</td>\n",
       "      <td>0.0 g</td>\n",
       "      <td>1.10 g</td>\n",
       "      <td>0.00 mg</td>\n",
       "      <td>0.00 mg</td>\n",
       "      <td>73.43 g</td>\n",
       "    </tr>\n",
       "  </tbody>\n",
       "</table>\n",
       "<p>8789 rows × 76 columns</p>\n",
       "</div>"
      ],
      "text/plain": [
       "                                                   name serving_size  \\\n",
       "0                                            Cornstarch        100 g   \n",
       "1                                          Nuts, pecans        100 g   \n",
       "2                                         Eggplant, raw        100 g   \n",
       "3                                        Teff, uncooked        100 g   \n",
       "4                                       Sherbet, orange        100 g   \n",
       "...                                                 ...          ...   \n",
       "8784  Beef, raw, all grades, trimmed to 0\" fat, sepa...        100 g   \n",
       "8785  Lamb, cooked, separable lean only, composite o...        100 g   \n",
       "8786  Lamb, raw, separable lean and fat, composite o...        100 g   \n",
       "8787  Beef, raw, all grades, trimmed to 0\" fat, sepa...        100 g   \n",
       "8788  Beef, raw, all grades, trimmed to 0\" fat, sepa...        100 g   \n",
       "\n",
       "      calories total_fat saturated_fat cholesterol    sodium  choline  \\\n",
       "0          381      0.1g           NaN           0   9.00 mg   0.4 mg   \n",
       "1          691       72g          6.2g           0   0.00 mg  40.5 mg   \n",
       "2           25      0.2g           NaN           0   2.00 mg   6.9 mg   \n",
       "3          367      2.4g          0.4g           0  12.00 mg  13.1 mg   \n",
       "4          144        2g          1.2g         1mg  46.00 mg   7.7 mg   \n",
       "...        ...       ...           ...         ...       ...      ...   \n",
       "8784       125      3.5g          1.4g        62mg  54.00 mg  64.5 mg   \n",
       "8785       206      8.9g          3.9g       109mg  50.00 mg        0   \n",
       "8786       277       23g           12g        78mg  39.00 mg        0   \n",
       "8787       121        3g          1.1g        60mg  53.00 mg  64.2 mg   \n",
       "8788       121        3g          1.1g        60mg  53.00 mg  64.2 mg   \n",
       "\n",
       "         folate folic_acid  ...      fat saturated_fatty_acids  \\\n",
       "0      0.00 mcg   0.00 mcg  ...   0.05 g               0.009 g   \n",
       "1     22.00 mcg   0.00 mcg  ...  71.97 g               6.180 g   \n",
       "2     22.00 mcg   0.00 mcg  ...   0.18 g               0.034 g   \n",
       "3             0          0  ...   2.38 g               0.449 g   \n",
       "4      4.00 mcg   0.00 mcg  ...   2.00 g               1.160 g   \n",
       "...         ...        ...  ...      ...                   ...   \n",
       "8784   4.00 mcg   0.00 mcg  ...   3.50 g               1.353 g   \n",
       "8785   0.00 mcg   0.00 mcg  ...   8.86 g               3.860 g   \n",
       "8786   1.00 mcg   0.00 mcg  ...  22.74 g              11.570 g   \n",
       "8787   4.00 mcg   0.00 mcg  ...   3.04 g               1.086 g   \n",
       "8788   4.00 mcg   0.00 mcg  ...   3.04 g               1.086 g   \n",
       "\n",
       "     monounsaturated_fatty_acids polyunsaturated_fatty_acids  \\\n",
       "0                        0.016 g                     0.025 g   \n",
       "1                       40.801 g                    21.614 g   \n",
       "2                        0.016 g                     0.076 g   \n",
       "3                        0.589 g                     1.071 g   \n",
       "4                        0.530 g                     0.080 g   \n",
       "...                          ...                         ...   \n",
       "8784                     1.554 g                     0.244 g   \n",
       "8785                     3.480 g                     0.520 g   \n",
       "8786                     8.720 g                     0.980 g   \n",
       "8787                     1.266 g                     0.233 g   \n",
       "8788                     1.266 g                     0.233 g   \n",
       "\n",
       "     fatty_acids_total_trans alcohol     ash caffeine theobromine    water  \n",
       "0                    0.00 mg   0.0 g  0.09 g  0.00 mg     0.00 mg   8.32 g  \n",
       "1                    0.00 mg   0.0 g  1.49 g  0.00 mg     0.00 mg   3.52 g  \n",
       "2                    0.00 mg   0.0 g  0.66 g  0.00 mg     0.00 mg  92.30 g  \n",
       "3                          0       0  2.37 g        0           0   8.82 g  \n",
       "4                    1.00 mg   0.0 g  0.40 g  0.00 mg     0.00 mg  66.10 g  \n",
       "...                      ...     ...     ...      ...         ...      ...  \n",
       "8784                62.00 mg   0.0 g  1.11 g  0.00 mg     0.00 mg  72.51 g  \n",
       "8785               109.00 mg       0  1.60 g        0           0  59.95 g  \n",
       "8786                78.00 mg       0  0.92 g        0           0  59.80 g  \n",
       "8787                60.00 mg   0.0 g  1.10 g  0.00 mg     0.00 mg  73.43 g  \n",
       "8788                60.00 mg   0.0 g  1.10 g  0.00 mg     0.00 mg  73.43 g  \n",
       "\n",
       "[8789 rows x 76 columns]"
      ]
     },
     "execution_count": 25,
     "metadata": {},
     "output_type": "execute_result"
    }
   ],
   "source": [
    "nutrition.drop('Unnamed: 0', axis=1, inplace=True)"
   ]
  },
  {
   "cell_type": "code",
   "execution_count": 27,
   "metadata": {},
   "outputs": [
    {
     "data": {
      "text/html": [
       "<div>\n",
       "<style scoped>\n",
       "    .dataframe tbody tr th:only-of-type {\n",
       "        vertical-align: middle;\n",
       "    }\n",
       "\n",
       "    .dataframe tbody tr th {\n",
       "        vertical-align: top;\n",
       "    }\n",
       "\n",
       "    .dataframe thead th {\n",
       "        text-align: right;\n",
       "    }\n",
       "</style>\n",
       "<table border=\"1\" class=\"dataframe\">\n",
       "  <thead>\n",
       "    <tr style=\"text-align: right;\">\n",
       "      <th></th>\n",
       "      <th>Unnamed: 0</th>\n",
       "      <th>name</th>\n",
       "      <th>serving_size</th>\n",
       "      <th>calories</th>\n",
       "      <th>total_fat</th>\n",
       "      <th>saturated_fat</th>\n",
       "      <th>cholesterol</th>\n",
       "      <th>sodium</th>\n",
       "      <th>choline</th>\n",
       "      <th>folate</th>\n",
       "      <th>...</th>\n",
       "      <th>fat</th>\n",
       "      <th>saturated_fatty_acids</th>\n",
       "      <th>monounsaturated_fatty_acids</th>\n",
       "      <th>polyunsaturated_fatty_acids</th>\n",
       "      <th>fatty_acids_total_trans</th>\n",
       "      <th>alcohol</th>\n",
       "      <th>ash</th>\n",
       "      <th>caffeine</th>\n",
       "      <th>theobromine</th>\n",
       "      <th>water</th>\n",
       "    </tr>\n",
       "  </thead>\n",
       "  <tbody>\n",
       "    <tr>\n",
       "      <th>1</th>\n",
       "      <td>1</td>\n",
       "      <td>Nuts, pecans</td>\n",
       "      <td>100 g</td>\n",
       "      <td>691</td>\n",
       "      <td>72g</td>\n",
       "      <td>6.2g</td>\n",
       "      <td>0</td>\n",
       "      <td>0.00 mg</td>\n",
       "      <td>40.5 mg</td>\n",
       "      <td>22.00 mcg</td>\n",
       "      <td>...</td>\n",
       "      <td>71.97 g</td>\n",
       "      <td>6.180 g</td>\n",
       "      <td>40.801 g</td>\n",
       "      <td>21.614 g</td>\n",
       "      <td>0.00 mg</td>\n",
       "      <td>0.0 g</td>\n",
       "      <td>1.49 g</td>\n",
       "      <td>0.00 mg</td>\n",
       "      <td>0.00 mg</td>\n",
       "      <td>3.52 g</td>\n",
       "    </tr>\n",
       "    <tr>\n",
       "      <th>2</th>\n",
       "      <td>2</td>\n",
       "      <td>Eggplant, raw</td>\n",
       "      <td>100 g</td>\n",
       "      <td>25</td>\n",
       "      <td>0.2g</td>\n",
       "      <td>NaN</td>\n",
       "      <td>0</td>\n",
       "      <td>2.00 mg</td>\n",
       "      <td>6.9 mg</td>\n",
       "      <td>22.00 mcg</td>\n",
       "      <td>...</td>\n",
       "      <td>0.18 g</td>\n",
       "      <td>0.034 g</td>\n",
       "      <td>0.016 g</td>\n",
       "      <td>0.076 g</td>\n",
       "      <td>0.00 mg</td>\n",
       "      <td>0.0 g</td>\n",
       "      <td>0.66 g</td>\n",
       "      <td>0.00 mg</td>\n",
       "      <td>0.00 mg</td>\n",
       "      <td>92.30 g</td>\n",
       "    </tr>\n",
       "    <tr>\n",
       "      <th>3</th>\n",
       "      <td>3</td>\n",
       "      <td>Teff, uncooked</td>\n",
       "      <td>100 g</td>\n",
       "      <td>367</td>\n",
       "      <td>2.4g</td>\n",
       "      <td>0.4g</td>\n",
       "      <td>0</td>\n",
       "      <td>12.00 mg</td>\n",
       "      <td>13.1 mg</td>\n",
       "      <td>0</td>\n",
       "      <td>...</td>\n",
       "      <td>2.38 g</td>\n",
       "      <td>0.449 g</td>\n",
       "      <td>0.589 g</td>\n",
       "      <td>1.071 g</td>\n",
       "      <td>0</td>\n",
       "      <td>0</td>\n",
       "      <td>2.37 g</td>\n",
       "      <td>0</td>\n",
       "      <td>0</td>\n",
       "      <td>8.82 g</td>\n",
       "    </tr>\n",
       "    <tr>\n",
       "      <th>4</th>\n",
       "      <td>4</td>\n",
       "      <td>Sherbet, orange</td>\n",
       "      <td>100 g</td>\n",
       "      <td>144</td>\n",
       "      <td>2g</td>\n",
       "      <td>1.2g</td>\n",
       "      <td>1mg</td>\n",
       "      <td>46.00 mg</td>\n",
       "      <td>7.7 mg</td>\n",
       "      <td>4.00 mcg</td>\n",
       "      <td>...</td>\n",
       "      <td>2.00 g</td>\n",
       "      <td>1.160 g</td>\n",
       "      <td>0.530 g</td>\n",
       "      <td>0.080 g</td>\n",
       "      <td>1.00 mg</td>\n",
       "      <td>0.0 g</td>\n",
       "      <td>0.40 g</td>\n",
       "      <td>0.00 mg</td>\n",
       "      <td>0.00 mg</td>\n",
       "      <td>66.10 g</td>\n",
       "    </tr>\n",
       "    <tr>\n",
       "      <th>5</th>\n",
       "      <td>5</td>\n",
       "      <td>Cauliflower, raw</td>\n",
       "      <td>100 g</td>\n",
       "      <td>25</td>\n",
       "      <td>0.3g</td>\n",
       "      <td>0.1g</td>\n",
       "      <td>0</td>\n",
       "      <td>30.00 mg</td>\n",
       "      <td>44.3 mg</td>\n",
       "      <td>57.00 mcg</td>\n",
       "      <td>...</td>\n",
       "      <td>0.28 g</td>\n",
       "      <td>0.130 g</td>\n",
       "      <td>0.034 g</td>\n",
       "      <td>0.031 g</td>\n",
       "      <td>0.00 mg</td>\n",
       "      <td>0.0 g</td>\n",
       "      <td>0.76 g</td>\n",
       "      <td>0.00 mg</td>\n",
       "      <td>0.00 mg</td>\n",
       "      <td>92.07 g</td>\n",
       "    </tr>\n",
       "    <tr>\n",
       "      <th>...</th>\n",
       "      <td>...</td>\n",
       "      <td>...</td>\n",
       "      <td>...</td>\n",
       "      <td>...</td>\n",
       "      <td>...</td>\n",
       "      <td>...</td>\n",
       "      <td>...</td>\n",
       "      <td>...</td>\n",
       "      <td>...</td>\n",
       "      <td>...</td>\n",
       "      <td>...</td>\n",
       "      <td>...</td>\n",
       "      <td>...</td>\n",
       "      <td>...</td>\n",
       "      <td>...</td>\n",
       "      <td>...</td>\n",
       "      <td>...</td>\n",
       "      <td>...</td>\n",
       "      <td>...</td>\n",
       "      <td>...</td>\n",
       "      <td>...</td>\n",
       "    </tr>\n",
       "    <tr>\n",
       "      <th>8784</th>\n",
       "      <td>8784</td>\n",
       "      <td>Beef, raw, all grades, trimmed to 0\" fat, sepa...</td>\n",
       "      <td>100 g</td>\n",
       "      <td>125</td>\n",
       "      <td>3.5g</td>\n",
       "      <td>1.4g</td>\n",
       "      <td>62mg</td>\n",
       "      <td>54.00 mg</td>\n",
       "      <td>64.5 mg</td>\n",
       "      <td>4.00 mcg</td>\n",
       "      <td>...</td>\n",
       "      <td>3.50 g</td>\n",
       "      <td>1.353 g</td>\n",
       "      <td>1.554 g</td>\n",
       "      <td>0.244 g</td>\n",
       "      <td>62.00 mg</td>\n",
       "      <td>0.0 g</td>\n",
       "      <td>1.11 g</td>\n",
       "      <td>0.00 mg</td>\n",
       "      <td>0.00 mg</td>\n",
       "      <td>72.51 g</td>\n",
       "    </tr>\n",
       "    <tr>\n",
       "      <th>8785</th>\n",
       "      <td>8785</td>\n",
       "      <td>Lamb, cooked, separable lean only, composite o...</td>\n",
       "      <td>100 g</td>\n",
       "      <td>206</td>\n",
       "      <td>8.9g</td>\n",
       "      <td>3.9g</td>\n",
       "      <td>109mg</td>\n",
       "      <td>50.00 mg</td>\n",
       "      <td>0</td>\n",
       "      <td>0.00 mcg</td>\n",
       "      <td>...</td>\n",
       "      <td>8.86 g</td>\n",
       "      <td>3.860 g</td>\n",
       "      <td>3.480 g</td>\n",
       "      <td>0.520 g</td>\n",
       "      <td>109.00 mg</td>\n",
       "      <td>0</td>\n",
       "      <td>1.60 g</td>\n",
       "      <td>0</td>\n",
       "      <td>0</td>\n",
       "      <td>59.95 g</td>\n",
       "    </tr>\n",
       "    <tr>\n",
       "      <th>8786</th>\n",
       "      <td>8786</td>\n",
       "      <td>Lamb, raw, separable lean and fat, composite o...</td>\n",
       "      <td>100 g</td>\n",
       "      <td>277</td>\n",
       "      <td>23g</td>\n",
       "      <td>12g</td>\n",
       "      <td>78mg</td>\n",
       "      <td>39.00 mg</td>\n",
       "      <td>0</td>\n",
       "      <td>1.00 mcg</td>\n",
       "      <td>...</td>\n",
       "      <td>22.74 g</td>\n",
       "      <td>11.570 g</td>\n",
       "      <td>8.720 g</td>\n",
       "      <td>0.980 g</td>\n",
       "      <td>78.00 mg</td>\n",
       "      <td>0</td>\n",
       "      <td>0.92 g</td>\n",
       "      <td>0</td>\n",
       "      <td>0</td>\n",
       "      <td>59.80 g</td>\n",
       "    </tr>\n",
       "    <tr>\n",
       "      <th>8787</th>\n",
       "      <td>8787</td>\n",
       "      <td>Beef, raw, all grades, trimmed to 0\" fat, sepa...</td>\n",
       "      <td>100 g</td>\n",
       "      <td>121</td>\n",
       "      <td>3g</td>\n",
       "      <td>1.1g</td>\n",
       "      <td>60mg</td>\n",
       "      <td>53.00 mg</td>\n",
       "      <td>64.2 mg</td>\n",
       "      <td>4.00 mcg</td>\n",
       "      <td>...</td>\n",
       "      <td>3.04 g</td>\n",
       "      <td>1.086 g</td>\n",
       "      <td>1.266 g</td>\n",
       "      <td>0.233 g</td>\n",
       "      <td>60.00 mg</td>\n",
       "      <td>0.0 g</td>\n",
       "      <td>1.10 g</td>\n",
       "      <td>0.00 mg</td>\n",
       "      <td>0.00 mg</td>\n",
       "      <td>73.43 g</td>\n",
       "    </tr>\n",
       "    <tr>\n",
       "      <th>8788</th>\n",
       "      <td>8788</td>\n",
       "      <td>Beef, raw, all grades, trimmed to 0\" fat, sepa...</td>\n",
       "      <td>100 g</td>\n",
       "      <td>121</td>\n",
       "      <td>3g</td>\n",
       "      <td>1.1g</td>\n",
       "      <td>60mg</td>\n",
       "      <td>53.00 mg</td>\n",
       "      <td>64.2 mg</td>\n",
       "      <td>4.00 mcg</td>\n",
       "      <td>...</td>\n",
       "      <td>3.04 g</td>\n",
       "      <td>1.086 g</td>\n",
       "      <td>1.266 g</td>\n",
       "      <td>0.233 g</td>\n",
       "      <td>60.00 mg</td>\n",
       "      <td>0.0 g</td>\n",
       "      <td>1.10 g</td>\n",
       "      <td>0.00 mg</td>\n",
       "      <td>0.00 mg</td>\n",
       "      <td>73.43 g</td>\n",
       "    </tr>\n",
       "  </tbody>\n",
       "</table>\n",
       "<p>8788 rows × 77 columns</p>\n",
       "</div>"
      ],
      "text/plain": [
       "      Unnamed: 0                                               name  \\\n",
       "1              1                                       Nuts, pecans   \n",
       "2              2                                      Eggplant, raw   \n",
       "3              3                                     Teff, uncooked   \n",
       "4              4                                    Sherbet, orange   \n",
       "5              5                                   Cauliflower, raw   \n",
       "...          ...                                                ...   \n",
       "8784        8784  Beef, raw, all grades, trimmed to 0\" fat, sepa...   \n",
       "8785        8785  Lamb, cooked, separable lean only, composite o...   \n",
       "8786        8786  Lamb, raw, separable lean and fat, composite o...   \n",
       "8787        8787  Beef, raw, all grades, trimmed to 0\" fat, sepa...   \n",
       "8788        8788  Beef, raw, all grades, trimmed to 0\" fat, sepa...   \n",
       "\n",
       "     serving_size  calories total_fat saturated_fat cholesterol    sodium  \\\n",
       "1           100 g       691       72g          6.2g           0   0.00 mg   \n",
       "2           100 g        25      0.2g           NaN           0   2.00 mg   \n",
       "3           100 g       367      2.4g          0.4g           0  12.00 mg   \n",
       "4           100 g       144        2g          1.2g         1mg  46.00 mg   \n",
       "5           100 g        25      0.3g          0.1g           0  30.00 mg   \n",
       "...           ...       ...       ...           ...         ...       ...   \n",
       "8784        100 g       125      3.5g          1.4g        62mg  54.00 mg   \n",
       "8785        100 g       206      8.9g          3.9g       109mg  50.00 mg   \n",
       "8786        100 g       277       23g           12g        78mg  39.00 mg   \n",
       "8787        100 g       121        3g          1.1g        60mg  53.00 mg   \n",
       "8788        100 g       121        3g          1.1g        60mg  53.00 mg   \n",
       "\n",
       "      choline     folate  ...      fat saturated_fatty_acids  \\\n",
       "1     40.5 mg  22.00 mcg  ...  71.97 g               6.180 g   \n",
       "2      6.9 mg  22.00 mcg  ...   0.18 g               0.034 g   \n",
       "3     13.1 mg          0  ...   2.38 g               0.449 g   \n",
       "4      7.7 mg   4.00 mcg  ...   2.00 g               1.160 g   \n",
       "5     44.3 mg  57.00 mcg  ...   0.28 g               0.130 g   \n",
       "...       ...        ...  ...      ...                   ...   \n",
       "8784  64.5 mg   4.00 mcg  ...   3.50 g               1.353 g   \n",
       "8785        0   0.00 mcg  ...   8.86 g               3.860 g   \n",
       "8786        0   1.00 mcg  ...  22.74 g              11.570 g   \n",
       "8787  64.2 mg   4.00 mcg  ...   3.04 g               1.086 g   \n",
       "8788  64.2 mg   4.00 mcg  ...   3.04 g               1.086 g   \n",
       "\n",
       "     monounsaturated_fatty_acids polyunsaturated_fatty_acids  \\\n",
       "1                       40.801 g                    21.614 g   \n",
       "2                        0.016 g                     0.076 g   \n",
       "3                        0.589 g                     1.071 g   \n",
       "4                        0.530 g                     0.080 g   \n",
       "5                        0.034 g                     0.031 g   \n",
       "...                          ...                         ...   \n",
       "8784                     1.554 g                     0.244 g   \n",
       "8785                     3.480 g                     0.520 g   \n",
       "8786                     8.720 g                     0.980 g   \n",
       "8787                     1.266 g                     0.233 g   \n",
       "8788                     1.266 g                     0.233 g   \n",
       "\n",
       "     fatty_acids_total_trans alcohol     ash caffeine theobromine    water  \n",
       "1                    0.00 mg   0.0 g  1.49 g  0.00 mg     0.00 mg   3.52 g  \n",
       "2                    0.00 mg   0.0 g  0.66 g  0.00 mg     0.00 mg  92.30 g  \n",
       "3                          0       0  2.37 g        0           0   8.82 g  \n",
       "4                    1.00 mg   0.0 g  0.40 g  0.00 mg     0.00 mg  66.10 g  \n",
       "5                    0.00 mg   0.0 g  0.76 g  0.00 mg     0.00 mg  92.07 g  \n",
       "...                      ...     ...     ...      ...         ...      ...  \n",
       "8784                62.00 mg   0.0 g  1.11 g  0.00 mg     0.00 mg  72.51 g  \n",
       "8785               109.00 mg       0  1.60 g        0           0  59.95 g  \n",
       "8786                78.00 mg       0  0.92 g        0           0  59.80 g  \n",
       "8787                60.00 mg   0.0 g  1.10 g  0.00 mg     0.00 mg  73.43 g  \n",
       "8788                60.00 mg   0.0 g  1.10 g  0.00 mg     0.00 mg  73.43 g  \n",
       "\n",
       "[8788 rows x 77 columns]"
      ]
     },
     "execution_count": 27,
     "metadata": {},
     "output_type": "execute_result"
    }
   ],
   "source": [
    "nutrition.drop(0)"
   ]
  },
  {
   "cell_type": "code",
   "execution_count": 28,
   "metadata": {},
   "outputs": [
    {
     "ename": "NameError",
     "evalue": "name 'nutr' is not defined",
     "output_type": "error",
     "traceback": [
      "\u001b[0;31m---------------------------------------------------------------------------\u001b[0m",
      "\u001b[0;31mNameError\u001b[0m                                 Traceback (most recent call last)",
      "Cell \u001b[0;32mIn[28], line 1\u001b[0m\n\u001b[0;32m----> 1\u001b[0m nutr\n",
      "\u001b[0;31mNameError\u001b[0m: name 'nutr' is not defined"
     ]
    }
   ],
   "source": [
    "nutr"
   ]
  },
  {
   "cell_type": "code",
   "execution_count": 30,
   "metadata": {},
   "outputs": [
    {
     "data": {
      "text/html": [
       "<div>\n",
       "<style scoped>\n",
       "    .dataframe tbody tr th:only-of-type {\n",
       "        vertical-align: middle;\n",
       "    }\n",
       "\n",
       "    .dataframe tbody tr th {\n",
       "        vertical-align: top;\n",
       "    }\n",
       "\n",
       "    .dataframe thead th {\n",
       "        text-align: right;\n",
       "    }\n",
       "</style>\n",
       "<table border=\"1\" class=\"dataframe\">\n",
       "  <thead>\n",
       "    <tr style=\"text-align: right;\">\n",
       "      <th></th>\n",
       "      <th>name</th>\n",
       "      <th>serving_size</th>\n",
       "      <th>calories</th>\n",
       "      <th>total_fat</th>\n",
       "      <th>saturated_fat</th>\n",
       "      <th>cholesterol</th>\n",
       "      <th>sodium</th>\n",
       "      <th>choline</th>\n",
       "      <th>folate</th>\n",
       "      <th>folic_acid</th>\n",
       "      <th>...</th>\n",
       "      <th>fat</th>\n",
       "      <th>saturated_fatty_acids</th>\n",
       "      <th>monounsaturated_fatty_acids</th>\n",
       "      <th>polyunsaturated_fatty_acids</th>\n",
       "      <th>fatty_acids_total_trans</th>\n",
       "      <th>alcohol</th>\n",
       "      <th>ash</th>\n",
       "      <th>caffeine</th>\n",
       "      <th>theobromine</th>\n",
       "      <th>water</th>\n",
       "    </tr>\n",
       "    <tr>\n",
       "      <th>Unnamed: 0</th>\n",
       "      <th></th>\n",
       "      <th></th>\n",
       "      <th></th>\n",
       "      <th></th>\n",
       "      <th></th>\n",
       "      <th></th>\n",
       "      <th></th>\n",
       "      <th></th>\n",
       "      <th></th>\n",
       "      <th></th>\n",
       "      <th></th>\n",
       "      <th></th>\n",
       "      <th></th>\n",
       "      <th></th>\n",
       "      <th></th>\n",
       "      <th></th>\n",
       "      <th></th>\n",
       "      <th></th>\n",
       "      <th></th>\n",
       "      <th></th>\n",
       "      <th></th>\n",
       "    </tr>\n",
       "  </thead>\n",
       "  <tbody>\n",
       "    <tr>\n",
       "      <th>0</th>\n",
       "      <td>Cornstarch</td>\n",
       "      <td>100 g</td>\n",
       "      <td>381</td>\n",
       "      <td>0.1g</td>\n",
       "      <td>NaN</td>\n",
       "      <td>0</td>\n",
       "      <td>9.00 mg</td>\n",
       "      <td>0.4 mg</td>\n",
       "      <td>0.00 mcg</td>\n",
       "      <td>0.00 mcg</td>\n",
       "      <td>...</td>\n",
       "      <td>0.05 g</td>\n",
       "      <td>0.009 g</td>\n",
       "      <td>0.016 g</td>\n",
       "      <td>0.025 g</td>\n",
       "      <td>0.00 mg</td>\n",
       "      <td>0.0 g</td>\n",
       "      <td>0.09 g</td>\n",
       "      <td>0.00 mg</td>\n",
       "      <td>0.00 mg</td>\n",
       "      <td>8.32 g</td>\n",
       "    </tr>\n",
       "    <tr>\n",
       "      <th>1</th>\n",
       "      <td>Nuts, pecans</td>\n",
       "      <td>100 g</td>\n",
       "      <td>691</td>\n",
       "      <td>72g</td>\n",
       "      <td>6.2g</td>\n",
       "      <td>0</td>\n",
       "      <td>0.00 mg</td>\n",
       "      <td>40.5 mg</td>\n",
       "      <td>22.00 mcg</td>\n",
       "      <td>0.00 mcg</td>\n",
       "      <td>...</td>\n",
       "      <td>71.97 g</td>\n",
       "      <td>6.180 g</td>\n",
       "      <td>40.801 g</td>\n",
       "      <td>21.614 g</td>\n",
       "      <td>0.00 mg</td>\n",
       "      <td>0.0 g</td>\n",
       "      <td>1.49 g</td>\n",
       "      <td>0.00 mg</td>\n",
       "      <td>0.00 mg</td>\n",
       "      <td>3.52 g</td>\n",
       "    </tr>\n",
       "    <tr>\n",
       "      <th>2</th>\n",
       "      <td>Eggplant, raw</td>\n",
       "      <td>100 g</td>\n",
       "      <td>25</td>\n",
       "      <td>0.2g</td>\n",
       "      <td>NaN</td>\n",
       "      <td>0</td>\n",
       "      <td>2.00 mg</td>\n",
       "      <td>6.9 mg</td>\n",
       "      <td>22.00 mcg</td>\n",
       "      <td>0.00 mcg</td>\n",
       "      <td>...</td>\n",
       "      <td>0.18 g</td>\n",
       "      <td>0.034 g</td>\n",
       "      <td>0.016 g</td>\n",
       "      <td>0.076 g</td>\n",
       "      <td>0.00 mg</td>\n",
       "      <td>0.0 g</td>\n",
       "      <td>0.66 g</td>\n",
       "      <td>0.00 mg</td>\n",
       "      <td>0.00 mg</td>\n",
       "      <td>92.30 g</td>\n",
       "    </tr>\n",
       "    <tr>\n",
       "      <th>3</th>\n",
       "      <td>Teff, uncooked</td>\n",
       "      <td>100 g</td>\n",
       "      <td>367</td>\n",
       "      <td>2.4g</td>\n",
       "      <td>0.4g</td>\n",
       "      <td>0</td>\n",
       "      <td>12.00 mg</td>\n",
       "      <td>13.1 mg</td>\n",
       "      <td>0</td>\n",
       "      <td>0</td>\n",
       "      <td>...</td>\n",
       "      <td>2.38 g</td>\n",
       "      <td>0.449 g</td>\n",
       "      <td>0.589 g</td>\n",
       "      <td>1.071 g</td>\n",
       "      <td>0</td>\n",
       "      <td>0</td>\n",
       "      <td>2.37 g</td>\n",
       "      <td>0</td>\n",
       "      <td>0</td>\n",
       "      <td>8.82 g</td>\n",
       "    </tr>\n",
       "    <tr>\n",
       "      <th>4</th>\n",
       "      <td>Sherbet, orange</td>\n",
       "      <td>100 g</td>\n",
       "      <td>144</td>\n",
       "      <td>2g</td>\n",
       "      <td>1.2g</td>\n",
       "      <td>1mg</td>\n",
       "      <td>46.00 mg</td>\n",
       "      <td>7.7 mg</td>\n",
       "      <td>4.00 mcg</td>\n",
       "      <td>0.00 mcg</td>\n",
       "      <td>...</td>\n",
       "      <td>2.00 g</td>\n",
       "      <td>1.160 g</td>\n",
       "      <td>0.530 g</td>\n",
       "      <td>0.080 g</td>\n",
       "      <td>1.00 mg</td>\n",
       "      <td>0.0 g</td>\n",
       "      <td>0.40 g</td>\n",
       "      <td>0.00 mg</td>\n",
       "      <td>0.00 mg</td>\n",
       "      <td>66.10 g</td>\n",
       "    </tr>\n",
       "    <tr>\n",
       "      <th>...</th>\n",
       "      <td>...</td>\n",
       "      <td>...</td>\n",
       "      <td>...</td>\n",
       "      <td>...</td>\n",
       "      <td>...</td>\n",
       "      <td>...</td>\n",
       "      <td>...</td>\n",
       "      <td>...</td>\n",
       "      <td>...</td>\n",
       "      <td>...</td>\n",
       "      <td>...</td>\n",
       "      <td>...</td>\n",
       "      <td>...</td>\n",
       "      <td>...</td>\n",
       "      <td>...</td>\n",
       "      <td>...</td>\n",
       "      <td>...</td>\n",
       "      <td>...</td>\n",
       "      <td>...</td>\n",
       "      <td>...</td>\n",
       "      <td>...</td>\n",
       "    </tr>\n",
       "    <tr>\n",
       "      <th>8784</th>\n",
       "      <td>Beef, raw, all grades, trimmed to 0\" fat, sepa...</td>\n",
       "      <td>100 g</td>\n",
       "      <td>125</td>\n",
       "      <td>3.5g</td>\n",
       "      <td>1.4g</td>\n",
       "      <td>62mg</td>\n",
       "      <td>54.00 mg</td>\n",
       "      <td>64.5 mg</td>\n",
       "      <td>4.00 mcg</td>\n",
       "      <td>0.00 mcg</td>\n",
       "      <td>...</td>\n",
       "      <td>3.50 g</td>\n",
       "      <td>1.353 g</td>\n",
       "      <td>1.554 g</td>\n",
       "      <td>0.244 g</td>\n",
       "      <td>62.00 mg</td>\n",
       "      <td>0.0 g</td>\n",
       "      <td>1.11 g</td>\n",
       "      <td>0.00 mg</td>\n",
       "      <td>0.00 mg</td>\n",
       "      <td>72.51 g</td>\n",
       "    </tr>\n",
       "    <tr>\n",
       "      <th>8785</th>\n",
       "      <td>Lamb, cooked, separable lean only, composite o...</td>\n",
       "      <td>100 g</td>\n",
       "      <td>206</td>\n",
       "      <td>8.9g</td>\n",
       "      <td>3.9g</td>\n",
       "      <td>109mg</td>\n",
       "      <td>50.00 mg</td>\n",
       "      <td>0</td>\n",
       "      <td>0.00 mcg</td>\n",
       "      <td>0.00 mcg</td>\n",
       "      <td>...</td>\n",
       "      <td>8.86 g</td>\n",
       "      <td>3.860 g</td>\n",
       "      <td>3.480 g</td>\n",
       "      <td>0.520 g</td>\n",
       "      <td>109.00 mg</td>\n",
       "      <td>0</td>\n",
       "      <td>1.60 g</td>\n",
       "      <td>0</td>\n",
       "      <td>0</td>\n",
       "      <td>59.95 g</td>\n",
       "    </tr>\n",
       "    <tr>\n",
       "      <th>8786</th>\n",
       "      <td>Lamb, raw, separable lean and fat, composite o...</td>\n",
       "      <td>100 g</td>\n",
       "      <td>277</td>\n",
       "      <td>23g</td>\n",
       "      <td>12g</td>\n",
       "      <td>78mg</td>\n",
       "      <td>39.00 mg</td>\n",
       "      <td>0</td>\n",
       "      <td>1.00 mcg</td>\n",
       "      <td>0.00 mcg</td>\n",
       "      <td>...</td>\n",
       "      <td>22.74 g</td>\n",
       "      <td>11.570 g</td>\n",
       "      <td>8.720 g</td>\n",
       "      <td>0.980 g</td>\n",
       "      <td>78.00 mg</td>\n",
       "      <td>0</td>\n",
       "      <td>0.92 g</td>\n",
       "      <td>0</td>\n",
       "      <td>0</td>\n",
       "      <td>59.80 g</td>\n",
       "    </tr>\n",
       "    <tr>\n",
       "      <th>8787</th>\n",
       "      <td>Beef, raw, all grades, trimmed to 0\" fat, sepa...</td>\n",
       "      <td>100 g</td>\n",
       "      <td>121</td>\n",
       "      <td>3g</td>\n",
       "      <td>1.1g</td>\n",
       "      <td>60mg</td>\n",
       "      <td>53.00 mg</td>\n",
       "      <td>64.2 mg</td>\n",
       "      <td>4.00 mcg</td>\n",
       "      <td>0.00 mcg</td>\n",
       "      <td>...</td>\n",
       "      <td>3.04 g</td>\n",
       "      <td>1.086 g</td>\n",
       "      <td>1.266 g</td>\n",
       "      <td>0.233 g</td>\n",
       "      <td>60.00 mg</td>\n",
       "      <td>0.0 g</td>\n",
       "      <td>1.10 g</td>\n",
       "      <td>0.00 mg</td>\n",
       "      <td>0.00 mg</td>\n",
       "      <td>73.43 g</td>\n",
       "    </tr>\n",
       "    <tr>\n",
       "      <th>8788</th>\n",
       "      <td>Beef, raw, all grades, trimmed to 0\" fat, sepa...</td>\n",
       "      <td>100 g</td>\n",
       "      <td>121</td>\n",
       "      <td>3g</td>\n",
       "      <td>1.1g</td>\n",
       "      <td>60mg</td>\n",
       "      <td>53.00 mg</td>\n",
       "      <td>64.2 mg</td>\n",
       "      <td>4.00 mcg</td>\n",
       "      <td>0.00 mcg</td>\n",
       "      <td>...</td>\n",
       "      <td>3.04 g</td>\n",
       "      <td>1.086 g</td>\n",
       "      <td>1.266 g</td>\n",
       "      <td>0.233 g</td>\n",
       "      <td>60.00 mg</td>\n",
       "      <td>0.0 g</td>\n",
       "      <td>1.10 g</td>\n",
       "      <td>0.00 mg</td>\n",
       "      <td>0.00 mg</td>\n",
       "      <td>73.43 g</td>\n",
       "    </tr>\n",
       "  </tbody>\n",
       "</table>\n",
       "<p>8789 rows × 76 columns</p>\n",
       "</div>"
      ],
      "text/plain": [
       "                                                         name serving_size  \\\n",
       "Unnamed: 0                                                                   \n",
       "0                                                  Cornstarch        100 g   \n",
       "1                                                Nuts, pecans        100 g   \n",
       "2                                               Eggplant, raw        100 g   \n",
       "3                                              Teff, uncooked        100 g   \n",
       "4                                             Sherbet, orange        100 g   \n",
       "...                                                       ...          ...   \n",
       "8784        Beef, raw, all grades, trimmed to 0\" fat, sepa...        100 g   \n",
       "8785        Lamb, cooked, separable lean only, composite o...        100 g   \n",
       "8786        Lamb, raw, separable lean and fat, composite o...        100 g   \n",
       "8787        Beef, raw, all grades, trimmed to 0\" fat, sepa...        100 g   \n",
       "8788        Beef, raw, all grades, trimmed to 0\" fat, sepa...        100 g   \n",
       "\n",
       "            calories total_fat saturated_fat cholesterol    sodium  choline  \\\n",
       "Unnamed: 0                                                                    \n",
       "0                381      0.1g           NaN           0   9.00 mg   0.4 mg   \n",
       "1                691       72g          6.2g           0   0.00 mg  40.5 mg   \n",
       "2                 25      0.2g           NaN           0   2.00 mg   6.9 mg   \n",
       "3                367      2.4g          0.4g           0  12.00 mg  13.1 mg   \n",
       "4                144        2g          1.2g         1mg  46.00 mg   7.7 mg   \n",
       "...              ...       ...           ...         ...       ...      ...   \n",
       "8784             125      3.5g          1.4g        62mg  54.00 mg  64.5 mg   \n",
       "8785             206      8.9g          3.9g       109mg  50.00 mg        0   \n",
       "8786             277       23g           12g        78mg  39.00 mg        0   \n",
       "8787             121        3g          1.1g        60mg  53.00 mg  64.2 mg   \n",
       "8788             121        3g          1.1g        60mg  53.00 mg  64.2 mg   \n",
       "\n",
       "               folate folic_acid  ...      fat saturated_fatty_acids  \\\n",
       "Unnamed: 0                        ...                                  \n",
       "0            0.00 mcg   0.00 mcg  ...   0.05 g               0.009 g   \n",
       "1           22.00 mcg   0.00 mcg  ...  71.97 g               6.180 g   \n",
       "2           22.00 mcg   0.00 mcg  ...   0.18 g               0.034 g   \n",
       "3                   0          0  ...   2.38 g               0.449 g   \n",
       "4            4.00 mcg   0.00 mcg  ...   2.00 g               1.160 g   \n",
       "...               ...        ...  ...      ...                   ...   \n",
       "8784         4.00 mcg   0.00 mcg  ...   3.50 g               1.353 g   \n",
       "8785         0.00 mcg   0.00 mcg  ...   8.86 g               3.860 g   \n",
       "8786         1.00 mcg   0.00 mcg  ...  22.74 g              11.570 g   \n",
       "8787         4.00 mcg   0.00 mcg  ...   3.04 g               1.086 g   \n",
       "8788         4.00 mcg   0.00 mcg  ...   3.04 g               1.086 g   \n",
       "\n",
       "           monounsaturated_fatty_acids polyunsaturated_fatty_acids  \\\n",
       "Unnamed: 0                                                           \n",
       "0                              0.016 g                     0.025 g   \n",
       "1                             40.801 g                    21.614 g   \n",
       "2                              0.016 g                     0.076 g   \n",
       "3                              0.589 g                     1.071 g   \n",
       "4                              0.530 g                     0.080 g   \n",
       "...                                ...                         ...   \n",
       "8784                           1.554 g                     0.244 g   \n",
       "8785                           3.480 g                     0.520 g   \n",
       "8786                           8.720 g                     0.980 g   \n",
       "8787                           1.266 g                     0.233 g   \n",
       "8788                           1.266 g                     0.233 g   \n",
       "\n",
       "           fatty_acids_total_trans alcohol     ash caffeine theobromine  \\\n",
       "Unnamed: 0                                                                \n",
       "0                          0.00 mg   0.0 g  0.09 g  0.00 mg     0.00 mg   \n",
       "1                          0.00 mg   0.0 g  1.49 g  0.00 mg     0.00 mg   \n",
       "2                          0.00 mg   0.0 g  0.66 g  0.00 mg     0.00 mg   \n",
       "3                                0       0  2.37 g        0           0   \n",
       "4                          1.00 mg   0.0 g  0.40 g  0.00 mg     0.00 mg   \n",
       "...                            ...     ...     ...      ...         ...   \n",
       "8784                      62.00 mg   0.0 g  1.11 g  0.00 mg     0.00 mg   \n",
       "8785                     109.00 mg       0  1.60 g        0           0   \n",
       "8786                      78.00 mg       0  0.92 g        0           0   \n",
       "8787                      60.00 mg   0.0 g  1.10 g  0.00 mg     0.00 mg   \n",
       "8788                      60.00 mg   0.0 g  1.10 g  0.00 mg     0.00 mg   \n",
       "\n",
       "              water  \n",
       "Unnamed: 0           \n",
       "0            8.32 g  \n",
       "1            3.52 g  \n",
       "2           92.30 g  \n",
       "3            8.82 g  \n",
       "4           66.10 g  \n",
       "...             ...  \n",
       "8784        72.51 g  \n",
       "8785        59.95 g  \n",
       "8786        59.80 g  \n",
       "8787        73.43 g  \n",
       "8788        73.43 g  \n",
       "\n",
       "[8789 rows x 76 columns]"
      ]
     },
     "execution_count": 30,
     "metadata": {},
     "output_type": "execute_result"
    }
   ],
   "source": [
    "nutrition.set_index('Unnamed: 0')"
   ]
  },
  {
   "cell_type": "code",
   "execution_count": 31,
   "metadata": {},
   "outputs": [
    {
     "data": {
      "text/html": [
       "<div>\n",
       "<style scoped>\n",
       "    .dataframe tbody tr th:only-of-type {\n",
       "        vertical-align: middle;\n",
       "    }\n",
       "\n",
       "    .dataframe tbody tr th {\n",
       "        vertical-align: top;\n",
       "    }\n",
       "\n",
       "    .dataframe thead th {\n",
       "        text-align: right;\n",
       "    }\n",
       "</style>\n",
       "<table border=\"1\" class=\"dataframe\">\n",
       "  <thead>\n",
       "    <tr style=\"text-align: right;\">\n",
       "      <th></th>\n",
       "      <th>Unnamed: 0</th>\n",
       "      <th>name</th>\n",
       "      <th>serving_size</th>\n",
       "      <th>calories</th>\n",
       "      <th>total_fat</th>\n",
       "      <th>saturated_fat</th>\n",
       "      <th>cholesterol</th>\n",
       "      <th>sodium</th>\n",
       "      <th>choline</th>\n",
       "      <th>folate</th>\n",
       "      <th>...</th>\n",
       "      <th>fat</th>\n",
       "      <th>saturated_fatty_acids</th>\n",
       "      <th>monounsaturated_fatty_acids</th>\n",
       "      <th>polyunsaturated_fatty_acids</th>\n",
       "      <th>fatty_acids_total_trans</th>\n",
       "      <th>alcohol</th>\n",
       "      <th>ash</th>\n",
       "      <th>caffeine</th>\n",
       "      <th>theobromine</th>\n",
       "      <th>water</th>\n",
       "    </tr>\n",
       "  </thead>\n",
       "  <tbody>\n",
       "    <tr>\n",
       "      <th>0</th>\n",
       "      <td>0</td>\n",
       "      <td>Cornstarch</td>\n",
       "      <td>100 g</td>\n",
       "      <td>381</td>\n",
       "      <td>0.1g</td>\n",
       "      <td>NaN</td>\n",
       "      <td>0</td>\n",
       "      <td>9.00 mg</td>\n",
       "      <td>0.4 mg</td>\n",
       "      <td>0.00 mcg</td>\n",
       "      <td>...</td>\n",
       "      <td>0.05 g</td>\n",
       "      <td>0.009 g</td>\n",
       "      <td>0.016 g</td>\n",
       "      <td>0.025 g</td>\n",
       "      <td>0.00 mg</td>\n",
       "      <td>0.0 g</td>\n",
       "      <td>0.09 g</td>\n",
       "      <td>0.00 mg</td>\n",
       "      <td>0.00 mg</td>\n",
       "      <td>8.32 g</td>\n",
       "    </tr>\n",
       "    <tr>\n",
       "      <th>1</th>\n",
       "      <td>1</td>\n",
       "      <td>Nuts, pecans</td>\n",
       "      <td>100 g</td>\n",
       "      <td>691</td>\n",
       "      <td>72g</td>\n",
       "      <td>6.2g</td>\n",
       "      <td>0</td>\n",
       "      <td>0.00 mg</td>\n",
       "      <td>40.5 mg</td>\n",
       "      <td>22.00 mcg</td>\n",
       "      <td>...</td>\n",
       "      <td>71.97 g</td>\n",
       "      <td>6.180 g</td>\n",
       "      <td>40.801 g</td>\n",
       "      <td>21.614 g</td>\n",
       "      <td>0.00 mg</td>\n",
       "      <td>0.0 g</td>\n",
       "      <td>1.49 g</td>\n",
       "      <td>0.00 mg</td>\n",
       "      <td>0.00 mg</td>\n",
       "      <td>3.52 g</td>\n",
       "    </tr>\n",
       "    <tr>\n",
       "      <th>2</th>\n",
       "      <td>2</td>\n",
       "      <td>Eggplant, raw</td>\n",
       "      <td>100 g</td>\n",
       "      <td>25</td>\n",
       "      <td>0.2g</td>\n",
       "      <td>NaN</td>\n",
       "      <td>0</td>\n",
       "      <td>2.00 mg</td>\n",
       "      <td>6.9 mg</td>\n",
       "      <td>22.00 mcg</td>\n",
       "      <td>...</td>\n",
       "      <td>0.18 g</td>\n",
       "      <td>0.034 g</td>\n",
       "      <td>0.016 g</td>\n",
       "      <td>0.076 g</td>\n",
       "      <td>0.00 mg</td>\n",
       "      <td>0.0 g</td>\n",
       "      <td>0.66 g</td>\n",
       "      <td>0.00 mg</td>\n",
       "      <td>0.00 mg</td>\n",
       "      <td>92.30 g</td>\n",
       "    </tr>\n",
       "    <tr>\n",
       "      <th>3</th>\n",
       "      <td>3</td>\n",
       "      <td>Teff, uncooked</td>\n",
       "      <td>100 g</td>\n",
       "      <td>367</td>\n",
       "      <td>2.4g</td>\n",
       "      <td>0.4g</td>\n",
       "      <td>0</td>\n",
       "      <td>12.00 mg</td>\n",
       "      <td>13.1 mg</td>\n",
       "      <td>0</td>\n",
       "      <td>...</td>\n",
       "      <td>2.38 g</td>\n",
       "      <td>0.449 g</td>\n",
       "      <td>0.589 g</td>\n",
       "      <td>1.071 g</td>\n",
       "      <td>0</td>\n",
       "      <td>0</td>\n",
       "      <td>2.37 g</td>\n",
       "      <td>0</td>\n",
       "      <td>0</td>\n",
       "      <td>8.82 g</td>\n",
       "    </tr>\n",
       "    <tr>\n",
       "      <th>4</th>\n",
       "      <td>4</td>\n",
       "      <td>Sherbet, orange</td>\n",
       "      <td>100 g</td>\n",
       "      <td>144</td>\n",
       "      <td>2g</td>\n",
       "      <td>1.2g</td>\n",
       "      <td>1mg</td>\n",
       "      <td>46.00 mg</td>\n",
       "      <td>7.7 mg</td>\n",
       "      <td>4.00 mcg</td>\n",
       "      <td>...</td>\n",
       "      <td>2.00 g</td>\n",
       "      <td>1.160 g</td>\n",
       "      <td>0.530 g</td>\n",
       "      <td>0.080 g</td>\n",
       "      <td>1.00 mg</td>\n",
       "      <td>0.0 g</td>\n",
       "      <td>0.40 g</td>\n",
       "      <td>0.00 mg</td>\n",
       "      <td>0.00 mg</td>\n",
       "      <td>66.10 g</td>\n",
       "    </tr>\n",
       "    <tr>\n",
       "      <th>...</th>\n",
       "      <td>...</td>\n",
       "      <td>...</td>\n",
       "      <td>...</td>\n",
       "      <td>...</td>\n",
       "      <td>...</td>\n",
       "      <td>...</td>\n",
       "      <td>...</td>\n",
       "      <td>...</td>\n",
       "      <td>...</td>\n",
       "      <td>...</td>\n",
       "      <td>...</td>\n",
       "      <td>...</td>\n",
       "      <td>...</td>\n",
       "      <td>...</td>\n",
       "      <td>...</td>\n",
       "      <td>...</td>\n",
       "      <td>...</td>\n",
       "      <td>...</td>\n",
       "      <td>...</td>\n",
       "      <td>...</td>\n",
       "      <td>...</td>\n",
       "    </tr>\n",
       "    <tr>\n",
       "      <th>8784</th>\n",
       "      <td>8784</td>\n",
       "      <td>Beef, raw, all grades, trimmed to 0\" fat, sepa...</td>\n",
       "      <td>100 g</td>\n",
       "      <td>125</td>\n",
       "      <td>3.5g</td>\n",
       "      <td>1.4g</td>\n",
       "      <td>62mg</td>\n",
       "      <td>54.00 mg</td>\n",
       "      <td>64.5 mg</td>\n",
       "      <td>4.00 mcg</td>\n",
       "      <td>...</td>\n",
       "      <td>3.50 g</td>\n",
       "      <td>1.353 g</td>\n",
       "      <td>1.554 g</td>\n",
       "      <td>0.244 g</td>\n",
       "      <td>62.00 mg</td>\n",
       "      <td>0.0 g</td>\n",
       "      <td>1.11 g</td>\n",
       "      <td>0.00 mg</td>\n",
       "      <td>0.00 mg</td>\n",
       "      <td>72.51 g</td>\n",
       "    </tr>\n",
       "    <tr>\n",
       "      <th>8785</th>\n",
       "      <td>8785</td>\n",
       "      <td>Lamb, cooked, separable lean only, composite o...</td>\n",
       "      <td>100 g</td>\n",
       "      <td>206</td>\n",
       "      <td>8.9g</td>\n",
       "      <td>3.9g</td>\n",
       "      <td>109mg</td>\n",
       "      <td>50.00 mg</td>\n",
       "      <td>0</td>\n",
       "      <td>0.00 mcg</td>\n",
       "      <td>...</td>\n",
       "      <td>8.86 g</td>\n",
       "      <td>3.860 g</td>\n",
       "      <td>3.480 g</td>\n",
       "      <td>0.520 g</td>\n",
       "      <td>109.00 mg</td>\n",
       "      <td>0</td>\n",
       "      <td>1.60 g</td>\n",
       "      <td>0</td>\n",
       "      <td>0</td>\n",
       "      <td>59.95 g</td>\n",
       "    </tr>\n",
       "    <tr>\n",
       "      <th>8786</th>\n",
       "      <td>8786</td>\n",
       "      <td>Lamb, raw, separable lean and fat, composite o...</td>\n",
       "      <td>100 g</td>\n",
       "      <td>277</td>\n",
       "      <td>23g</td>\n",
       "      <td>12g</td>\n",
       "      <td>78mg</td>\n",
       "      <td>39.00 mg</td>\n",
       "      <td>0</td>\n",
       "      <td>1.00 mcg</td>\n",
       "      <td>...</td>\n",
       "      <td>22.74 g</td>\n",
       "      <td>11.570 g</td>\n",
       "      <td>8.720 g</td>\n",
       "      <td>0.980 g</td>\n",
       "      <td>78.00 mg</td>\n",
       "      <td>0</td>\n",
       "      <td>0.92 g</td>\n",
       "      <td>0</td>\n",
       "      <td>0</td>\n",
       "      <td>59.80 g</td>\n",
       "    </tr>\n",
       "    <tr>\n",
       "      <th>8787</th>\n",
       "      <td>8787</td>\n",
       "      <td>Beef, raw, all grades, trimmed to 0\" fat, sepa...</td>\n",
       "      <td>100 g</td>\n",
       "      <td>121</td>\n",
       "      <td>3g</td>\n",
       "      <td>1.1g</td>\n",
       "      <td>60mg</td>\n",
       "      <td>53.00 mg</td>\n",
       "      <td>64.2 mg</td>\n",
       "      <td>4.00 mcg</td>\n",
       "      <td>...</td>\n",
       "      <td>3.04 g</td>\n",
       "      <td>1.086 g</td>\n",
       "      <td>1.266 g</td>\n",
       "      <td>0.233 g</td>\n",
       "      <td>60.00 mg</td>\n",
       "      <td>0.0 g</td>\n",
       "      <td>1.10 g</td>\n",
       "      <td>0.00 mg</td>\n",
       "      <td>0.00 mg</td>\n",
       "      <td>73.43 g</td>\n",
       "    </tr>\n",
       "    <tr>\n",
       "      <th>8788</th>\n",
       "      <td>8788</td>\n",
       "      <td>Beef, raw, all grades, trimmed to 0\" fat, sepa...</td>\n",
       "      <td>100 g</td>\n",
       "      <td>121</td>\n",
       "      <td>3g</td>\n",
       "      <td>1.1g</td>\n",
       "      <td>60mg</td>\n",
       "      <td>53.00 mg</td>\n",
       "      <td>64.2 mg</td>\n",
       "      <td>4.00 mcg</td>\n",
       "      <td>...</td>\n",
       "      <td>3.04 g</td>\n",
       "      <td>1.086 g</td>\n",
       "      <td>1.266 g</td>\n",
       "      <td>0.233 g</td>\n",
       "      <td>60.00 mg</td>\n",
       "      <td>0.0 g</td>\n",
       "      <td>1.10 g</td>\n",
       "      <td>0.00 mg</td>\n",
       "      <td>0.00 mg</td>\n",
       "      <td>73.43 g</td>\n",
       "    </tr>\n",
       "  </tbody>\n",
       "</table>\n",
       "<p>8789 rows × 77 columns</p>\n",
       "</div>"
      ],
      "text/plain": [
       "      Unnamed: 0                                               name  \\\n",
       "0              0                                         Cornstarch   \n",
       "1              1                                       Nuts, pecans   \n",
       "2              2                                      Eggplant, raw   \n",
       "3              3                                     Teff, uncooked   \n",
       "4              4                                    Sherbet, orange   \n",
       "...          ...                                                ...   \n",
       "8784        8784  Beef, raw, all grades, trimmed to 0\" fat, sepa...   \n",
       "8785        8785  Lamb, cooked, separable lean only, composite o...   \n",
       "8786        8786  Lamb, raw, separable lean and fat, composite o...   \n",
       "8787        8787  Beef, raw, all grades, trimmed to 0\" fat, sepa...   \n",
       "8788        8788  Beef, raw, all grades, trimmed to 0\" fat, sepa...   \n",
       "\n",
       "     serving_size  calories total_fat saturated_fat cholesterol    sodium  \\\n",
       "0           100 g       381      0.1g           NaN           0   9.00 mg   \n",
       "1           100 g       691       72g          6.2g           0   0.00 mg   \n",
       "2           100 g        25      0.2g           NaN           0   2.00 mg   \n",
       "3           100 g       367      2.4g          0.4g           0  12.00 mg   \n",
       "4           100 g       144        2g          1.2g         1mg  46.00 mg   \n",
       "...           ...       ...       ...           ...         ...       ...   \n",
       "8784        100 g       125      3.5g          1.4g        62mg  54.00 mg   \n",
       "8785        100 g       206      8.9g          3.9g       109mg  50.00 mg   \n",
       "8786        100 g       277       23g           12g        78mg  39.00 mg   \n",
       "8787        100 g       121        3g          1.1g        60mg  53.00 mg   \n",
       "8788        100 g       121        3g          1.1g        60mg  53.00 mg   \n",
       "\n",
       "      choline     folate  ...      fat saturated_fatty_acids  \\\n",
       "0      0.4 mg   0.00 mcg  ...   0.05 g               0.009 g   \n",
       "1     40.5 mg  22.00 mcg  ...  71.97 g               6.180 g   \n",
       "2      6.9 mg  22.00 mcg  ...   0.18 g               0.034 g   \n",
       "3     13.1 mg          0  ...   2.38 g               0.449 g   \n",
       "4      7.7 mg   4.00 mcg  ...   2.00 g               1.160 g   \n",
       "...       ...        ...  ...      ...                   ...   \n",
       "8784  64.5 mg   4.00 mcg  ...   3.50 g               1.353 g   \n",
       "8785        0   0.00 mcg  ...   8.86 g               3.860 g   \n",
       "8786        0   1.00 mcg  ...  22.74 g              11.570 g   \n",
       "8787  64.2 mg   4.00 mcg  ...   3.04 g               1.086 g   \n",
       "8788  64.2 mg   4.00 mcg  ...   3.04 g               1.086 g   \n",
       "\n",
       "     monounsaturated_fatty_acids polyunsaturated_fatty_acids  \\\n",
       "0                        0.016 g                     0.025 g   \n",
       "1                       40.801 g                    21.614 g   \n",
       "2                        0.016 g                     0.076 g   \n",
       "3                        0.589 g                     1.071 g   \n",
       "4                        0.530 g                     0.080 g   \n",
       "...                          ...                         ...   \n",
       "8784                     1.554 g                     0.244 g   \n",
       "8785                     3.480 g                     0.520 g   \n",
       "8786                     8.720 g                     0.980 g   \n",
       "8787                     1.266 g                     0.233 g   \n",
       "8788                     1.266 g                     0.233 g   \n",
       "\n",
       "     fatty_acids_total_trans alcohol     ash caffeine theobromine    water  \n",
       "0                    0.00 mg   0.0 g  0.09 g  0.00 mg     0.00 mg   8.32 g  \n",
       "1                    0.00 mg   0.0 g  1.49 g  0.00 mg     0.00 mg   3.52 g  \n",
       "2                    0.00 mg   0.0 g  0.66 g  0.00 mg     0.00 mg  92.30 g  \n",
       "3                          0       0  2.37 g        0           0   8.82 g  \n",
       "4                    1.00 mg   0.0 g  0.40 g  0.00 mg     0.00 mg  66.10 g  \n",
       "...                      ...     ...     ...      ...         ...      ...  \n",
       "8784                62.00 mg   0.0 g  1.11 g  0.00 mg     0.00 mg  72.51 g  \n",
       "8785               109.00 mg       0  1.60 g        0           0  59.95 g  \n",
       "8786                78.00 mg       0  0.92 g        0           0  59.80 g  \n",
       "8787                60.00 mg   0.0 g  1.10 g  0.00 mg     0.00 mg  73.43 g  \n",
       "8788                60.00 mg   0.0 g  1.10 g  0.00 mg     0.00 mg  73.43 g  \n",
       "\n",
       "[8789 rows x 77 columns]"
      ]
     },
     "execution_count": 31,
     "metadata": {},
     "output_type": "execute_result"
    }
   ],
   "source": [
    "nutrition"
   ]
  },
  {
   "cell_type": "code",
   "execution_count": 32,
   "metadata": {},
   "outputs": [],
   "source": [
    "#nutrition = pd.read_csv(\"/Users/bartoszpiechnik/Desktop/pandas-bootcamp/nutrition.csv\",)\n",
    "nut = pd.read_csv(\"/Users/bartoszpiechnik/Desktop/pandas-bootcamp/nutrition.csv\", index_col=[0])"
   ]
  },
  {
   "cell_type": "code",
   "execution_count": 33,
   "metadata": {},
   "outputs": [
    {
     "data": {
      "text/html": [
       "<div>\n",
       "<style scoped>\n",
       "    .dataframe tbody tr th:only-of-type {\n",
       "        vertical-align: middle;\n",
       "    }\n",
       "\n",
       "    .dataframe tbody tr th {\n",
       "        vertical-align: top;\n",
       "    }\n",
       "\n",
       "    .dataframe thead th {\n",
       "        text-align: right;\n",
       "    }\n",
       "</style>\n",
       "<table border=\"1\" class=\"dataframe\">\n",
       "  <thead>\n",
       "    <tr style=\"text-align: right;\">\n",
       "      <th></th>\n",
       "      <th>name</th>\n",
       "      <th>serving_size</th>\n",
       "      <th>calories</th>\n",
       "      <th>total_fat</th>\n",
       "      <th>saturated_fat</th>\n",
       "      <th>cholesterol</th>\n",
       "      <th>sodium</th>\n",
       "      <th>choline</th>\n",
       "      <th>folate</th>\n",
       "      <th>folic_acid</th>\n",
       "      <th>...</th>\n",
       "      <th>fat</th>\n",
       "      <th>saturated_fatty_acids</th>\n",
       "      <th>monounsaturated_fatty_acids</th>\n",
       "      <th>polyunsaturated_fatty_acids</th>\n",
       "      <th>fatty_acids_total_trans</th>\n",
       "      <th>alcohol</th>\n",
       "      <th>ash</th>\n",
       "      <th>caffeine</th>\n",
       "      <th>theobromine</th>\n",
       "      <th>water</th>\n",
       "    </tr>\n",
       "  </thead>\n",
       "  <tbody>\n",
       "    <tr>\n",
       "      <th>0</th>\n",
       "      <td>Cornstarch</td>\n",
       "      <td>100 g</td>\n",
       "      <td>381</td>\n",
       "      <td>0.1g</td>\n",
       "      <td>NaN</td>\n",
       "      <td>0</td>\n",
       "      <td>9.00 mg</td>\n",
       "      <td>0.4 mg</td>\n",
       "      <td>0.00 mcg</td>\n",
       "      <td>0.00 mcg</td>\n",
       "      <td>...</td>\n",
       "      <td>0.05 g</td>\n",
       "      <td>0.009 g</td>\n",
       "      <td>0.016 g</td>\n",
       "      <td>0.025 g</td>\n",
       "      <td>0.00 mg</td>\n",
       "      <td>0.0 g</td>\n",
       "      <td>0.09 g</td>\n",
       "      <td>0.00 mg</td>\n",
       "      <td>0.00 mg</td>\n",
       "      <td>8.32 g</td>\n",
       "    </tr>\n",
       "    <tr>\n",
       "      <th>1</th>\n",
       "      <td>Nuts, pecans</td>\n",
       "      <td>100 g</td>\n",
       "      <td>691</td>\n",
       "      <td>72g</td>\n",
       "      <td>6.2g</td>\n",
       "      <td>0</td>\n",
       "      <td>0.00 mg</td>\n",
       "      <td>40.5 mg</td>\n",
       "      <td>22.00 mcg</td>\n",
       "      <td>0.00 mcg</td>\n",
       "      <td>...</td>\n",
       "      <td>71.97 g</td>\n",
       "      <td>6.180 g</td>\n",
       "      <td>40.801 g</td>\n",
       "      <td>21.614 g</td>\n",
       "      <td>0.00 mg</td>\n",
       "      <td>0.0 g</td>\n",
       "      <td>1.49 g</td>\n",
       "      <td>0.00 mg</td>\n",
       "      <td>0.00 mg</td>\n",
       "      <td>3.52 g</td>\n",
       "    </tr>\n",
       "    <tr>\n",
       "      <th>2</th>\n",
       "      <td>Eggplant, raw</td>\n",
       "      <td>100 g</td>\n",
       "      <td>25</td>\n",
       "      <td>0.2g</td>\n",
       "      <td>NaN</td>\n",
       "      <td>0</td>\n",
       "      <td>2.00 mg</td>\n",
       "      <td>6.9 mg</td>\n",
       "      <td>22.00 mcg</td>\n",
       "      <td>0.00 mcg</td>\n",
       "      <td>...</td>\n",
       "      <td>0.18 g</td>\n",
       "      <td>0.034 g</td>\n",
       "      <td>0.016 g</td>\n",
       "      <td>0.076 g</td>\n",
       "      <td>0.00 mg</td>\n",
       "      <td>0.0 g</td>\n",
       "      <td>0.66 g</td>\n",
       "      <td>0.00 mg</td>\n",
       "      <td>0.00 mg</td>\n",
       "      <td>92.30 g</td>\n",
       "    </tr>\n",
       "    <tr>\n",
       "      <th>3</th>\n",
       "      <td>Teff, uncooked</td>\n",
       "      <td>100 g</td>\n",
       "      <td>367</td>\n",
       "      <td>2.4g</td>\n",
       "      <td>0.4g</td>\n",
       "      <td>0</td>\n",
       "      <td>12.00 mg</td>\n",
       "      <td>13.1 mg</td>\n",
       "      <td>0</td>\n",
       "      <td>0</td>\n",
       "      <td>...</td>\n",
       "      <td>2.38 g</td>\n",
       "      <td>0.449 g</td>\n",
       "      <td>0.589 g</td>\n",
       "      <td>1.071 g</td>\n",
       "      <td>0</td>\n",
       "      <td>0</td>\n",
       "      <td>2.37 g</td>\n",
       "      <td>0</td>\n",
       "      <td>0</td>\n",
       "      <td>8.82 g</td>\n",
       "    </tr>\n",
       "    <tr>\n",
       "      <th>4</th>\n",
       "      <td>Sherbet, orange</td>\n",
       "      <td>100 g</td>\n",
       "      <td>144</td>\n",
       "      <td>2g</td>\n",
       "      <td>1.2g</td>\n",
       "      <td>1mg</td>\n",
       "      <td>46.00 mg</td>\n",
       "      <td>7.7 mg</td>\n",
       "      <td>4.00 mcg</td>\n",
       "      <td>0.00 mcg</td>\n",
       "      <td>...</td>\n",
       "      <td>2.00 g</td>\n",
       "      <td>1.160 g</td>\n",
       "      <td>0.530 g</td>\n",
       "      <td>0.080 g</td>\n",
       "      <td>1.00 mg</td>\n",
       "      <td>0.0 g</td>\n",
       "      <td>0.40 g</td>\n",
       "      <td>0.00 mg</td>\n",
       "      <td>0.00 mg</td>\n",
       "      <td>66.10 g</td>\n",
       "    </tr>\n",
       "  </tbody>\n",
       "</table>\n",
       "<p>5 rows × 76 columns</p>\n",
       "</div>"
      ],
      "text/plain": [
       "              name serving_size  calories total_fat saturated_fat cholesterol  \\\n",
       "0       Cornstarch        100 g       381      0.1g           NaN           0   \n",
       "1     Nuts, pecans        100 g       691       72g          6.2g           0   \n",
       "2    Eggplant, raw        100 g        25      0.2g           NaN           0   \n",
       "3   Teff, uncooked        100 g       367      2.4g          0.4g           0   \n",
       "4  Sherbet, orange        100 g       144        2g          1.2g         1mg   \n",
       "\n",
       "     sodium  choline     folate folic_acid  ...      fat  \\\n",
       "0   9.00 mg   0.4 mg   0.00 mcg   0.00 mcg  ...   0.05 g   \n",
       "1   0.00 mg  40.5 mg  22.00 mcg   0.00 mcg  ...  71.97 g   \n",
       "2   2.00 mg   6.9 mg  22.00 mcg   0.00 mcg  ...   0.18 g   \n",
       "3  12.00 mg  13.1 mg          0          0  ...   2.38 g   \n",
       "4  46.00 mg   7.7 mg   4.00 mcg   0.00 mcg  ...   2.00 g   \n",
       "\n",
       "  saturated_fatty_acids monounsaturated_fatty_acids  \\\n",
       "0               0.009 g                     0.016 g   \n",
       "1               6.180 g                    40.801 g   \n",
       "2               0.034 g                     0.016 g   \n",
       "3               0.449 g                     0.589 g   \n",
       "4               1.160 g                     0.530 g   \n",
       "\n",
       "  polyunsaturated_fatty_acids fatty_acids_total_trans alcohol     ash  \\\n",
       "0                     0.025 g                 0.00 mg   0.0 g  0.09 g   \n",
       "1                    21.614 g                 0.00 mg   0.0 g  1.49 g   \n",
       "2                     0.076 g                 0.00 mg   0.0 g  0.66 g   \n",
       "3                     1.071 g                       0       0  2.37 g   \n",
       "4                     0.080 g                 1.00 mg   0.0 g  0.40 g   \n",
       "\n",
       "  caffeine theobromine    water  \n",
       "0  0.00 mg     0.00 mg   8.32 g  \n",
       "1  0.00 mg     0.00 mg   3.52 g  \n",
       "2  0.00 mg     0.00 mg  92.30 g  \n",
       "3        0           0   8.82 g  \n",
       "4  0.00 mg     0.00 mg  66.10 g  \n",
       "\n",
       "[5 rows x 76 columns]"
      ]
     },
     "execution_count": 33,
     "metadata": {},
     "output_type": "execute_result"
    }
   ],
   "source": [
    "nut.head()\n"
   ]
  },
  {
   "cell_type": "code",
   "execution_count": 34,
   "metadata": {},
   "outputs": [],
   "source": [
    "nut1 = pd.read_csv(\"/Users/bartoszpiechnik/Desktop/pandas-bootcamp/nutrition.csv\", index_col=['Unnamed: 0'])"
   ]
  },
  {
   "cell_type": "code",
   "execution_count": 35,
   "metadata": {},
   "outputs": [
    {
     "data": {
      "text/html": [
       "<div>\n",
       "<style scoped>\n",
       "    .dataframe tbody tr th:only-of-type {\n",
       "        vertical-align: middle;\n",
       "    }\n",
       "\n",
       "    .dataframe tbody tr th {\n",
       "        vertical-align: top;\n",
       "    }\n",
       "\n",
       "    .dataframe thead th {\n",
       "        text-align: right;\n",
       "    }\n",
       "</style>\n",
       "<table border=\"1\" class=\"dataframe\">\n",
       "  <thead>\n",
       "    <tr style=\"text-align: right;\">\n",
       "      <th></th>\n",
       "      <th>name</th>\n",
       "      <th>serving_size</th>\n",
       "      <th>calories</th>\n",
       "      <th>total_fat</th>\n",
       "      <th>saturated_fat</th>\n",
       "      <th>cholesterol</th>\n",
       "      <th>sodium</th>\n",
       "      <th>choline</th>\n",
       "      <th>folate</th>\n",
       "      <th>folic_acid</th>\n",
       "      <th>...</th>\n",
       "      <th>fat</th>\n",
       "      <th>saturated_fatty_acids</th>\n",
       "      <th>monounsaturated_fatty_acids</th>\n",
       "      <th>polyunsaturated_fatty_acids</th>\n",
       "      <th>fatty_acids_total_trans</th>\n",
       "      <th>alcohol</th>\n",
       "      <th>ash</th>\n",
       "      <th>caffeine</th>\n",
       "      <th>theobromine</th>\n",
       "      <th>water</th>\n",
       "    </tr>\n",
       "  </thead>\n",
       "  <tbody>\n",
       "    <tr>\n",
       "      <th>0</th>\n",
       "      <td>Cornstarch</td>\n",
       "      <td>100 g</td>\n",
       "      <td>381</td>\n",
       "      <td>0.1g</td>\n",
       "      <td>NaN</td>\n",
       "      <td>0</td>\n",
       "      <td>9.00 mg</td>\n",
       "      <td>0.4 mg</td>\n",
       "      <td>0.00 mcg</td>\n",
       "      <td>0.00 mcg</td>\n",
       "      <td>...</td>\n",
       "      <td>0.05 g</td>\n",
       "      <td>0.009 g</td>\n",
       "      <td>0.016 g</td>\n",
       "      <td>0.025 g</td>\n",
       "      <td>0.00 mg</td>\n",
       "      <td>0.0 g</td>\n",
       "      <td>0.09 g</td>\n",
       "      <td>0.00 mg</td>\n",
       "      <td>0.00 mg</td>\n",
       "      <td>8.32 g</td>\n",
       "    </tr>\n",
       "    <tr>\n",
       "      <th>1</th>\n",
       "      <td>Nuts, pecans</td>\n",
       "      <td>100 g</td>\n",
       "      <td>691</td>\n",
       "      <td>72g</td>\n",
       "      <td>6.2g</td>\n",
       "      <td>0</td>\n",
       "      <td>0.00 mg</td>\n",
       "      <td>40.5 mg</td>\n",
       "      <td>22.00 mcg</td>\n",
       "      <td>0.00 mcg</td>\n",
       "      <td>...</td>\n",
       "      <td>71.97 g</td>\n",
       "      <td>6.180 g</td>\n",
       "      <td>40.801 g</td>\n",
       "      <td>21.614 g</td>\n",
       "      <td>0.00 mg</td>\n",
       "      <td>0.0 g</td>\n",
       "      <td>1.49 g</td>\n",
       "      <td>0.00 mg</td>\n",
       "      <td>0.00 mg</td>\n",
       "      <td>3.52 g</td>\n",
       "    </tr>\n",
       "    <tr>\n",
       "      <th>2</th>\n",
       "      <td>Eggplant, raw</td>\n",
       "      <td>100 g</td>\n",
       "      <td>25</td>\n",
       "      <td>0.2g</td>\n",
       "      <td>NaN</td>\n",
       "      <td>0</td>\n",
       "      <td>2.00 mg</td>\n",
       "      <td>6.9 mg</td>\n",
       "      <td>22.00 mcg</td>\n",
       "      <td>0.00 mcg</td>\n",
       "      <td>...</td>\n",
       "      <td>0.18 g</td>\n",
       "      <td>0.034 g</td>\n",
       "      <td>0.016 g</td>\n",
       "      <td>0.076 g</td>\n",
       "      <td>0.00 mg</td>\n",
       "      <td>0.0 g</td>\n",
       "      <td>0.66 g</td>\n",
       "      <td>0.00 mg</td>\n",
       "      <td>0.00 mg</td>\n",
       "      <td>92.30 g</td>\n",
       "    </tr>\n",
       "    <tr>\n",
       "      <th>3</th>\n",
       "      <td>Teff, uncooked</td>\n",
       "      <td>100 g</td>\n",
       "      <td>367</td>\n",
       "      <td>2.4g</td>\n",
       "      <td>0.4g</td>\n",
       "      <td>0</td>\n",
       "      <td>12.00 mg</td>\n",
       "      <td>13.1 mg</td>\n",
       "      <td>0</td>\n",
       "      <td>0</td>\n",
       "      <td>...</td>\n",
       "      <td>2.38 g</td>\n",
       "      <td>0.449 g</td>\n",
       "      <td>0.589 g</td>\n",
       "      <td>1.071 g</td>\n",
       "      <td>0</td>\n",
       "      <td>0</td>\n",
       "      <td>2.37 g</td>\n",
       "      <td>0</td>\n",
       "      <td>0</td>\n",
       "      <td>8.82 g</td>\n",
       "    </tr>\n",
       "    <tr>\n",
       "      <th>4</th>\n",
       "      <td>Sherbet, orange</td>\n",
       "      <td>100 g</td>\n",
       "      <td>144</td>\n",
       "      <td>2g</td>\n",
       "      <td>1.2g</td>\n",
       "      <td>1mg</td>\n",
       "      <td>46.00 mg</td>\n",
       "      <td>7.7 mg</td>\n",
       "      <td>4.00 mcg</td>\n",
       "      <td>0.00 mcg</td>\n",
       "      <td>...</td>\n",
       "      <td>2.00 g</td>\n",
       "      <td>1.160 g</td>\n",
       "      <td>0.530 g</td>\n",
       "      <td>0.080 g</td>\n",
       "      <td>1.00 mg</td>\n",
       "      <td>0.0 g</td>\n",
       "      <td>0.40 g</td>\n",
       "      <td>0.00 mg</td>\n",
       "      <td>0.00 mg</td>\n",
       "      <td>66.10 g</td>\n",
       "    </tr>\n",
       "    <tr>\n",
       "      <th>...</th>\n",
       "      <td>...</td>\n",
       "      <td>...</td>\n",
       "      <td>...</td>\n",
       "      <td>...</td>\n",
       "      <td>...</td>\n",
       "      <td>...</td>\n",
       "      <td>...</td>\n",
       "      <td>...</td>\n",
       "      <td>...</td>\n",
       "      <td>...</td>\n",
       "      <td>...</td>\n",
       "      <td>...</td>\n",
       "      <td>...</td>\n",
       "      <td>...</td>\n",
       "      <td>...</td>\n",
       "      <td>...</td>\n",
       "      <td>...</td>\n",
       "      <td>...</td>\n",
       "      <td>...</td>\n",
       "      <td>...</td>\n",
       "      <td>...</td>\n",
       "    </tr>\n",
       "    <tr>\n",
       "      <th>8784</th>\n",
       "      <td>Beef, raw, all grades, trimmed to 0\" fat, sepa...</td>\n",
       "      <td>100 g</td>\n",
       "      <td>125</td>\n",
       "      <td>3.5g</td>\n",
       "      <td>1.4g</td>\n",
       "      <td>62mg</td>\n",
       "      <td>54.00 mg</td>\n",
       "      <td>64.5 mg</td>\n",
       "      <td>4.00 mcg</td>\n",
       "      <td>0.00 mcg</td>\n",
       "      <td>...</td>\n",
       "      <td>3.50 g</td>\n",
       "      <td>1.353 g</td>\n",
       "      <td>1.554 g</td>\n",
       "      <td>0.244 g</td>\n",
       "      <td>62.00 mg</td>\n",
       "      <td>0.0 g</td>\n",
       "      <td>1.11 g</td>\n",
       "      <td>0.00 mg</td>\n",
       "      <td>0.00 mg</td>\n",
       "      <td>72.51 g</td>\n",
       "    </tr>\n",
       "    <tr>\n",
       "      <th>8785</th>\n",
       "      <td>Lamb, cooked, separable lean only, composite o...</td>\n",
       "      <td>100 g</td>\n",
       "      <td>206</td>\n",
       "      <td>8.9g</td>\n",
       "      <td>3.9g</td>\n",
       "      <td>109mg</td>\n",
       "      <td>50.00 mg</td>\n",
       "      <td>0</td>\n",
       "      <td>0.00 mcg</td>\n",
       "      <td>0.00 mcg</td>\n",
       "      <td>...</td>\n",
       "      <td>8.86 g</td>\n",
       "      <td>3.860 g</td>\n",
       "      <td>3.480 g</td>\n",
       "      <td>0.520 g</td>\n",
       "      <td>109.00 mg</td>\n",
       "      <td>0</td>\n",
       "      <td>1.60 g</td>\n",
       "      <td>0</td>\n",
       "      <td>0</td>\n",
       "      <td>59.95 g</td>\n",
       "    </tr>\n",
       "    <tr>\n",
       "      <th>8786</th>\n",
       "      <td>Lamb, raw, separable lean and fat, composite o...</td>\n",
       "      <td>100 g</td>\n",
       "      <td>277</td>\n",
       "      <td>23g</td>\n",
       "      <td>12g</td>\n",
       "      <td>78mg</td>\n",
       "      <td>39.00 mg</td>\n",
       "      <td>0</td>\n",
       "      <td>1.00 mcg</td>\n",
       "      <td>0.00 mcg</td>\n",
       "      <td>...</td>\n",
       "      <td>22.74 g</td>\n",
       "      <td>11.570 g</td>\n",
       "      <td>8.720 g</td>\n",
       "      <td>0.980 g</td>\n",
       "      <td>78.00 mg</td>\n",
       "      <td>0</td>\n",
       "      <td>0.92 g</td>\n",
       "      <td>0</td>\n",
       "      <td>0</td>\n",
       "      <td>59.80 g</td>\n",
       "    </tr>\n",
       "    <tr>\n",
       "      <th>8787</th>\n",
       "      <td>Beef, raw, all grades, trimmed to 0\" fat, sepa...</td>\n",
       "      <td>100 g</td>\n",
       "      <td>121</td>\n",
       "      <td>3g</td>\n",
       "      <td>1.1g</td>\n",
       "      <td>60mg</td>\n",
       "      <td>53.00 mg</td>\n",
       "      <td>64.2 mg</td>\n",
       "      <td>4.00 mcg</td>\n",
       "      <td>0.00 mcg</td>\n",
       "      <td>...</td>\n",
       "      <td>3.04 g</td>\n",
       "      <td>1.086 g</td>\n",
       "      <td>1.266 g</td>\n",
       "      <td>0.233 g</td>\n",
       "      <td>60.00 mg</td>\n",
       "      <td>0.0 g</td>\n",
       "      <td>1.10 g</td>\n",
       "      <td>0.00 mg</td>\n",
       "      <td>0.00 mg</td>\n",
       "      <td>73.43 g</td>\n",
       "    </tr>\n",
       "    <tr>\n",
       "      <th>8788</th>\n",
       "      <td>Beef, raw, all grades, trimmed to 0\" fat, sepa...</td>\n",
       "      <td>100 g</td>\n",
       "      <td>121</td>\n",
       "      <td>3g</td>\n",
       "      <td>1.1g</td>\n",
       "      <td>60mg</td>\n",
       "      <td>53.00 mg</td>\n",
       "      <td>64.2 mg</td>\n",
       "      <td>4.00 mcg</td>\n",
       "      <td>0.00 mcg</td>\n",
       "      <td>...</td>\n",
       "      <td>3.04 g</td>\n",
       "      <td>1.086 g</td>\n",
       "      <td>1.266 g</td>\n",
       "      <td>0.233 g</td>\n",
       "      <td>60.00 mg</td>\n",
       "      <td>0.0 g</td>\n",
       "      <td>1.10 g</td>\n",
       "      <td>0.00 mg</td>\n",
       "      <td>0.00 mg</td>\n",
       "      <td>73.43 g</td>\n",
       "    </tr>\n",
       "  </tbody>\n",
       "</table>\n",
       "<p>8789 rows × 76 columns</p>\n",
       "</div>"
      ],
      "text/plain": [
       "                                                   name serving_size  \\\n",
       "0                                            Cornstarch        100 g   \n",
       "1                                          Nuts, pecans        100 g   \n",
       "2                                         Eggplant, raw        100 g   \n",
       "3                                        Teff, uncooked        100 g   \n",
       "4                                       Sherbet, orange        100 g   \n",
       "...                                                 ...          ...   \n",
       "8784  Beef, raw, all grades, trimmed to 0\" fat, sepa...        100 g   \n",
       "8785  Lamb, cooked, separable lean only, composite o...        100 g   \n",
       "8786  Lamb, raw, separable lean and fat, composite o...        100 g   \n",
       "8787  Beef, raw, all grades, trimmed to 0\" fat, sepa...        100 g   \n",
       "8788  Beef, raw, all grades, trimmed to 0\" fat, sepa...        100 g   \n",
       "\n",
       "      calories total_fat saturated_fat cholesterol    sodium  choline  \\\n",
       "0          381      0.1g           NaN           0   9.00 mg   0.4 mg   \n",
       "1          691       72g          6.2g           0   0.00 mg  40.5 mg   \n",
       "2           25      0.2g           NaN           0   2.00 mg   6.9 mg   \n",
       "3          367      2.4g          0.4g           0  12.00 mg  13.1 mg   \n",
       "4          144        2g          1.2g         1mg  46.00 mg   7.7 mg   \n",
       "...        ...       ...           ...         ...       ...      ...   \n",
       "8784       125      3.5g          1.4g        62mg  54.00 mg  64.5 mg   \n",
       "8785       206      8.9g          3.9g       109mg  50.00 mg        0   \n",
       "8786       277       23g           12g        78mg  39.00 mg        0   \n",
       "8787       121        3g          1.1g        60mg  53.00 mg  64.2 mg   \n",
       "8788       121        3g          1.1g        60mg  53.00 mg  64.2 mg   \n",
       "\n",
       "         folate folic_acid  ...      fat saturated_fatty_acids  \\\n",
       "0      0.00 mcg   0.00 mcg  ...   0.05 g               0.009 g   \n",
       "1     22.00 mcg   0.00 mcg  ...  71.97 g               6.180 g   \n",
       "2     22.00 mcg   0.00 mcg  ...   0.18 g               0.034 g   \n",
       "3             0          0  ...   2.38 g               0.449 g   \n",
       "4      4.00 mcg   0.00 mcg  ...   2.00 g               1.160 g   \n",
       "...         ...        ...  ...      ...                   ...   \n",
       "8784   4.00 mcg   0.00 mcg  ...   3.50 g               1.353 g   \n",
       "8785   0.00 mcg   0.00 mcg  ...   8.86 g               3.860 g   \n",
       "8786   1.00 mcg   0.00 mcg  ...  22.74 g              11.570 g   \n",
       "8787   4.00 mcg   0.00 mcg  ...   3.04 g               1.086 g   \n",
       "8788   4.00 mcg   0.00 mcg  ...   3.04 g               1.086 g   \n",
       "\n",
       "     monounsaturated_fatty_acids polyunsaturated_fatty_acids  \\\n",
       "0                        0.016 g                     0.025 g   \n",
       "1                       40.801 g                    21.614 g   \n",
       "2                        0.016 g                     0.076 g   \n",
       "3                        0.589 g                     1.071 g   \n",
       "4                        0.530 g                     0.080 g   \n",
       "...                          ...                         ...   \n",
       "8784                     1.554 g                     0.244 g   \n",
       "8785                     3.480 g                     0.520 g   \n",
       "8786                     8.720 g                     0.980 g   \n",
       "8787                     1.266 g                     0.233 g   \n",
       "8788                     1.266 g                     0.233 g   \n",
       "\n",
       "     fatty_acids_total_trans alcohol     ash caffeine theobromine    water  \n",
       "0                    0.00 mg   0.0 g  0.09 g  0.00 mg     0.00 mg   8.32 g  \n",
       "1                    0.00 mg   0.0 g  1.49 g  0.00 mg     0.00 mg   3.52 g  \n",
       "2                    0.00 mg   0.0 g  0.66 g  0.00 mg     0.00 mg  92.30 g  \n",
       "3                          0       0  2.37 g        0           0   8.82 g  \n",
       "4                    1.00 mg   0.0 g  0.40 g  0.00 mg     0.00 mg  66.10 g  \n",
       "...                      ...     ...     ...      ...         ...      ...  \n",
       "8784                62.00 mg   0.0 g  1.11 g  0.00 mg     0.00 mg  72.51 g  \n",
       "8785               109.00 mg       0  1.60 g        0           0  59.95 g  \n",
       "8786                78.00 mg       0  0.92 g        0           0  59.80 g  \n",
       "8787                60.00 mg   0.0 g  1.10 g  0.00 mg     0.00 mg  73.43 g  \n",
       "8788                60.00 mg   0.0 g  1.10 g  0.00 mg     0.00 mg  73.43 g  \n",
       "\n",
       "[8789 rows x 76 columns]"
      ]
     },
     "execution_count": 35,
     "metadata": {},
     "output_type": "execute_result"
    }
   ],
   "source": [
    "nut1"
   ]
  },
  {
   "cell_type": "code",
   "execution_count": 39,
   "metadata": {},
   "outputs": [],
   "source": [
    "nutrition.drop('Unnamed: 0', axis=1, inplace=True)"
   ]
  },
  {
   "cell_type": "code",
   "execution_count": 40,
   "metadata": {},
   "outputs": [
    {
     "data": {
      "text/html": [
       "<div>\n",
       "<style scoped>\n",
       "    .dataframe tbody tr th:only-of-type {\n",
       "        vertical-align: middle;\n",
       "    }\n",
       "\n",
       "    .dataframe tbody tr th {\n",
       "        vertical-align: top;\n",
       "    }\n",
       "\n",
       "    .dataframe thead th {\n",
       "        text-align: right;\n",
       "    }\n",
       "</style>\n",
       "<table border=\"1\" class=\"dataframe\">\n",
       "  <thead>\n",
       "    <tr style=\"text-align: right;\">\n",
       "      <th></th>\n",
       "      <th>name</th>\n",
       "      <th>serving_size</th>\n",
       "      <th>calories</th>\n",
       "      <th>total_fat</th>\n",
       "      <th>saturated_fat</th>\n",
       "      <th>cholesterol</th>\n",
       "      <th>sodium</th>\n",
       "      <th>choline</th>\n",
       "      <th>folate</th>\n",
       "      <th>folic_acid</th>\n",
       "      <th>...</th>\n",
       "      <th>fat</th>\n",
       "      <th>saturated_fatty_acids</th>\n",
       "      <th>monounsaturated_fatty_acids</th>\n",
       "      <th>polyunsaturated_fatty_acids</th>\n",
       "      <th>fatty_acids_total_trans</th>\n",
       "      <th>alcohol</th>\n",
       "      <th>ash</th>\n",
       "      <th>caffeine</th>\n",
       "      <th>theobromine</th>\n",
       "      <th>water</th>\n",
       "    </tr>\n",
       "  </thead>\n",
       "  <tbody>\n",
       "    <tr>\n",
       "      <th>0</th>\n",
       "      <td>Cornstarch</td>\n",
       "      <td>100 g</td>\n",
       "      <td>381</td>\n",
       "      <td>0.1g</td>\n",
       "      <td>NaN</td>\n",
       "      <td>0</td>\n",
       "      <td>9.00 mg</td>\n",
       "      <td>0.4 mg</td>\n",
       "      <td>0.00 mcg</td>\n",
       "      <td>0.00 mcg</td>\n",
       "      <td>...</td>\n",
       "      <td>0.05 g</td>\n",
       "      <td>0.009 g</td>\n",
       "      <td>0.016 g</td>\n",
       "      <td>0.025 g</td>\n",
       "      <td>0.00 mg</td>\n",
       "      <td>0.0 g</td>\n",
       "      <td>0.09 g</td>\n",
       "      <td>0.00 mg</td>\n",
       "      <td>0.00 mg</td>\n",
       "      <td>8.32 g</td>\n",
       "    </tr>\n",
       "    <tr>\n",
       "      <th>1</th>\n",
       "      <td>Nuts, pecans</td>\n",
       "      <td>100 g</td>\n",
       "      <td>691</td>\n",
       "      <td>72g</td>\n",
       "      <td>6.2g</td>\n",
       "      <td>0</td>\n",
       "      <td>0.00 mg</td>\n",
       "      <td>40.5 mg</td>\n",
       "      <td>22.00 mcg</td>\n",
       "      <td>0.00 mcg</td>\n",
       "      <td>...</td>\n",
       "      <td>71.97 g</td>\n",
       "      <td>6.180 g</td>\n",
       "      <td>40.801 g</td>\n",
       "      <td>21.614 g</td>\n",
       "      <td>0.00 mg</td>\n",
       "      <td>0.0 g</td>\n",
       "      <td>1.49 g</td>\n",
       "      <td>0.00 mg</td>\n",
       "      <td>0.00 mg</td>\n",
       "      <td>3.52 g</td>\n",
       "    </tr>\n",
       "    <tr>\n",
       "      <th>2</th>\n",
       "      <td>Eggplant, raw</td>\n",
       "      <td>100 g</td>\n",
       "      <td>25</td>\n",
       "      <td>0.2g</td>\n",
       "      <td>NaN</td>\n",
       "      <td>0</td>\n",
       "      <td>2.00 mg</td>\n",
       "      <td>6.9 mg</td>\n",
       "      <td>22.00 mcg</td>\n",
       "      <td>0.00 mcg</td>\n",
       "      <td>...</td>\n",
       "      <td>0.18 g</td>\n",
       "      <td>0.034 g</td>\n",
       "      <td>0.016 g</td>\n",
       "      <td>0.076 g</td>\n",
       "      <td>0.00 mg</td>\n",
       "      <td>0.0 g</td>\n",
       "      <td>0.66 g</td>\n",
       "      <td>0.00 mg</td>\n",
       "      <td>0.00 mg</td>\n",
       "      <td>92.30 g</td>\n",
       "    </tr>\n",
       "    <tr>\n",
       "      <th>3</th>\n",
       "      <td>Teff, uncooked</td>\n",
       "      <td>100 g</td>\n",
       "      <td>367</td>\n",
       "      <td>2.4g</td>\n",
       "      <td>0.4g</td>\n",
       "      <td>0</td>\n",
       "      <td>12.00 mg</td>\n",
       "      <td>13.1 mg</td>\n",
       "      <td>0</td>\n",
       "      <td>0</td>\n",
       "      <td>...</td>\n",
       "      <td>2.38 g</td>\n",
       "      <td>0.449 g</td>\n",
       "      <td>0.589 g</td>\n",
       "      <td>1.071 g</td>\n",
       "      <td>0</td>\n",
       "      <td>0</td>\n",
       "      <td>2.37 g</td>\n",
       "      <td>0</td>\n",
       "      <td>0</td>\n",
       "      <td>8.82 g</td>\n",
       "    </tr>\n",
       "    <tr>\n",
       "      <th>4</th>\n",
       "      <td>Sherbet, orange</td>\n",
       "      <td>100 g</td>\n",
       "      <td>144</td>\n",
       "      <td>2g</td>\n",
       "      <td>1.2g</td>\n",
       "      <td>1mg</td>\n",
       "      <td>46.00 mg</td>\n",
       "      <td>7.7 mg</td>\n",
       "      <td>4.00 mcg</td>\n",
       "      <td>0.00 mcg</td>\n",
       "      <td>...</td>\n",
       "      <td>2.00 g</td>\n",
       "      <td>1.160 g</td>\n",
       "      <td>0.530 g</td>\n",
       "      <td>0.080 g</td>\n",
       "      <td>1.00 mg</td>\n",
       "      <td>0.0 g</td>\n",
       "      <td>0.40 g</td>\n",
       "      <td>0.00 mg</td>\n",
       "      <td>0.00 mg</td>\n",
       "      <td>66.10 g</td>\n",
       "    </tr>\n",
       "    <tr>\n",
       "      <th>...</th>\n",
       "      <td>...</td>\n",
       "      <td>...</td>\n",
       "      <td>...</td>\n",
       "      <td>...</td>\n",
       "      <td>...</td>\n",
       "      <td>...</td>\n",
       "      <td>...</td>\n",
       "      <td>...</td>\n",
       "      <td>...</td>\n",
       "      <td>...</td>\n",
       "      <td>...</td>\n",
       "      <td>...</td>\n",
       "      <td>...</td>\n",
       "      <td>...</td>\n",
       "      <td>...</td>\n",
       "      <td>...</td>\n",
       "      <td>...</td>\n",
       "      <td>...</td>\n",
       "      <td>...</td>\n",
       "      <td>...</td>\n",
       "      <td>...</td>\n",
       "    </tr>\n",
       "    <tr>\n",
       "      <th>8784</th>\n",
       "      <td>Beef, raw, all grades, trimmed to 0\" fat, sepa...</td>\n",
       "      <td>100 g</td>\n",
       "      <td>125</td>\n",
       "      <td>3.5g</td>\n",
       "      <td>1.4g</td>\n",
       "      <td>62mg</td>\n",
       "      <td>54.00 mg</td>\n",
       "      <td>64.5 mg</td>\n",
       "      <td>4.00 mcg</td>\n",
       "      <td>0.00 mcg</td>\n",
       "      <td>...</td>\n",
       "      <td>3.50 g</td>\n",
       "      <td>1.353 g</td>\n",
       "      <td>1.554 g</td>\n",
       "      <td>0.244 g</td>\n",
       "      <td>62.00 mg</td>\n",
       "      <td>0.0 g</td>\n",
       "      <td>1.11 g</td>\n",
       "      <td>0.00 mg</td>\n",
       "      <td>0.00 mg</td>\n",
       "      <td>72.51 g</td>\n",
       "    </tr>\n",
       "    <tr>\n",
       "      <th>8785</th>\n",
       "      <td>Lamb, cooked, separable lean only, composite o...</td>\n",
       "      <td>100 g</td>\n",
       "      <td>206</td>\n",
       "      <td>8.9g</td>\n",
       "      <td>3.9g</td>\n",
       "      <td>109mg</td>\n",
       "      <td>50.00 mg</td>\n",
       "      <td>0</td>\n",
       "      <td>0.00 mcg</td>\n",
       "      <td>0.00 mcg</td>\n",
       "      <td>...</td>\n",
       "      <td>8.86 g</td>\n",
       "      <td>3.860 g</td>\n",
       "      <td>3.480 g</td>\n",
       "      <td>0.520 g</td>\n",
       "      <td>109.00 mg</td>\n",
       "      <td>0</td>\n",
       "      <td>1.60 g</td>\n",
       "      <td>0</td>\n",
       "      <td>0</td>\n",
       "      <td>59.95 g</td>\n",
       "    </tr>\n",
       "    <tr>\n",
       "      <th>8786</th>\n",
       "      <td>Lamb, raw, separable lean and fat, composite o...</td>\n",
       "      <td>100 g</td>\n",
       "      <td>277</td>\n",
       "      <td>23g</td>\n",
       "      <td>12g</td>\n",
       "      <td>78mg</td>\n",
       "      <td>39.00 mg</td>\n",
       "      <td>0</td>\n",
       "      <td>1.00 mcg</td>\n",
       "      <td>0.00 mcg</td>\n",
       "      <td>...</td>\n",
       "      <td>22.74 g</td>\n",
       "      <td>11.570 g</td>\n",
       "      <td>8.720 g</td>\n",
       "      <td>0.980 g</td>\n",
       "      <td>78.00 mg</td>\n",
       "      <td>0</td>\n",
       "      <td>0.92 g</td>\n",
       "      <td>0</td>\n",
       "      <td>0</td>\n",
       "      <td>59.80 g</td>\n",
       "    </tr>\n",
       "    <tr>\n",
       "      <th>8787</th>\n",
       "      <td>Beef, raw, all grades, trimmed to 0\" fat, sepa...</td>\n",
       "      <td>100 g</td>\n",
       "      <td>121</td>\n",
       "      <td>3g</td>\n",
       "      <td>1.1g</td>\n",
       "      <td>60mg</td>\n",
       "      <td>53.00 mg</td>\n",
       "      <td>64.2 mg</td>\n",
       "      <td>4.00 mcg</td>\n",
       "      <td>0.00 mcg</td>\n",
       "      <td>...</td>\n",
       "      <td>3.04 g</td>\n",
       "      <td>1.086 g</td>\n",
       "      <td>1.266 g</td>\n",
       "      <td>0.233 g</td>\n",
       "      <td>60.00 mg</td>\n",
       "      <td>0.0 g</td>\n",
       "      <td>1.10 g</td>\n",
       "      <td>0.00 mg</td>\n",
       "      <td>0.00 mg</td>\n",
       "      <td>73.43 g</td>\n",
       "    </tr>\n",
       "    <tr>\n",
       "      <th>8788</th>\n",
       "      <td>Beef, raw, all grades, trimmed to 0\" fat, sepa...</td>\n",
       "      <td>100 g</td>\n",
       "      <td>121</td>\n",
       "      <td>3g</td>\n",
       "      <td>1.1g</td>\n",
       "      <td>60mg</td>\n",
       "      <td>53.00 mg</td>\n",
       "      <td>64.2 mg</td>\n",
       "      <td>4.00 mcg</td>\n",
       "      <td>0.00 mcg</td>\n",
       "      <td>...</td>\n",
       "      <td>3.04 g</td>\n",
       "      <td>1.086 g</td>\n",
       "      <td>1.266 g</td>\n",
       "      <td>0.233 g</td>\n",
       "      <td>60.00 mg</td>\n",
       "      <td>0.0 g</td>\n",
       "      <td>1.10 g</td>\n",
       "      <td>0.00 mg</td>\n",
       "      <td>0.00 mg</td>\n",
       "      <td>73.43 g</td>\n",
       "    </tr>\n",
       "  </tbody>\n",
       "</table>\n",
       "<p>8789 rows × 76 columns</p>\n",
       "</div>"
      ],
      "text/plain": [
       "                                                   name serving_size  \\\n",
       "0                                            Cornstarch        100 g   \n",
       "1                                          Nuts, pecans        100 g   \n",
       "2                                         Eggplant, raw        100 g   \n",
       "3                                        Teff, uncooked        100 g   \n",
       "4                                       Sherbet, orange        100 g   \n",
       "...                                                 ...          ...   \n",
       "8784  Beef, raw, all grades, trimmed to 0\" fat, sepa...        100 g   \n",
       "8785  Lamb, cooked, separable lean only, composite o...        100 g   \n",
       "8786  Lamb, raw, separable lean and fat, composite o...        100 g   \n",
       "8787  Beef, raw, all grades, trimmed to 0\" fat, sepa...        100 g   \n",
       "8788  Beef, raw, all grades, trimmed to 0\" fat, sepa...        100 g   \n",
       "\n",
       "      calories total_fat saturated_fat cholesterol    sodium  choline  \\\n",
       "0          381      0.1g           NaN           0   9.00 mg   0.4 mg   \n",
       "1          691       72g          6.2g           0   0.00 mg  40.5 mg   \n",
       "2           25      0.2g           NaN           0   2.00 mg   6.9 mg   \n",
       "3          367      2.4g          0.4g           0  12.00 mg  13.1 mg   \n",
       "4          144        2g          1.2g         1mg  46.00 mg   7.7 mg   \n",
       "...        ...       ...           ...         ...       ...      ...   \n",
       "8784       125      3.5g          1.4g        62mg  54.00 mg  64.5 mg   \n",
       "8785       206      8.9g          3.9g       109mg  50.00 mg        0   \n",
       "8786       277       23g           12g        78mg  39.00 mg        0   \n",
       "8787       121        3g          1.1g        60mg  53.00 mg  64.2 mg   \n",
       "8788       121        3g          1.1g        60mg  53.00 mg  64.2 mg   \n",
       "\n",
       "         folate folic_acid  ...      fat saturated_fatty_acids  \\\n",
       "0      0.00 mcg   0.00 mcg  ...   0.05 g               0.009 g   \n",
       "1     22.00 mcg   0.00 mcg  ...  71.97 g               6.180 g   \n",
       "2     22.00 mcg   0.00 mcg  ...   0.18 g               0.034 g   \n",
       "3             0          0  ...   2.38 g               0.449 g   \n",
       "4      4.00 mcg   0.00 mcg  ...   2.00 g               1.160 g   \n",
       "...         ...        ...  ...      ...                   ...   \n",
       "8784   4.00 mcg   0.00 mcg  ...   3.50 g               1.353 g   \n",
       "8785   0.00 mcg   0.00 mcg  ...   8.86 g               3.860 g   \n",
       "8786   1.00 mcg   0.00 mcg  ...  22.74 g              11.570 g   \n",
       "8787   4.00 mcg   0.00 mcg  ...   3.04 g               1.086 g   \n",
       "8788   4.00 mcg   0.00 mcg  ...   3.04 g               1.086 g   \n",
       "\n",
       "     monounsaturated_fatty_acids polyunsaturated_fatty_acids  \\\n",
       "0                        0.016 g                     0.025 g   \n",
       "1                       40.801 g                    21.614 g   \n",
       "2                        0.016 g                     0.076 g   \n",
       "3                        0.589 g                     1.071 g   \n",
       "4                        0.530 g                     0.080 g   \n",
       "...                          ...                         ...   \n",
       "8784                     1.554 g                     0.244 g   \n",
       "8785                     3.480 g                     0.520 g   \n",
       "8786                     8.720 g                     0.980 g   \n",
       "8787                     1.266 g                     0.233 g   \n",
       "8788                     1.266 g                     0.233 g   \n",
       "\n",
       "     fatty_acids_total_trans alcohol     ash caffeine theobromine    water  \n",
       "0                    0.00 mg   0.0 g  0.09 g  0.00 mg     0.00 mg   8.32 g  \n",
       "1                    0.00 mg   0.0 g  1.49 g  0.00 mg     0.00 mg   3.52 g  \n",
       "2                    0.00 mg   0.0 g  0.66 g  0.00 mg     0.00 mg  92.30 g  \n",
       "3                          0       0  2.37 g        0           0   8.82 g  \n",
       "4                    1.00 mg   0.0 g  0.40 g  0.00 mg     0.00 mg  66.10 g  \n",
       "...                      ...     ...     ...      ...         ...      ...  \n",
       "8784                62.00 mg   0.0 g  1.11 g  0.00 mg     0.00 mg  72.51 g  \n",
       "8785               109.00 mg       0  1.60 g        0           0  59.95 g  \n",
       "8786                78.00 mg       0  0.92 g        0           0  59.80 g  \n",
       "8787                60.00 mg   0.0 g  1.10 g  0.00 mg     0.00 mg  73.43 g  \n",
       "8788                60.00 mg   0.0 g  1.10 g  0.00 mg     0.00 mg  73.43 g  \n",
       "\n",
       "[8789 rows x 76 columns]"
      ]
     },
     "execution_count": 40,
     "metadata": {},
     "output_type": "execute_result"
    }
   ],
   "source": [
    "nutrition"
   ]
  },
  {
   "cell_type": "code",
   "execution_count": 41,
   "metadata": {},
   "outputs": [
    {
     "data": {
      "text/html": [
       "<div>\n",
       "<style scoped>\n",
       "    .dataframe tbody tr th:only-of-type {\n",
       "        vertical-align: middle;\n",
       "    }\n",
       "\n",
       "    .dataframe tbody tr th {\n",
       "        vertical-align: top;\n",
       "    }\n",
       "\n",
       "    .dataframe thead th {\n",
       "        text-align: right;\n",
       "    }\n",
       "</style>\n",
       "<table border=\"1\" class=\"dataframe\">\n",
       "  <thead>\n",
       "    <tr style=\"text-align: right;\">\n",
       "      <th></th>\n",
       "      <th>name</th>\n",
       "      <th>serving_size</th>\n",
       "      <th>calories</th>\n",
       "      <th>total_fat</th>\n",
       "      <th>saturated_fat</th>\n",
       "      <th>cholesterol</th>\n",
       "      <th>sodium</th>\n",
       "      <th>choline</th>\n",
       "      <th>folate</th>\n",
       "      <th>folic_acid</th>\n",
       "      <th>...</th>\n",
       "      <th>fat</th>\n",
       "      <th>saturated_fatty_acids</th>\n",
       "      <th>monounsaturated_fatty_acids</th>\n",
       "      <th>polyunsaturated_fatty_acids</th>\n",
       "      <th>fatty_acids_total_trans</th>\n",
       "      <th>alcohol</th>\n",
       "      <th>ash</th>\n",
       "      <th>caffeine</th>\n",
       "      <th>theobromine</th>\n",
       "      <th>water</th>\n",
       "    </tr>\n",
       "  </thead>\n",
       "  <tbody>\n",
       "    <tr>\n",
       "      <th>210</th>\n",
       "      <td>Frankfurter, turkey</td>\n",
       "      <td>100 g</td>\n",
       "      <td>223</td>\n",
       "      <td>17g</td>\n",
       "      <td>4g</td>\n",
       "      <td>77mg</td>\n",
       "      <td>911.00 mg</td>\n",
       "      <td>48.4 mg</td>\n",
       "      <td>9.00 mcg</td>\n",
       "      <td>1.00 mcg</td>\n",
       "      <td>...</td>\n",
       "      <td>17.29 g</td>\n",
       "      <td>4.028 g</td>\n",
       "      <td>5.736 g</td>\n",
       "      <td>3.949 g</td>\n",
       "      <td>77.00 mg</td>\n",
       "      <td>0.0 g</td>\n",
       "      <td>3.68 g</td>\n",
       "      <td>0.00 mg</td>\n",
       "      <td>0.00 mg</td>\n",
       "      <td>62.99 g</td>\n",
       "    </tr>\n",
       "  </tbody>\n",
       "</table>\n",
       "<p>1 rows × 76 columns</p>\n",
       "</div>"
      ],
      "text/plain": [
       "                    name serving_size  calories total_fat saturated_fat  \\\n",
       "210  Frankfurter, turkey        100 g       223       17g            4g   \n",
       "\n",
       "    cholesterol     sodium  choline    folate folic_acid  ...      fat  \\\n",
       "210        77mg  911.00 mg  48.4 mg  9.00 mcg   1.00 mcg  ...  17.29 g   \n",
       "\n",
       "    saturated_fatty_acids monounsaturated_fatty_acids  \\\n",
       "210               4.028 g                     5.736 g   \n",
       "\n",
       "    polyunsaturated_fatty_acids fatty_acids_total_trans alcohol     ash  \\\n",
       "210                     3.949 g                77.00 mg   0.0 g  3.68 g   \n",
       "\n",
       "    caffeine theobromine    water  \n",
       "210  0.00 mg     0.00 mg  62.99 g  \n",
       "\n",
       "[1 rows x 76 columns]"
      ]
     },
     "execution_count": 41,
     "metadata": {},
     "output_type": "execute_result"
    }
   ],
   "source": [
    "nutrition.sample()"
   ]
  },
  {
   "cell_type": "code",
   "execution_count": 42,
   "metadata": {},
   "outputs": [
    {
     "data": {
      "text/html": [
       "<div>\n",
       "<style scoped>\n",
       "    .dataframe tbody tr th:only-of-type {\n",
       "        vertical-align: middle;\n",
       "    }\n",
       "\n",
       "    .dataframe tbody tr th {\n",
       "        vertical-align: top;\n",
       "    }\n",
       "\n",
       "    .dataframe thead th {\n",
       "        text-align: right;\n",
       "    }\n",
       "</style>\n",
       "<table border=\"1\" class=\"dataframe\">\n",
       "  <thead>\n",
       "    <tr style=\"text-align: right;\">\n",
       "      <th></th>\n",
       "      <th>name</th>\n",
       "      <th>serving_size</th>\n",
       "      <th>calories</th>\n",
       "      <th>total_fat</th>\n",
       "      <th>saturated_fat</th>\n",
       "      <th>cholesterol</th>\n",
       "      <th>sodium</th>\n",
       "      <th>choline</th>\n",
       "      <th>folate</th>\n",
       "      <th>folic_acid</th>\n",
       "      <th>...</th>\n",
       "      <th>fat</th>\n",
       "      <th>saturated_fatty_acids</th>\n",
       "      <th>monounsaturated_fatty_acids</th>\n",
       "      <th>polyunsaturated_fatty_acids</th>\n",
       "      <th>fatty_acids_total_trans</th>\n",
       "      <th>alcohol</th>\n",
       "      <th>ash</th>\n",
       "      <th>caffeine</th>\n",
       "      <th>theobromine</th>\n",
       "      <th>water</th>\n",
       "    </tr>\n",
       "  </thead>\n",
       "  <tbody>\n",
       "    <tr>\n",
       "      <th>2310</th>\n",
       "      <td>Restaurant, cheese quesadilla, Mexican</td>\n",
       "      <td>100 g</td>\n",
       "      <td>368</td>\n",
       "      <td>23g</td>\n",
       "      <td>12g</td>\n",
       "      <td>52mg</td>\n",
       "      <td>701.00 mg</td>\n",
       "      <td>0</td>\n",
       "      <td>52.00 mcg</td>\n",
       "      <td>0</td>\n",
       "      <td>...</td>\n",
       "      <td>23.08 g</td>\n",
       "      <td>11.559 g</td>\n",
       "      <td>6.362 g</td>\n",
       "      <td>1.971 g</td>\n",
       "      <td>52.00 mg</td>\n",
       "      <td>0</td>\n",
       "      <td>3.12 g</td>\n",
       "      <td>0</td>\n",
       "      <td>0</td>\n",
       "      <td>33.75 g</td>\n",
       "    </tr>\n",
       "    <tr>\n",
       "      <th>1334</th>\n",
       "      <td>Butterbur, raw, (fuki)</td>\n",
       "      <td>100 g</td>\n",
       "      <td>14</td>\n",
       "      <td>0g</td>\n",
       "      <td>NaN</td>\n",
       "      <td>0</td>\n",
       "      <td>7.00 mg</td>\n",
       "      <td>0</td>\n",
       "      <td>10.00 mcg</td>\n",
       "      <td>0.00 mcg</td>\n",
       "      <td>...</td>\n",
       "      <td>0.04 g</td>\n",
       "      <td>0</td>\n",
       "      <td>0</td>\n",
       "      <td>0</td>\n",
       "      <td>0.00 mg</td>\n",
       "      <td>0</td>\n",
       "      <td>1.46 g</td>\n",
       "      <td>0</td>\n",
       "      <td>0</td>\n",
       "      <td>94.50 g</td>\n",
       "    </tr>\n",
       "    <tr>\n",
       "      <th>2587</th>\n",
       "      <td>Game meat, roasted, cooked, antelope</td>\n",
       "      <td>100 g</td>\n",
       "      <td>150</td>\n",
       "      <td>2.7g</td>\n",
       "      <td>1g</td>\n",
       "      <td>126mg</td>\n",
       "      <td>54.00 mg</td>\n",
       "      <td>0</td>\n",
       "      <td>9.00 mcg</td>\n",
       "      <td>0.00 mcg</td>\n",
       "      <td>...</td>\n",
       "      <td>2.67 g</td>\n",
       "      <td>0.970 g</td>\n",
       "      <td>0.630 g</td>\n",
       "      <td>0.580 g</td>\n",
       "      <td>126.00 mg</td>\n",
       "      <td>0</td>\n",
       "      <td>1.45 g</td>\n",
       "      <td>0</td>\n",
       "      <td>0</td>\n",
       "      <td>65.90 g</td>\n",
       "    </tr>\n",
       "  </tbody>\n",
       "</table>\n",
       "<p>3 rows × 76 columns</p>\n",
       "</div>"
      ],
      "text/plain": [
       "                                        name serving_size  calories total_fat  \\\n",
       "2310  Restaurant, cheese quesadilla, Mexican        100 g       368       23g   \n",
       "1334                  Butterbur, raw, (fuki)        100 g        14        0g   \n",
       "2587    Game meat, roasted, cooked, antelope        100 g       150      2.7g   \n",
       "\n",
       "     saturated_fat cholesterol     sodium choline     folate folic_acid  ...  \\\n",
       "2310           12g        52mg  701.00 mg       0  52.00 mcg          0  ...   \n",
       "1334           NaN           0    7.00 mg       0  10.00 mcg   0.00 mcg  ...   \n",
       "2587            1g       126mg   54.00 mg       0   9.00 mcg   0.00 mcg  ...   \n",
       "\n",
       "          fat saturated_fatty_acids monounsaturated_fatty_acids  \\\n",
       "2310  23.08 g              11.559 g                     6.362 g   \n",
       "1334   0.04 g                     0                           0   \n",
       "2587   2.67 g               0.970 g                     0.630 g   \n",
       "\n",
       "     polyunsaturated_fatty_acids fatty_acids_total_trans alcohol     ash  \\\n",
       "2310                     1.971 g                52.00 mg       0  3.12 g   \n",
       "1334                           0                 0.00 mg       0  1.46 g   \n",
       "2587                     0.580 g               126.00 mg       0  1.45 g   \n",
       "\n",
       "     caffeine theobromine    water  \n",
       "2310        0           0  33.75 g  \n",
       "1334        0           0  94.50 g  \n",
       "2587        0           0  65.90 g  \n",
       "\n",
       "[3 rows x 76 columns]"
      ]
     },
     "execution_count": 42,
     "metadata": {},
     "output_type": "execute_result"
    }
   ],
   "source": [
    "nutrition.sample(3)"
   ]
  },
  {
   "cell_type": "code",
   "execution_count": 43,
   "metadata": {},
   "outputs": [
    {
     "data": {
      "text/html": [
       "<div>\n",
       "<style scoped>\n",
       "    .dataframe tbody tr th:only-of-type {\n",
       "        vertical-align: middle;\n",
       "    }\n",
       "\n",
       "    .dataframe tbody tr th {\n",
       "        vertical-align: top;\n",
       "    }\n",
       "\n",
       "    .dataframe thead th {\n",
       "        text-align: right;\n",
       "    }\n",
       "</style>\n",
       "<table border=\"1\" class=\"dataframe\">\n",
       "  <thead>\n",
       "    <tr style=\"text-align: right;\">\n",
       "      <th></th>\n",
       "      <th>name</th>\n",
       "      <th>serving_size</th>\n",
       "      <th>calories</th>\n",
       "      <th>total_fat</th>\n",
       "      <th>saturated_fat</th>\n",
       "      <th>cholesterol</th>\n",
       "      <th>sodium</th>\n",
       "      <th>choline</th>\n",
       "      <th>folate</th>\n",
       "      <th>folic_acid</th>\n",
       "      <th>...</th>\n",
       "      <th>fat</th>\n",
       "      <th>saturated_fatty_acids</th>\n",
       "      <th>monounsaturated_fatty_acids</th>\n",
       "      <th>polyunsaturated_fatty_acids</th>\n",
       "      <th>fatty_acids_total_trans</th>\n",
       "      <th>alcohol</th>\n",
       "      <th>ash</th>\n",
       "      <th>caffeine</th>\n",
       "      <th>theobromine</th>\n",
       "      <th>water</th>\n",
       "    </tr>\n",
       "  </thead>\n",
       "  <tbody>\n",
       "    <tr>\n",
       "      <th>3368</th>\n",
       "      <td>Passion-fruit, raw, purple, (granadilla)</td>\n",
       "      <td>100 g</td>\n",
       "      <td>97</td>\n",
       "      <td>0.7g</td>\n",
       "      <td>0.1g</td>\n",
       "      <td>0</td>\n",
       "      <td>28.00 mg</td>\n",
       "      <td>7.6 mg</td>\n",
       "      <td>14.00 mcg</td>\n",
       "      <td>0.00 mcg</td>\n",
       "      <td>...</td>\n",
       "      <td>0.70 g</td>\n",
       "      <td>0.059 g</td>\n",
       "      <td>0.086 g</td>\n",
       "      <td>0.411 g</td>\n",
       "      <td>0.00 mg</td>\n",
       "      <td>0.0 g</td>\n",
       "      <td>0.80 g</td>\n",
       "      <td>0.00 mg</td>\n",
       "      <td>0.00 mg</td>\n",
       "      <td>72.93 g</td>\n",
       "    </tr>\n",
       "    <tr>\n",
       "      <th>2834</th>\n",
       "      <td>Babyfood, orange and apple and banana, juice</td>\n",
       "      <td>100 g</td>\n",
       "      <td>47</td>\n",
       "      <td>0.1g</td>\n",
       "      <td>NaN</td>\n",
       "      <td>0</td>\n",
       "      <td>0.00 mg</td>\n",
       "      <td>4.1 mg</td>\n",
       "      <td>10.00 mcg</td>\n",
       "      <td>0.00 mcg</td>\n",
       "      <td>...</td>\n",
       "      <td>0.10 g</td>\n",
       "      <td>0.016 g</td>\n",
       "      <td>0.007 g</td>\n",
       "      <td>0.027 g</td>\n",
       "      <td>0.00 mg</td>\n",
       "      <td>0.0 g</td>\n",
       "      <td>0.40 g</td>\n",
       "      <td>0.00 mg</td>\n",
       "      <td>0.00 mg</td>\n",
       "      <td>87.60 g</td>\n",
       "    </tr>\n",
       "    <tr>\n",
       "      <th>2017</th>\n",
       "      <td>Sugar-apples, raw, (sweetsop)</td>\n",
       "      <td>100 g</td>\n",
       "      <td>94</td>\n",
       "      <td>0.3g</td>\n",
       "      <td>NaN</td>\n",
       "      <td>0</td>\n",
       "      <td>9.00 mg</td>\n",
       "      <td>0</td>\n",
       "      <td>14.00 mcg</td>\n",
       "      <td>0.00 mcg</td>\n",
       "      <td>...</td>\n",
       "      <td>0.29 g</td>\n",
       "      <td>0.048 g</td>\n",
       "      <td>0.114 g</td>\n",
       "      <td>0.040 g</td>\n",
       "      <td>0.00 mg</td>\n",
       "      <td>0.0 g</td>\n",
       "      <td>0.78 g</td>\n",
       "      <td>0</td>\n",
       "      <td>0</td>\n",
       "      <td>73.23 g</td>\n",
       "    </tr>\n",
       "    <tr>\n",
       "      <th>1821</th>\n",
       "      <td>Babyfood, fruit supreme dessert</td>\n",
       "      <td>100 g</td>\n",
       "      <td>73</td>\n",
       "      <td>0.2g</td>\n",
       "      <td>NaN</td>\n",
       "      <td>0</td>\n",
       "      <td>1.00 mg</td>\n",
       "      <td>1.8 mg</td>\n",
       "      <td>6.00 mcg</td>\n",
       "      <td>0.00 mcg</td>\n",
       "      <td>...</td>\n",
       "      <td>0.20 g</td>\n",
       "      <td>0.030 g</td>\n",
       "      <td>0.025 g</td>\n",
       "      <td>0.068 g</td>\n",
       "      <td>0.00 mg</td>\n",
       "      <td>0.0 g</td>\n",
       "      <td>0.52 g</td>\n",
       "      <td>0.00 mg</td>\n",
       "      <td>0.00 mg</td>\n",
       "      <td>81.60 g</td>\n",
       "    </tr>\n",
       "    <tr>\n",
       "      <th>1273</th>\n",
       "      <td>Gravy, beef, CAMPBELL'S</td>\n",
       "      <td>100 g</td>\n",
       "      <td>42</td>\n",
       "      <td>1.7g</td>\n",
       "      <td>0.8g</td>\n",
       "      <td>8mg</td>\n",
       "      <td>458.00 mg</td>\n",
       "      <td>0</td>\n",
       "      <td>0</td>\n",
       "      <td>0</td>\n",
       "      <td>...</td>\n",
       "      <td>1.69 g</td>\n",
       "      <td>0.847 g</td>\n",
       "      <td>0</td>\n",
       "      <td>0</td>\n",
       "      <td>8.00 mg</td>\n",
       "      <td>0</td>\n",
       "      <td>1.33 g</td>\n",
       "      <td>0</td>\n",
       "      <td>0</td>\n",
       "      <td>90.20 g</td>\n",
       "    </tr>\n",
       "  </tbody>\n",
       "</table>\n",
       "<p>5 rows × 76 columns</p>\n",
       "</div>"
      ],
      "text/plain": [
       "                                              name serving_size  calories  \\\n",
       "3368      Passion-fruit, raw, purple, (granadilla)        100 g        97   \n",
       "2834  Babyfood, orange and apple and banana, juice        100 g        47   \n",
       "2017                 Sugar-apples, raw, (sweetsop)        100 g        94   \n",
       "1821               Babyfood, fruit supreme dessert        100 g        73   \n",
       "1273                       Gravy, beef, CAMPBELL'S        100 g        42   \n",
       "\n",
       "     total_fat saturated_fat cholesterol     sodium choline     folate  \\\n",
       "3368      0.7g          0.1g           0   28.00 mg  7.6 mg  14.00 mcg   \n",
       "2834      0.1g           NaN           0    0.00 mg  4.1 mg  10.00 mcg   \n",
       "2017      0.3g           NaN           0    9.00 mg       0  14.00 mcg   \n",
       "1821      0.2g           NaN           0    1.00 mg  1.8 mg   6.00 mcg   \n",
       "1273      1.7g          0.8g         8mg  458.00 mg       0          0   \n",
       "\n",
       "     folic_acid  ...     fat saturated_fatty_acids  \\\n",
       "3368   0.00 mcg  ...  0.70 g               0.059 g   \n",
       "2834   0.00 mcg  ...  0.10 g               0.016 g   \n",
       "2017   0.00 mcg  ...  0.29 g               0.048 g   \n",
       "1821   0.00 mcg  ...  0.20 g               0.030 g   \n",
       "1273          0  ...  1.69 g               0.847 g   \n",
       "\n",
       "     monounsaturated_fatty_acids polyunsaturated_fatty_acids  \\\n",
       "3368                     0.086 g                     0.411 g   \n",
       "2834                     0.007 g                     0.027 g   \n",
       "2017                     0.114 g                     0.040 g   \n",
       "1821                     0.025 g                     0.068 g   \n",
       "1273                           0                           0   \n",
       "\n",
       "     fatty_acids_total_trans alcohol     ash caffeine theobromine    water  \n",
       "3368                 0.00 mg   0.0 g  0.80 g  0.00 mg     0.00 mg  72.93 g  \n",
       "2834                 0.00 mg   0.0 g  0.40 g  0.00 mg     0.00 mg  87.60 g  \n",
       "2017                 0.00 mg   0.0 g  0.78 g        0           0  73.23 g  \n",
       "1821                 0.00 mg   0.0 g  0.52 g  0.00 mg     0.00 mg  81.60 g  \n",
       "1273                 8.00 mg       0  1.33 g        0           0  90.20 g  \n",
       "\n",
       "[5 rows x 76 columns]"
      ]
     },
     "execution_count": 43,
     "metadata": {},
     "output_type": "execute_result"
    }
   ],
   "source": [
    "my_sample = nutrition.sample(5, replace=True)\n",
    "my_sample"
   ]
  },
  {
   "cell_type": "code",
   "execution_count": 44,
   "metadata": {},
   "outputs": [
    {
     "data": {
      "text/plain": [
       "[RangeIndex(start=0, stop=8789, step=1),\n",
       " Index(['name', 'serving_size', 'calories', 'total_fat', 'saturated_fat',\n",
       "        'cholesterol', 'sodium', 'choline', 'folate', 'folic_acid', 'niacin',\n",
       "        'pantothenic_acid', 'riboflavin', 'thiamin', 'vitamin_a',\n",
       "        'vitamin_a_rae', 'carotene_alpha', 'carotene_beta',\n",
       "        'cryptoxanthin_beta', 'lutein_zeaxanthin', 'lucopene', 'vitamin_b12',\n",
       "        'vitamin_b6', 'vitamin_c', 'vitamin_d', 'vitamin_e', 'tocopherol_alpha',\n",
       "        'vitamin_k', 'calcium', 'copper', 'irom', 'magnesium', 'manganese',\n",
       "        'phosphorous', 'potassium', 'selenium', 'zink', 'protein', 'alanine',\n",
       "        'arginine', 'aspartic_acid', 'cystine', 'glutamic_acid', 'glycine',\n",
       "        'histidine', 'hydroxyproline', 'isoleucine', 'leucine', 'lysine',\n",
       "        'methionine', 'phenylalanine', 'proline', 'serine', 'threonine',\n",
       "        'tryptophan', 'tyrosine', 'valine', 'carbohydrate', 'fiber', 'sugars',\n",
       "        'fructose', 'galactose', 'glucose', 'lactose', 'maltose', 'sucrose',\n",
       "        'fat', 'saturated_fatty_acids', 'monounsaturated_fatty_acids',\n",
       "        'polyunsaturated_fatty_acids', 'fatty_acids_total_trans', 'alcohol',\n",
       "        'ash', 'caffeine', 'theobromine', 'water'],\n",
       "       dtype='object')]"
      ]
     },
     "execution_count": 44,
     "metadata": {},
     "output_type": "execute_result"
    }
   ],
   "source": [
    "nutrition.axes"
   ]
  },
  {
   "cell_type": "code",
   "execution_count": 45,
   "metadata": {},
   "outputs": [
    {
     "data": {
      "text/html": [
       "<div>\n",
       "<style scoped>\n",
       "    .dataframe tbody tr th:only-of-type {\n",
       "        vertical-align: middle;\n",
       "    }\n",
       "\n",
       "    .dataframe tbody tr th {\n",
       "        vertical-align: top;\n",
       "    }\n",
       "\n",
       "    .dataframe thead th {\n",
       "        text-align: right;\n",
       "    }\n",
       "</style>\n",
       "<table border=\"1\" class=\"dataframe\">\n",
       "  <thead>\n",
       "    <tr style=\"text-align: right;\">\n",
       "      <th></th>\n",
       "      <th>name</th>\n",
       "      <th>serving_size</th>\n",
       "      <th>calories</th>\n",
       "      <th>total_fat</th>\n",
       "      <th>saturated_fat</th>\n",
       "      <th>cholesterol</th>\n",
       "      <th>sodium</th>\n",
       "      <th>choline</th>\n",
       "      <th>folate</th>\n",
       "      <th>folic_acid</th>\n",
       "      <th>...</th>\n",
       "      <th>fat</th>\n",
       "      <th>saturated_fatty_acids</th>\n",
       "      <th>monounsaturated_fatty_acids</th>\n",
       "      <th>polyunsaturated_fatty_acids</th>\n",
       "      <th>fatty_acids_total_trans</th>\n",
       "      <th>alcohol</th>\n",
       "      <th>ash</th>\n",
       "      <th>caffeine</th>\n",
       "      <th>theobromine</th>\n",
       "      <th>water</th>\n",
       "    </tr>\n",
       "  </thead>\n",
       "  <tbody>\n",
       "    <tr>\n",
       "      <th>0</th>\n",
       "      <td>Cornstarch</td>\n",
       "      <td>100 g</td>\n",
       "      <td>381</td>\n",
       "      <td>0.1g</td>\n",
       "      <td>NaN</td>\n",
       "      <td>0</td>\n",
       "      <td>9.00 mg</td>\n",
       "      <td>0.4 mg</td>\n",
       "      <td>0.00 mcg</td>\n",
       "      <td>0.00 mcg</td>\n",
       "      <td>...</td>\n",
       "      <td>0.05 g</td>\n",
       "      <td>0.009 g</td>\n",
       "      <td>0.016 g</td>\n",
       "      <td>0.025 g</td>\n",
       "      <td>0.00 mg</td>\n",
       "      <td>0.0 g</td>\n",
       "      <td>0.09 g</td>\n",
       "      <td>0.00 mg</td>\n",
       "      <td>0.00 mg</td>\n",
       "      <td>8.32 g</td>\n",
       "    </tr>\n",
       "    <tr>\n",
       "      <th>1</th>\n",
       "      <td>Nuts, pecans</td>\n",
       "      <td>100 g</td>\n",
       "      <td>691</td>\n",
       "      <td>72g</td>\n",
       "      <td>6.2g</td>\n",
       "      <td>0</td>\n",
       "      <td>0.00 mg</td>\n",
       "      <td>40.5 mg</td>\n",
       "      <td>22.00 mcg</td>\n",
       "      <td>0.00 mcg</td>\n",
       "      <td>...</td>\n",
       "      <td>71.97 g</td>\n",
       "      <td>6.180 g</td>\n",
       "      <td>40.801 g</td>\n",
       "      <td>21.614 g</td>\n",
       "      <td>0.00 mg</td>\n",
       "      <td>0.0 g</td>\n",
       "      <td>1.49 g</td>\n",
       "      <td>0.00 mg</td>\n",
       "      <td>0.00 mg</td>\n",
       "      <td>3.52 g</td>\n",
       "    </tr>\n",
       "    <tr>\n",
       "      <th>2</th>\n",
       "      <td>Eggplant, raw</td>\n",
       "      <td>100 g</td>\n",
       "      <td>25</td>\n",
       "      <td>0.2g</td>\n",
       "      <td>NaN</td>\n",
       "      <td>0</td>\n",
       "      <td>2.00 mg</td>\n",
       "      <td>6.9 mg</td>\n",
       "      <td>22.00 mcg</td>\n",
       "      <td>0.00 mcg</td>\n",
       "      <td>...</td>\n",
       "      <td>0.18 g</td>\n",
       "      <td>0.034 g</td>\n",
       "      <td>0.016 g</td>\n",
       "      <td>0.076 g</td>\n",
       "      <td>0.00 mg</td>\n",
       "      <td>0.0 g</td>\n",
       "      <td>0.66 g</td>\n",
       "      <td>0.00 mg</td>\n",
       "      <td>0.00 mg</td>\n",
       "      <td>92.30 g</td>\n",
       "    </tr>\n",
       "    <tr>\n",
       "      <th>3</th>\n",
       "      <td>Teff, uncooked</td>\n",
       "      <td>100 g</td>\n",
       "      <td>367</td>\n",
       "      <td>2.4g</td>\n",
       "      <td>0.4g</td>\n",
       "      <td>0</td>\n",
       "      <td>12.00 mg</td>\n",
       "      <td>13.1 mg</td>\n",
       "      <td>0</td>\n",
       "      <td>0</td>\n",
       "      <td>...</td>\n",
       "      <td>2.38 g</td>\n",
       "      <td>0.449 g</td>\n",
       "      <td>0.589 g</td>\n",
       "      <td>1.071 g</td>\n",
       "      <td>0</td>\n",
       "      <td>0</td>\n",
       "      <td>2.37 g</td>\n",
       "      <td>0</td>\n",
       "      <td>0</td>\n",
       "      <td>8.82 g</td>\n",
       "    </tr>\n",
       "    <tr>\n",
       "      <th>4</th>\n",
       "      <td>Sherbet, orange</td>\n",
       "      <td>100 g</td>\n",
       "      <td>144</td>\n",
       "      <td>2g</td>\n",
       "      <td>1.2g</td>\n",
       "      <td>1mg</td>\n",
       "      <td>46.00 mg</td>\n",
       "      <td>7.7 mg</td>\n",
       "      <td>4.00 mcg</td>\n",
       "      <td>0.00 mcg</td>\n",
       "      <td>...</td>\n",
       "      <td>2.00 g</td>\n",
       "      <td>1.160 g</td>\n",
       "      <td>0.530 g</td>\n",
       "      <td>0.080 g</td>\n",
       "      <td>1.00 mg</td>\n",
       "      <td>0.0 g</td>\n",
       "      <td>0.40 g</td>\n",
       "      <td>0.00 mg</td>\n",
       "      <td>0.00 mg</td>\n",
       "      <td>66.10 g</td>\n",
       "    </tr>\n",
       "  </tbody>\n",
       "</table>\n",
       "<p>5 rows × 76 columns</p>\n",
       "</div>"
      ],
      "text/plain": [
       "              name serving_size  calories total_fat saturated_fat cholesterol  \\\n",
       "0       Cornstarch        100 g       381      0.1g           NaN           0   \n",
       "1     Nuts, pecans        100 g       691       72g          6.2g           0   \n",
       "2    Eggplant, raw        100 g        25      0.2g           NaN           0   \n",
       "3   Teff, uncooked        100 g       367      2.4g          0.4g           0   \n",
       "4  Sherbet, orange        100 g       144        2g          1.2g         1mg   \n",
       "\n",
       "     sodium  choline     folate folic_acid  ...      fat  \\\n",
       "0   9.00 mg   0.4 mg   0.00 mcg   0.00 mcg  ...   0.05 g   \n",
       "1   0.00 mg  40.5 mg  22.00 mcg   0.00 mcg  ...  71.97 g   \n",
       "2   2.00 mg   6.9 mg  22.00 mcg   0.00 mcg  ...   0.18 g   \n",
       "3  12.00 mg  13.1 mg          0          0  ...   2.38 g   \n",
       "4  46.00 mg   7.7 mg   4.00 mcg   0.00 mcg  ...   2.00 g   \n",
       "\n",
       "  saturated_fatty_acids monounsaturated_fatty_acids  \\\n",
       "0               0.009 g                     0.016 g   \n",
       "1               6.180 g                    40.801 g   \n",
       "2               0.034 g                     0.016 g   \n",
       "3               0.449 g                     0.589 g   \n",
       "4               1.160 g                     0.530 g   \n",
       "\n",
       "  polyunsaturated_fatty_acids fatty_acids_total_trans alcohol     ash  \\\n",
       "0                     0.025 g                 0.00 mg   0.0 g  0.09 g   \n",
       "1                    21.614 g                 0.00 mg   0.0 g  1.49 g   \n",
       "2                     0.076 g                 0.00 mg   0.0 g  0.66 g   \n",
       "3                     1.071 g                       0       0  2.37 g   \n",
       "4                     0.080 g                 1.00 mg   0.0 g  0.40 g   \n",
       "\n",
       "  caffeine theobromine    water  \n",
       "0  0.00 mg     0.00 mg   8.32 g  \n",
       "1  0.00 mg     0.00 mg   3.52 g  \n",
       "2  0.00 mg     0.00 mg  92.30 g  \n",
       "3        0           0   8.82 g  \n",
       "4  0.00 mg     0.00 mg  66.10 g  \n",
       "\n",
       "[5 rows x 76 columns]"
      ]
     },
     "execution_count": 45,
     "metadata": {},
     "output_type": "execute_result"
    }
   ],
   "source": [
    "nutrition.head()\n"
   ]
  },
  {
   "cell_type": "code",
   "execution_count": 47,
   "metadata": {},
   "outputs": [
    {
     "data": {
      "text/plain": [
       "'Eggplant, raw'"
      ]
     },
     "execution_count": 47,
     "metadata": {},
     "output_type": "execute_result"
    }
   ],
   "source": [
    "nutrition.iloc[2]['name']"
   ]
  },
  {
   "cell_type": "code",
   "execution_count": 49,
   "metadata": {},
   "outputs": [
    {
     "data": {
      "text/plain": [
       "[RangeIndex(start=0, stop=8789, step=1),\n",
       " Index(['name', 'serving_size', 'calories', 'total_fat', 'saturated_fat',\n",
       "        'cholesterol', 'sodium', 'choline', 'folate', 'folic_acid', 'niacin',\n",
       "        'pantothenic_acid', 'riboflavin', 'thiamin', 'vitamin_a',\n",
       "        'vitamin_a_rae', 'carotene_alpha', 'carotene_beta',\n",
       "        'cryptoxanthin_beta', 'lutein_zeaxanthin', 'lucopene', 'vitamin_b12',\n",
       "        'vitamin_b6', 'vitamin_c', 'vitamin_d', 'vitamin_e', 'tocopherol_alpha',\n",
       "        'vitamin_k', 'calcium', 'copper', 'irom', 'magnesium', 'manganese',\n",
       "        'phosphorous', 'potassium', 'selenium', 'zink', 'protein', 'alanine',\n",
       "        'arginine', 'aspartic_acid', 'cystine', 'glutamic_acid', 'glycine',\n",
       "        'histidine', 'hydroxyproline', 'isoleucine', 'leucine', 'lysine',\n",
       "        'methionine', 'phenylalanine', 'proline', 'serine', 'threonine',\n",
       "        'tryptophan', 'tyrosine', 'valine', 'carbohydrate', 'fiber', 'sugars',\n",
       "        'fructose', 'galactose', 'glucose', 'lactose', 'maltose', 'sucrose',\n",
       "        'fat', 'saturated_fatty_acids', 'monounsaturated_fatty_acids',\n",
       "        'polyunsaturated_fatty_acids', 'fatty_acids_total_trans', 'alcohol',\n",
       "        'ash', 'caffeine', 'theobromine', 'water'],\n",
       "       dtype='object')]"
      ]
     },
     "execution_count": 49,
     "metadata": {},
     "output_type": "execute_result"
    }
   ],
   "source": [
    "nutrition.axes"
   ]
  },
  {
   "cell_type": "code",
   "execution_count": 50,
   "metadata": {},
   "outputs": [],
   "source": [
    "nutrition.index = pd.RangeIndex(start=0, stop=8789, step=1)"
   ]
  },
  {
   "cell_type": "code",
   "execution_count": 52,
   "metadata": {},
   "outputs": [],
   "source": [
    "nutrition.set_index('name', inplace=True)"
   ]
  },
  {
   "cell_type": "code",
   "execution_count": 53,
   "metadata": {},
   "outputs": [
    {
     "data": {
      "text/html": [
       "<div>\n",
       "<style scoped>\n",
       "    .dataframe tbody tr th:only-of-type {\n",
       "        vertical-align: middle;\n",
       "    }\n",
       "\n",
       "    .dataframe tbody tr th {\n",
       "        vertical-align: top;\n",
       "    }\n",
       "\n",
       "    .dataframe thead th {\n",
       "        text-align: right;\n",
       "    }\n",
       "</style>\n",
       "<table border=\"1\" class=\"dataframe\">\n",
       "  <thead>\n",
       "    <tr style=\"text-align: right;\">\n",
       "      <th></th>\n",
       "      <th>serving_size</th>\n",
       "      <th>calories</th>\n",
       "      <th>total_fat</th>\n",
       "      <th>saturated_fat</th>\n",
       "      <th>cholesterol</th>\n",
       "      <th>sodium</th>\n",
       "      <th>choline</th>\n",
       "      <th>folate</th>\n",
       "      <th>folic_acid</th>\n",
       "      <th>niacin</th>\n",
       "      <th>...</th>\n",
       "      <th>fat</th>\n",
       "      <th>saturated_fatty_acids</th>\n",
       "      <th>monounsaturated_fatty_acids</th>\n",
       "      <th>polyunsaturated_fatty_acids</th>\n",
       "      <th>fatty_acids_total_trans</th>\n",
       "      <th>alcohol</th>\n",
       "      <th>ash</th>\n",
       "      <th>caffeine</th>\n",
       "      <th>theobromine</th>\n",
       "      <th>water</th>\n",
       "    </tr>\n",
       "    <tr>\n",
       "      <th>name</th>\n",
       "      <th></th>\n",
       "      <th></th>\n",
       "      <th></th>\n",
       "      <th></th>\n",
       "      <th></th>\n",
       "      <th></th>\n",
       "      <th></th>\n",
       "      <th></th>\n",
       "      <th></th>\n",
       "      <th></th>\n",
       "      <th></th>\n",
       "      <th></th>\n",
       "      <th></th>\n",
       "      <th></th>\n",
       "      <th></th>\n",
       "      <th></th>\n",
       "      <th></th>\n",
       "      <th></th>\n",
       "      <th></th>\n",
       "      <th></th>\n",
       "      <th></th>\n",
       "    </tr>\n",
       "  </thead>\n",
       "  <tbody>\n",
       "    <tr>\n",
       "      <th>Cornstarch</th>\n",
       "      <td>100 g</td>\n",
       "      <td>381</td>\n",
       "      <td>0.1g</td>\n",
       "      <td>NaN</td>\n",
       "      <td>0</td>\n",
       "      <td>9.00 mg</td>\n",
       "      <td>0.4 mg</td>\n",
       "      <td>0.00 mcg</td>\n",
       "      <td>0.00 mcg</td>\n",
       "      <td>0.000 mg</td>\n",
       "      <td>...</td>\n",
       "      <td>0.05 g</td>\n",
       "      <td>0.009 g</td>\n",
       "      <td>0.016 g</td>\n",
       "      <td>0.025 g</td>\n",
       "      <td>0.00 mg</td>\n",
       "      <td>0.0 g</td>\n",
       "      <td>0.09 g</td>\n",
       "      <td>0.00 mg</td>\n",
       "      <td>0.00 mg</td>\n",
       "      <td>8.32 g</td>\n",
       "    </tr>\n",
       "    <tr>\n",
       "      <th>Nuts, pecans</th>\n",
       "      <td>100 g</td>\n",
       "      <td>691</td>\n",
       "      <td>72g</td>\n",
       "      <td>6.2g</td>\n",
       "      <td>0</td>\n",
       "      <td>0.00 mg</td>\n",
       "      <td>40.5 mg</td>\n",
       "      <td>22.00 mcg</td>\n",
       "      <td>0.00 mcg</td>\n",
       "      <td>1.167 mg</td>\n",
       "      <td>...</td>\n",
       "      <td>71.97 g</td>\n",
       "      <td>6.180 g</td>\n",
       "      <td>40.801 g</td>\n",
       "      <td>21.614 g</td>\n",
       "      <td>0.00 mg</td>\n",
       "      <td>0.0 g</td>\n",
       "      <td>1.49 g</td>\n",
       "      <td>0.00 mg</td>\n",
       "      <td>0.00 mg</td>\n",
       "      <td>3.52 g</td>\n",
       "    </tr>\n",
       "    <tr>\n",
       "      <th>Eggplant, raw</th>\n",
       "      <td>100 g</td>\n",
       "      <td>25</td>\n",
       "      <td>0.2g</td>\n",
       "      <td>NaN</td>\n",
       "      <td>0</td>\n",
       "      <td>2.00 mg</td>\n",
       "      <td>6.9 mg</td>\n",
       "      <td>22.00 mcg</td>\n",
       "      <td>0.00 mcg</td>\n",
       "      <td>0.649 mg</td>\n",
       "      <td>...</td>\n",
       "      <td>0.18 g</td>\n",
       "      <td>0.034 g</td>\n",
       "      <td>0.016 g</td>\n",
       "      <td>0.076 g</td>\n",
       "      <td>0.00 mg</td>\n",
       "      <td>0.0 g</td>\n",
       "      <td>0.66 g</td>\n",
       "      <td>0.00 mg</td>\n",
       "      <td>0.00 mg</td>\n",
       "      <td>92.30 g</td>\n",
       "    </tr>\n",
       "    <tr>\n",
       "      <th>Teff, uncooked</th>\n",
       "      <td>100 g</td>\n",
       "      <td>367</td>\n",
       "      <td>2.4g</td>\n",
       "      <td>0.4g</td>\n",
       "      <td>0</td>\n",
       "      <td>12.00 mg</td>\n",
       "      <td>13.1 mg</td>\n",
       "      <td>0</td>\n",
       "      <td>0</td>\n",
       "      <td>3.363 mg</td>\n",
       "      <td>...</td>\n",
       "      <td>2.38 g</td>\n",
       "      <td>0.449 g</td>\n",
       "      <td>0.589 g</td>\n",
       "      <td>1.071 g</td>\n",
       "      <td>0</td>\n",
       "      <td>0</td>\n",
       "      <td>2.37 g</td>\n",
       "      <td>0</td>\n",
       "      <td>0</td>\n",
       "      <td>8.82 g</td>\n",
       "    </tr>\n",
       "    <tr>\n",
       "      <th>Sherbet, orange</th>\n",
       "      <td>100 g</td>\n",
       "      <td>144</td>\n",
       "      <td>2g</td>\n",
       "      <td>1.2g</td>\n",
       "      <td>1mg</td>\n",
       "      <td>46.00 mg</td>\n",
       "      <td>7.7 mg</td>\n",
       "      <td>4.00 mcg</td>\n",
       "      <td>0.00 mcg</td>\n",
       "      <td>0.063 mg</td>\n",
       "      <td>...</td>\n",
       "      <td>2.00 g</td>\n",
       "      <td>1.160 g</td>\n",
       "      <td>0.530 g</td>\n",
       "      <td>0.080 g</td>\n",
       "      <td>1.00 mg</td>\n",
       "      <td>0.0 g</td>\n",
       "      <td>0.40 g</td>\n",
       "      <td>0.00 mg</td>\n",
       "      <td>0.00 mg</td>\n",
       "      <td>66.10 g</td>\n",
       "    </tr>\n",
       "  </tbody>\n",
       "</table>\n",
       "<p>5 rows × 75 columns</p>\n",
       "</div>"
      ],
      "text/plain": [
       "                serving_size  calories total_fat saturated_fat cholesterol  \\\n",
       "name                                                                         \n",
       "Cornstarch             100 g       381      0.1g           NaN           0   \n",
       "Nuts, pecans           100 g       691       72g          6.2g           0   \n",
       "Eggplant, raw          100 g        25      0.2g           NaN           0   \n",
       "Teff, uncooked         100 g       367      2.4g          0.4g           0   \n",
       "Sherbet, orange        100 g       144        2g          1.2g         1mg   \n",
       "\n",
       "                   sodium  choline     folate folic_acid    niacin  ...  \\\n",
       "name                                                                ...   \n",
       "Cornstarch        9.00 mg   0.4 mg   0.00 mcg   0.00 mcg  0.000 mg  ...   \n",
       "Nuts, pecans      0.00 mg  40.5 mg  22.00 mcg   0.00 mcg  1.167 mg  ...   \n",
       "Eggplant, raw     2.00 mg   6.9 mg  22.00 mcg   0.00 mcg  0.649 mg  ...   \n",
       "Teff, uncooked   12.00 mg  13.1 mg          0          0  3.363 mg  ...   \n",
       "Sherbet, orange  46.00 mg   7.7 mg   4.00 mcg   0.00 mcg  0.063 mg  ...   \n",
       "\n",
       "                     fat saturated_fatty_acids monounsaturated_fatty_acids  \\\n",
       "name                                                                         \n",
       "Cornstarch        0.05 g               0.009 g                     0.016 g   \n",
       "Nuts, pecans     71.97 g               6.180 g                    40.801 g   \n",
       "Eggplant, raw     0.18 g               0.034 g                     0.016 g   \n",
       "Teff, uncooked    2.38 g               0.449 g                     0.589 g   \n",
       "Sherbet, orange   2.00 g               1.160 g                     0.530 g   \n",
       "\n",
       "                polyunsaturated_fatty_acids fatty_acids_total_trans alcohol  \\\n",
       "name                                                                          \n",
       "Cornstarch                          0.025 g                 0.00 mg   0.0 g   \n",
       "Nuts, pecans                       21.614 g                 0.00 mg   0.0 g   \n",
       "Eggplant, raw                       0.076 g                 0.00 mg   0.0 g   \n",
       "Teff, uncooked                      1.071 g                       0       0   \n",
       "Sherbet, orange                     0.080 g                 1.00 mg   0.0 g   \n",
       "\n",
       "                    ash caffeine theobromine    water  \n",
       "name                                                   \n",
       "Cornstarch       0.09 g  0.00 mg     0.00 mg   8.32 g  \n",
       "Nuts, pecans     1.49 g  0.00 mg     0.00 mg   3.52 g  \n",
       "Eggplant, raw    0.66 g  0.00 mg     0.00 mg  92.30 g  \n",
       "Teff, uncooked   2.37 g        0           0   8.82 g  \n",
       "Sherbet, orange  0.40 g  0.00 mg     0.00 mg  66.10 g  \n",
       "\n",
       "[5 rows x 75 columns]"
      ]
     },
     "execution_count": 53,
     "metadata": {},
     "output_type": "execute_result"
    }
   ],
   "source": [
    "nutrition.head()"
   ]
  },
  {
   "cell_type": "code",
   "execution_count": 55,
   "metadata": {},
   "outputs": [
    {
     "data": {
      "text/plain": [
       "381"
      ]
     },
     "execution_count": 55,
     "metadata": {},
     "output_type": "execute_result"
    }
   ],
   "source": [
    "nutrition.loc['Cornstarch']['calories']"
   ]
  },
  {
   "cell_type": "code",
   "execution_count": 56,
   "metadata": {},
   "outputs": [
    {
     "data": {
      "text/plain": [
       "381"
      ]
     },
     "execution_count": 56,
     "metadata": {},
     "output_type": "execute_result"
    }
   ],
   "source": [
    "nutrition.loc['Cornstarch', 'calories']"
   ]
  },
  {
   "cell_type": "code",
   "execution_count": 62,
   "metadata": {},
   "outputs": [
    {
     "data": {
      "text/html": [
       "<div>\n",
       "<style scoped>\n",
       "    .dataframe tbody tr th:only-of-type {\n",
       "        vertical-align: middle;\n",
       "    }\n",
       "\n",
       "    .dataframe tbody tr th {\n",
       "        vertical-align: top;\n",
       "    }\n",
       "\n",
       "    .dataframe thead th {\n",
       "        text-align: right;\n",
       "    }\n",
       "</style>\n",
       "<table border=\"1\" class=\"dataframe\">\n",
       "  <thead>\n",
       "    <tr style=\"text-align: right;\">\n",
       "      <th></th>\n",
       "      <th>serving_size</th>\n",
       "      <th>calories</th>\n",
       "      <th>total_fat</th>\n",
       "      <th>saturated_fat</th>\n",
       "      <th>cholesterol</th>\n",
       "    </tr>\n",
       "    <tr>\n",
       "      <th>name</th>\n",
       "      <th></th>\n",
       "      <th></th>\n",
       "      <th></th>\n",
       "      <th></th>\n",
       "      <th></th>\n",
       "    </tr>\n",
       "  </thead>\n",
       "  <tbody>\n",
       "    <tr>\n",
       "      <th>Cornstarch</th>\n",
       "      <td>100 g</td>\n",
       "      <td>381</td>\n",
       "      <td>0.1g</td>\n",
       "      <td>NaN</td>\n",
       "      <td>0</td>\n",
       "    </tr>\n",
       "    <tr>\n",
       "      <th>Nuts, pecans</th>\n",
       "      <td>100 g</td>\n",
       "      <td>691</td>\n",
       "      <td>72g</td>\n",
       "      <td>6.2g</td>\n",
       "      <td>0</td>\n",
       "    </tr>\n",
       "    <tr>\n",
       "      <th>Eggplant, raw</th>\n",
       "      <td>100 g</td>\n",
       "      <td>25</td>\n",
       "      <td>0.2g</td>\n",
       "      <td>NaN</td>\n",
       "      <td>0</td>\n",
       "    </tr>\n",
       "  </tbody>\n",
       "</table>\n",
       "</div>"
      ],
      "text/plain": [
       "              serving_size  calories total_fat saturated_fat cholesterol\n",
       "name                                                                    \n",
       "Cornstarch           100 g       381      0.1g           NaN           0\n",
       "Nuts, pecans         100 g       691       72g          6.2g           0\n",
       "Eggplant, raw        100 g        25      0.2g           NaN           0"
      ]
     },
     "execution_count": 62,
     "metadata": {},
     "output_type": "execute_result"
    }
   ],
   "source": [
    "nutrition.iloc[:3, :5]"
   ]
  },
  {
   "cell_type": "code",
   "execution_count": 63,
   "metadata": {},
   "outputs": [
    {
     "data": {
      "text/html": [
       "<div>\n",
       "<style scoped>\n",
       "    .dataframe tbody tr th:only-of-type {\n",
       "        vertical-align: middle;\n",
       "    }\n",
       "\n",
       "    .dataframe tbody tr th {\n",
       "        vertical-align: top;\n",
       "    }\n",
       "\n",
       "    .dataframe thead th {\n",
       "        text-align: right;\n",
       "    }\n",
       "</style>\n",
       "<table border=\"1\" class=\"dataframe\">\n",
       "  <thead>\n",
       "    <tr style=\"text-align: right;\">\n",
       "      <th></th>\n",
       "      <th>serving_size</th>\n",
       "      <th>calories</th>\n",
       "      <th>total_fat</th>\n",
       "      <th>saturated_fat</th>\n",
       "      <th>cholesterol</th>\n",
       "    </tr>\n",
       "    <tr>\n",
       "      <th>name</th>\n",
       "      <th></th>\n",
       "      <th></th>\n",
       "      <th></th>\n",
       "      <th></th>\n",
       "      <th></th>\n",
       "    </tr>\n",
       "  </thead>\n",
       "  <tbody>\n",
       "    <tr>\n",
       "      <th>Cornstarch</th>\n",
       "      <td>100 g</td>\n",
       "      <td>381</td>\n",
       "      <td>0.1g</td>\n",
       "      <td>NaN</td>\n",
       "      <td>0</td>\n",
       "    </tr>\n",
       "    <tr>\n",
       "      <th>Nuts, pecans</th>\n",
       "      <td>100 g</td>\n",
       "      <td>691</td>\n",
       "      <td>72g</td>\n",
       "      <td>6.2g</td>\n",
       "      <td>0</td>\n",
       "    </tr>\n",
       "    <tr>\n",
       "      <th>Eggplant, raw</th>\n",
       "      <td>100 g</td>\n",
       "      <td>25</td>\n",
       "      <td>0.2g</td>\n",
       "      <td>NaN</td>\n",
       "      <td>0</td>\n",
       "    </tr>\n",
       "  </tbody>\n",
       "</table>\n",
       "</div>"
      ],
      "text/plain": [
       "              serving_size  calories total_fat saturated_fat cholesterol\n",
       "name                                                                    \n",
       "Cornstarch           100 g       381      0.1g           NaN           0\n",
       "Nuts, pecans         100 g       691       72g          6.2g           0\n",
       "Eggplant, raw        100 g        25      0.2g           NaN           0"
      ]
     },
     "execution_count": 63,
     "metadata": {},
     "output_type": "execute_result"
    }
   ],
   "source": [
    "nutrition.loc[:'Eggplant, raw', :'cholesterol']"
   ]
  },
  {
   "cell_type": "code",
   "execution_count": 64,
   "metadata": {},
   "outputs": [
    {
     "data": {
      "text/html": [
       "<div>\n",
       "<style scoped>\n",
       "    .dataframe tbody tr th:only-of-type {\n",
       "        vertical-align: middle;\n",
       "    }\n",
       "\n",
       "    .dataframe tbody tr th {\n",
       "        vertical-align: top;\n",
       "    }\n",
       "\n",
       "    .dataframe thead th {\n",
       "        text-align: right;\n",
       "    }\n",
       "</style>\n",
       "<table border=\"1\" class=\"dataframe\">\n",
       "  <thead>\n",
       "    <tr style=\"text-align: right;\">\n",
       "      <th></th>\n",
       "      <th>calories</th>\n",
       "      <th>cholesterol</th>\n",
       "      <th>serving_size</th>\n",
       "    </tr>\n",
       "    <tr>\n",
       "      <th>name</th>\n",
       "      <th></th>\n",
       "      <th></th>\n",
       "      <th></th>\n",
       "    </tr>\n",
       "  </thead>\n",
       "  <tbody>\n",
       "    <tr>\n",
       "      <th>Nuts, pecans</th>\n",
       "      <td>691</td>\n",
       "      <td>0</td>\n",
       "      <td>100 g</td>\n",
       "    </tr>\n",
       "    <tr>\n",
       "      <th>Eggplant, raw</th>\n",
       "      <td>25</td>\n",
       "      <td>0</td>\n",
       "      <td>100 g</td>\n",
       "    </tr>\n",
       "  </tbody>\n",
       "</table>\n",
       "</div>"
      ],
      "text/plain": [
       "               calories cholesterol serving_size\n",
       "name                                            \n",
       "Nuts, pecans        691           0        100 g\n",
       "Eggplant, raw        25           0        100 g"
      ]
     },
     "execution_count": 64,
     "metadata": {},
     "output_type": "execute_result"
    }
   ],
   "source": [
    "nutrition.loc[['Nuts, pecans', 'Eggplant, raw'], ['calories', 'cholesterol', 'serving_size']]"
   ]
  },
  {
   "cell_type": "code",
   "execution_count": 66,
   "metadata": {},
   "outputs": [
    {
     "data": {
      "text/html": [
       "<div>\n",
       "<style scoped>\n",
       "    .dataframe tbody tr th:only-of-type {\n",
       "        vertical-align: middle;\n",
       "    }\n",
       "\n",
       "    .dataframe tbody tr th {\n",
       "        vertical-align: top;\n",
       "    }\n",
       "\n",
       "    .dataframe thead th {\n",
       "        text-align: right;\n",
       "    }\n",
       "</style>\n",
       "<table border=\"1\" class=\"dataframe\">\n",
       "  <thead>\n",
       "    <tr style=\"text-align: right;\">\n",
       "      <th></th>\n",
       "      <th>sodium</th>\n",
       "      <th>folic_acid</th>\n",
       "      <th>niacin</th>\n",
       "    </tr>\n",
       "    <tr>\n",
       "      <th>name</th>\n",
       "      <th></th>\n",
       "      <th></th>\n",
       "      <th></th>\n",
       "    </tr>\n",
       "  </thead>\n",
       "  <tbody>\n",
       "    <tr>\n",
       "      <th>Nuts, pecans</th>\n",
       "      <td>0.00 mg</td>\n",
       "      <td>0.00 mcg</td>\n",
       "      <td>1.167 mg</td>\n",
       "    </tr>\n",
       "    <tr>\n",
       "      <th>Cauliflower, raw</th>\n",
       "      <td>30.00 mg</td>\n",
       "      <td>0.00 mcg</td>\n",
       "      <td>0.507 mg</td>\n",
       "    </tr>\n",
       "    <tr>\n",
       "      <th>Taro leaves, raw</th>\n",
       "      <td>3.00 mg</td>\n",
       "      <td>0.00 mcg</td>\n",
       "      <td>1.513 mg</td>\n",
       "    </tr>\n",
       "  </tbody>\n",
       "</table>\n",
       "</div>"
      ],
      "text/plain": [
       "                    sodium folic_acid    niacin\n",
       "name                                           \n",
       "Nuts, pecans       0.00 mg   0.00 mcg  1.167 mg\n",
       "Cauliflower, raw  30.00 mg   0.00 mcg  0.507 mg\n",
       "Taro leaves, raw   3.00 mg   0.00 mcg  1.513 mg"
      ]
     },
     "execution_count": 66,
     "metadata": {},
     "output_type": "execute_result"
    }
   ],
   "source": [
    "nutrition.iloc[[1, 5, 6], [5,8,9]]"
   ]
  },
  {
   "cell_type": "code",
   "execution_count": null,
   "metadata": {},
   "outputs": [],
   "source": []
  }
 ],
 "metadata": {
  "kernelspec": {
   "display_name": "Python 3",
   "language": "python",
   "name": "python3"
  },
  "language_info": {
   "codemirror_mode": {
    "name": "ipython",
    "version": 3
   },
   "file_extension": ".py",
   "mimetype": "text/x-python",
   "name": "python",
   "nbconvert_exporter": "python",
   "pygments_lexer": "ipython3",
   "version": "3.11.0"
  },
  "orig_nbformat": 4,
  "vscode": {
   "interpreter": {
    "hash": "aee8b7b246df8f9039afb4144a1f6fd8d2ca17a180786b69acc140d282b71a49"
   }
  }
 },
 "nbformat": 4,
 "nbformat_minor": 2
}
